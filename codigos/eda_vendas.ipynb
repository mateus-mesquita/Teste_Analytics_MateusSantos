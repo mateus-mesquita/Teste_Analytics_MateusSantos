{
 "cells": [
  {
   "cell_type": "markdown",
   "id": "096ea148",
   "metadata": {},
   "source": [
    "# CASE QUOD - Análise Exploratória dos Dados de Vendas"
   ]
  },
  {
   "cell_type": "code",
   "execution_count": 171,
   "id": "fc754e00",
   "metadata": {},
   "outputs": [],
   "source": [
    "import pandas as pd  # Análise e manipulação de dados.\n",
    "import plotly.express as px  # Geração rápida de gráficos.\n",
    "import plotly.graph_objects as go  # Gráficos customizados/complexos."
   ]
  },
  {
   "cell_type": "code",
   "execution_count": 172,
   "id": "cb40bf61",
   "metadata": {},
   "outputs": [
    {
     "data": {
      "text/html": [
       "<div>\n",
       "<style scoped>\n",
       "    .dataframe tbody tr th:only-of-type {\n",
       "        vertical-align: middle;\n",
       "    }\n",
       "\n",
       "    .dataframe tbody tr th {\n",
       "        vertical-align: top;\n",
       "    }\n",
       "\n",
       "    .dataframe thead th {\n",
       "        text-align: right;\n",
       "    }\n",
       "</style>\n",
       "<table border=\"1\" class=\"dataframe\">\n",
       "  <thead>\n",
       "    <tr style=\"text-align: right;\">\n",
       "      <th></th>\n",
       "      <th>id</th>\n",
       "      <th>Data</th>\n",
       "      <th>Produto</th>\n",
       "      <th>Categoria</th>\n",
       "      <th>Quantidade</th>\n",
       "      <th>Preço</th>\n",
       "      <th>Total de Vendas</th>\n",
       "    </tr>\n",
       "  </thead>\n",
       "  <tbody>\n",
       "    <tr>\n",
       "      <th>0</th>\n",
       "      <td>2</td>\n",
       "      <td>2023-11-27</td>\n",
       "      <td>Placa-mãe ASUS Prime B660M</td>\n",
       "      <td>Placa-mãe</td>\n",
       "      <td>2</td>\n",
       "      <td>1263.57</td>\n",
       "      <td>2527.14</td>\n",
       "    </tr>\n",
       "    <tr>\n",
       "      <th>1</th>\n",
       "      <td>1</td>\n",
       "      <td>2023-03-22</td>\n",
       "      <td>Processador Intel Core i7 13ª Geração</td>\n",
       "      <td>Processador</td>\n",
       "      <td>1</td>\n",
       "      <td>1938.78</td>\n",
       "      <td>1938.78</td>\n",
       "    </tr>\n",
       "    <tr>\n",
       "      <th>2</th>\n",
       "      <td>4</td>\n",
       "      <td>2023-01-25</td>\n",
       "      <td>SSD NVMe 1TB</td>\n",
       "      <td>Armazenamento</td>\n",
       "      <td>5</td>\n",
       "      <td>444.64</td>\n",
       "      <td>2223.20</td>\n",
       "    </tr>\n",
       "    <tr>\n",
       "      <th>3</th>\n",
       "      <td>9</td>\n",
       "      <td>2023-10-17</td>\n",
       "      <td>Water cooler 240mm</td>\n",
       "      <td>Water cooler</td>\n",
       "      <td>2</td>\n",
       "      <td>440.26</td>\n",
       "      <td>880.52</td>\n",
       "    </tr>\n",
       "    <tr>\n",
       "      <th>4</th>\n",
       "      <td>1</td>\n",
       "      <td>2023-04-19</td>\n",
       "      <td>Processador Intel Core i7 13ª Geração</td>\n",
       "      <td>Processador</td>\n",
       "      <td>3</td>\n",
       "      <td>1657.05</td>\n",
       "      <td>4971.15</td>\n",
       "    </tr>\n",
       "  </tbody>\n",
       "</table>\n",
       "</div>"
      ],
      "text/plain": [
       "   id        Data                                Produto      Categoria  \\\n",
       "0   2  2023-11-27             Placa-mãe ASUS Prime B660M      Placa-mãe   \n",
       "1   1  2023-03-22  Processador Intel Core i7 13ª Geração    Processador   \n",
       "2   4  2023-01-25                           SSD NVMe 1TB  Armazenamento   \n",
       "3   9  2023-10-17                     Water cooler 240mm   Water cooler   \n",
       "4   1  2023-04-19  Processador Intel Core i7 13ª Geração    Processador   \n",
       "\n",
       "   Quantidade    Preço  Total de Vendas  \n",
       "0           2  1263.57          2527.14  \n",
       "1           1  1938.78          1938.78  \n",
       "2           5   444.64          2223.20  \n",
       "3           2   440.26           880.52  \n",
       "4           3  1657.05          4971.15  "
      ]
     },
     "execution_count": 172,
     "metadata": {},
     "output_type": "execute_result"
    }
   ],
   "source": [
    "# Carregando os dados\n",
    "dados = pd.read_csv(\"C:/Users/Mateus Santos/Desktop/case/arquivos/dados_clean.csv\")\n",
    "dados.head()"
   ]
  },
  {
   "cell_type": "markdown",
   "id": "b2256559",
   "metadata": {},
   "source": [
    "## Produtos Vendidos com Mais Frequência"
   ]
  },
  {
   "cell_type": "code",
   "execution_count": 173,
   "id": "4e8625a9",
   "metadata": {},
   "outputs": [
    {
     "data": {
      "text/plain": [
       "Produto\n",
       "Water cooler 240mm                       11\n",
       "Placa-mãe ASUS Prime B660M               10\n",
       "SSD NVMe 1TB                              9\n",
       "Gabinete ATX com lateral em vidro         8\n",
       "Ventoinha RGB 120mm                       8\n",
       "Placa de vídeo NVIDIA RTX 4070 Ti         7\n",
       "Fonte modular 750W 80 Plus Gold           7\n",
       "Memória RAM DDR5 16GB 5200MHz             7\n",
       "Processador Intel Core i7 13ª Geração     6\n",
       "Cooler a ar para CPU                      6\n",
       "Name: count, dtype: int64"
      ]
     },
     "execution_count": 173,
     "metadata": {},
     "output_type": "execute_result"
    }
   ],
   "source": [
    "# Tabela de contagem\n",
    "dados['Produto'].value_counts() "
   ]
  },
  {
   "cell_type": "markdown",
   "id": "babc78e7",
   "metadata": {},
   "source": [
    "Através da tabela de contagem, é possível observar qual item foi mais vendido:  \n",
    "o **Water Cooler** ficou em primeiro lugar, seguido da **Placa-mãe ASUS Prime B660M**."
   ]
  },
  {
   "cell_type": "markdown",
   "id": "3c934df8",
   "metadata": {},
   "source": [
    "## Valores Discrepantes (Outliers)"
   ]
  },
  {
   "cell_type": "markdown",
   "id": "f6d87ba5",
   "metadata": {},
   "source": [
    "\n",
    "Outliers, ou valores discrepantes, são observações que podem influenciar a média de forma positiva ou negativa.  \n",
    "Em outras palavras, são pontos que se diferenciam significativamente do restante dos dados.  \n",
    "\n",
    "Para identificar esses valores, será utilizado o **gráfico de caixa (boxplot)**."
   ]
  },
  {
   "cell_type": "markdown",
   "id": "c0d62963",
   "metadata": {},
   "source": [
    "Criação de Funções para Gráficos de Caixa"
   ]
  },
  {
   "cell_type": "code",
   "execution_count": 174,
   "id": "02b474d3",
   "metadata": {},
   "outputs": [],
   "source": [
    "def boxplots(df, coluna):\n",
    "    # Gera um boxplot simples para análise univariada da 'coluna' numérica.\n",
    "\n",
    "    try:  # Inicia tratamento de erros \n",
    "        fig = px.box(df, y=coluna, width=1000, height=620, title=f'Boxplot de {coluna}')  # Cria o boxplot.\n",
    "\n",
    "        fig.update_traces(quartilemethod=\"exclusive\")  # Usa o método 'exclusive' para cálculo de quartis.\n",
    "        fig.update_layout(template=\"simple_white\")  # Aplica um tema visual limpo.\n",
    "\n",
    "        fig.show()  # Exibe o gráfico interativo do Plotly.\n",
    "\n",
    "    except Exception as e:\n",
    "        print(f\"Erro ao criar o boxplot: {e}\")  # Reporta o erro capturado.\n",
    "\n",
    "\n",
    "def multi_boxplot(df, coluna_str, coluna_num):\n",
    "    # Gera boxplots comparativos, agrupados pela 'coluna_str' categórica.\n",
    "\n",
    "    try:  # Inicia tratamento de erros.\n",
    "        fig = px.box(df, x=coluna_str, y=coluna_num, color=coluna_str)\n",
    "\n",
    "        fig.update_traces(quartilemethod=\"exclusive\")  # Define o método de cálculo de quartis.\n",
    "        # Define título e dimensões, garantindo legibilidade.\n",
    "        fig.update_layout(title_text=f'Boxplot de {coluna_num} por {coluna_str}',\n",
    "                          width=1000,\n",
    "                          height=620,\n",
    "                          template=\"simple_white\")\n",
    "\n",
    "        fig.show()  # Exibe o gráfico interativo.\n",
    "\n",
    "    except Exception as e:\n",
    "        # Mensagem de erro mais específica para o contexto da função.\n",
    "        print(f\"Erro ao criar o boxplot com outliers: {e}\")"
   ]
  },
  {
   "cell_type": "markdown",
   "id": "479176b4",
   "metadata": {},
   "source": [
    "### Criando Boxplot para a variável **Preço**"
   ]
  },
  {
   "cell_type": "code",
   "execution_count": 175,
   "id": "062c90c4",
   "metadata": {},
   "outputs": [
    {
     "data": {
      "application/vnd.plotly.v1+json": {
       "config": {
        "plotlyServerURL": "https://plot.ly"
       },
       "data": [
        {
         "alignmentgroup": "True",
         "hovertemplate": "Preço=%{y}<extra></extra>",
         "legendgroup": "",
         "marker": {
          "color": "#636efa"
         },
         "name": "",
         "notched": false,
         "offsetgroup": "",
         "orientation": "v",
         "quartilemethod": "exclusive",
         "showlegend": false,
         "type": "box",
         "x0": " ",
         "xaxis": "x",
         "y": [
          1263.57,
          1938.78,
          444.64,
          440.26,
          1657.05,
          250.35,
          958.81,
          5412.77,
          565.63,
          316.68,
          2421.11,
          936.03,
          587.83,
          999.83,
          411.41,
          949.79,
          1209.48,
          4191.46,
          1798.47,
          696.2,
          1253.09,
          692.69,
          90.72,
          1069.32,
          641.13,
          550.65,
          356.68,
          168.26,
          569.99,
          466.25,
          387.06,
          119.45,
          4768.01,
          468.23,
          293.93,
          577.36,
          452.3,
          615.12,
          5275.22,
          1707.57,
          629.76,
          59.51,
          324.72,
          469.51,
          75.22,
          663.82,
          376.23,
          491.05,
          82.82,
          577.23,
          385.59,
          222.58,
          4732.64,
          656.71,
          1346.74,
          347.42,
          50.12,
          5473.04,
          60.61,
          785.35,
          463.81,
          585.94,
          165.84,
          2054.2,
          1036.01,
          506.78,
          595.06,
          419.31,
          527.82,
          238.51,
          378.08,
          505.58,
          5159.9,
          673.89,
          57.45,
          137.91,
          342.85,
          674.18,
          537.49
         ],
         "y0": " ",
         "yaxis": "y"
        }
       ],
       "layout": {
        "boxmode": "group",
        "height": 620,
        "legend": {
         "tracegroupgap": 0
        },
        "template": {
         "data": {
          "bar": [
           {
            "error_x": {
             "color": "rgb(36,36,36)"
            },
            "error_y": {
             "color": "rgb(36,36,36)"
            },
            "marker": {
             "line": {
              "color": "white",
              "width": 0.5
             },
             "pattern": {
              "fillmode": "overlay",
              "size": 10,
              "solidity": 0.2
             }
            },
            "type": "bar"
           }
          ],
          "barpolar": [
           {
            "marker": {
             "line": {
              "color": "white",
              "width": 0.5
             },
             "pattern": {
              "fillmode": "overlay",
              "size": 10,
              "solidity": 0.2
             }
            },
            "type": "barpolar"
           }
          ],
          "carpet": [
           {
            "aaxis": {
             "endlinecolor": "rgb(36,36,36)",
             "gridcolor": "white",
             "linecolor": "white",
             "minorgridcolor": "white",
             "startlinecolor": "rgb(36,36,36)"
            },
            "baxis": {
             "endlinecolor": "rgb(36,36,36)",
             "gridcolor": "white",
             "linecolor": "white",
             "minorgridcolor": "white",
             "startlinecolor": "rgb(36,36,36)"
            },
            "type": "carpet"
           }
          ],
          "choropleth": [
           {
            "colorbar": {
             "outlinewidth": 1,
             "tickcolor": "rgb(36,36,36)",
             "ticks": "outside"
            },
            "type": "choropleth"
           }
          ],
          "contour": [
           {
            "colorbar": {
             "outlinewidth": 1,
             "tickcolor": "rgb(36,36,36)",
             "ticks": "outside"
            },
            "colorscale": [
             [
              0,
              "#440154"
             ],
             [
              0.1111111111111111,
              "#482878"
             ],
             [
              0.2222222222222222,
              "#3e4989"
             ],
             [
              0.3333333333333333,
              "#31688e"
             ],
             [
              0.4444444444444444,
              "#26828e"
             ],
             [
              0.5555555555555556,
              "#1f9e89"
             ],
             [
              0.6666666666666666,
              "#35b779"
             ],
             [
              0.7777777777777778,
              "#6ece58"
             ],
             [
              0.8888888888888888,
              "#b5de2b"
             ],
             [
              1,
              "#fde725"
             ]
            ],
            "type": "contour"
           }
          ],
          "contourcarpet": [
           {
            "colorbar": {
             "outlinewidth": 1,
             "tickcolor": "rgb(36,36,36)",
             "ticks": "outside"
            },
            "type": "contourcarpet"
           }
          ],
          "heatmap": [
           {
            "colorbar": {
             "outlinewidth": 1,
             "tickcolor": "rgb(36,36,36)",
             "ticks": "outside"
            },
            "colorscale": [
             [
              0,
              "#440154"
             ],
             [
              0.1111111111111111,
              "#482878"
             ],
             [
              0.2222222222222222,
              "#3e4989"
             ],
             [
              0.3333333333333333,
              "#31688e"
             ],
             [
              0.4444444444444444,
              "#26828e"
             ],
             [
              0.5555555555555556,
              "#1f9e89"
             ],
             [
              0.6666666666666666,
              "#35b779"
             ],
             [
              0.7777777777777778,
              "#6ece58"
             ],
             [
              0.8888888888888888,
              "#b5de2b"
             ],
             [
              1,
              "#fde725"
             ]
            ],
            "type": "heatmap"
           }
          ],
          "heatmapgl": [
           {
            "colorbar": {
             "outlinewidth": 1,
             "tickcolor": "rgb(36,36,36)",
             "ticks": "outside"
            },
            "colorscale": [
             [
              0,
              "#440154"
             ],
             [
              0.1111111111111111,
              "#482878"
             ],
             [
              0.2222222222222222,
              "#3e4989"
             ],
             [
              0.3333333333333333,
              "#31688e"
             ],
             [
              0.4444444444444444,
              "#26828e"
             ],
             [
              0.5555555555555556,
              "#1f9e89"
             ],
             [
              0.6666666666666666,
              "#35b779"
             ],
             [
              0.7777777777777778,
              "#6ece58"
             ],
             [
              0.8888888888888888,
              "#b5de2b"
             ],
             [
              1,
              "#fde725"
             ]
            ],
            "type": "heatmapgl"
           }
          ],
          "histogram": [
           {
            "marker": {
             "line": {
              "color": "white",
              "width": 0.6
             }
            },
            "type": "histogram"
           }
          ],
          "histogram2d": [
           {
            "colorbar": {
             "outlinewidth": 1,
             "tickcolor": "rgb(36,36,36)",
             "ticks": "outside"
            },
            "colorscale": [
             [
              0,
              "#440154"
             ],
             [
              0.1111111111111111,
              "#482878"
             ],
             [
              0.2222222222222222,
              "#3e4989"
             ],
             [
              0.3333333333333333,
              "#31688e"
             ],
             [
              0.4444444444444444,
              "#26828e"
             ],
             [
              0.5555555555555556,
              "#1f9e89"
             ],
             [
              0.6666666666666666,
              "#35b779"
             ],
             [
              0.7777777777777778,
              "#6ece58"
             ],
             [
              0.8888888888888888,
              "#b5de2b"
             ],
             [
              1,
              "#fde725"
             ]
            ],
            "type": "histogram2d"
           }
          ],
          "histogram2dcontour": [
           {
            "colorbar": {
             "outlinewidth": 1,
             "tickcolor": "rgb(36,36,36)",
             "ticks": "outside"
            },
            "colorscale": [
             [
              0,
              "#440154"
             ],
             [
              0.1111111111111111,
              "#482878"
             ],
             [
              0.2222222222222222,
              "#3e4989"
             ],
             [
              0.3333333333333333,
              "#31688e"
             ],
             [
              0.4444444444444444,
              "#26828e"
             ],
             [
              0.5555555555555556,
              "#1f9e89"
             ],
             [
              0.6666666666666666,
              "#35b779"
             ],
             [
              0.7777777777777778,
              "#6ece58"
             ],
             [
              0.8888888888888888,
              "#b5de2b"
             ],
             [
              1,
              "#fde725"
             ]
            ],
            "type": "histogram2dcontour"
           }
          ],
          "mesh3d": [
           {
            "colorbar": {
             "outlinewidth": 1,
             "tickcolor": "rgb(36,36,36)",
             "ticks": "outside"
            },
            "type": "mesh3d"
           }
          ],
          "parcoords": [
           {
            "line": {
             "colorbar": {
              "outlinewidth": 1,
              "tickcolor": "rgb(36,36,36)",
              "ticks": "outside"
             }
            },
            "type": "parcoords"
           }
          ],
          "pie": [
           {
            "automargin": true,
            "type": "pie"
           }
          ],
          "scatter": [
           {
            "fillpattern": {
             "fillmode": "overlay",
             "size": 10,
             "solidity": 0.2
            },
            "type": "scatter"
           }
          ],
          "scatter3d": [
           {
            "line": {
             "colorbar": {
              "outlinewidth": 1,
              "tickcolor": "rgb(36,36,36)",
              "ticks": "outside"
             }
            },
            "marker": {
             "colorbar": {
              "outlinewidth": 1,
              "tickcolor": "rgb(36,36,36)",
              "ticks": "outside"
             }
            },
            "type": "scatter3d"
           }
          ],
          "scattercarpet": [
           {
            "marker": {
             "colorbar": {
              "outlinewidth": 1,
              "tickcolor": "rgb(36,36,36)",
              "ticks": "outside"
             }
            },
            "type": "scattercarpet"
           }
          ],
          "scattergeo": [
           {
            "marker": {
             "colorbar": {
              "outlinewidth": 1,
              "tickcolor": "rgb(36,36,36)",
              "ticks": "outside"
             }
            },
            "type": "scattergeo"
           }
          ],
          "scattergl": [
           {
            "marker": {
             "colorbar": {
              "outlinewidth": 1,
              "tickcolor": "rgb(36,36,36)",
              "ticks": "outside"
             }
            },
            "type": "scattergl"
           }
          ],
          "scattermapbox": [
           {
            "marker": {
             "colorbar": {
              "outlinewidth": 1,
              "tickcolor": "rgb(36,36,36)",
              "ticks": "outside"
             }
            },
            "type": "scattermapbox"
           }
          ],
          "scatterpolar": [
           {
            "marker": {
             "colorbar": {
              "outlinewidth": 1,
              "tickcolor": "rgb(36,36,36)",
              "ticks": "outside"
             }
            },
            "type": "scatterpolar"
           }
          ],
          "scatterpolargl": [
           {
            "marker": {
             "colorbar": {
              "outlinewidth": 1,
              "tickcolor": "rgb(36,36,36)",
              "ticks": "outside"
             }
            },
            "type": "scatterpolargl"
           }
          ],
          "scatterternary": [
           {
            "marker": {
             "colorbar": {
              "outlinewidth": 1,
              "tickcolor": "rgb(36,36,36)",
              "ticks": "outside"
             }
            },
            "type": "scatterternary"
           }
          ],
          "surface": [
           {
            "colorbar": {
             "outlinewidth": 1,
             "tickcolor": "rgb(36,36,36)",
             "ticks": "outside"
            },
            "colorscale": [
             [
              0,
              "#440154"
             ],
             [
              0.1111111111111111,
              "#482878"
             ],
             [
              0.2222222222222222,
              "#3e4989"
             ],
             [
              0.3333333333333333,
              "#31688e"
             ],
             [
              0.4444444444444444,
              "#26828e"
             ],
             [
              0.5555555555555556,
              "#1f9e89"
             ],
             [
              0.6666666666666666,
              "#35b779"
             ],
             [
              0.7777777777777778,
              "#6ece58"
             ],
             [
              0.8888888888888888,
              "#b5de2b"
             ],
             [
              1,
              "#fde725"
             ]
            ],
            "type": "surface"
           }
          ],
          "table": [
           {
            "cells": {
             "fill": {
              "color": "rgb(237,237,237)"
             },
             "line": {
              "color": "white"
             }
            },
            "header": {
             "fill": {
              "color": "rgb(217,217,217)"
             },
             "line": {
              "color": "white"
             }
            },
            "type": "table"
           }
          ]
         },
         "layout": {
          "annotationdefaults": {
           "arrowhead": 0,
           "arrowwidth": 1
          },
          "autotypenumbers": "strict",
          "coloraxis": {
           "colorbar": {
            "outlinewidth": 1,
            "tickcolor": "rgb(36,36,36)",
            "ticks": "outside"
           }
          },
          "colorscale": {
           "diverging": [
            [
             0,
             "rgb(103,0,31)"
            ],
            [
             0.1,
             "rgb(178,24,43)"
            ],
            [
             0.2,
             "rgb(214,96,77)"
            ],
            [
             0.3,
             "rgb(244,165,130)"
            ],
            [
             0.4,
             "rgb(253,219,199)"
            ],
            [
             0.5,
             "rgb(247,247,247)"
            ],
            [
             0.6,
             "rgb(209,229,240)"
            ],
            [
             0.7,
             "rgb(146,197,222)"
            ],
            [
             0.8,
             "rgb(67,147,195)"
            ],
            [
             0.9,
             "rgb(33,102,172)"
            ],
            [
             1,
             "rgb(5,48,97)"
            ]
           ],
           "sequential": [
            [
             0,
             "#440154"
            ],
            [
             0.1111111111111111,
             "#482878"
            ],
            [
             0.2222222222222222,
             "#3e4989"
            ],
            [
             0.3333333333333333,
             "#31688e"
            ],
            [
             0.4444444444444444,
             "#26828e"
            ],
            [
             0.5555555555555556,
             "#1f9e89"
            ],
            [
             0.6666666666666666,
             "#35b779"
            ],
            [
             0.7777777777777778,
             "#6ece58"
            ],
            [
             0.8888888888888888,
             "#b5de2b"
            ],
            [
             1,
             "#fde725"
            ]
           ],
           "sequentialminus": [
            [
             0,
             "#440154"
            ],
            [
             0.1111111111111111,
             "#482878"
            ],
            [
             0.2222222222222222,
             "#3e4989"
            ],
            [
             0.3333333333333333,
             "#31688e"
            ],
            [
             0.4444444444444444,
             "#26828e"
            ],
            [
             0.5555555555555556,
             "#1f9e89"
            ],
            [
             0.6666666666666666,
             "#35b779"
            ],
            [
             0.7777777777777778,
             "#6ece58"
            ],
            [
             0.8888888888888888,
             "#b5de2b"
            ],
            [
             1,
             "#fde725"
            ]
           ]
          },
          "colorway": [
           "#1F77B4",
           "#FF7F0E",
           "#2CA02C",
           "#D62728",
           "#9467BD",
           "#8C564B",
           "#E377C2",
           "#7F7F7F",
           "#BCBD22",
           "#17BECF"
          ],
          "font": {
           "color": "rgb(36,36,36)"
          },
          "geo": {
           "bgcolor": "white",
           "lakecolor": "white",
           "landcolor": "white",
           "showlakes": true,
           "showland": true,
           "subunitcolor": "white"
          },
          "hoverlabel": {
           "align": "left"
          },
          "hovermode": "closest",
          "mapbox": {
           "style": "light"
          },
          "paper_bgcolor": "white",
          "plot_bgcolor": "white",
          "polar": {
           "angularaxis": {
            "gridcolor": "rgb(232,232,232)",
            "linecolor": "rgb(36,36,36)",
            "showgrid": false,
            "showline": true,
            "ticks": "outside"
           },
           "bgcolor": "white",
           "radialaxis": {
            "gridcolor": "rgb(232,232,232)",
            "linecolor": "rgb(36,36,36)",
            "showgrid": false,
            "showline": true,
            "ticks": "outside"
           }
          },
          "scene": {
           "xaxis": {
            "backgroundcolor": "white",
            "gridcolor": "rgb(232,232,232)",
            "gridwidth": 2,
            "linecolor": "rgb(36,36,36)",
            "showbackground": true,
            "showgrid": false,
            "showline": true,
            "ticks": "outside",
            "zeroline": false,
            "zerolinecolor": "rgb(36,36,36)"
           },
           "yaxis": {
            "backgroundcolor": "white",
            "gridcolor": "rgb(232,232,232)",
            "gridwidth": 2,
            "linecolor": "rgb(36,36,36)",
            "showbackground": true,
            "showgrid": false,
            "showline": true,
            "ticks": "outside",
            "zeroline": false,
            "zerolinecolor": "rgb(36,36,36)"
           },
           "zaxis": {
            "backgroundcolor": "white",
            "gridcolor": "rgb(232,232,232)",
            "gridwidth": 2,
            "linecolor": "rgb(36,36,36)",
            "showbackground": true,
            "showgrid": false,
            "showline": true,
            "ticks": "outside",
            "zeroline": false,
            "zerolinecolor": "rgb(36,36,36)"
           }
          },
          "shapedefaults": {
           "fillcolor": "black",
           "line": {
            "width": 0
           },
           "opacity": 0.3
          },
          "ternary": {
           "aaxis": {
            "gridcolor": "rgb(232,232,232)",
            "linecolor": "rgb(36,36,36)",
            "showgrid": false,
            "showline": true,
            "ticks": "outside"
           },
           "baxis": {
            "gridcolor": "rgb(232,232,232)",
            "linecolor": "rgb(36,36,36)",
            "showgrid": false,
            "showline": true,
            "ticks": "outside"
           },
           "bgcolor": "white",
           "caxis": {
            "gridcolor": "rgb(232,232,232)",
            "linecolor": "rgb(36,36,36)",
            "showgrid": false,
            "showline": true,
            "ticks": "outside"
           }
          },
          "title": {
           "x": 0.05
          },
          "xaxis": {
           "automargin": true,
           "gridcolor": "rgb(232,232,232)",
           "linecolor": "rgb(36,36,36)",
           "showgrid": false,
           "showline": true,
           "ticks": "outside",
           "title": {
            "standoff": 15
           },
           "zeroline": false,
           "zerolinecolor": "rgb(36,36,36)"
          },
          "yaxis": {
           "automargin": true,
           "gridcolor": "rgb(232,232,232)",
           "linecolor": "rgb(36,36,36)",
           "showgrid": false,
           "showline": true,
           "ticks": "outside",
           "title": {
            "standoff": 15
           },
           "zeroline": false,
           "zerolinecolor": "rgb(36,36,36)"
          }
         }
        },
        "title": {
         "text": "Boxplot de Preço"
        },
        "width": 1000,
        "xaxis": {
         "anchor": "y",
         "domain": [
          0,
          1
         ]
        },
        "yaxis": {
         "anchor": "x",
         "domain": [
          0,
          1
         ],
         "title": {
          "text": "Preço"
         }
        }
       }
      }
     },
     "metadata": {},
     "output_type": "display_data"
    }
   ],
   "source": [
    "# Plotando o boxplot para a variável Preço\n",
    "boxplots(dados,'Preço')"
   ]
  },
  {
   "cell_type": "markdown",
   "id": "7d228c0b",
   "metadata": {},
   "source": [
    "Através do gráfico, observa-se que a variável `Preço` apresenta baixa dispersão, com alguns outliers acima do valor médio."
   ]
  },
  {
   "cell_type": "markdown",
   "id": "8dff9968",
   "metadata": {},
   "source": [
    "- Observndo a mesma variável sobre os Produtos:\n"
   ]
  },
  {
   "cell_type": "code",
   "execution_count": 176,
   "id": "b4b4ad6f",
   "metadata": {},
   "outputs": [
    {
     "data": {
      "application/vnd.plotly.v1+json": {
       "config": {
        "plotlyServerURL": "https://plot.ly"
       },
       "data": [
        {
         "alignmentgroup": "True",
         "hovertemplate": "Categoria=%{x}<br>Preço=%{y}<extra></extra>",
         "legendgroup": "Placa-mãe",
         "marker": {
          "color": "#636efa"
         },
         "name": "Placa-mãe",
         "notched": false,
         "offsetgroup": "Placa-mãe",
         "orientation": "v",
         "quartilemethod": "exclusive",
         "showlegend": true,
         "type": "box",
         "x": [
          "Placa-mãe",
          "Placa-mãe",
          "Placa-mãe",
          "Placa-mãe",
          "Placa-mãe",
          "Placa-mãe",
          "Placa-mãe",
          "Placa-mãe",
          "Placa-mãe",
          "Placa-mãe"
         ],
         "x0": " ",
         "xaxis": "x",
         "y": [
          1263.57,
          958.81,
          936.03,
          999.83,
          949.79,
          1209.48,
          1253.09,
          1069.32,
          1346.74,
          1036.01
         ],
         "y0": " ",
         "yaxis": "y"
        },
        {
         "alignmentgroup": "True",
         "hovertemplate": "Categoria=%{x}<br>Preço=%{y}<extra></extra>",
         "legendgroup": "Processador",
         "marker": {
          "color": "#EF553B"
         },
         "name": "Processador",
         "notched": false,
         "offsetgroup": "Processador",
         "orientation": "v",
         "quartilemethod": "exclusive",
         "showlegend": true,
         "type": "box",
         "x": [
          "Processador",
          "Processador",
          "Processador",
          "Processador",
          "Processador",
          "Processador"
         ],
         "x0": " ",
         "xaxis": "x",
         "y": [
          1938.78,
          1657.05,
          2421.11,
          1798.47,
          1707.57,
          2054.2
         ],
         "y0": " ",
         "yaxis": "y"
        },
        {
         "alignmentgroup": "True",
         "hovertemplate": "Categoria=%{x}<br>Preço=%{y}<extra></extra>",
         "legendgroup": "Armazenamento",
         "marker": {
          "color": "#00cc96"
         },
         "name": "Armazenamento",
         "notched": false,
         "offsetgroup": "Armazenamento",
         "orientation": "v",
         "quartilemethod": "exclusive",
         "showlegend": true,
         "type": "box",
         "x": [
          "Armazenamento",
          "Armazenamento",
          "Armazenamento",
          "Armazenamento",
          "Armazenamento",
          "Armazenamento",
          "Armazenamento",
          "Armazenamento",
          "Armazenamento"
         ],
         "x0": " ",
         "xaxis": "x",
         "y": [
          444.64,
          692.69,
          615.12,
          663.82,
          376.23,
          585.94,
          595.06,
          419.31,
          673.89
         ],
         "y0": " ",
         "yaxis": "y"
        },
        {
         "alignmentgroup": "True",
         "hovertemplate": "Categoria=%{x}<br>Preço=%{y}<extra></extra>",
         "legendgroup": "Water cooler",
         "marker": {
          "color": "#ab63fa"
         },
         "name": "Water cooler",
         "notched": false,
         "offsetgroup": "Water cooler",
         "orientation": "v",
         "quartilemethod": "exclusive",
         "showlegend": true,
         "type": "box",
         "x": [
          "Water cooler",
          "Water cooler",
          "Water cooler",
          "Water cooler",
          "Water cooler",
          "Water cooler",
          "Water cooler",
          "Water cooler",
          "Water cooler",
          "Water cooler",
          "Water cooler"
         ],
         "x0": " ",
         "xaxis": "x",
         "y": [
          440.26,
          696.2,
          641.13,
          550.65,
          356.68,
          387.06,
          629.76,
          577.23,
          385.59,
          656.71,
          537.49
         ],
         "y0": " ",
         "yaxis": "y"
        },
        {
         "alignmentgroup": "True",
         "hovertemplate": "Categoria=%{x}<br>Preço=%{y}<extra></extra>",
         "legendgroup": "Gabinete",
         "marker": {
          "color": "#FFA15A"
         },
         "name": "Gabinete",
         "notched": false,
         "offsetgroup": "Gabinete",
         "orientation": "v",
         "quartilemethod": "exclusive",
         "showlegend": true,
         "type": "box",
         "x": [
          "Gabinete",
          "Gabinete",
          "Gabinete",
          "Gabinete",
          "Gabinete",
          "Gabinete",
          "Gabinete",
          "Gabinete"
         ],
         "x0": " ",
         "xaxis": "x",
         "y": [
          250.35,
          316.68,
          466.25,
          468.23,
          347.42,
          506.78,
          527.82,
          378.08
         ],
         "y0": " ",
         "yaxis": "y"
        },
        {
         "alignmentgroup": "True",
         "hovertemplate": "Categoria=%{x}<br>Preço=%{y}<extra></extra>",
         "legendgroup": "Placa de vídeo",
         "marker": {
          "color": "#19d3f3"
         },
         "name": "Placa de vídeo",
         "notched": false,
         "offsetgroup": "Placa de vídeo",
         "orientation": "v",
         "quartilemethod": "exclusive",
         "showlegend": true,
         "type": "box",
         "x": [
          "Placa de vídeo",
          "Placa de vídeo",
          "Placa de vídeo",
          "Placa de vídeo",
          "Placa de vídeo",
          "Placa de vídeo",
          "Placa de vídeo"
         ],
         "x0": " ",
         "xaxis": "x",
         "y": [
          5412.77,
          4191.46,
          4768.01,
          5275.22,
          4732.64,
          5473.04,
          5159.9
         ],
         "y0": " ",
         "yaxis": "y"
        },
        {
         "alignmentgroup": "True",
         "hovertemplate": "Categoria=%{x}<br>Preço=%{y}<extra></extra>",
         "legendgroup": "Memória RAM",
         "marker": {
          "color": "#FF6692"
         },
         "name": "Memória RAM",
         "notched": false,
         "offsetgroup": "Memória RAM",
         "orientation": "v",
         "quartilemethod": "exclusive",
         "showlegend": true,
         "type": "box",
         "x": [
          "Memória RAM",
          "Memória RAM",
          "Memória RAM",
          "Memória RAM",
          "Memória RAM",
          "Memória RAM",
          "Memória RAM"
         ],
         "x0": " ",
         "xaxis": "x",
         "y": [
          565.63,
          411.41,
          577.36,
          452.3,
          324.72,
          469.51,
          342.85
         ],
         "y0": " ",
         "yaxis": "y"
        },
        {
         "alignmentgroup": "True",
         "hovertemplate": "Categoria=%{x}<br>Preço=%{y}<extra></extra>",
         "legendgroup": "Fonte",
         "marker": {
          "color": "#B6E880"
         },
         "name": "Fonte",
         "notched": false,
         "offsetgroup": "Fonte",
         "orientation": "v",
         "quartilemethod": "exclusive",
         "showlegend": true,
         "type": "box",
         "x": [
          "Fonte",
          "Fonte",
          "Fonte",
          "Fonte",
          "Fonte",
          "Fonte",
          "Fonte"
         ],
         "x0": " ",
         "xaxis": "x",
         "y": [
          587.83,
          569.99,
          491.05,
          785.35,
          463.81,
          505.58,
          674.18
         ],
         "y0": " ",
         "yaxis": "y"
        },
        {
         "alignmentgroup": "True",
         "hovertemplate": "Categoria=%{x}<br>Preço=%{y}<extra></extra>",
         "legendgroup": "Ventoinha",
         "marker": {
          "color": "#FF97FF"
         },
         "name": "Ventoinha",
         "notched": false,
         "offsetgroup": "Ventoinha",
         "orientation": "v",
         "quartilemethod": "exclusive",
         "showlegend": true,
         "type": "box",
         "x": [
          "Ventoinha",
          "Ventoinha",
          "Ventoinha",
          "Ventoinha",
          "Ventoinha",
          "Ventoinha",
          "Ventoinha",
          "Ventoinha"
         ],
         "x0": " ",
         "xaxis": "x",
         "y": [
          90.72,
          119.45,
          59.51,
          75.22,
          82.82,
          50.12,
          60.61,
          57.45
         ],
         "y0": " ",
         "yaxis": "y"
        },
        {
         "alignmentgroup": "True",
         "hovertemplate": "Categoria=%{x}<br>Preço=%{y}<extra></extra>",
         "legendgroup": "Cooler a ar",
         "marker": {
          "color": "#FECB52"
         },
         "name": "Cooler a ar",
         "notched": false,
         "offsetgroup": "Cooler a ar",
         "orientation": "v",
         "quartilemethod": "exclusive",
         "showlegend": true,
         "type": "box",
         "x": [
          "Cooler a ar",
          "Cooler a ar",
          "Cooler a ar",
          "Cooler a ar",
          "Cooler a ar",
          "Cooler a ar"
         ],
         "x0": " ",
         "xaxis": "x",
         "y": [
          168.26,
          293.93,
          222.58,
          165.84,
          238.51,
          137.91
         ],
         "y0": " ",
         "yaxis": "y"
        }
       ],
       "layout": {
        "boxmode": "overlay",
        "height": 620,
        "legend": {
         "title": {
          "text": "Categoria"
         },
         "tracegroupgap": 0
        },
        "margin": {
         "t": 60
        },
        "template": {
         "data": {
          "bar": [
           {
            "error_x": {
             "color": "rgb(36,36,36)"
            },
            "error_y": {
             "color": "rgb(36,36,36)"
            },
            "marker": {
             "line": {
              "color": "white",
              "width": 0.5
             },
             "pattern": {
              "fillmode": "overlay",
              "size": 10,
              "solidity": 0.2
             }
            },
            "type": "bar"
           }
          ],
          "barpolar": [
           {
            "marker": {
             "line": {
              "color": "white",
              "width": 0.5
             },
             "pattern": {
              "fillmode": "overlay",
              "size": 10,
              "solidity": 0.2
             }
            },
            "type": "barpolar"
           }
          ],
          "carpet": [
           {
            "aaxis": {
             "endlinecolor": "rgb(36,36,36)",
             "gridcolor": "white",
             "linecolor": "white",
             "minorgridcolor": "white",
             "startlinecolor": "rgb(36,36,36)"
            },
            "baxis": {
             "endlinecolor": "rgb(36,36,36)",
             "gridcolor": "white",
             "linecolor": "white",
             "minorgridcolor": "white",
             "startlinecolor": "rgb(36,36,36)"
            },
            "type": "carpet"
           }
          ],
          "choropleth": [
           {
            "colorbar": {
             "outlinewidth": 1,
             "tickcolor": "rgb(36,36,36)",
             "ticks": "outside"
            },
            "type": "choropleth"
           }
          ],
          "contour": [
           {
            "colorbar": {
             "outlinewidth": 1,
             "tickcolor": "rgb(36,36,36)",
             "ticks": "outside"
            },
            "colorscale": [
             [
              0,
              "#440154"
             ],
             [
              0.1111111111111111,
              "#482878"
             ],
             [
              0.2222222222222222,
              "#3e4989"
             ],
             [
              0.3333333333333333,
              "#31688e"
             ],
             [
              0.4444444444444444,
              "#26828e"
             ],
             [
              0.5555555555555556,
              "#1f9e89"
             ],
             [
              0.6666666666666666,
              "#35b779"
             ],
             [
              0.7777777777777778,
              "#6ece58"
             ],
             [
              0.8888888888888888,
              "#b5de2b"
             ],
             [
              1,
              "#fde725"
             ]
            ],
            "type": "contour"
           }
          ],
          "contourcarpet": [
           {
            "colorbar": {
             "outlinewidth": 1,
             "tickcolor": "rgb(36,36,36)",
             "ticks": "outside"
            },
            "type": "contourcarpet"
           }
          ],
          "heatmap": [
           {
            "colorbar": {
             "outlinewidth": 1,
             "tickcolor": "rgb(36,36,36)",
             "ticks": "outside"
            },
            "colorscale": [
             [
              0,
              "#440154"
             ],
             [
              0.1111111111111111,
              "#482878"
             ],
             [
              0.2222222222222222,
              "#3e4989"
             ],
             [
              0.3333333333333333,
              "#31688e"
             ],
             [
              0.4444444444444444,
              "#26828e"
             ],
             [
              0.5555555555555556,
              "#1f9e89"
             ],
             [
              0.6666666666666666,
              "#35b779"
             ],
             [
              0.7777777777777778,
              "#6ece58"
             ],
             [
              0.8888888888888888,
              "#b5de2b"
             ],
             [
              1,
              "#fde725"
             ]
            ],
            "type": "heatmap"
           }
          ],
          "heatmapgl": [
           {
            "colorbar": {
             "outlinewidth": 1,
             "tickcolor": "rgb(36,36,36)",
             "ticks": "outside"
            },
            "colorscale": [
             [
              0,
              "#440154"
             ],
             [
              0.1111111111111111,
              "#482878"
             ],
             [
              0.2222222222222222,
              "#3e4989"
             ],
             [
              0.3333333333333333,
              "#31688e"
             ],
             [
              0.4444444444444444,
              "#26828e"
             ],
             [
              0.5555555555555556,
              "#1f9e89"
             ],
             [
              0.6666666666666666,
              "#35b779"
             ],
             [
              0.7777777777777778,
              "#6ece58"
             ],
             [
              0.8888888888888888,
              "#b5de2b"
             ],
             [
              1,
              "#fde725"
             ]
            ],
            "type": "heatmapgl"
           }
          ],
          "histogram": [
           {
            "marker": {
             "line": {
              "color": "white",
              "width": 0.6
             }
            },
            "type": "histogram"
           }
          ],
          "histogram2d": [
           {
            "colorbar": {
             "outlinewidth": 1,
             "tickcolor": "rgb(36,36,36)",
             "ticks": "outside"
            },
            "colorscale": [
             [
              0,
              "#440154"
             ],
             [
              0.1111111111111111,
              "#482878"
             ],
             [
              0.2222222222222222,
              "#3e4989"
             ],
             [
              0.3333333333333333,
              "#31688e"
             ],
             [
              0.4444444444444444,
              "#26828e"
             ],
             [
              0.5555555555555556,
              "#1f9e89"
             ],
             [
              0.6666666666666666,
              "#35b779"
             ],
             [
              0.7777777777777778,
              "#6ece58"
             ],
             [
              0.8888888888888888,
              "#b5de2b"
             ],
             [
              1,
              "#fde725"
             ]
            ],
            "type": "histogram2d"
           }
          ],
          "histogram2dcontour": [
           {
            "colorbar": {
             "outlinewidth": 1,
             "tickcolor": "rgb(36,36,36)",
             "ticks": "outside"
            },
            "colorscale": [
             [
              0,
              "#440154"
             ],
             [
              0.1111111111111111,
              "#482878"
             ],
             [
              0.2222222222222222,
              "#3e4989"
             ],
             [
              0.3333333333333333,
              "#31688e"
             ],
             [
              0.4444444444444444,
              "#26828e"
             ],
             [
              0.5555555555555556,
              "#1f9e89"
             ],
             [
              0.6666666666666666,
              "#35b779"
             ],
             [
              0.7777777777777778,
              "#6ece58"
             ],
             [
              0.8888888888888888,
              "#b5de2b"
             ],
             [
              1,
              "#fde725"
             ]
            ],
            "type": "histogram2dcontour"
           }
          ],
          "mesh3d": [
           {
            "colorbar": {
             "outlinewidth": 1,
             "tickcolor": "rgb(36,36,36)",
             "ticks": "outside"
            },
            "type": "mesh3d"
           }
          ],
          "parcoords": [
           {
            "line": {
             "colorbar": {
              "outlinewidth": 1,
              "tickcolor": "rgb(36,36,36)",
              "ticks": "outside"
             }
            },
            "type": "parcoords"
           }
          ],
          "pie": [
           {
            "automargin": true,
            "type": "pie"
           }
          ],
          "scatter": [
           {
            "fillpattern": {
             "fillmode": "overlay",
             "size": 10,
             "solidity": 0.2
            },
            "type": "scatter"
           }
          ],
          "scatter3d": [
           {
            "line": {
             "colorbar": {
              "outlinewidth": 1,
              "tickcolor": "rgb(36,36,36)",
              "ticks": "outside"
             }
            },
            "marker": {
             "colorbar": {
              "outlinewidth": 1,
              "tickcolor": "rgb(36,36,36)",
              "ticks": "outside"
             }
            },
            "type": "scatter3d"
           }
          ],
          "scattercarpet": [
           {
            "marker": {
             "colorbar": {
              "outlinewidth": 1,
              "tickcolor": "rgb(36,36,36)",
              "ticks": "outside"
             }
            },
            "type": "scattercarpet"
           }
          ],
          "scattergeo": [
           {
            "marker": {
             "colorbar": {
              "outlinewidth": 1,
              "tickcolor": "rgb(36,36,36)",
              "ticks": "outside"
             }
            },
            "type": "scattergeo"
           }
          ],
          "scattergl": [
           {
            "marker": {
             "colorbar": {
              "outlinewidth": 1,
              "tickcolor": "rgb(36,36,36)",
              "ticks": "outside"
             }
            },
            "type": "scattergl"
           }
          ],
          "scattermapbox": [
           {
            "marker": {
             "colorbar": {
              "outlinewidth": 1,
              "tickcolor": "rgb(36,36,36)",
              "ticks": "outside"
             }
            },
            "type": "scattermapbox"
           }
          ],
          "scatterpolar": [
           {
            "marker": {
             "colorbar": {
              "outlinewidth": 1,
              "tickcolor": "rgb(36,36,36)",
              "ticks": "outside"
             }
            },
            "type": "scatterpolar"
           }
          ],
          "scatterpolargl": [
           {
            "marker": {
             "colorbar": {
              "outlinewidth": 1,
              "tickcolor": "rgb(36,36,36)",
              "ticks": "outside"
             }
            },
            "type": "scatterpolargl"
           }
          ],
          "scatterternary": [
           {
            "marker": {
             "colorbar": {
              "outlinewidth": 1,
              "tickcolor": "rgb(36,36,36)",
              "ticks": "outside"
             }
            },
            "type": "scatterternary"
           }
          ],
          "surface": [
           {
            "colorbar": {
             "outlinewidth": 1,
             "tickcolor": "rgb(36,36,36)",
             "ticks": "outside"
            },
            "colorscale": [
             [
              0,
              "#440154"
             ],
             [
              0.1111111111111111,
              "#482878"
             ],
             [
              0.2222222222222222,
              "#3e4989"
             ],
             [
              0.3333333333333333,
              "#31688e"
             ],
             [
              0.4444444444444444,
              "#26828e"
             ],
             [
              0.5555555555555556,
              "#1f9e89"
             ],
             [
              0.6666666666666666,
              "#35b779"
             ],
             [
              0.7777777777777778,
              "#6ece58"
             ],
             [
              0.8888888888888888,
              "#b5de2b"
             ],
             [
              1,
              "#fde725"
             ]
            ],
            "type": "surface"
           }
          ],
          "table": [
           {
            "cells": {
             "fill": {
              "color": "rgb(237,237,237)"
             },
             "line": {
              "color": "white"
             }
            },
            "header": {
             "fill": {
              "color": "rgb(217,217,217)"
             },
             "line": {
              "color": "white"
             }
            },
            "type": "table"
           }
          ]
         },
         "layout": {
          "annotationdefaults": {
           "arrowhead": 0,
           "arrowwidth": 1
          },
          "autotypenumbers": "strict",
          "coloraxis": {
           "colorbar": {
            "outlinewidth": 1,
            "tickcolor": "rgb(36,36,36)",
            "ticks": "outside"
           }
          },
          "colorscale": {
           "diverging": [
            [
             0,
             "rgb(103,0,31)"
            ],
            [
             0.1,
             "rgb(178,24,43)"
            ],
            [
             0.2,
             "rgb(214,96,77)"
            ],
            [
             0.3,
             "rgb(244,165,130)"
            ],
            [
             0.4,
             "rgb(253,219,199)"
            ],
            [
             0.5,
             "rgb(247,247,247)"
            ],
            [
             0.6,
             "rgb(209,229,240)"
            ],
            [
             0.7,
             "rgb(146,197,222)"
            ],
            [
             0.8,
             "rgb(67,147,195)"
            ],
            [
             0.9,
             "rgb(33,102,172)"
            ],
            [
             1,
             "rgb(5,48,97)"
            ]
           ],
           "sequential": [
            [
             0,
             "#440154"
            ],
            [
             0.1111111111111111,
             "#482878"
            ],
            [
             0.2222222222222222,
             "#3e4989"
            ],
            [
             0.3333333333333333,
             "#31688e"
            ],
            [
             0.4444444444444444,
             "#26828e"
            ],
            [
             0.5555555555555556,
             "#1f9e89"
            ],
            [
             0.6666666666666666,
             "#35b779"
            ],
            [
             0.7777777777777778,
             "#6ece58"
            ],
            [
             0.8888888888888888,
             "#b5de2b"
            ],
            [
             1,
             "#fde725"
            ]
           ],
           "sequentialminus": [
            [
             0,
             "#440154"
            ],
            [
             0.1111111111111111,
             "#482878"
            ],
            [
             0.2222222222222222,
             "#3e4989"
            ],
            [
             0.3333333333333333,
             "#31688e"
            ],
            [
             0.4444444444444444,
             "#26828e"
            ],
            [
             0.5555555555555556,
             "#1f9e89"
            ],
            [
             0.6666666666666666,
             "#35b779"
            ],
            [
             0.7777777777777778,
             "#6ece58"
            ],
            [
             0.8888888888888888,
             "#b5de2b"
            ],
            [
             1,
             "#fde725"
            ]
           ]
          },
          "colorway": [
           "#1F77B4",
           "#FF7F0E",
           "#2CA02C",
           "#D62728",
           "#9467BD",
           "#8C564B",
           "#E377C2",
           "#7F7F7F",
           "#BCBD22",
           "#17BECF"
          ],
          "font": {
           "color": "rgb(36,36,36)"
          },
          "geo": {
           "bgcolor": "white",
           "lakecolor": "white",
           "landcolor": "white",
           "showlakes": true,
           "showland": true,
           "subunitcolor": "white"
          },
          "hoverlabel": {
           "align": "left"
          },
          "hovermode": "closest",
          "mapbox": {
           "style": "light"
          },
          "paper_bgcolor": "white",
          "plot_bgcolor": "white",
          "polar": {
           "angularaxis": {
            "gridcolor": "rgb(232,232,232)",
            "linecolor": "rgb(36,36,36)",
            "showgrid": false,
            "showline": true,
            "ticks": "outside"
           },
           "bgcolor": "white",
           "radialaxis": {
            "gridcolor": "rgb(232,232,232)",
            "linecolor": "rgb(36,36,36)",
            "showgrid": false,
            "showline": true,
            "ticks": "outside"
           }
          },
          "scene": {
           "xaxis": {
            "backgroundcolor": "white",
            "gridcolor": "rgb(232,232,232)",
            "gridwidth": 2,
            "linecolor": "rgb(36,36,36)",
            "showbackground": true,
            "showgrid": false,
            "showline": true,
            "ticks": "outside",
            "zeroline": false,
            "zerolinecolor": "rgb(36,36,36)"
           },
           "yaxis": {
            "backgroundcolor": "white",
            "gridcolor": "rgb(232,232,232)",
            "gridwidth": 2,
            "linecolor": "rgb(36,36,36)",
            "showbackground": true,
            "showgrid": false,
            "showline": true,
            "ticks": "outside",
            "zeroline": false,
            "zerolinecolor": "rgb(36,36,36)"
           },
           "zaxis": {
            "backgroundcolor": "white",
            "gridcolor": "rgb(232,232,232)",
            "gridwidth": 2,
            "linecolor": "rgb(36,36,36)",
            "showbackground": true,
            "showgrid": false,
            "showline": true,
            "ticks": "outside",
            "zeroline": false,
            "zerolinecolor": "rgb(36,36,36)"
           }
          },
          "shapedefaults": {
           "fillcolor": "black",
           "line": {
            "width": 0
           },
           "opacity": 0.3
          },
          "ternary": {
           "aaxis": {
            "gridcolor": "rgb(232,232,232)",
            "linecolor": "rgb(36,36,36)",
            "showgrid": false,
            "showline": true,
            "ticks": "outside"
           },
           "baxis": {
            "gridcolor": "rgb(232,232,232)",
            "linecolor": "rgb(36,36,36)",
            "showgrid": false,
            "showline": true,
            "ticks": "outside"
           },
           "bgcolor": "white",
           "caxis": {
            "gridcolor": "rgb(232,232,232)",
            "linecolor": "rgb(36,36,36)",
            "showgrid": false,
            "showline": true,
            "ticks": "outside"
           }
          },
          "title": {
           "x": 0.05
          },
          "xaxis": {
           "automargin": true,
           "gridcolor": "rgb(232,232,232)",
           "linecolor": "rgb(36,36,36)",
           "showgrid": false,
           "showline": true,
           "ticks": "outside",
           "title": {
            "standoff": 15
           },
           "zeroline": false,
           "zerolinecolor": "rgb(36,36,36)"
          },
          "yaxis": {
           "automargin": true,
           "gridcolor": "rgb(232,232,232)",
           "linecolor": "rgb(36,36,36)",
           "showgrid": false,
           "showline": true,
           "ticks": "outside",
           "title": {
            "standoff": 15
           },
           "zeroline": false,
           "zerolinecolor": "rgb(36,36,36)"
          }
         }
        },
        "title": {
         "text": "Boxplot de Preço por Categoria"
        },
        "width": 1000,
        "xaxis": {
         "anchor": "y",
         "categoryarray": [
          "Placa-mãe",
          "Processador",
          "Armazenamento",
          "Water cooler",
          "Gabinete",
          "Placa de vídeo",
          "Memória RAM",
          "Fonte",
          "Ventoinha",
          "Cooler a ar"
         ],
         "categoryorder": "array",
         "domain": [
          0,
          1
         ],
         "title": {
          "text": "Categoria"
         }
        },
        "yaxis": {
         "anchor": "x",
         "domain": [
          0,
          1
         ],
         "title": {
          "text": "Preço"
         }
        }
       }
      }
     },
     "metadata": {},
     "output_type": "display_data"
    }
   ],
   "source": [
    "# Boxplot de Preço por Categoria\n",
    "multi_boxplot(dados,'Categoria','Preço')"
   ]
  },
  {
   "cell_type": "markdown",
   "id": "23f1fc9d",
   "metadata": {},
   "source": [
    "Ao analisar os boxplots de cada categoria, observa-se que a maioria apresenta baixa dispersão nos dados, ou seja, os gráficos de caixa estão mais compactos.  \n",
    "Além disso, ao verificar as distribuições de preços por categoria, não foram identificados outliers.\n"
   ]
  },
  {
   "cell_type": "markdown",
   "id": "6d082b42",
   "metadata": {},
   "source": [
    "### Boxplot da variável **Quantidade**"
   ]
  },
  {
   "cell_type": "code",
   "execution_count": 177,
   "id": "2e959852",
   "metadata": {},
   "outputs": [
    {
     "data": {
      "application/vnd.plotly.v1+json": {
       "config": {
        "plotlyServerURL": "https://plot.ly"
       },
       "data": [
        {
         "alignmentgroup": "True",
         "hovertemplate": "Quantidade=%{y}<extra></extra>",
         "legendgroup": "",
         "marker": {
          "color": "#636efa"
         },
         "name": "",
         "notched": false,
         "offsetgroup": "",
         "orientation": "v",
         "quartilemethod": "exclusive",
         "showlegend": false,
         "type": "box",
         "x0": " ",
         "xaxis": "x",
         "y": [
          2,
          1,
          5,
          2,
          3,
          39,
          12,
          2,
          52,
          23,
          1,
          22,
          4,
          25,
          17,
          21,
          5,
          13,
          3,
          1,
          18,
          7,
          7,
          21,
          1,
          2,
          2,
          5,
          3,
          7,
          2,
          9,
          7,
          12,
          6,
          26,
          25,
          5,
          5,
          1,
          2,
          6,
          18,
          29,
          5,
          7,
          8,
          3,
          8,
          2,
          1,
          7,
          6,
          1,
          7,
          32,
          5,
          12,
          5,
          4,
          4,
          5,
          7,
          3,
          6,
          37,
          6,
          5,
          19,
          7,
          18,
          4,
          12,
          8,
          8,
          6,
          28,
          3,
          1
         ],
         "y0": " ",
         "yaxis": "y"
        }
       ],
       "layout": {
        "boxmode": "group",
        "height": 620,
        "legend": {
         "tracegroupgap": 0
        },
        "template": {
         "data": {
          "bar": [
           {
            "error_x": {
             "color": "rgb(36,36,36)"
            },
            "error_y": {
             "color": "rgb(36,36,36)"
            },
            "marker": {
             "line": {
              "color": "white",
              "width": 0.5
             },
             "pattern": {
              "fillmode": "overlay",
              "size": 10,
              "solidity": 0.2
             }
            },
            "type": "bar"
           }
          ],
          "barpolar": [
           {
            "marker": {
             "line": {
              "color": "white",
              "width": 0.5
             },
             "pattern": {
              "fillmode": "overlay",
              "size": 10,
              "solidity": 0.2
             }
            },
            "type": "barpolar"
           }
          ],
          "carpet": [
           {
            "aaxis": {
             "endlinecolor": "rgb(36,36,36)",
             "gridcolor": "white",
             "linecolor": "white",
             "minorgridcolor": "white",
             "startlinecolor": "rgb(36,36,36)"
            },
            "baxis": {
             "endlinecolor": "rgb(36,36,36)",
             "gridcolor": "white",
             "linecolor": "white",
             "minorgridcolor": "white",
             "startlinecolor": "rgb(36,36,36)"
            },
            "type": "carpet"
           }
          ],
          "choropleth": [
           {
            "colorbar": {
             "outlinewidth": 1,
             "tickcolor": "rgb(36,36,36)",
             "ticks": "outside"
            },
            "type": "choropleth"
           }
          ],
          "contour": [
           {
            "colorbar": {
             "outlinewidth": 1,
             "tickcolor": "rgb(36,36,36)",
             "ticks": "outside"
            },
            "colorscale": [
             [
              0,
              "#440154"
             ],
             [
              0.1111111111111111,
              "#482878"
             ],
             [
              0.2222222222222222,
              "#3e4989"
             ],
             [
              0.3333333333333333,
              "#31688e"
             ],
             [
              0.4444444444444444,
              "#26828e"
             ],
             [
              0.5555555555555556,
              "#1f9e89"
             ],
             [
              0.6666666666666666,
              "#35b779"
             ],
             [
              0.7777777777777778,
              "#6ece58"
             ],
             [
              0.8888888888888888,
              "#b5de2b"
             ],
             [
              1,
              "#fde725"
             ]
            ],
            "type": "contour"
           }
          ],
          "contourcarpet": [
           {
            "colorbar": {
             "outlinewidth": 1,
             "tickcolor": "rgb(36,36,36)",
             "ticks": "outside"
            },
            "type": "contourcarpet"
           }
          ],
          "heatmap": [
           {
            "colorbar": {
             "outlinewidth": 1,
             "tickcolor": "rgb(36,36,36)",
             "ticks": "outside"
            },
            "colorscale": [
             [
              0,
              "#440154"
             ],
             [
              0.1111111111111111,
              "#482878"
             ],
             [
              0.2222222222222222,
              "#3e4989"
             ],
             [
              0.3333333333333333,
              "#31688e"
             ],
             [
              0.4444444444444444,
              "#26828e"
             ],
             [
              0.5555555555555556,
              "#1f9e89"
             ],
             [
              0.6666666666666666,
              "#35b779"
             ],
             [
              0.7777777777777778,
              "#6ece58"
             ],
             [
              0.8888888888888888,
              "#b5de2b"
             ],
             [
              1,
              "#fde725"
             ]
            ],
            "type": "heatmap"
           }
          ],
          "heatmapgl": [
           {
            "colorbar": {
             "outlinewidth": 1,
             "tickcolor": "rgb(36,36,36)",
             "ticks": "outside"
            },
            "colorscale": [
             [
              0,
              "#440154"
             ],
             [
              0.1111111111111111,
              "#482878"
             ],
             [
              0.2222222222222222,
              "#3e4989"
             ],
             [
              0.3333333333333333,
              "#31688e"
             ],
             [
              0.4444444444444444,
              "#26828e"
             ],
             [
              0.5555555555555556,
              "#1f9e89"
             ],
             [
              0.6666666666666666,
              "#35b779"
             ],
             [
              0.7777777777777778,
              "#6ece58"
             ],
             [
              0.8888888888888888,
              "#b5de2b"
             ],
             [
              1,
              "#fde725"
             ]
            ],
            "type": "heatmapgl"
           }
          ],
          "histogram": [
           {
            "marker": {
             "line": {
              "color": "white",
              "width": 0.6
             }
            },
            "type": "histogram"
           }
          ],
          "histogram2d": [
           {
            "colorbar": {
             "outlinewidth": 1,
             "tickcolor": "rgb(36,36,36)",
             "ticks": "outside"
            },
            "colorscale": [
             [
              0,
              "#440154"
             ],
             [
              0.1111111111111111,
              "#482878"
             ],
             [
              0.2222222222222222,
              "#3e4989"
             ],
             [
              0.3333333333333333,
              "#31688e"
             ],
             [
              0.4444444444444444,
              "#26828e"
             ],
             [
              0.5555555555555556,
              "#1f9e89"
             ],
             [
              0.6666666666666666,
              "#35b779"
             ],
             [
              0.7777777777777778,
              "#6ece58"
             ],
             [
              0.8888888888888888,
              "#b5de2b"
             ],
             [
              1,
              "#fde725"
             ]
            ],
            "type": "histogram2d"
           }
          ],
          "histogram2dcontour": [
           {
            "colorbar": {
             "outlinewidth": 1,
             "tickcolor": "rgb(36,36,36)",
             "ticks": "outside"
            },
            "colorscale": [
             [
              0,
              "#440154"
             ],
             [
              0.1111111111111111,
              "#482878"
             ],
             [
              0.2222222222222222,
              "#3e4989"
             ],
             [
              0.3333333333333333,
              "#31688e"
             ],
             [
              0.4444444444444444,
              "#26828e"
             ],
             [
              0.5555555555555556,
              "#1f9e89"
             ],
             [
              0.6666666666666666,
              "#35b779"
             ],
             [
              0.7777777777777778,
              "#6ece58"
             ],
             [
              0.8888888888888888,
              "#b5de2b"
             ],
             [
              1,
              "#fde725"
             ]
            ],
            "type": "histogram2dcontour"
           }
          ],
          "mesh3d": [
           {
            "colorbar": {
             "outlinewidth": 1,
             "tickcolor": "rgb(36,36,36)",
             "ticks": "outside"
            },
            "type": "mesh3d"
           }
          ],
          "parcoords": [
           {
            "line": {
             "colorbar": {
              "outlinewidth": 1,
              "tickcolor": "rgb(36,36,36)",
              "ticks": "outside"
             }
            },
            "type": "parcoords"
           }
          ],
          "pie": [
           {
            "automargin": true,
            "type": "pie"
           }
          ],
          "scatter": [
           {
            "fillpattern": {
             "fillmode": "overlay",
             "size": 10,
             "solidity": 0.2
            },
            "type": "scatter"
           }
          ],
          "scatter3d": [
           {
            "line": {
             "colorbar": {
              "outlinewidth": 1,
              "tickcolor": "rgb(36,36,36)",
              "ticks": "outside"
             }
            },
            "marker": {
             "colorbar": {
              "outlinewidth": 1,
              "tickcolor": "rgb(36,36,36)",
              "ticks": "outside"
             }
            },
            "type": "scatter3d"
           }
          ],
          "scattercarpet": [
           {
            "marker": {
             "colorbar": {
              "outlinewidth": 1,
              "tickcolor": "rgb(36,36,36)",
              "ticks": "outside"
             }
            },
            "type": "scattercarpet"
           }
          ],
          "scattergeo": [
           {
            "marker": {
             "colorbar": {
              "outlinewidth": 1,
              "tickcolor": "rgb(36,36,36)",
              "ticks": "outside"
             }
            },
            "type": "scattergeo"
           }
          ],
          "scattergl": [
           {
            "marker": {
             "colorbar": {
              "outlinewidth": 1,
              "tickcolor": "rgb(36,36,36)",
              "ticks": "outside"
             }
            },
            "type": "scattergl"
           }
          ],
          "scattermapbox": [
           {
            "marker": {
             "colorbar": {
              "outlinewidth": 1,
              "tickcolor": "rgb(36,36,36)",
              "ticks": "outside"
             }
            },
            "type": "scattermapbox"
           }
          ],
          "scatterpolar": [
           {
            "marker": {
             "colorbar": {
              "outlinewidth": 1,
              "tickcolor": "rgb(36,36,36)",
              "ticks": "outside"
             }
            },
            "type": "scatterpolar"
           }
          ],
          "scatterpolargl": [
           {
            "marker": {
             "colorbar": {
              "outlinewidth": 1,
              "tickcolor": "rgb(36,36,36)",
              "ticks": "outside"
             }
            },
            "type": "scatterpolargl"
           }
          ],
          "scatterternary": [
           {
            "marker": {
             "colorbar": {
              "outlinewidth": 1,
              "tickcolor": "rgb(36,36,36)",
              "ticks": "outside"
             }
            },
            "type": "scatterternary"
           }
          ],
          "surface": [
           {
            "colorbar": {
             "outlinewidth": 1,
             "tickcolor": "rgb(36,36,36)",
             "ticks": "outside"
            },
            "colorscale": [
             [
              0,
              "#440154"
             ],
             [
              0.1111111111111111,
              "#482878"
             ],
             [
              0.2222222222222222,
              "#3e4989"
             ],
             [
              0.3333333333333333,
              "#31688e"
             ],
             [
              0.4444444444444444,
              "#26828e"
             ],
             [
              0.5555555555555556,
              "#1f9e89"
             ],
             [
              0.6666666666666666,
              "#35b779"
             ],
             [
              0.7777777777777778,
              "#6ece58"
             ],
             [
              0.8888888888888888,
              "#b5de2b"
             ],
             [
              1,
              "#fde725"
             ]
            ],
            "type": "surface"
           }
          ],
          "table": [
           {
            "cells": {
             "fill": {
              "color": "rgb(237,237,237)"
             },
             "line": {
              "color": "white"
             }
            },
            "header": {
             "fill": {
              "color": "rgb(217,217,217)"
             },
             "line": {
              "color": "white"
             }
            },
            "type": "table"
           }
          ]
         },
         "layout": {
          "annotationdefaults": {
           "arrowhead": 0,
           "arrowwidth": 1
          },
          "autotypenumbers": "strict",
          "coloraxis": {
           "colorbar": {
            "outlinewidth": 1,
            "tickcolor": "rgb(36,36,36)",
            "ticks": "outside"
           }
          },
          "colorscale": {
           "diverging": [
            [
             0,
             "rgb(103,0,31)"
            ],
            [
             0.1,
             "rgb(178,24,43)"
            ],
            [
             0.2,
             "rgb(214,96,77)"
            ],
            [
             0.3,
             "rgb(244,165,130)"
            ],
            [
             0.4,
             "rgb(253,219,199)"
            ],
            [
             0.5,
             "rgb(247,247,247)"
            ],
            [
             0.6,
             "rgb(209,229,240)"
            ],
            [
             0.7,
             "rgb(146,197,222)"
            ],
            [
             0.8,
             "rgb(67,147,195)"
            ],
            [
             0.9,
             "rgb(33,102,172)"
            ],
            [
             1,
             "rgb(5,48,97)"
            ]
           ],
           "sequential": [
            [
             0,
             "#440154"
            ],
            [
             0.1111111111111111,
             "#482878"
            ],
            [
             0.2222222222222222,
             "#3e4989"
            ],
            [
             0.3333333333333333,
             "#31688e"
            ],
            [
             0.4444444444444444,
             "#26828e"
            ],
            [
             0.5555555555555556,
             "#1f9e89"
            ],
            [
             0.6666666666666666,
             "#35b779"
            ],
            [
             0.7777777777777778,
             "#6ece58"
            ],
            [
             0.8888888888888888,
             "#b5de2b"
            ],
            [
             1,
             "#fde725"
            ]
           ],
           "sequentialminus": [
            [
             0,
             "#440154"
            ],
            [
             0.1111111111111111,
             "#482878"
            ],
            [
             0.2222222222222222,
             "#3e4989"
            ],
            [
             0.3333333333333333,
             "#31688e"
            ],
            [
             0.4444444444444444,
             "#26828e"
            ],
            [
             0.5555555555555556,
             "#1f9e89"
            ],
            [
             0.6666666666666666,
             "#35b779"
            ],
            [
             0.7777777777777778,
             "#6ece58"
            ],
            [
             0.8888888888888888,
             "#b5de2b"
            ],
            [
             1,
             "#fde725"
            ]
           ]
          },
          "colorway": [
           "#1F77B4",
           "#FF7F0E",
           "#2CA02C",
           "#D62728",
           "#9467BD",
           "#8C564B",
           "#E377C2",
           "#7F7F7F",
           "#BCBD22",
           "#17BECF"
          ],
          "font": {
           "color": "rgb(36,36,36)"
          },
          "geo": {
           "bgcolor": "white",
           "lakecolor": "white",
           "landcolor": "white",
           "showlakes": true,
           "showland": true,
           "subunitcolor": "white"
          },
          "hoverlabel": {
           "align": "left"
          },
          "hovermode": "closest",
          "mapbox": {
           "style": "light"
          },
          "paper_bgcolor": "white",
          "plot_bgcolor": "white",
          "polar": {
           "angularaxis": {
            "gridcolor": "rgb(232,232,232)",
            "linecolor": "rgb(36,36,36)",
            "showgrid": false,
            "showline": true,
            "ticks": "outside"
           },
           "bgcolor": "white",
           "radialaxis": {
            "gridcolor": "rgb(232,232,232)",
            "linecolor": "rgb(36,36,36)",
            "showgrid": false,
            "showline": true,
            "ticks": "outside"
           }
          },
          "scene": {
           "xaxis": {
            "backgroundcolor": "white",
            "gridcolor": "rgb(232,232,232)",
            "gridwidth": 2,
            "linecolor": "rgb(36,36,36)",
            "showbackground": true,
            "showgrid": false,
            "showline": true,
            "ticks": "outside",
            "zeroline": false,
            "zerolinecolor": "rgb(36,36,36)"
           },
           "yaxis": {
            "backgroundcolor": "white",
            "gridcolor": "rgb(232,232,232)",
            "gridwidth": 2,
            "linecolor": "rgb(36,36,36)",
            "showbackground": true,
            "showgrid": false,
            "showline": true,
            "ticks": "outside",
            "zeroline": false,
            "zerolinecolor": "rgb(36,36,36)"
           },
           "zaxis": {
            "backgroundcolor": "white",
            "gridcolor": "rgb(232,232,232)",
            "gridwidth": 2,
            "linecolor": "rgb(36,36,36)",
            "showbackground": true,
            "showgrid": false,
            "showline": true,
            "ticks": "outside",
            "zeroline": false,
            "zerolinecolor": "rgb(36,36,36)"
           }
          },
          "shapedefaults": {
           "fillcolor": "black",
           "line": {
            "width": 0
           },
           "opacity": 0.3
          },
          "ternary": {
           "aaxis": {
            "gridcolor": "rgb(232,232,232)",
            "linecolor": "rgb(36,36,36)",
            "showgrid": false,
            "showline": true,
            "ticks": "outside"
           },
           "baxis": {
            "gridcolor": "rgb(232,232,232)",
            "linecolor": "rgb(36,36,36)",
            "showgrid": false,
            "showline": true,
            "ticks": "outside"
           },
           "bgcolor": "white",
           "caxis": {
            "gridcolor": "rgb(232,232,232)",
            "linecolor": "rgb(36,36,36)",
            "showgrid": false,
            "showline": true,
            "ticks": "outside"
           }
          },
          "title": {
           "x": 0.05
          },
          "xaxis": {
           "automargin": true,
           "gridcolor": "rgb(232,232,232)",
           "linecolor": "rgb(36,36,36)",
           "showgrid": false,
           "showline": true,
           "ticks": "outside",
           "title": {
            "standoff": 15
           },
           "zeroline": false,
           "zerolinecolor": "rgb(36,36,36)"
          },
          "yaxis": {
           "automargin": true,
           "gridcolor": "rgb(232,232,232)",
           "linecolor": "rgb(36,36,36)",
           "showgrid": false,
           "showline": true,
           "ticks": "outside",
           "title": {
            "standoff": 15
           },
           "zeroline": false,
           "zerolinecolor": "rgb(36,36,36)"
          }
         }
        },
        "title": {
         "text": "Boxplot de Quantidade"
        },
        "width": 1000,
        "xaxis": {
         "anchor": "y",
         "domain": [
          0,
          1
         ]
        },
        "yaxis": {
         "anchor": "x",
         "domain": [
          0,
          1
         ],
         "title": {
          "text": "Quantidade"
         }
        }
       }
      }
     },
     "metadata": {},
     "output_type": "display_data"
    }
   ],
   "source": [
    "# Boxplot da variável Quantidade\n",
    "boxplots(dados,'Quantidade')"
   ]
  },
  {
   "cell_type": "markdown",
   "id": "586b70ea",
   "metadata": {},
   "source": [
    "Ao analisar o gráfico, observa-se a presença de valores discrepantes acima do limite superior.  \n",
    "Além disso, a variável apresenta baixa dispersão em torno da mediana.\n"
   ]
  },
  {
   "cell_type": "markdown",
   "id": "651f8645",
   "metadata": {},
   "source": [
    "- Observando a variável Quantidade em relação as categorias:"
   ]
  },
  {
   "cell_type": "code",
   "execution_count": 178,
   "id": "4a2019a7",
   "metadata": {},
   "outputs": [
    {
     "data": {
      "application/vnd.plotly.v1+json": {
       "config": {
        "plotlyServerURL": "https://plot.ly"
       },
       "data": [
        {
         "alignmentgroup": "True",
         "hovertemplate": "Categoria=%{x}<br>Quantidade=%{y}<extra></extra>",
         "legendgroup": "Placa-mãe",
         "marker": {
          "color": "#636efa"
         },
         "name": "Placa-mãe",
         "notched": false,
         "offsetgroup": "Placa-mãe",
         "orientation": "v",
         "quartilemethod": "exclusive",
         "showlegend": true,
         "type": "box",
         "x": [
          "Placa-mãe",
          "Placa-mãe",
          "Placa-mãe",
          "Placa-mãe",
          "Placa-mãe",
          "Placa-mãe",
          "Placa-mãe",
          "Placa-mãe",
          "Placa-mãe",
          "Placa-mãe"
         ],
         "x0": " ",
         "xaxis": "x",
         "y": [
          2,
          12,
          22,
          25,
          21,
          5,
          18,
          21,
          7,
          6
         ],
         "y0": " ",
         "yaxis": "y"
        },
        {
         "alignmentgroup": "True",
         "hovertemplate": "Categoria=%{x}<br>Quantidade=%{y}<extra></extra>",
         "legendgroup": "Processador",
         "marker": {
          "color": "#EF553B"
         },
         "name": "Processador",
         "notched": false,
         "offsetgroup": "Processador",
         "orientation": "v",
         "quartilemethod": "exclusive",
         "showlegend": true,
         "type": "box",
         "x": [
          "Processador",
          "Processador",
          "Processador",
          "Processador",
          "Processador",
          "Processador"
         ],
         "x0": " ",
         "xaxis": "x",
         "y": [
          1,
          3,
          1,
          3,
          1,
          3
         ],
         "y0": " ",
         "yaxis": "y"
        },
        {
         "alignmentgroup": "True",
         "hovertemplate": "Categoria=%{x}<br>Quantidade=%{y}<extra></extra>",
         "legendgroup": "Armazenamento",
         "marker": {
          "color": "#00cc96"
         },
         "name": "Armazenamento",
         "notched": false,
         "offsetgroup": "Armazenamento",
         "orientation": "v",
         "quartilemethod": "exclusive",
         "showlegend": true,
         "type": "box",
         "x": [
          "Armazenamento",
          "Armazenamento",
          "Armazenamento",
          "Armazenamento",
          "Armazenamento",
          "Armazenamento",
          "Armazenamento",
          "Armazenamento",
          "Armazenamento"
         ],
         "x0": " ",
         "xaxis": "x",
         "y": [
          5,
          7,
          5,
          7,
          8,
          5,
          6,
          5,
          8
         ],
         "y0": " ",
         "yaxis": "y"
        },
        {
         "alignmentgroup": "True",
         "hovertemplate": "Categoria=%{x}<br>Quantidade=%{y}<extra></extra>",
         "legendgroup": "Water cooler",
         "marker": {
          "color": "#ab63fa"
         },
         "name": "Water cooler",
         "notched": false,
         "offsetgroup": "Water cooler",
         "orientation": "v",
         "quartilemethod": "exclusive",
         "showlegend": true,
         "type": "box",
         "x": [
          "Water cooler",
          "Water cooler",
          "Water cooler",
          "Water cooler",
          "Water cooler",
          "Water cooler",
          "Water cooler",
          "Water cooler",
          "Water cooler",
          "Water cooler",
          "Water cooler"
         ],
         "x0": " ",
         "xaxis": "x",
         "y": [
          2,
          1,
          1,
          2,
          2,
          2,
          2,
          2,
          1,
          1,
          1
         ],
         "y0": " ",
         "yaxis": "y"
        },
        {
         "alignmentgroup": "True",
         "hovertemplate": "Categoria=%{x}<br>Quantidade=%{y}<extra></extra>",
         "legendgroup": "Gabinete",
         "marker": {
          "color": "#FFA15A"
         },
         "name": "Gabinete",
         "notched": false,
         "offsetgroup": "Gabinete",
         "orientation": "v",
         "quartilemethod": "exclusive",
         "showlegend": true,
         "type": "box",
         "x": [
          "Gabinete",
          "Gabinete",
          "Gabinete",
          "Gabinete",
          "Gabinete",
          "Gabinete",
          "Gabinete",
          "Gabinete"
         ],
         "x0": " ",
         "xaxis": "x",
         "y": [
          39,
          23,
          7,
          12,
          32,
          37,
          19,
          18
         ],
         "y0": " ",
         "yaxis": "y"
        },
        {
         "alignmentgroup": "True",
         "hovertemplate": "Categoria=%{x}<br>Quantidade=%{y}<extra></extra>",
         "legendgroup": "Placa de vídeo",
         "marker": {
          "color": "#19d3f3"
         },
         "name": "Placa de vídeo",
         "notched": false,
         "offsetgroup": "Placa de vídeo",
         "orientation": "v",
         "quartilemethod": "exclusive",
         "showlegend": true,
         "type": "box",
         "x": [
          "Placa de vídeo",
          "Placa de vídeo",
          "Placa de vídeo",
          "Placa de vídeo",
          "Placa de vídeo",
          "Placa de vídeo",
          "Placa de vídeo"
         ],
         "x0": " ",
         "xaxis": "x",
         "y": [
          2,
          13,
          7,
          5,
          6,
          12,
          12
         ],
         "y0": " ",
         "yaxis": "y"
        },
        {
         "alignmentgroup": "True",
         "hovertemplate": "Categoria=%{x}<br>Quantidade=%{y}<extra></extra>",
         "legendgroup": "Memória RAM",
         "marker": {
          "color": "#FF6692"
         },
         "name": "Memória RAM",
         "notched": false,
         "offsetgroup": "Memória RAM",
         "orientation": "v",
         "quartilemethod": "exclusive",
         "showlegend": true,
         "type": "box",
         "x": [
          "Memória RAM",
          "Memória RAM",
          "Memória RAM",
          "Memória RAM",
          "Memória RAM",
          "Memória RAM",
          "Memória RAM"
         ],
         "x0": " ",
         "xaxis": "x",
         "y": [
          52,
          17,
          26,
          25,
          18,
          29,
          28
         ],
         "y0": " ",
         "yaxis": "y"
        },
        {
         "alignmentgroup": "True",
         "hovertemplate": "Categoria=%{x}<br>Quantidade=%{y}<extra></extra>",
         "legendgroup": "Fonte",
         "marker": {
          "color": "#B6E880"
         },
         "name": "Fonte",
         "notched": false,
         "offsetgroup": "Fonte",
         "orientation": "v",
         "quartilemethod": "exclusive",
         "showlegend": true,
         "type": "box",
         "x": [
          "Fonte",
          "Fonte",
          "Fonte",
          "Fonte",
          "Fonte",
          "Fonte",
          "Fonte"
         ],
         "x0": " ",
         "xaxis": "x",
         "y": [
          4,
          3,
          3,
          4,
          4,
          4,
          3
         ],
         "y0": " ",
         "yaxis": "y"
        },
        {
         "alignmentgroup": "True",
         "hovertemplate": "Categoria=%{x}<br>Quantidade=%{y}<extra></extra>",
         "legendgroup": "Ventoinha",
         "marker": {
          "color": "#FF97FF"
         },
         "name": "Ventoinha",
         "notched": false,
         "offsetgroup": "Ventoinha",
         "orientation": "v",
         "quartilemethod": "exclusive",
         "showlegend": true,
         "type": "box",
         "x": [
          "Ventoinha",
          "Ventoinha",
          "Ventoinha",
          "Ventoinha",
          "Ventoinha",
          "Ventoinha",
          "Ventoinha",
          "Ventoinha"
         ],
         "x0": " ",
         "xaxis": "x",
         "y": [
          7,
          9,
          6,
          5,
          8,
          5,
          5,
          8
         ],
         "y0": " ",
         "yaxis": "y"
        },
        {
         "alignmentgroup": "True",
         "hovertemplate": "Categoria=%{x}<br>Quantidade=%{y}<extra></extra>",
         "legendgroup": "Cooler a ar",
         "marker": {
          "color": "#FECB52"
         },
         "name": "Cooler a ar",
         "notched": false,
         "offsetgroup": "Cooler a ar",
         "orientation": "v",
         "quartilemethod": "exclusive",
         "showlegend": true,
         "type": "box",
         "x": [
          "Cooler a ar",
          "Cooler a ar",
          "Cooler a ar",
          "Cooler a ar",
          "Cooler a ar",
          "Cooler a ar"
         ],
         "x0": " ",
         "xaxis": "x",
         "y": [
          5,
          6,
          7,
          7,
          7,
          6
         ],
         "y0": " ",
         "yaxis": "y"
        }
       ],
       "layout": {
        "boxmode": "overlay",
        "height": 620,
        "legend": {
         "title": {
          "text": "Categoria"
         },
         "tracegroupgap": 0
        },
        "margin": {
         "t": 60
        },
        "template": {
         "data": {
          "bar": [
           {
            "error_x": {
             "color": "rgb(36,36,36)"
            },
            "error_y": {
             "color": "rgb(36,36,36)"
            },
            "marker": {
             "line": {
              "color": "white",
              "width": 0.5
             },
             "pattern": {
              "fillmode": "overlay",
              "size": 10,
              "solidity": 0.2
             }
            },
            "type": "bar"
           }
          ],
          "barpolar": [
           {
            "marker": {
             "line": {
              "color": "white",
              "width": 0.5
             },
             "pattern": {
              "fillmode": "overlay",
              "size": 10,
              "solidity": 0.2
             }
            },
            "type": "barpolar"
           }
          ],
          "carpet": [
           {
            "aaxis": {
             "endlinecolor": "rgb(36,36,36)",
             "gridcolor": "white",
             "linecolor": "white",
             "minorgridcolor": "white",
             "startlinecolor": "rgb(36,36,36)"
            },
            "baxis": {
             "endlinecolor": "rgb(36,36,36)",
             "gridcolor": "white",
             "linecolor": "white",
             "minorgridcolor": "white",
             "startlinecolor": "rgb(36,36,36)"
            },
            "type": "carpet"
           }
          ],
          "choropleth": [
           {
            "colorbar": {
             "outlinewidth": 1,
             "tickcolor": "rgb(36,36,36)",
             "ticks": "outside"
            },
            "type": "choropleth"
           }
          ],
          "contour": [
           {
            "colorbar": {
             "outlinewidth": 1,
             "tickcolor": "rgb(36,36,36)",
             "ticks": "outside"
            },
            "colorscale": [
             [
              0,
              "#440154"
             ],
             [
              0.1111111111111111,
              "#482878"
             ],
             [
              0.2222222222222222,
              "#3e4989"
             ],
             [
              0.3333333333333333,
              "#31688e"
             ],
             [
              0.4444444444444444,
              "#26828e"
             ],
             [
              0.5555555555555556,
              "#1f9e89"
             ],
             [
              0.6666666666666666,
              "#35b779"
             ],
             [
              0.7777777777777778,
              "#6ece58"
             ],
             [
              0.8888888888888888,
              "#b5de2b"
             ],
             [
              1,
              "#fde725"
             ]
            ],
            "type": "contour"
           }
          ],
          "contourcarpet": [
           {
            "colorbar": {
             "outlinewidth": 1,
             "tickcolor": "rgb(36,36,36)",
             "ticks": "outside"
            },
            "type": "contourcarpet"
           }
          ],
          "heatmap": [
           {
            "colorbar": {
             "outlinewidth": 1,
             "tickcolor": "rgb(36,36,36)",
             "ticks": "outside"
            },
            "colorscale": [
             [
              0,
              "#440154"
             ],
             [
              0.1111111111111111,
              "#482878"
             ],
             [
              0.2222222222222222,
              "#3e4989"
             ],
             [
              0.3333333333333333,
              "#31688e"
             ],
             [
              0.4444444444444444,
              "#26828e"
             ],
             [
              0.5555555555555556,
              "#1f9e89"
             ],
             [
              0.6666666666666666,
              "#35b779"
             ],
             [
              0.7777777777777778,
              "#6ece58"
             ],
             [
              0.8888888888888888,
              "#b5de2b"
             ],
             [
              1,
              "#fde725"
             ]
            ],
            "type": "heatmap"
           }
          ],
          "heatmapgl": [
           {
            "colorbar": {
             "outlinewidth": 1,
             "tickcolor": "rgb(36,36,36)",
             "ticks": "outside"
            },
            "colorscale": [
             [
              0,
              "#440154"
             ],
             [
              0.1111111111111111,
              "#482878"
             ],
             [
              0.2222222222222222,
              "#3e4989"
             ],
             [
              0.3333333333333333,
              "#31688e"
             ],
             [
              0.4444444444444444,
              "#26828e"
             ],
             [
              0.5555555555555556,
              "#1f9e89"
             ],
             [
              0.6666666666666666,
              "#35b779"
             ],
             [
              0.7777777777777778,
              "#6ece58"
             ],
             [
              0.8888888888888888,
              "#b5de2b"
             ],
             [
              1,
              "#fde725"
             ]
            ],
            "type": "heatmapgl"
           }
          ],
          "histogram": [
           {
            "marker": {
             "line": {
              "color": "white",
              "width": 0.6
             }
            },
            "type": "histogram"
           }
          ],
          "histogram2d": [
           {
            "colorbar": {
             "outlinewidth": 1,
             "tickcolor": "rgb(36,36,36)",
             "ticks": "outside"
            },
            "colorscale": [
             [
              0,
              "#440154"
             ],
             [
              0.1111111111111111,
              "#482878"
             ],
             [
              0.2222222222222222,
              "#3e4989"
             ],
             [
              0.3333333333333333,
              "#31688e"
             ],
             [
              0.4444444444444444,
              "#26828e"
             ],
             [
              0.5555555555555556,
              "#1f9e89"
             ],
             [
              0.6666666666666666,
              "#35b779"
             ],
             [
              0.7777777777777778,
              "#6ece58"
             ],
             [
              0.8888888888888888,
              "#b5de2b"
             ],
             [
              1,
              "#fde725"
             ]
            ],
            "type": "histogram2d"
           }
          ],
          "histogram2dcontour": [
           {
            "colorbar": {
             "outlinewidth": 1,
             "tickcolor": "rgb(36,36,36)",
             "ticks": "outside"
            },
            "colorscale": [
             [
              0,
              "#440154"
             ],
             [
              0.1111111111111111,
              "#482878"
             ],
             [
              0.2222222222222222,
              "#3e4989"
             ],
             [
              0.3333333333333333,
              "#31688e"
             ],
             [
              0.4444444444444444,
              "#26828e"
             ],
             [
              0.5555555555555556,
              "#1f9e89"
             ],
             [
              0.6666666666666666,
              "#35b779"
             ],
             [
              0.7777777777777778,
              "#6ece58"
             ],
             [
              0.8888888888888888,
              "#b5de2b"
             ],
             [
              1,
              "#fde725"
             ]
            ],
            "type": "histogram2dcontour"
           }
          ],
          "mesh3d": [
           {
            "colorbar": {
             "outlinewidth": 1,
             "tickcolor": "rgb(36,36,36)",
             "ticks": "outside"
            },
            "type": "mesh3d"
           }
          ],
          "parcoords": [
           {
            "line": {
             "colorbar": {
              "outlinewidth": 1,
              "tickcolor": "rgb(36,36,36)",
              "ticks": "outside"
             }
            },
            "type": "parcoords"
           }
          ],
          "pie": [
           {
            "automargin": true,
            "type": "pie"
           }
          ],
          "scatter": [
           {
            "fillpattern": {
             "fillmode": "overlay",
             "size": 10,
             "solidity": 0.2
            },
            "type": "scatter"
           }
          ],
          "scatter3d": [
           {
            "line": {
             "colorbar": {
              "outlinewidth": 1,
              "tickcolor": "rgb(36,36,36)",
              "ticks": "outside"
             }
            },
            "marker": {
             "colorbar": {
              "outlinewidth": 1,
              "tickcolor": "rgb(36,36,36)",
              "ticks": "outside"
             }
            },
            "type": "scatter3d"
           }
          ],
          "scattercarpet": [
           {
            "marker": {
             "colorbar": {
              "outlinewidth": 1,
              "tickcolor": "rgb(36,36,36)",
              "ticks": "outside"
             }
            },
            "type": "scattercarpet"
           }
          ],
          "scattergeo": [
           {
            "marker": {
             "colorbar": {
              "outlinewidth": 1,
              "tickcolor": "rgb(36,36,36)",
              "ticks": "outside"
             }
            },
            "type": "scattergeo"
           }
          ],
          "scattergl": [
           {
            "marker": {
             "colorbar": {
              "outlinewidth": 1,
              "tickcolor": "rgb(36,36,36)",
              "ticks": "outside"
             }
            },
            "type": "scattergl"
           }
          ],
          "scattermapbox": [
           {
            "marker": {
             "colorbar": {
              "outlinewidth": 1,
              "tickcolor": "rgb(36,36,36)",
              "ticks": "outside"
             }
            },
            "type": "scattermapbox"
           }
          ],
          "scatterpolar": [
           {
            "marker": {
             "colorbar": {
              "outlinewidth": 1,
              "tickcolor": "rgb(36,36,36)",
              "ticks": "outside"
             }
            },
            "type": "scatterpolar"
           }
          ],
          "scatterpolargl": [
           {
            "marker": {
             "colorbar": {
              "outlinewidth": 1,
              "tickcolor": "rgb(36,36,36)",
              "ticks": "outside"
             }
            },
            "type": "scatterpolargl"
           }
          ],
          "scatterternary": [
           {
            "marker": {
             "colorbar": {
              "outlinewidth": 1,
              "tickcolor": "rgb(36,36,36)",
              "ticks": "outside"
             }
            },
            "type": "scatterternary"
           }
          ],
          "surface": [
           {
            "colorbar": {
             "outlinewidth": 1,
             "tickcolor": "rgb(36,36,36)",
             "ticks": "outside"
            },
            "colorscale": [
             [
              0,
              "#440154"
             ],
             [
              0.1111111111111111,
              "#482878"
             ],
             [
              0.2222222222222222,
              "#3e4989"
             ],
             [
              0.3333333333333333,
              "#31688e"
             ],
             [
              0.4444444444444444,
              "#26828e"
             ],
             [
              0.5555555555555556,
              "#1f9e89"
             ],
             [
              0.6666666666666666,
              "#35b779"
             ],
             [
              0.7777777777777778,
              "#6ece58"
             ],
             [
              0.8888888888888888,
              "#b5de2b"
             ],
             [
              1,
              "#fde725"
             ]
            ],
            "type": "surface"
           }
          ],
          "table": [
           {
            "cells": {
             "fill": {
              "color": "rgb(237,237,237)"
             },
             "line": {
              "color": "white"
             }
            },
            "header": {
             "fill": {
              "color": "rgb(217,217,217)"
             },
             "line": {
              "color": "white"
             }
            },
            "type": "table"
           }
          ]
         },
         "layout": {
          "annotationdefaults": {
           "arrowhead": 0,
           "arrowwidth": 1
          },
          "autotypenumbers": "strict",
          "coloraxis": {
           "colorbar": {
            "outlinewidth": 1,
            "tickcolor": "rgb(36,36,36)",
            "ticks": "outside"
           }
          },
          "colorscale": {
           "diverging": [
            [
             0,
             "rgb(103,0,31)"
            ],
            [
             0.1,
             "rgb(178,24,43)"
            ],
            [
             0.2,
             "rgb(214,96,77)"
            ],
            [
             0.3,
             "rgb(244,165,130)"
            ],
            [
             0.4,
             "rgb(253,219,199)"
            ],
            [
             0.5,
             "rgb(247,247,247)"
            ],
            [
             0.6,
             "rgb(209,229,240)"
            ],
            [
             0.7,
             "rgb(146,197,222)"
            ],
            [
             0.8,
             "rgb(67,147,195)"
            ],
            [
             0.9,
             "rgb(33,102,172)"
            ],
            [
             1,
             "rgb(5,48,97)"
            ]
           ],
           "sequential": [
            [
             0,
             "#440154"
            ],
            [
             0.1111111111111111,
             "#482878"
            ],
            [
             0.2222222222222222,
             "#3e4989"
            ],
            [
             0.3333333333333333,
             "#31688e"
            ],
            [
             0.4444444444444444,
             "#26828e"
            ],
            [
             0.5555555555555556,
             "#1f9e89"
            ],
            [
             0.6666666666666666,
             "#35b779"
            ],
            [
             0.7777777777777778,
             "#6ece58"
            ],
            [
             0.8888888888888888,
             "#b5de2b"
            ],
            [
             1,
             "#fde725"
            ]
           ],
           "sequentialminus": [
            [
             0,
             "#440154"
            ],
            [
             0.1111111111111111,
             "#482878"
            ],
            [
             0.2222222222222222,
             "#3e4989"
            ],
            [
             0.3333333333333333,
             "#31688e"
            ],
            [
             0.4444444444444444,
             "#26828e"
            ],
            [
             0.5555555555555556,
             "#1f9e89"
            ],
            [
             0.6666666666666666,
             "#35b779"
            ],
            [
             0.7777777777777778,
             "#6ece58"
            ],
            [
             0.8888888888888888,
             "#b5de2b"
            ],
            [
             1,
             "#fde725"
            ]
           ]
          },
          "colorway": [
           "#1F77B4",
           "#FF7F0E",
           "#2CA02C",
           "#D62728",
           "#9467BD",
           "#8C564B",
           "#E377C2",
           "#7F7F7F",
           "#BCBD22",
           "#17BECF"
          ],
          "font": {
           "color": "rgb(36,36,36)"
          },
          "geo": {
           "bgcolor": "white",
           "lakecolor": "white",
           "landcolor": "white",
           "showlakes": true,
           "showland": true,
           "subunitcolor": "white"
          },
          "hoverlabel": {
           "align": "left"
          },
          "hovermode": "closest",
          "mapbox": {
           "style": "light"
          },
          "paper_bgcolor": "white",
          "plot_bgcolor": "white",
          "polar": {
           "angularaxis": {
            "gridcolor": "rgb(232,232,232)",
            "linecolor": "rgb(36,36,36)",
            "showgrid": false,
            "showline": true,
            "ticks": "outside"
           },
           "bgcolor": "white",
           "radialaxis": {
            "gridcolor": "rgb(232,232,232)",
            "linecolor": "rgb(36,36,36)",
            "showgrid": false,
            "showline": true,
            "ticks": "outside"
           }
          },
          "scene": {
           "xaxis": {
            "backgroundcolor": "white",
            "gridcolor": "rgb(232,232,232)",
            "gridwidth": 2,
            "linecolor": "rgb(36,36,36)",
            "showbackground": true,
            "showgrid": false,
            "showline": true,
            "ticks": "outside",
            "zeroline": false,
            "zerolinecolor": "rgb(36,36,36)"
           },
           "yaxis": {
            "backgroundcolor": "white",
            "gridcolor": "rgb(232,232,232)",
            "gridwidth": 2,
            "linecolor": "rgb(36,36,36)",
            "showbackground": true,
            "showgrid": false,
            "showline": true,
            "ticks": "outside",
            "zeroline": false,
            "zerolinecolor": "rgb(36,36,36)"
           },
           "zaxis": {
            "backgroundcolor": "white",
            "gridcolor": "rgb(232,232,232)",
            "gridwidth": 2,
            "linecolor": "rgb(36,36,36)",
            "showbackground": true,
            "showgrid": false,
            "showline": true,
            "ticks": "outside",
            "zeroline": false,
            "zerolinecolor": "rgb(36,36,36)"
           }
          },
          "shapedefaults": {
           "fillcolor": "black",
           "line": {
            "width": 0
           },
           "opacity": 0.3
          },
          "ternary": {
           "aaxis": {
            "gridcolor": "rgb(232,232,232)",
            "linecolor": "rgb(36,36,36)",
            "showgrid": false,
            "showline": true,
            "ticks": "outside"
           },
           "baxis": {
            "gridcolor": "rgb(232,232,232)",
            "linecolor": "rgb(36,36,36)",
            "showgrid": false,
            "showline": true,
            "ticks": "outside"
           },
           "bgcolor": "white",
           "caxis": {
            "gridcolor": "rgb(232,232,232)",
            "linecolor": "rgb(36,36,36)",
            "showgrid": false,
            "showline": true,
            "ticks": "outside"
           }
          },
          "title": {
           "x": 0.05
          },
          "xaxis": {
           "automargin": true,
           "gridcolor": "rgb(232,232,232)",
           "linecolor": "rgb(36,36,36)",
           "showgrid": false,
           "showline": true,
           "ticks": "outside",
           "title": {
            "standoff": 15
           },
           "zeroline": false,
           "zerolinecolor": "rgb(36,36,36)"
          },
          "yaxis": {
           "automargin": true,
           "gridcolor": "rgb(232,232,232)",
           "linecolor": "rgb(36,36,36)",
           "showgrid": false,
           "showline": true,
           "ticks": "outside",
           "title": {
            "standoff": 15
           },
           "zeroline": false,
           "zerolinecolor": "rgb(36,36,36)"
          }
         }
        },
        "title": {
         "text": "Boxplot de Quantidade por Categoria"
        },
        "width": 1000,
        "xaxis": {
         "anchor": "y",
         "categoryarray": [
          "Placa-mãe",
          "Processador",
          "Armazenamento",
          "Water cooler",
          "Gabinete",
          "Placa de vídeo",
          "Memória RAM",
          "Fonte",
          "Ventoinha",
          "Cooler a ar"
         ],
         "categoryorder": "array",
         "domain": [
          0,
          1
         ],
         "title": {
          "text": "Categoria"
         }
        },
        "yaxis": {
         "anchor": "x",
         "domain": [
          0,
          1
         ],
         "title": {
          "text": "Quantidade"
         }
        }
       }
      }
     },
     "metadata": {},
     "output_type": "display_data"
    }
   ],
   "source": [
    "# Boxplot da variável Quantidade por Categoria\n",
    "multi_boxplot(dados,'Categoria','Quantidade')"
   ]
  },
  {
   "cell_type": "markdown",
   "id": "61b00fe3",
   "metadata": {},
   "source": [
    "Observando a variável `Quantidade` nos subgrupos da categoria, nota-se que a maioria apresenta baixa dispersão: **Processador, Armazenamento, Water Cooler, Fonte, Ventoinha** e **Cooler a Ar**.  \n",
    "As categorias com maior dispersão são: **Placa-mãe**, **Gabinete** (com a maior dispersão) e **Memória RAM**, que ainda apresenta um outlier.\n"
   ]
  },
  {
   "cell_type": "markdown",
   "id": "1c0e69ab",
   "metadata": {},
   "source": [
    "### Boxplot da variável **Vendas Total**"
   ]
  },
  {
   "cell_type": "code",
   "execution_count": 179,
   "id": "a957731c",
   "metadata": {},
   "outputs": [
    {
     "data": {
      "application/vnd.plotly.v1+json": {
       "config": {
        "plotlyServerURL": "https://plot.ly"
       },
       "data": [
        {
         "alignmentgroup": "True",
         "hovertemplate": "Total de Vendas=%{y}<extra></extra>",
         "legendgroup": "",
         "marker": {
          "color": "#636efa"
         },
         "name": "",
         "notched": false,
         "offsetgroup": "",
         "orientation": "v",
         "quartilemethod": "exclusive",
         "showlegend": false,
         "type": "box",
         "x0": " ",
         "xaxis": "x",
         "y": [
          2527.14,
          1938.78,
          2223.2,
          880.52,
          4971.15,
          9763.65,
          11505.72,
          10825.54,
          29412.76,
          7283.64,
          2421.11,
          20592.66,
          2351.32,
          24995.75,
          6993.97,
          19945.59,
          6047.4,
          54488.98,
          5395.41,
          696.2,
          22555.62,
          4848.83,
          635.04,
          22455.72,
          641.13,
          1101.3,
          713.36,
          841.3,
          1709.97,
          3263.75,
          774.12,
          1075.05,
          33376.07,
          5618.76,
          1763.58,
          15011.36,
          11307.5,
          3075.6,
          26376.1,
          1707.57,
          1259.52,
          357.06,
          5844.960000000001,
          13615.79,
          376.1,
          4646.740000000001,
          3009.84,
          1473.15,
          662.56,
          1154.46,
          385.59,
          1558.0600000000002,
          28395.840000000004,
          656.71,
          9427.18,
          11117.44,
          250.6,
          65676.48,
          303.05,
          3141.4,
          1855.24,
          2929.7000000000003,
          1160.88,
          6162.599999999999,
          6216.06,
          18750.86,
          3570.36,
          2096.55,
          10028.580000000002,
          1669.57,
          6805.44,
          2022.32,
          61918.8,
          5391.12,
          459.6,
          827.46,
          9599.8,
          2022.54,
          537.49
         ],
         "y0": " ",
         "yaxis": "y"
        }
       ],
       "layout": {
        "boxmode": "group",
        "height": 620,
        "legend": {
         "tracegroupgap": 0
        },
        "template": {
         "data": {
          "bar": [
           {
            "error_x": {
             "color": "rgb(36,36,36)"
            },
            "error_y": {
             "color": "rgb(36,36,36)"
            },
            "marker": {
             "line": {
              "color": "white",
              "width": 0.5
             },
             "pattern": {
              "fillmode": "overlay",
              "size": 10,
              "solidity": 0.2
             }
            },
            "type": "bar"
           }
          ],
          "barpolar": [
           {
            "marker": {
             "line": {
              "color": "white",
              "width": 0.5
             },
             "pattern": {
              "fillmode": "overlay",
              "size": 10,
              "solidity": 0.2
             }
            },
            "type": "barpolar"
           }
          ],
          "carpet": [
           {
            "aaxis": {
             "endlinecolor": "rgb(36,36,36)",
             "gridcolor": "white",
             "linecolor": "white",
             "minorgridcolor": "white",
             "startlinecolor": "rgb(36,36,36)"
            },
            "baxis": {
             "endlinecolor": "rgb(36,36,36)",
             "gridcolor": "white",
             "linecolor": "white",
             "minorgridcolor": "white",
             "startlinecolor": "rgb(36,36,36)"
            },
            "type": "carpet"
           }
          ],
          "choropleth": [
           {
            "colorbar": {
             "outlinewidth": 1,
             "tickcolor": "rgb(36,36,36)",
             "ticks": "outside"
            },
            "type": "choropleth"
           }
          ],
          "contour": [
           {
            "colorbar": {
             "outlinewidth": 1,
             "tickcolor": "rgb(36,36,36)",
             "ticks": "outside"
            },
            "colorscale": [
             [
              0,
              "#440154"
             ],
             [
              0.1111111111111111,
              "#482878"
             ],
             [
              0.2222222222222222,
              "#3e4989"
             ],
             [
              0.3333333333333333,
              "#31688e"
             ],
             [
              0.4444444444444444,
              "#26828e"
             ],
             [
              0.5555555555555556,
              "#1f9e89"
             ],
             [
              0.6666666666666666,
              "#35b779"
             ],
             [
              0.7777777777777778,
              "#6ece58"
             ],
             [
              0.8888888888888888,
              "#b5de2b"
             ],
             [
              1,
              "#fde725"
             ]
            ],
            "type": "contour"
           }
          ],
          "contourcarpet": [
           {
            "colorbar": {
             "outlinewidth": 1,
             "tickcolor": "rgb(36,36,36)",
             "ticks": "outside"
            },
            "type": "contourcarpet"
           }
          ],
          "heatmap": [
           {
            "colorbar": {
             "outlinewidth": 1,
             "tickcolor": "rgb(36,36,36)",
             "ticks": "outside"
            },
            "colorscale": [
             [
              0,
              "#440154"
             ],
             [
              0.1111111111111111,
              "#482878"
             ],
             [
              0.2222222222222222,
              "#3e4989"
             ],
             [
              0.3333333333333333,
              "#31688e"
             ],
             [
              0.4444444444444444,
              "#26828e"
             ],
             [
              0.5555555555555556,
              "#1f9e89"
             ],
             [
              0.6666666666666666,
              "#35b779"
             ],
             [
              0.7777777777777778,
              "#6ece58"
             ],
             [
              0.8888888888888888,
              "#b5de2b"
             ],
             [
              1,
              "#fde725"
             ]
            ],
            "type": "heatmap"
           }
          ],
          "heatmapgl": [
           {
            "colorbar": {
             "outlinewidth": 1,
             "tickcolor": "rgb(36,36,36)",
             "ticks": "outside"
            },
            "colorscale": [
             [
              0,
              "#440154"
             ],
             [
              0.1111111111111111,
              "#482878"
             ],
             [
              0.2222222222222222,
              "#3e4989"
             ],
             [
              0.3333333333333333,
              "#31688e"
             ],
             [
              0.4444444444444444,
              "#26828e"
             ],
             [
              0.5555555555555556,
              "#1f9e89"
             ],
             [
              0.6666666666666666,
              "#35b779"
             ],
             [
              0.7777777777777778,
              "#6ece58"
             ],
             [
              0.8888888888888888,
              "#b5de2b"
             ],
             [
              1,
              "#fde725"
             ]
            ],
            "type": "heatmapgl"
           }
          ],
          "histogram": [
           {
            "marker": {
             "line": {
              "color": "white",
              "width": 0.6
             }
            },
            "type": "histogram"
           }
          ],
          "histogram2d": [
           {
            "colorbar": {
             "outlinewidth": 1,
             "tickcolor": "rgb(36,36,36)",
             "ticks": "outside"
            },
            "colorscale": [
             [
              0,
              "#440154"
             ],
             [
              0.1111111111111111,
              "#482878"
             ],
             [
              0.2222222222222222,
              "#3e4989"
             ],
             [
              0.3333333333333333,
              "#31688e"
             ],
             [
              0.4444444444444444,
              "#26828e"
             ],
             [
              0.5555555555555556,
              "#1f9e89"
             ],
             [
              0.6666666666666666,
              "#35b779"
             ],
             [
              0.7777777777777778,
              "#6ece58"
             ],
             [
              0.8888888888888888,
              "#b5de2b"
             ],
             [
              1,
              "#fde725"
             ]
            ],
            "type": "histogram2d"
           }
          ],
          "histogram2dcontour": [
           {
            "colorbar": {
             "outlinewidth": 1,
             "tickcolor": "rgb(36,36,36)",
             "ticks": "outside"
            },
            "colorscale": [
             [
              0,
              "#440154"
             ],
             [
              0.1111111111111111,
              "#482878"
             ],
             [
              0.2222222222222222,
              "#3e4989"
             ],
             [
              0.3333333333333333,
              "#31688e"
             ],
             [
              0.4444444444444444,
              "#26828e"
             ],
             [
              0.5555555555555556,
              "#1f9e89"
             ],
             [
              0.6666666666666666,
              "#35b779"
             ],
             [
              0.7777777777777778,
              "#6ece58"
             ],
             [
              0.8888888888888888,
              "#b5de2b"
             ],
             [
              1,
              "#fde725"
             ]
            ],
            "type": "histogram2dcontour"
           }
          ],
          "mesh3d": [
           {
            "colorbar": {
             "outlinewidth": 1,
             "tickcolor": "rgb(36,36,36)",
             "ticks": "outside"
            },
            "type": "mesh3d"
           }
          ],
          "parcoords": [
           {
            "line": {
             "colorbar": {
              "outlinewidth": 1,
              "tickcolor": "rgb(36,36,36)",
              "ticks": "outside"
             }
            },
            "type": "parcoords"
           }
          ],
          "pie": [
           {
            "automargin": true,
            "type": "pie"
           }
          ],
          "scatter": [
           {
            "fillpattern": {
             "fillmode": "overlay",
             "size": 10,
             "solidity": 0.2
            },
            "type": "scatter"
           }
          ],
          "scatter3d": [
           {
            "line": {
             "colorbar": {
              "outlinewidth": 1,
              "tickcolor": "rgb(36,36,36)",
              "ticks": "outside"
             }
            },
            "marker": {
             "colorbar": {
              "outlinewidth": 1,
              "tickcolor": "rgb(36,36,36)",
              "ticks": "outside"
             }
            },
            "type": "scatter3d"
           }
          ],
          "scattercarpet": [
           {
            "marker": {
             "colorbar": {
              "outlinewidth": 1,
              "tickcolor": "rgb(36,36,36)",
              "ticks": "outside"
             }
            },
            "type": "scattercarpet"
           }
          ],
          "scattergeo": [
           {
            "marker": {
             "colorbar": {
              "outlinewidth": 1,
              "tickcolor": "rgb(36,36,36)",
              "ticks": "outside"
             }
            },
            "type": "scattergeo"
           }
          ],
          "scattergl": [
           {
            "marker": {
             "colorbar": {
              "outlinewidth": 1,
              "tickcolor": "rgb(36,36,36)",
              "ticks": "outside"
             }
            },
            "type": "scattergl"
           }
          ],
          "scattermapbox": [
           {
            "marker": {
             "colorbar": {
              "outlinewidth": 1,
              "tickcolor": "rgb(36,36,36)",
              "ticks": "outside"
             }
            },
            "type": "scattermapbox"
           }
          ],
          "scatterpolar": [
           {
            "marker": {
             "colorbar": {
              "outlinewidth": 1,
              "tickcolor": "rgb(36,36,36)",
              "ticks": "outside"
             }
            },
            "type": "scatterpolar"
           }
          ],
          "scatterpolargl": [
           {
            "marker": {
             "colorbar": {
              "outlinewidth": 1,
              "tickcolor": "rgb(36,36,36)",
              "ticks": "outside"
             }
            },
            "type": "scatterpolargl"
           }
          ],
          "scatterternary": [
           {
            "marker": {
             "colorbar": {
              "outlinewidth": 1,
              "tickcolor": "rgb(36,36,36)",
              "ticks": "outside"
             }
            },
            "type": "scatterternary"
           }
          ],
          "surface": [
           {
            "colorbar": {
             "outlinewidth": 1,
             "tickcolor": "rgb(36,36,36)",
             "ticks": "outside"
            },
            "colorscale": [
             [
              0,
              "#440154"
             ],
             [
              0.1111111111111111,
              "#482878"
             ],
             [
              0.2222222222222222,
              "#3e4989"
             ],
             [
              0.3333333333333333,
              "#31688e"
             ],
             [
              0.4444444444444444,
              "#26828e"
             ],
             [
              0.5555555555555556,
              "#1f9e89"
             ],
             [
              0.6666666666666666,
              "#35b779"
             ],
             [
              0.7777777777777778,
              "#6ece58"
             ],
             [
              0.8888888888888888,
              "#b5de2b"
             ],
             [
              1,
              "#fde725"
             ]
            ],
            "type": "surface"
           }
          ],
          "table": [
           {
            "cells": {
             "fill": {
              "color": "rgb(237,237,237)"
             },
             "line": {
              "color": "white"
             }
            },
            "header": {
             "fill": {
              "color": "rgb(217,217,217)"
             },
             "line": {
              "color": "white"
             }
            },
            "type": "table"
           }
          ]
         },
         "layout": {
          "annotationdefaults": {
           "arrowhead": 0,
           "arrowwidth": 1
          },
          "autotypenumbers": "strict",
          "coloraxis": {
           "colorbar": {
            "outlinewidth": 1,
            "tickcolor": "rgb(36,36,36)",
            "ticks": "outside"
           }
          },
          "colorscale": {
           "diverging": [
            [
             0,
             "rgb(103,0,31)"
            ],
            [
             0.1,
             "rgb(178,24,43)"
            ],
            [
             0.2,
             "rgb(214,96,77)"
            ],
            [
             0.3,
             "rgb(244,165,130)"
            ],
            [
             0.4,
             "rgb(253,219,199)"
            ],
            [
             0.5,
             "rgb(247,247,247)"
            ],
            [
             0.6,
             "rgb(209,229,240)"
            ],
            [
             0.7,
             "rgb(146,197,222)"
            ],
            [
             0.8,
             "rgb(67,147,195)"
            ],
            [
             0.9,
             "rgb(33,102,172)"
            ],
            [
             1,
             "rgb(5,48,97)"
            ]
           ],
           "sequential": [
            [
             0,
             "#440154"
            ],
            [
             0.1111111111111111,
             "#482878"
            ],
            [
             0.2222222222222222,
             "#3e4989"
            ],
            [
             0.3333333333333333,
             "#31688e"
            ],
            [
             0.4444444444444444,
             "#26828e"
            ],
            [
             0.5555555555555556,
             "#1f9e89"
            ],
            [
             0.6666666666666666,
             "#35b779"
            ],
            [
             0.7777777777777778,
             "#6ece58"
            ],
            [
             0.8888888888888888,
             "#b5de2b"
            ],
            [
             1,
             "#fde725"
            ]
           ],
           "sequentialminus": [
            [
             0,
             "#440154"
            ],
            [
             0.1111111111111111,
             "#482878"
            ],
            [
             0.2222222222222222,
             "#3e4989"
            ],
            [
             0.3333333333333333,
             "#31688e"
            ],
            [
             0.4444444444444444,
             "#26828e"
            ],
            [
             0.5555555555555556,
             "#1f9e89"
            ],
            [
             0.6666666666666666,
             "#35b779"
            ],
            [
             0.7777777777777778,
             "#6ece58"
            ],
            [
             0.8888888888888888,
             "#b5de2b"
            ],
            [
             1,
             "#fde725"
            ]
           ]
          },
          "colorway": [
           "#1F77B4",
           "#FF7F0E",
           "#2CA02C",
           "#D62728",
           "#9467BD",
           "#8C564B",
           "#E377C2",
           "#7F7F7F",
           "#BCBD22",
           "#17BECF"
          ],
          "font": {
           "color": "rgb(36,36,36)"
          },
          "geo": {
           "bgcolor": "white",
           "lakecolor": "white",
           "landcolor": "white",
           "showlakes": true,
           "showland": true,
           "subunitcolor": "white"
          },
          "hoverlabel": {
           "align": "left"
          },
          "hovermode": "closest",
          "mapbox": {
           "style": "light"
          },
          "paper_bgcolor": "white",
          "plot_bgcolor": "white",
          "polar": {
           "angularaxis": {
            "gridcolor": "rgb(232,232,232)",
            "linecolor": "rgb(36,36,36)",
            "showgrid": false,
            "showline": true,
            "ticks": "outside"
           },
           "bgcolor": "white",
           "radialaxis": {
            "gridcolor": "rgb(232,232,232)",
            "linecolor": "rgb(36,36,36)",
            "showgrid": false,
            "showline": true,
            "ticks": "outside"
           }
          },
          "scene": {
           "xaxis": {
            "backgroundcolor": "white",
            "gridcolor": "rgb(232,232,232)",
            "gridwidth": 2,
            "linecolor": "rgb(36,36,36)",
            "showbackground": true,
            "showgrid": false,
            "showline": true,
            "ticks": "outside",
            "zeroline": false,
            "zerolinecolor": "rgb(36,36,36)"
           },
           "yaxis": {
            "backgroundcolor": "white",
            "gridcolor": "rgb(232,232,232)",
            "gridwidth": 2,
            "linecolor": "rgb(36,36,36)",
            "showbackground": true,
            "showgrid": false,
            "showline": true,
            "ticks": "outside",
            "zeroline": false,
            "zerolinecolor": "rgb(36,36,36)"
           },
           "zaxis": {
            "backgroundcolor": "white",
            "gridcolor": "rgb(232,232,232)",
            "gridwidth": 2,
            "linecolor": "rgb(36,36,36)",
            "showbackground": true,
            "showgrid": false,
            "showline": true,
            "ticks": "outside",
            "zeroline": false,
            "zerolinecolor": "rgb(36,36,36)"
           }
          },
          "shapedefaults": {
           "fillcolor": "black",
           "line": {
            "width": 0
           },
           "opacity": 0.3
          },
          "ternary": {
           "aaxis": {
            "gridcolor": "rgb(232,232,232)",
            "linecolor": "rgb(36,36,36)",
            "showgrid": false,
            "showline": true,
            "ticks": "outside"
           },
           "baxis": {
            "gridcolor": "rgb(232,232,232)",
            "linecolor": "rgb(36,36,36)",
            "showgrid": false,
            "showline": true,
            "ticks": "outside"
           },
           "bgcolor": "white",
           "caxis": {
            "gridcolor": "rgb(232,232,232)",
            "linecolor": "rgb(36,36,36)",
            "showgrid": false,
            "showline": true,
            "ticks": "outside"
           }
          },
          "title": {
           "x": 0.05
          },
          "xaxis": {
           "automargin": true,
           "gridcolor": "rgb(232,232,232)",
           "linecolor": "rgb(36,36,36)",
           "showgrid": false,
           "showline": true,
           "ticks": "outside",
           "title": {
            "standoff": 15
           },
           "zeroline": false,
           "zerolinecolor": "rgb(36,36,36)"
          },
          "yaxis": {
           "automargin": true,
           "gridcolor": "rgb(232,232,232)",
           "linecolor": "rgb(36,36,36)",
           "showgrid": false,
           "showline": true,
           "ticks": "outside",
           "title": {
            "standoff": 15
           },
           "zeroline": false,
           "zerolinecolor": "rgb(36,36,36)"
          }
         }
        },
        "title": {
         "text": "Boxplot de Total de Vendas"
        },
        "width": 1000,
        "xaxis": {
         "anchor": "y",
         "domain": [
          0,
          1
         ]
        },
        "yaxis": {
         "anchor": "x",
         "domain": [
          0,
          1
         ],
         "title": {
          "text": "Total de Vendas"
         }
        }
       }
      }
     },
     "metadata": {},
     "output_type": "display_data"
    }
   ],
   "source": [
    "# Boxplot para variável Vendas total\n",
    "boxplots(dados,'Total de Vendas')"
   ]
  },
  {
   "cell_type": "markdown",
   "id": "170aeb98",
   "metadata": {},
   "source": [
    "Ao observar os dados do `Total de Vendas`, percebe-se que apresentam baixa dispersão, evidenciada pela largura reduzida do boxplot.  \n",
    "Além disso, é possível identificar a presença de outliers na variável.\n"
   ]
  },
  {
   "cell_type": "markdown",
   "id": "a6df0237",
   "metadata": {},
   "source": [
    "- Variável total de vendas em relação aos produtos"
   ]
  },
  {
   "cell_type": "code",
   "execution_count": 180,
   "id": "c9c06007",
   "metadata": {},
   "outputs": [
    {
     "data": {
      "application/vnd.plotly.v1+json": {
       "config": {
        "plotlyServerURL": "https://plot.ly"
       },
       "data": [
        {
         "alignmentgroup": "True",
         "hovertemplate": "Categoria=%{x}<br>Total de Vendas=%{y}<extra></extra>",
         "legendgroup": "Placa-mãe",
         "marker": {
          "color": "#636efa"
         },
         "name": "Placa-mãe",
         "notched": false,
         "offsetgroup": "Placa-mãe",
         "orientation": "v",
         "quartilemethod": "exclusive",
         "showlegend": true,
         "type": "box",
         "x": [
          "Placa-mãe",
          "Placa-mãe",
          "Placa-mãe",
          "Placa-mãe",
          "Placa-mãe",
          "Placa-mãe",
          "Placa-mãe",
          "Placa-mãe",
          "Placa-mãe",
          "Placa-mãe"
         ],
         "x0": " ",
         "xaxis": "x",
         "y": [
          2527.14,
          11505.72,
          20592.66,
          24995.75,
          19945.59,
          6047.4,
          22555.62,
          22455.72,
          9427.18,
          6216.06
         ],
         "y0": " ",
         "yaxis": "y"
        },
        {
         "alignmentgroup": "True",
         "hovertemplate": "Categoria=%{x}<br>Total de Vendas=%{y}<extra></extra>",
         "legendgroup": "Processador",
         "marker": {
          "color": "#EF553B"
         },
         "name": "Processador",
         "notched": false,
         "offsetgroup": "Processador",
         "orientation": "v",
         "quartilemethod": "exclusive",
         "showlegend": true,
         "type": "box",
         "x": [
          "Processador",
          "Processador",
          "Processador",
          "Processador",
          "Processador",
          "Processador"
         ],
         "x0": " ",
         "xaxis": "x",
         "y": [
          1938.78,
          4971.15,
          2421.11,
          5395.41,
          1707.57,
          6162.599999999999
         ],
         "y0": " ",
         "yaxis": "y"
        },
        {
         "alignmentgroup": "True",
         "hovertemplate": "Categoria=%{x}<br>Total de Vendas=%{y}<extra></extra>",
         "legendgroup": "Armazenamento",
         "marker": {
          "color": "#00cc96"
         },
         "name": "Armazenamento",
         "notched": false,
         "offsetgroup": "Armazenamento",
         "orientation": "v",
         "quartilemethod": "exclusive",
         "showlegend": true,
         "type": "box",
         "x": [
          "Armazenamento",
          "Armazenamento",
          "Armazenamento",
          "Armazenamento",
          "Armazenamento",
          "Armazenamento",
          "Armazenamento",
          "Armazenamento",
          "Armazenamento"
         ],
         "x0": " ",
         "xaxis": "x",
         "y": [
          2223.2,
          4848.83,
          3075.6,
          4646.740000000001,
          3009.84,
          2929.7000000000003,
          3570.36,
          2096.55,
          5391.12
         ],
         "y0": " ",
         "yaxis": "y"
        },
        {
         "alignmentgroup": "True",
         "hovertemplate": "Categoria=%{x}<br>Total de Vendas=%{y}<extra></extra>",
         "legendgroup": "Water cooler",
         "marker": {
          "color": "#ab63fa"
         },
         "name": "Water cooler",
         "notched": false,
         "offsetgroup": "Water cooler",
         "orientation": "v",
         "quartilemethod": "exclusive",
         "showlegend": true,
         "type": "box",
         "x": [
          "Water cooler",
          "Water cooler",
          "Water cooler",
          "Water cooler",
          "Water cooler",
          "Water cooler",
          "Water cooler",
          "Water cooler",
          "Water cooler",
          "Water cooler",
          "Water cooler"
         ],
         "x0": " ",
         "xaxis": "x",
         "y": [
          880.52,
          696.2,
          641.13,
          1101.3,
          713.36,
          774.12,
          1259.52,
          1154.46,
          385.59,
          656.71,
          537.49
         ],
         "y0": " ",
         "yaxis": "y"
        },
        {
         "alignmentgroup": "True",
         "hovertemplate": "Categoria=%{x}<br>Total de Vendas=%{y}<extra></extra>",
         "legendgroup": "Gabinete",
         "marker": {
          "color": "#FFA15A"
         },
         "name": "Gabinete",
         "notched": false,
         "offsetgroup": "Gabinete",
         "orientation": "v",
         "quartilemethod": "exclusive",
         "showlegend": true,
         "type": "box",
         "x": [
          "Gabinete",
          "Gabinete",
          "Gabinete",
          "Gabinete",
          "Gabinete",
          "Gabinete",
          "Gabinete",
          "Gabinete"
         ],
         "x0": " ",
         "xaxis": "x",
         "y": [
          9763.65,
          7283.64,
          3263.75,
          5618.76,
          11117.44,
          18750.86,
          10028.580000000002,
          6805.44
         ],
         "y0": " ",
         "yaxis": "y"
        },
        {
         "alignmentgroup": "True",
         "hovertemplate": "Categoria=%{x}<br>Total de Vendas=%{y}<extra></extra>",
         "legendgroup": "Placa de vídeo",
         "marker": {
          "color": "#19d3f3"
         },
         "name": "Placa de vídeo",
         "notched": false,
         "offsetgroup": "Placa de vídeo",
         "orientation": "v",
         "quartilemethod": "exclusive",
         "showlegend": true,
         "type": "box",
         "x": [
          "Placa de vídeo",
          "Placa de vídeo",
          "Placa de vídeo",
          "Placa de vídeo",
          "Placa de vídeo",
          "Placa de vídeo",
          "Placa de vídeo"
         ],
         "x0": " ",
         "xaxis": "x",
         "y": [
          10825.54,
          54488.98,
          33376.07,
          26376.1,
          28395.840000000004,
          65676.48,
          61918.8
         ],
         "y0": " ",
         "yaxis": "y"
        },
        {
         "alignmentgroup": "True",
         "hovertemplate": "Categoria=%{x}<br>Total de Vendas=%{y}<extra></extra>",
         "legendgroup": "Memória RAM",
         "marker": {
          "color": "#FF6692"
         },
         "name": "Memória RAM",
         "notched": false,
         "offsetgroup": "Memória RAM",
         "orientation": "v",
         "quartilemethod": "exclusive",
         "showlegend": true,
         "type": "box",
         "x": [
          "Memória RAM",
          "Memória RAM",
          "Memória RAM",
          "Memória RAM",
          "Memória RAM",
          "Memória RAM",
          "Memória RAM"
         ],
         "x0": " ",
         "xaxis": "x",
         "y": [
          29412.76,
          6993.97,
          15011.36,
          11307.5,
          5844.960000000001,
          13615.79,
          9599.8
         ],
         "y0": " ",
         "yaxis": "y"
        },
        {
         "alignmentgroup": "True",
         "hovertemplate": "Categoria=%{x}<br>Total de Vendas=%{y}<extra></extra>",
         "legendgroup": "Fonte",
         "marker": {
          "color": "#B6E880"
         },
         "name": "Fonte",
         "notched": false,
         "offsetgroup": "Fonte",
         "orientation": "v",
         "quartilemethod": "exclusive",
         "showlegend": true,
         "type": "box",
         "x": [
          "Fonte",
          "Fonte",
          "Fonte",
          "Fonte",
          "Fonte",
          "Fonte",
          "Fonte"
         ],
         "x0": " ",
         "xaxis": "x",
         "y": [
          2351.32,
          1709.97,
          1473.15,
          3141.4,
          1855.24,
          2022.32,
          2022.54
         ],
         "y0": " ",
         "yaxis": "y"
        },
        {
         "alignmentgroup": "True",
         "hovertemplate": "Categoria=%{x}<br>Total de Vendas=%{y}<extra></extra>",
         "legendgroup": "Ventoinha",
         "marker": {
          "color": "#FF97FF"
         },
         "name": "Ventoinha",
         "notched": false,
         "offsetgroup": "Ventoinha",
         "orientation": "v",
         "quartilemethod": "exclusive",
         "showlegend": true,
         "type": "box",
         "x": [
          "Ventoinha",
          "Ventoinha",
          "Ventoinha",
          "Ventoinha",
          "Ventoinha",
          "Ventoinha",
          "Ventoinha",
          "Ventoinha"
         ],
         "x0": " ",
         "xaxis": "x",
         "y": [
          635.04,
          1075.05,
          357.06,
          376.1,
          662.56,
          250.6,
          303.05,
          459.6
         ],
         "y0": " ",
         "yaxis": "y"
        },
        {
         "alignmentgroup": "True",
         "hovertemplate": "Categoria=%{x}<br>Total de Vendas=%{y}<extra></extra>",
         "legendgroup": "Cooler a ar",
         "marker": {
          "color": "#FECB52"
         },
         "name": "Cooler a ar",
         "notched": false,
         "offsetgroup": "Cooler a ar",
         "orientation": "v",
         "quartilemethod": "exclusive",
         "showlegend": true,
         "type": "box",
         "x": [
          "Cooler a ar",
          "Cooler a ar",
          "Cooler a ar",
          "Cooler a ar",
          "Cooler a ar",
          "Cooler a ar"
         ],
         "x0": " ",
         "xaxis": "x",
         "y": [
          841.3,
          1763.58,
          1558.0600000000002,
          1160.88,
          1669.57,
          827.46
         ],
         "y0": " ",
         "yaxis": "y"
        }
       ],
       "layout": {
        "boxmode": "overlay",
        "height": 620,
        "legend": {
         "title": {
          "text": "Categoria"
         },
         "tracegroupgap": 0
        },
        "margin": {
         "t": 60
        },
        "template": {
         "data": {
          "bar": [
           {
            "error_x": {
             "color": "rgb(36,36,36)"
            },
            "error_y": {
             "color": "rgb(36,36,36)"
            },
            "marker": {
             "line": {
              "color": "white",
              "width": 0.5
             },
             "pattern": {
              "fillmode": "overlay",
              "size": 10,
              "solidity": 0.2
             }
            },
            "type": "bar"
           }
          ],
          "barpolar": [
           {
            "marker": {
             "line": {
              "color": "white",
              "width": 0.5
             },
             "pattern": {
              "fillmode": "overlay",
              "size": 10,
              "solidity": 0.2
             }
            },
            "type": "barpolar"
           }
          ],
          "carpet": [
           {
            "aaxis": {
             "endlinecolor": "rgb(36,36,36)",
             "gridcolor": "white",
             "linecolor": "white",
             "minorgridcolor": "white",
             "startlinecolor": "rgb(36,36,36)"
            },
            "baxis": {
             "endlinecolor": "rgb(36,36,36)",
             "gridcolor": "white",
             "linecolor": "white",
             "minorgridcolor": "white",
             "startlinecolor": "rgb(36,36,36)"
            },
            "type": "carpet"
           }
          ],
          "choropleth": [
           {
            "colorbar": {
             "outlinewidth": 1,
             "tickcolor": "rgb(36,36,36)",
             "ticks": "outside"
            },
            "type": "choropleth"
           }
          ],
          "contour": [
           {
            "colorbar": {
             "outlinewidth": 1,
             "tickcolor": "rgb(36,36,36)",
             "ticks": "outside"
            },
            "colorscale": [
             [
              0,
              "#440154"
             ],
             [
              0.1111111111111111,
              "#482878"
             ],
             [
              0.2222222222222222,
              "#3e4989"
             ],
             [
              0.3333333333333333,
              "#31688e"
             ],
             [
              0.4444444444444444,
              "#26828e"
             ],
             [
              0.5555555555555556,
              "#1f9e89"
             ],
             [
              0.6666666666666666,
              "#35b779"
             ],
             [
              0.7777777777777778,
              "#6ece58"
             ],
             [
              0.8888888888888888,
              "#b5de2b"
             ],
             [
              1,
              "#fde725"
             ]
            ],
            "type": "contour"
           }
          ],
          "contourcarpet": [
           {
            "colorbar": {
             "outlinewidth": 1,
             "tickcolor": "rgb(36,36,36)",
             "ticks": "outside"
            },
            "type": "contourcarpet"
           }
          ],
          "heatmap": [
           {
            "colorbar": {
             "outlinewidth": 1,
             "tickcolor": "rgb(36,36,36)",
             "ticks": "outside"
            },
            "colorscale": [
             [
              0,
              "#440154"
             ],
             [
              0.1111111111111111,
              "#482878"
             ],
             [
              0.2222222222222222,
              "#3e4989"
             ],
             [
              0.3333333333333333,
              "#31688e"
             ],
             [
              0.4444444444444444,
              "#26828e"
             ],
             [
              0.5555555555555556,
              "#1f9e89"
             ],
             [
              0.6666666666666666,
              "#35b779"
             ],
             [
              0.7777777777777778,
              "#6ece58"
             ],
             [
              0.8888888888888888,
              "#b5de2b"
             ],
             [
              1,
              "#fde725"
             ]
            ],
            "type": "heatmap"
           }
          ],
          "heatmapgl": [
           {
            "colorbar": {
             "outlinewidth": 1,
             "tickcolor": "rgb(36,36,36)",
             "ticks": "outside"
            },
            "colorscale": [
             [
              0,
              "#440154"
             ],
             [
              0.1111111111111111,
              "#482878"
             ],
             [
              0.2222222222222222,
              "#3e4989"
             ],
             [
              0.3333333333333333,
              "#31688e"
             ],
             [
              0.4444444444444444,
              "#26828e"
             ],
             [
              0.5555555555555556,
              "#1f9e89"
             ],
             [
              0.6666666666666666,
              "#35b779"
             ],
             [
              0.7777777777777778,
              "#6ece58"
             ],
             [
              0.8888888888888888,
              "#b5de2b"
             ],
             [
              1,
              "#fde725"
             ]
            ],
            "type": "heatmapgl"
           }
          ],
          "histogram": [
           {
            "marker": {
             "line": {
              "color": "white",
              "width": 0.6
             }
            },
            "type": "histogram"
           }
          ],
          "histogram2d": [
           {
            "colorbar": {
             "outlinewidth": 1,
             "tickcolor": "rgb(36,36,36)",
             "ticks": "outside"
            },
            "colorscale": [
             [
              0,
              "#440154"
             ],
             [
              0.1111111111111111,
              "#482878"
             ],
             [
              0.2222222222222222,
              "#3e4989"
             ],
             [
              0.3333333333333333,
              "#31688e"
             ],
             [
              0.4444444444444444,
              "#26828e"
             ],
             [
              0.5555555555555556,
              "#1f9e89"
             ],
             [
              0.6666666666666666,
              "#35b779"
             ],
             [
              0.7777777777777778,
              "#6ece58"
             ],
             [
              0.8888888888888888,
              "#b5de2b"
             ],
             [
              1,
              "#fde725"
             ]
            ],
            "type": "histogram2d"
           }
          ],
          "histogram2dcontour": [
           {
            "colorbar": {
             "outlinewidth": 1,
             "tickcolor": "rgb(36,36,36)",
             "ticks": "outside"
            },
            "colorscale": [
             [
              0,
              "#440154"
             ],
             [
              0.1111111111111111,
              "#482878"
             ],
             [
              0.2222222222222222,
              "#3e4989"
             ],
             [
              0.3333333333333333,
              "#31688e"
             ],
             [
              0.4444444444444444,
              "#26828e"
             ],
             [
              0.5555555555555556,
              "#1f9e89"
             ],
             [
              0.6666666666666666,
              "#35b779"
             ],
             [
              0.7777777777777778,
              "#6ece58"
             ],
             [
              0.8888888888888888,
              "#b5de2b"
             ],
             [
              1,
              "#fde725"
             ]
            ],
            "type": "histogram2dcontour"
           }
          ],
          "mesh3d": [
           {
            "colorbar": {
             "outlinewidth": 1,
             "tickcolor": "rgb(36,36,36)",
             "ticks": "outside"
            },
            "type": "mesh3d"
           }
          ],
          "parcoords": [
           {
            "line": {
             "colorbar": {
              "outlinewidth": 1,
              "tickcolor": "rgb(36,36,36)",
              "ticks": "outside"
             }
            },
            "type": "parcoords"
           }
          ],
          "pie": [
           {
            "automargin": true,
            "type": "pie"
           }
          ],
          "scatter": [
           {
            "fillpattern": {
             "fillmode": "overlay",
             "size": 10,
             "solidity": 0.2
            },
            "type": "scatter"
           }
          ],
          "scatter3d": [
           {
            "line": {
             "colorbar": {
              "outlinewidth": 1,
              "tickcolor": "rgb(36,36,36)",
              "ticks": "outside"
             }
            },
            "marker": {
             "colorbar": {
              "outlinewidth": 1,
              "tickcolor": "rgb(36,36,36)",
              "ticks": "outside"
             }
            },
            "type": "scatter3d"
           }
          ],
          "scattercarpet": [
           {
            "marker": {
             "colorbar": {
              "outlinewidth": 1,
              "tickcolor": "rgb(36,36,36)",
              "ticks": "outside"
             }
            },
            "type": "scattercarpet"
           }
          ],
          "scattergeo": [
           {
            "marker": {
             "colorbar": {
              "outlinewidth": 1,
              "tickcolor": "rgb(36,36,36)",
              "ticks": "outside"
             }
            },
            "type": "scattergeo"
           }
          ],
          "scattergl": [
           {
            "marker": {
             "colorbar": {
              "outlinewidth": 1,
              "tickcolor": "rgb(36,36,36)",
              "ticks": "outside"
             }
            },
            "type": "scattergl"
           }
          ],
          "scattermapbox": [
           {
            "marker": {
             "colorbar": {
              "outlinewidth": 1,
              "tickcolor": "rgb(36,36,36)",
              "ticks": "outside"
             }
            },
            "type": "scattermapbox"
           }
          ],
          "scatterpolar": [
           {
            "marker": {
             "colorbar": {
              "outlinewidth": 1,
              "tickcolor": "rgb(36,36,36)",
              "ticks": "outside"
             }
            },
            "type": "scatterpolar"
           }
          ],
          "scatterpolargl": [
           {
            "marker": {
             "colorbar": {
              "outlinewidth": 1,
              "tickcolor": "rgb(36,36,36)",
              "ticks": "outside"
             }
            },
            "type": "scatterpolargl"
           }
          ],
          "scatterternary": [
           {
            "marker": {
             "colorbar": {
              "outlinewidth": 1,
              "tickcolor": "rgb(36,36,36)",
              "ticks": "outside"
             }
            },
            "type": "scatterternary"
           }
          ],
          "surface": [
           {
            "colorbar": {
             "outlinewidth": 1,
             "tickcolor": "rgb(36,36,36)",
             "ticks": "outside"
            },
            "colorscale": [
             [
              0,
              "#440154"
             ],
             [
              0.1111111111111111,
              "#482878"
             ],
             [
              0.2222222222222222,
              "#3e4989"
             ],
             [
              0.3333333333333333,
              "#31688e"
             ],
             [
              0.4444444444444444,
              "#26828e"
             ],
             [
              0.5555555555555556,
              "#1f9e89"
             ],
             [
              0.6666666666666666,
              "#35b779"
             ],
             [
              0.7777777777777778,
              "#6ece58"
             ],
             [
              0.8888888888888888,
              "#b5de2b"
             ],
             [
              1,
              "#fde725"
             ]
            ],
            "type": "surface"
           }
          ],
          "table": [
           {
            "cells": {
             "fill": {
              "color": "rgb(237,237,237)"
             },
             "line": {
              "color": "white"
             }
            },
            "header": {
             "fill": {
              "color": "rgb(217,217,217)"
             },
             "line": {
              "color": "white"
             }
            },
            "type": "table"
           }
          ]
         },
         "layout": {
          "annotationdefaults": {
           "arrowhead": 0,
           "arrowwidth": 1
          },
          "autotypenumbers": "strict",
          "coloraxis": {
           "colorbar": {
            "outlinewidth": 1,
            "tickcolor": "rgb(36,36,36)",
            "ticks": "outside"
           }
          },
          "colorscale": {
           "diverging": [
            [
             0,
             "rgb(103,0,31)"
            ],
            [
             0.1,
             "rgb(178,24,43)"
            ],
            [
             0.2,
             "rgb(214,96,77)"
            ],
            [
             0.3,
             "rgb(244,165,130)"
            ],
            [
             0.4,
             "rgb(253,219,199)"
            ],
            [
             0.5,
             "rgb(247,247,247)"
            ],
            [
             0.6,
             "rgb(209,229,240)"
            ],
            [
             0.7,
             "rgb(146,197,222)"
            ],
            [
             0.8,
             "rgb(67,147,195)"
            ],
            [
             0.9,
             "rgb(33,102,172)"
            ],
            [
             1,
             "rgb(5,48,97)"
            ]
           ],
           "sequential": [
            [
             0,
             "#440154"
            ],
            [
             0.1111111111111111,
             "#482878"
            ],
            [
             0.2222222222222222,
             "#3e4989"
            ],
            [
             0.3333333333333333,
             "#31688e"
            ],
            [
             0.4444444444444444,
             "#26828e"
            ],
            [
             0.5555555555555556,
             "#1f9e89"
            ],
            [
             0.6666666666666666,
             "#35b779"
            ],
            [
             0.7777777777777778,
             "#6ece58"
            ],
            [
             0.8888888888888888,
             "#b5de2b"
            ],
            [
             1,
             "#fde725"
            ]
           ],
           "sequentialminus": [
            [
             0,
             "#440154"
            ],
            [
             0.1111111111111111,
             "#482878"
            ],
            [
             0.2222222222222222,
             "#3e4989"
            ],
            [
             0.3333333333333333,
             "#31688e"
            ],
            [
             0.4444444444444444,
             "#26828e"
            ],
            [
             0.5555555555555556,
             "#1f9e89"
            ],
            [
             0.6666666666666666,
             "#35b779"
            ],
            [
             0.7777777777777778,
             "#6ece58"
            ],
            [
             0.8888888888888888,
             "#b5de2b"
            ],
            [
             1,
             "#fde725"
            ]
           ]
          },
          "colorway": [
           "#1F77B4",
           "#FF7F0E",
           "#2CA02C",
           "#D62728",
           "#9467BD",
           "#8C564B",
           "#E377C2",
           "#7F7F7F",
           "#BCBD22",
           "#17BECF"
          ],
          "font": {
           "color": "rgb(36,36,36)"
          },
          "geo": {
           "bgcolor": "white",
           "lakecolor": "white",
           "landcolor": "white",
           "showlakes": true,
           "showland": true,
           "subunitcolor": "white"
          },
          "hoverlabel": {
           "align": "left"
          },
          "hovermode": "closest",
          "mapbox": {
           "style": "light"
          },
          "paper_bgcolor": "white",
          "plot_bgcolor": "white",
          "polar": {
           "angularaxis": {
            "gridcolor": "rgb(232,232,232)",
            "linecolor": "rgb(36,36,36)",
            "showgrid": false,
            "showline": true,
            "ticks": "outside"
           },
           "bgcolor": "white",
           "radialaxis": {
            "gridcolor": "rgb(232,232,232)",
            "linecolor": "rgb(36,36,36)",
            "showgrid": false,
            "showline": true,
            "ticks": "outside"
           }
          },
          "scene": {
           "xaxis": {
            "backgroundcolor": "white",
            "gridcolor": "rgb(232,232,232)",
            "gridwidth": 2,
            "linecolor": "rgb(36,36,36)",
            "showbackground": true,
            "showgrid": false,
            "showline": true,
            "ticks": "outside",
            "zeroline": false,
            "zerolinecolor": "rgb(36,36,36)"
           },
           "yaxis": {
            "backgroundcolor": "white",
            "gridcolor": "rgb(232,232,232)",
            "gridwidth": 2,
            "linecolor": "rgb(36,36,36)",
            "showbackground": true,
            "showgrid": false,
            "showline": true,
            "ticks": "outside",
            "zeroline": false,
            "zerolinecolor": "rgb(36,36,36)"
           },
           "zaxis": {
            "backgroundcolor": "white",
            "gridcolor": "rgb(232,232,232)",
            "gridwidth": 2,
            "linecolor": "rgb(36,36,36)",
            "showbackground": true,
            "showgrid": false,
            "showline": true,
            "ticks": "outside",
            "zeroline": false,
            "zerolinecolor": "rgb(36,36,36)"
           }
          },
          "shapedefaults": {
           "fillcolor": "black",
           "line": {
            "width": 0
           },
           "opacity": 0.3
          },
          "ternary": {
           "aaxis": {
            "gridcolor": "rgb(232,232,232)",
            "linecolor": "rgb(36,36,36)",
            "showgrid": false,
            "showline": true,
            "ticks": "outside"
           },
           "baxis": {
            "gridcolor": "rgb(232,232,232)",
            "linecolor": "rgb(36,36,36)",
            "showgrid": false,
            "showline": true,
            "ticks": "outside"
           },
           "bgcolor": "white",
           "caxis": {
            "gridcolor": "rgb(232,232,232)",
            "linecolor": "rgb(36,36,36)",
            "showgrid": false,
            "showline": true,
            "ticks": "outside"
           }
          },
          "title": {
           "x": 0.05
          },
          "xaxis": {
           "automargin": true,
           "gridcolor": "rgb(232,232,232)",
           "linecolor": "rgb(36,36,36)",
           "showgrid": false,
           "showline": true,
           "ticks": "outside",
           "title": {
            "standoff": 15
           },
           "zeroline": false,
           "zerolinecolor": "rgb(36,36,36)"
          },
          "yaxis": {
           "automargin": true,
           "gridcolor": "rgb(232,232,232)",
           "linecolor": "rgb(36,36,36)",
           "showgrid": false,
           "showline": true,
           "ticks": "outside",
           "title": {
            "standoff": 15
           },
           "zeroline": false,
           "zerolinecolor": "rgb(36,36,36)"
          }
         }
        },
        "title": {
         "text": "Boxplot de Total de Vendas por Categoria"
        },
        "width": 1000,
        "xaxis": {
         "anchor": "y",
         "categoryarray": [
          "Placa-mãe",
          "Processador",
          "Armazenamento",
          "Water cooler",
          "Gabinete",
          "Placa de vídeo",
          "Memória RAM",
          "Fonte",
          "Ventoinha",
          "Cooler a ar"
         ],
         "categoryorder": "array",
         "domain": [
          0,
          1
         ],
         "title": {
          "text": "Categoria"
         }
        },
        "yaxis": {
         "anchor": "x",
         "domain": [
          0,
          1
         ],
         "title": {
          "text": "Total de Vendas"
         }
        }
       }
      }
     },
     "metadata": {},
     "output_type": "display_data"
    }
   ],
   "source": [
    "# Boxplot da variável Total de Vendas por Categoria\n",
    "multi_boxplot(dados,'Categoria','Total de Vendas')"
   ]
  },
  {
   "cell_type": "markdown",
   "id": "2a563928",
   "metadata": {},
   "source": [
    "Ao observar os subgrupos por categoria, percebe-se que a maioria apresenta baixa dispersão.  \n",
    "Exceções: **Placa-mãe** e **Placa de Vídeo**, que apresentam maior dispersão em torno da mediana.  \n",
    "Além disso, **Gabinete** e **Memória RAM** possuem outliers superiores.\n"
   ]
  },
  {
   "cell_type": "markdown",
   "id": "3abd05a8",
   "metadata": {},
   "source": [
    "## Estatísticas Descritivas"
   ]
  },
  {
   "cell_type": "markdown",
   "id": "e14f9376",
   "metadata": {},
   "source": [
    "Nesta etapa, vamos resumir nossas variáveis utilizando medidas descritivas, que incluem:\n",
    "\n",
    "- **Média:** valor médio dos dados, calculado como a soma de todos os valores dividida pelo número de observações.  \n",
    "- **1º Quartil (Q1):** valor abaixo do qual 25% dos dados estão; indica a posição inicial da distribuição.  \n",
    "- **Mediana:** valor central dos dados quando ordenados; divide os dados em duas partes iguais.  \n",
    "- **3º Quartil (Q3):** valor abaixo do qual 75% dos dados estão; indica a posição final da distribuição antes do topo.  \n",
    "- **Desvio Padrão (DP):** mede o quanto os dados se afastam da média; quanto maior, maior a dispersão.  \n",
    "- **Variância:** desvio padrão ao quadrado; também mede dispersão, mas em unidades ao quadrado.  \n",
    "- **Mínimo:** menor valor do conjunto de dados.  \n",
    "- **Máximo:** maior valor do conjunto de dados.  \n",
    "- **Coeficiente de Variação (CV):** razão entre desvio padrão e média; mede a dispersão relativa independente da escala dos dados.\n"
   ]
  },
  {
   "cell_type": "code",
   "execution_count": 181,
   "id": "c69aaf68",
   "metadata": {},
   "outputs": [],
   "source": [
    "def medidas_descritivas(df):\n",
    "    # Calcula as principais estatísticas descritivas para uma 'coluna' numérica.\n",
    "\n",
    "    try:  # Bloco para tratar erros (ex: coluna inexistente, erro de cálculo).\n",
    "\n",
    "        # Cria e retorna um DataFrame com as medidas estatísticas em uma única linha.\n",
    "        return pd.DataFrame([{\n",
    "            \"Coluna\": coluna,\n",
    "            'Média': round(df[coluna].mean(), 2),\n",
    "            '1 quartil': round(df[coluna].quantile(0.25), 2),  # Q1 (25º percentil).\n",
    "            'Mediana': round(df[coluna].median(), 2),          # Q2 (50º percentil).\n",
    "            '3 quartil': round(df[coluna].quantile(0.75), 2),  # Q3 (75º percentil).\n",
    "            'Desvio Padrão': round(df[coluna].std(), 2),\n",
    "            'Variância': round(df[coluna].var(), 2),\n",
    "            'Mínimo': round(df[coluna].min(), 2),\n",
    "            'Máximo': round(df[coluna].max(), 2),\n",
    "            # Coeficiente de Variação (CV): Mede a dispersão relativa (std/mean) em %.\n",
    "            'CV': round(df[coluna].std() / df[coluna].mean() * 100, 2)\n",
    "        }\n",
    "        for coluna in df.select_dtypes(include=['int64','float64']) if coluna != \"id\"])  # Gera o DataFrame para a coluna especificada.\n",
    "\n",
    "    except Exception as e:\n",
    "        print(f\"Erro ao calcular medidas descritivas: {e}\")  # Imprime o erro.\n",
    "        return pd.DataFrame()  # Retorna DataFrame vazio em caso de falha."
   ]
  },
  {
   "cell_type": "markdown",
   "id": "fba31dc6",
   "metadata": {},
   "source": [
    "- Estatísticas descritivas"
   ]
  },
  {
   "cell_type": "code",
   "execution_count": 182,
   "id": "f2e610bc",
   "metadata": {},
   "outputs": [
    {
     "data": {
      "text/html": [
       "<div>\n",
       "<style scoped>\n",
       "    .dataframe tbody tr th:only-of-type {\n",
       "        vertical-align: middle;\n",
       "    }\n",
       "\n",
       "    .dataframe tbody tr th {\n",
       "        vertical-align: top;\n",
       "    }\n",
       "\n",
       "    .dataframe thead th {\n",
       "        text-align: right;\n",
       "    }\n",
       "</style>\n",
       "<table border=\"1\" class=\"dataframe\">\n",
       "  <thead>\n",
       "    <tr style=\"text-align: right;\">\n",
       "      <th></th>\n",
       "      <th>Coluna</th>\n",
       "      <th>Média</th>\n",
       "      <th>1 quartil</th>\n",
       "      <th>Mediana</th>\n",
       "      <th>3 quartil</th>\n",
       "      <th>Desvio Padrão</th>\n",
       "      <th>Variância</th>\n",
       "      <th>Mínimo</th>\n",
       "      <th>Máximo</th>\n",
       "      <th>CV</th>\n",
       "    </tr>\n",
       "  </thead>\n",
       "  <tbody>\n",
       "    <tr>\n",
       "      <th>0</th>\n",
       "      <td>Quantidade</td>\n",
       "      <td>9.86</td>\n",
       "      <td>3.00</td>\n",
       "      <td>6.00</td>\n",
       "      <td>12.00</td>\n",
       "      <td>10.22</td>\n",
       "      <td>1.045100e+02</td>\n",
       "      <td>1.00</td>\n",
       "      <td>52.00</td>\n",
       "      <td>103.67</td>\n",
       "    </tr>\n",
       "    <tr>\n",
       "      <th>1</th>\n",
       "      <td>Preço</td>\n",
       "      <td>1023.35</td>\n",
       "      <td>366.46</td>\n",
       "      <td>565.63</td>\n",
       "      <td>979.32</td>\n",
       "      <td>1342.78</td>\n",
       "      <td>1.803067e+06</td>\n",
       "      <td>50.12</td>\n",
       "      <td>5473.04</td>\n",
       "      <td>131.21</td>\n",
       "    </tr>\n",
       "    <tr>\n",
       "      <th>2</th>\n",
       "      <td>Total de Vendas</td>\n",
       "      <td>8625.95</td>\n",
       "      <td>1157.67</td>\n",
       "      <td>3075.60</td>\n",
       "      <td>9896.12</td>\n",
       "      <td>13110.41</td>\n",
       "      <td>1.718827e+08</td>\n",
       "      <td>250.60</td>\n",
       "      <td>65676.48</td>\n",
       "      <td>151.99</td>\n",
       "    </tr>\n",
       "  </tbody>\n",
       "</table>\n",
       "</div>"
      ],
      "text/plain": [
       "            Coluna    Média  1 quartil  Mediana  3 quartil  Desvio Padrão  \\\n",
       "0       Quantidade     9.86       3.00     6.00      12.00          10.22   \n",
       "1            Preço  1023.35     366.46   565.63     979.32        1342.78   \n",
       "2  Total de Vendas  8625.95    1157.67  3075.60    9896.12       13110.41   \n",
       "\n",
       "      Variância  Mínimo    Máximo      CV  \n",
       "0  1.045100e+02    1.00     52.00  103.67  \n",
       "1  1.803067e+06   50.12   5473.04  131.21  \n",
       "2  1.718827e+08  250.60  65676.48  151.99  "
      ]
     },
     "execution_count": 182,
     "metadata": {},
     "output_type": "execute_result"
    }
   ],
   "source": [
    "medidas_descritivas(dados)  # Calcula e exibe as medidas descritivas para todas as colunas numéricas."
   ]
  },
  {
   "cell_type": "markdown",
   "id": "8016a375",
   "metadata": {},
   "source": [
    "- **Quantidade**  \n",
    "A média é 9,86 unidades e a mediana é 6, indicando que metade das vendas está concentrada em valores menores.  \n",
    "O coeficiente de variação (CV) de 103,67% indica alta variabilidade, e o valor máximo de 52 confirma a presença de registros muito acima da média.\n",
    "\n",
    "- **Preço**  \n",
    "A média é R$ 1.023,35, enquanto a mediana é R$ 565,63, evidenciando assimetria à direita, com alguns produtos muito caros elevando a média.  \n",
    "O CV de 131,21% demonstra grande dispersão, com preços variando entre R$ 50,12 e R$ 5.473,04.\n",
    "\n",
    "- **Total de Vendas**  \n",
    "A média é R$ 8.625,95, mas a mediana é R$ 3.075,60, indicando forte assimetria.  \n",
    "O CV de 151,99% mostra altíssima variabilidade, e o valor máximo de R$ 65.676,48 reforça a presença de outliers.\n"
   ]
  },
  {
   "cell_type": "markdown",
   "id": "30cdf05f",
   "metadata": {},
   "source": [
    "## Assimetria, Curtose e Normalidade dos Dados"
   ]
  },
  {
   "cell_type": "markdown",
   "id": "c1bbbb49",
   "metadata": {},
   "source": [
    "Durante o teste de normalidade, observou-se que **nenhuma variável segue uma distribuição normal**.  \n",
    "Portanto, será utilizado o **teste de correlação de Spearman** para avaliar a relação entre as variáveis."
   ]
  },
  {
   "cell_type": "markdown",
   "id": "37500180",
   "metadata": {},
   "source": [
    "### Assimetria e Curtose\n",
    "\n",
    "- **Assimetria (Skewness):** mede o grau de simetria da distribuição dos dados.  \n",
    "  - Valor próximo de 0: distribuição simétrica.  \n",
    "  - Valor positivo: cauda direita mais longa (assimetria à direita).  \n",
    "  - Valor negativo: cauda esquerda mais longa (assimetria à esquerda).  \n",
    "\n",
    "- **Curtose (Kurtosis):** mede o “achatamento” ou “pontiagudez” da distribuição.  \n",
    "  - Curtose ≈ 3: distribuição normal (mesocúrtica).  \n",
    "  - Curtose > 3: caudas mais pesadas e pico mais alto (leptocúrtica).  \n",
    "  - Curtose < 3: distribuição mais achatada, caudas mais leves (platicúrtica).  \n",
    "\n"
   ]
  },
  {
   "cell_type": "code",
   "execution_count": 183,
   "id": "27df9e8b",
   "metadata": {},
   "outputs": [],
   "source": [
    "def Tabela_assimetria(df) -> pd.DataFrame:\n",
    "    # Calcula e retorna Assimetria (Skewness) e Curtose (Kurtosis) para colunas numéricas.\n",
    "\n",
    "    try:  # Inicia tratamento de erros (ex: DataFrame vazio, sem colunas numéricas).\n",
    "\n",
    "        # Cria um DataFrame iterando apenas sobre colunas de tipo numérico.\n",
    "        return pd.DataFrame([\n",
    "            {\n",
    "                'Coluna': coluna,\n",
    "                'Assimetria': df[coluna].skew(),     # Mede a falta de simetria na distribuição.\n",
    "                'Curtose': df[coluna].kurtosis()     # Mede o \"peso\" das caudas e o pico da distribuição.\n",
    "            }\n",
    "            # Itera sobre colunas numéricas, excluindo a coluna 'id' se existir.\n",
    "            for coluna in df.select_dtypes(include=['number']).columns\n",
    "            if coluna != 'id'\n",
    "        ])\n",
    "\n",
    "    except Exception as e:\n",
    "        print(f\"Erro ao calcular assimetria e curtose: {e}\")  # Reporta o erro.\n",
    "        return pd.DataFrame()  # Retorna DataFrame vazio em caso de falha."
   ]
  },
  {
   "cell_type": "code",
   "execution_count": 184,
   "id": "ff4581bd",
   "metadata": {},
   "outputs": [
    {
     "data": {
      "text/html": [
       "<div>\n",
       "<style scoped>\n",
       "    .dataframe tbody tr th:only-of-type {\n",
       "        vertical-align: middle;\n",
       "    }\n",
       "\n",
       "    .dataframe tbody tr th {\n",
       "        vertical-align: top;\n",
       "    }\n",
       "\n",
       "    .dataframe thead th {\n",
       "        text-align: right;\n",
       "    }\n",
       "</style>\n",
       "<table border=\"1\" class=\"dataframe\">\n",
       "  <thead>\n",
       "    <tr style=\"text-align: right;\">\n",
       "      <th></th>\n",
       "      <th>Coluna</th>\n",
       "      <th>Assimetria</th>\n",
       "      <th>Curtose</th>\n",
       "    </tr>\n",
       "  </thead>\n",
       "  <tbody>\n",
       "    <tr>\n",
       "      <th>0</th>\n",
       "      <td>Quantidade</td>\n",
       "      <td>1.849813</td>\n",
       "      <td>3.578481</td>\n",
       "    </tr>\n",
       "    <tr>\n",
       "      <th>1</th>\n",
       "      <td>Preço</td>\n",
       "      <td>2.414902</td>\n",
       "      <td>4.926838</td>\n",
       "    </tr>\n",
       "    <tr>\n",
       "      <th>2</th>\n",
       "      <td>Total de Vendas</td>\n",
       "      <td>2.735461</td>\n",
       "      <td>8.230734</td>\n",
       "    </tr>\n",
       "  </tbody>\n",
       "</table>\n",
       "</div>"
      ],
      "text/plain": [
       "            Coluna  Assimetria   Curtose\n",
       "0       Quantidade    1.849813  3.578481\n",
       "1            Preço    2.414902  4.926838\n",
       "2  Total de Vendas    2.735461  8.230734"
      ]
     },
     "execution_count": 184,
     "metadata": {},
     "output_type": "execute_result"
    }
   ],
   "source": [
    "Tabela_assimetria(dados) # Exibe a tabela de Assimetria e Curtose para colunas numéricas."
   ]
  },
  {
   "cell_type": "markdown",
   "id": "62450b78",
   "metadata": {},
   "source": [
    "Através da tabela, observa-se que todas as variáveis apresentam assimetria acima de zero, indicando cauda direita mais longa.  \n",
    "Além disso, todas possuem curtose acima de 3, ou seja, suas distribuições não são platicúrticas; apresentam caudas mais pesadas e picos mais altos.  \n",
    "\n",
    "A seguir, serão exibidos os histogramas das variáveis.\n"
   ]
  },
  {
   "cell_type": "code",
   "execution_count": 185,
   "id": "d859c25d",
   "metadata": {},
   "outputs": [],
   "source": [
    "# Gráfico de linhas para a variável Quantidade ao longo do tempo\n",
    "import plotly.figure_factory as ff"
   ]
  },
  {
   "cell_type": "code",
   "execution_count": 186,
   "id": "b4538f09",
   "metadata": {},
   "outputs": [],
   "source": [
    "def histograma(df, coluna, nbins=10):\n",
    "    # Gera um histograma com curva de densidade (Distplot) para a 'coluna'.\n",
    "\n",
    "    try:  # Inicia tratamento de erros \n",
    "\n",
    "        hist_data = [df[coluna].dropna()]  # Prepara os dados: lista da série sem valores nulos.\n",
    "        group_labels = [coluna]  # Define o rótulo da série de dados.\n",
    "\n",
    "        # Cria o Distplot\n",
    "        bin_calc = (df[coluna].max() - df[coluna].min()) / nbins # Cálculo do tamanho da barra.\n",
    "        fig = ff.create_distplot(hist_data,\n",
    "                                 group_labels,\n",
    "                                 bin_size=bin_calc,\n",
    "                                 show_rug=False, # Oculta o gráfico de dispersão na base.\n",
    "                                 colors=[\"#040D8A\"])\n",
    "\n",
    "        # Define o layout e o tema do gráfico.\n",
    "        fig.update_layout(title_text=f'Histograma de {coluna}',\n",
    "                          width=800,\n",
    "                          height=620,\n",
    "                          template=\"simple_white\")\n",
    "\n",
    "        fig.show()  # Exibe o gráfico interativo.\n",
    "\n",
    "    except Exception as e:\n",
    "        print(f\"Erro ao criar o histograma: {e}\") # Reporta o erro."
   ]
  },
  {
   "cell_type": "code",
   "execution_count": 187,
   "id": "ba02cf08",
   "metadata": {},
   "outputs": [
    {
     "data": {
      "application/vnd.plotly.v1+json": {
       "config": {
        "plotlyServerURL": "https://plot.ly"
       },
       "data": [
        {
         "autobinx": false,
         "histnorm": "probability density",
         "legendgroup": "Quantidade",
         "marker": {
          "color": "#040D8A"
         },
         "name": "Quantidade",
         "opacity": 0.7,
         "type": "histogram",
         "x": [
          2,
          1,
          5,
          2,
          3,
          39,
          12,
          2,
          52,
          23,
          1,
          22,
          4,
          25,
          17,
          21,
          5,
          13,
          3,
          1,
          18,
          7,
          7,
          21,
          1,
          2,
          2,
          5,
          3,
          7,
          2,
          9,
          7,
          12,
          6,
          26,
          25,
          5,
          5,
          1,
          2,
          6,
          18,
          29,
          5,
          7,
          8,
          3,
          8,
          2,
          1,
          7,
          6,
          1,
          7,
          32,
          5,
          12,
          5,
          4,
          4,
          5,
          7,
          3,
          6,
          37,
          6,
          5,
          19,
          7,
          18,
          4,
          12,
          8,
          8,
          6,
          28,
          3,
          1
         ],
         "xaxis": "x",
         "xbins": {
          "end": 52,
          "size": 2.55,
          "start": 1
         },
         "yaxis": "y"
        },
        {
         "legendgroup": "Quantidade",
         "marker": {
          "color": "#040D8A"
         },
         "mode": "lines",
         "name": "Quantidade",
         "showlegend": false,
         "type": "scatter",
         "x": [
          1,
          1.102,
          1.204,
          1.306,
          1.408,
          1.51,
          1.612,
          1.714,
          1.8159999999999998,
          1.9180000000000001,
          2.02,
          2.122,
          2.224,
          2.326,
          2.428,
          2.5300000000000002,
          2.6319999999999997,
          2.734,
          2.8360000000000003,
          2.9379999999999997,
          3.04,
          3.142,
          3.244,
          3.346,
          3.448,
          3.55,
          3.652,
          3.754,
          3.856,
          3.958,
          4.0600000000000005,
          4.162,
          4.263999999999999,
          4.366,
          4.468,
          4.57,
          4.672000000000001,
          4.774,
          4.8759999999999994,
          4.978,
          5.08,
          5.182,
          5.284,
          5.386,
          5.488,
          5.59,
          5.692,
          5.794,
          5.896,
          5.998,
          6.1,
          6.202,
          6.304,
          6.406,
          6.508,
          6.61,
          6.712,
          6.814,
          6.916,
          7.018,
          7.12,
          7.222,
          7.324,
          7.426,
          7.528,
          7.63,
          7.732,
          7.834,
          7.936,
          8.038,
          8.14,
          8.242,
          8.344000000000001,
          8.446,
          8.548,
          8.65,
          8.751999999999999,
          8.854,
          8.956,
          9.058,
          9.16,
          9.262,
          9.364,
          9.466,
          9.568,
          9.67,
          9.772,
          9.874,
          9.976,
          10.078,
          10.18,
          10.282,
          10.384,
          10.486,
          10.588,
          10.69,
          10.792,
          10.894,
          10.996,
          11.098,
          11.2,
          11.302,
          11.404,
          11.506,
          11.608,
          11.71,
          11.812,
          11.914,
          12.016,
          12.118,
          12.22,
          12.322,
          12.424,
          12.526,
          12.628,
          12.73,
          12.832,
          12.934,
          13.036,
          13.138,
          13.24,
          13.342,
          13.444,
          13.546,
          13.648,
          13.75,
          13.852,
          13.954,
          14.056,
          14.158,
          14.26,
          14.362,
          14.464,
          14.566,
          14.668,
          14.77,
          14.872,
          14.974,
          15.076,
          15.178,
          15.28,
          15.382,
          15.484,
          15.586,
          15.688,
          15.79,
          15.892,
          15.994,
          16.096,
          16.198,
          16.3,
          16.402,
          16.503999999999998,
          16.606,
          16.708,
          16.810000000000002,
          16.912,
          17.014,
          17.116,
          17.218,
          17.32,
          17.422,
          17.524,
          17.626,
          17.728,
          17.83,
          17.932,
          18.034,
          18.136,
          18.238,
          18.34,
          18.442,
          18.544,
          18.646,
          18.748,
          18.85,
          18.952,
          19.054,
          19.156,
          19.258,
          19.36,
          19.462,
          19.564,
          19.666,
          19.768,
          19.87,
          19.972,
          20.074,
          20.176,
          20.278,
          20.38,
          20.482,
          20.584,
          20.686,
          20.788,
          20.89,
          20.992,
          21.094,
          21.196,
          21.298,
          21.4,
          21.502,
          21.604,
          21.706,
          21.808,
          21.91,
          22.012,
          22.114,
          22.216,
          22.318,
          22.42,
          22.522,
          22.624,
          22.726,
          22.828,
          22.93,
          23.032,
          23.134,
          23.236,
          23.338,
          23.44,
          23.542,
          23.644,
          23.746,
          23.848,
          23.95,
          24.052,
          24.154,
          24.256,
          24.358,
          24.46,
          24.562,
          24.664,
          24.766,
          24.868,
          24.97,
          25.072,
          25.174,
          25.276,
          25.378,
          25.48,
          25.582,
          25.684,
          25.786,
          25.888,
          25.99,
          26.092,
          26.194,
          26.296,
          26.398,
          26.5,
          26.602,
          26.704,
          26.806,
          26.908,
          27.01,
          27.112,
          27.214,
          27.316,
          27.418,
          27.52,
          27.622,
          27.724,
          27.826,
          27.928,
          28.03,
          28.132,
          28.234,
          28.336,
          28.438,
          28.54,
          28.642,
          28.744,
          28.846,
          28.948,
          29.05,
          29.152,
          29.254,
          29.356,
          29.458,
          29.56,
          29.662,
          29.764,
          29.866,
          29.968,
          30.07,
          30.172,
          30.274,
          30.376,
          30.478,
          30.58,
          30.682,
          30.784,
          30.886,
          30.988,
          31.09,
          31.192,
          31.294,
          31.396,
          31.498,
          31.6,
          31.702,
          31.804,
          31.906,
          32.007999999999996,
          32.11,
          32.212,
          32.314,
          32.416,
          32.518,
          32.620000000000005,
          32.722,
          32.824,
          32.926,
          33.028,
          33.13,
          33.232,
          33.334,
          33.436,
          33.538,
          33.64,
          33.742,
          33.844,
          33.946,
          34.048,
          34.15,
          34.252,
          34.354,
          34.456,
          34.558,
          34.66,
          34.762,
          34.864,
          34.966,
          35.068,
          35.17,
          35.272,
          35.374,
          35.476,
          35.578,
          35.68,
          35.782,
          35.884,
          35.986,
          36.088,
          36.19,
          36.292,
          36.394,
          36.496,
          36.598,
          36.7,
          36.802,
          36.904,
          37.006,
          37.108,
          37.21,
          37.312,
          37.414,
          37.516,
          37.618,
          37.72,
          37.822,
          37.924,
          38.026,
          38.128,
          38.23,
          38.332,
          38.434,
          38.536,
          38.638,
          38.74,
          38.842,
          38.944,
          39.046,
          39.148,
          39.25,
          39.352,
          39.454,
          39.556,
          39.658,
          39.76,
          39.862,
          39.964,
          40.066,
          40.168,
          40.27,
          40.372,
          40.474,
          40.576,
          40.678,
          40.78,
          40.882,
          40.984,
          41.086,
          41.188,
          41.29,
          41.392,
          41.494,
          41.596,
          41.698,
          41.8,
          41.902,
          42.004,
          42.106,
          42.208,
          42.31,
          42.412,
          42.514,
          42.616,
          42.718,
          42.82,
          42.922,
          43.024,
          43.126,
          43.228,
          43.33,
          43.432,
          43.534,
          43.636,
          43.738,
          43.84,
          43.942,
          44.044,
          44.146,
          44.248,
          44.35,
          44.452,
          44.554,
          44.656,
          44.758,
          44.86,
          44.962,
          45.064,
          45.166,
          45.268,
          45.37,
          45.472,
          45.574,
          45.676,
          45.778,
          45.88,
          45.982,
          46.084,
          46.186,
          46.288,
          46.39,
          46.492,
          46.594,
          46.696,
          46.798,
          46.9,
          47.002,
          47.104,
          47.206,
          47.308,
          47.41,
          47.512,
          47.614,
          47.716,
          47.818,
          47.92,
          48.022,
          48.124,
          48.226,
          48.328,
          48.43,
          48.532,
          48.634,
          48.736,
          48.838,
          48.94,
          49.042,
          49.144,
          49.246,
          49.348,
          49.45,
          49.552,
          49.654,
          49.756,
          49.858,
          49.96,
          50.062,
          50.164,
          50.266,
          50.368,
          50.47,
          50.572,
          50.674,
          50.776,
          50.878,
          50.98,
          51.082,
          51.184,
          51.286,
          51.388,
          51.49,
          51.592,
          51.694,
          51.796,
          51.898
         ],
         "xaxis": "x",
         "y": [
          0.04553824498219428,
          0.04619250887563804,
          0.04683643136170813,
          0.04746937599197363,
          0.04809071358854312,
          0.04869982332674619,
          0.049296093809579146,
          0.04987892413143057,
          0.05044772492862278,
          0.05100191941433006,
          0.05154094439546989,
          0.05206425126919968,
          0.052571306996699325,
          0.05306159505196966,
          0.053534616343435384,
          0.053989890106202594,
          0.05442695476289142,
          0.05484536875103487,
          0.05524471131511779,
          0.05562458326140918,
          0.05598460767383134,
          0.05632443058920293,
          0.05664372163028599,
          0.0569421745951716,
          0.057219508001638886,
          0.0574754655852334,
          0.057709816749917965,
          0.05792235697026486,
          0.05811290814427272,
          0.05828131889601127,
          0.05842746482741499,
          0.05855124871867146,
          0.058652600676772026,
          0.058731478231917746,
          0.058787866381598275,
          0.05882177758228934,
          0.058833251688839135,
          0.058822355841741336,
          0.058789184302618244,
          0.05873385823836379,
          0.05865652545451947,
          0.05855736007858037,
          0.05843656219405059,
          0.05829435742618549,
          0.058130996480477294,
          0.05794675463505449,
          0.057741931188278375,
          0.05751684886292672,
          0.0572718531684627,
          0.05700731172298539,
          0.05672361353655723,
          0.05642116825769449,
          0.056100405384896516,
          0.05576177344516874,
          0.0554057391415745,
          0.055032786471919504,
          0.054643415820738964,
          0.054238143026816406,
          0.05381749842851414,
          0.05338202588924336,
          0.052932281805438165,
          0.05246883409943111,
          0.05199226119965208,
          0.051503151010588756,
          0.05100209987495767,
          0.05048971153053662,
          0.04996659606410377,
          0.049433368864917185,
          0.04889064958014622,
          0.048339061074641546,
          0.04777922839739247,
          0.04721177775698067,
          0.046637335508289114,
          0.04605652715266874,
          0.04546997635370379,
          0.04487830397064711,
          0.04428212711152168,
          0.04368205820780433,
          0.04307870411252123,
          0.04247266522349312,
          0.04186453463337313,
          0.0412548973080195,
          0.04064432929464142,
          0.04003339696104997,
          0.039422656267234624,
          0.03881265207037436,
          0.038203917464277946,
          0.03759697315413127,
          0.03699232686731401,
          0.036390472800929864,
          0.035791891106577885,
          0.03519704741277607,
          0.03460639238533231,
          0.03402036132584449,
          0.033439373808398905,
          0.032863833354427364,
          0.032294127145575224,
          0.03173062577433089,
          0.031173683032065257,
          0.030623635734035537,
          0.030080803580814355,
          0.029545489055519025,
          0.02901797735613282,
          0.02849853636213251,
          0.02798741663456482,
          0.02748485144864669,
          0.026991056857903713,
          0.026506231788804596,
          0.0260305581647997,
          0.025564201058626907,
          0.02510730887170948,
          0.02466001353943686,
          0.024222430761091974,
          0.023794660253165796,
          0.023376786024783224,
          0.022968876673952227,
          0.022570985703341012,
          0.022183151854286137,
          0.021805399457736224,
          0.021437738800843122,
          0.02108016650792211,
          0.0207326659345182,
          0.020395207573332207,
          0.020067749470782423,
          0.019750237653000862,
          0.01944260656009024,
          0.019144779487496336,
          0.01885666903338177,
          0.01857817755091971,
          0.018309197604460193,
          0.018049612428557623,
          0.017799296388883862,
          0.017558115444088952,
          0.017325927607708555,
          0.017102583409255658,
          0.01688792635367146,
          0.016681793378348384,
          0.016484015306975592,
          0.01629441729949426,
          0.016112819297486466,
          0.015939036464356994,
          0.015772879619702487,
          0.015614155667296261,
          0.015462668016150403,
          0.015318216994148145,
          0.015180600253771872,
          0.01504961316948069,
          0.014925049226321582,
          0.014806700399385905,
          0.014694357523749545,
          0.014587810654561984,
          0.014486849416973768,
          0.014391263345617208,
          0.014300842213377823,
          0.014215376349217395,
          0.014134656944831701,
          0.014058476349947476,
          0.013986628356084283,
          0.013918908468628087,
          0.013855114167083064,
          0.013795045153389088,
          0.013738503588211335,
          0.013685294315129305,
          0.013635225072670785,
          0.013588106694157304,
          0.013543753295346243,
          0.013501982449874677,
          0.01346261535252959,
          0.013425476970388981,
          0.0133903961818977,
          0.013357205903962117,
          0.01332574320716705,
          0.013295849419238842,
          0.013267370216897325,
          0.013240155706260371,
          0.013214060491983426,
          0.013188943735336075,
          0.01316466920143756,
          0.013141105295891143,
          0.013118125091076804,
          0.013095606342379088,
          0.013073431494645087,
          0.01305148767918449,
          0.01302966670163954,
          0.013007865021069025,
          0.012985983720604563,
          0.012963928470051223,
          0.012941609480817785,
          0.012918941453573005,
          0.012895843519034856,
          0.012872239172309275,
          0.012848056201202466,
          0.01282322660893762,
          0.012797686531711844,
          0.012771376151533181,
          0.012744239604779621,
          0.012716224886922457,
          0.012687283753856027,
          0.012657371620273482,
          0.012626447455523986,
          0.012594473677381769,
          0.012561416044150618,
          0.01252724354551875,
          0.01249192829256951,
          0.01245544540734235,
          0.01241777291232554,
          0.012378891620249228,
          0.012338785024531484,
          0.012297439190715163,
          0.012254842649215168,
          0.012210986289678741,
          0.012165863257241921,
          0.012119468850945957,
          0.012071800424557364,
          0.012022857290014186,
          0.011972640623700426,
          0.011921153375728253,
          0.011868400182386597,
          0.01181438728189256,
          0.01175912243356005,
          0.011702614840478576,
          0.011644875075773506,
          0.011585915012497491,
          0.011525747757182602,
          0.011464387587061534,
          0.011401849890946943,
          0.011338151113739144,
          0.011273308704512913,
          0.011207341068117964,
          0.01114026752020996,
          0.011072108245613554,
          0.011002884259904299,
          0.010932617374082243,
          0.010861330162197659,
          0.010789045931777654,
          0.010715788696892095,
          0.010641583153687947,
          0.010566454658213122,
          0.010490429206343972,
          0.010413533415624818,
          0.010335794508823328,
          0.01025724029900214,
          0.010177899175904833,
          0.010097800093453053,
          0.010016972558151671,
          0.009935446618199636,
          0.009853252853106356,
          0.009770422363615899,
          0.00968698676174593,
          0.009602978160752198,
          0.00951842916483568,
          0.009433372858415423,
          0.009347842794797476,
          0.009261872984077898,
          0.009175497880126483,
          0.009088752366506683,
          0.009001671741196779,
          0.00891429169998734,
          0.008826648318440477,
          0.00873877803230709,
          0.008650717616309353,
          0.008562504161207286,
          0.008474175049079343,
          0.008385767926759182,
          0.00829732067738225,
          0.008208871390007784,
          0.008120458327293915,
          0.008032119891215259,
          0.007943894586824434,
          0.007855820984070536,
          0.007767937677699467,
          0.007680283245272172,
          0.0075928962033485325,
          0.007505814961895448,
          0.007419077776988513,
          0.007332722701887242,
          0.007246787536574212,
          0.00716130977585794,
          0.007076326556149366,
          0.006991874601030666,
          0.006907990165743769,
          0.00682470898073482,
          0.006742066194397961,
          0.006660096315169845,
          0.006578833153132906,
          0.00649830976129197,
          0.006418558376694509,
          0.006339610361570507,
          0.006261496144672297,
          0.006184245162999357,
          0.00610788580409625,
          0.006032445349115277,
          0.005957949916837408,
          0.0058844244088470865,
          0.00581189245605732,
          0.005740376366781906,
          0.005669897076551408,
          0.005600474099868275,
          0.005532125484094969,
          0.005464867765666201,
          0.005398715928813538,
          0.0053336833669862995,
          0.005269781847148183,
          0.00520702147712363,
          0.0051454106761615334,
          0.005084956148877167,
          0.005025662862725393,
          0.004967534029149795,
          0.004910571088543258,
          0.004854773699145714,
          0.004800139729994078,
          0.004746665258028427,
          0.004694344569446317,
          0.0046431701653850506,
          0.004593132771998321,
          0.004544221354980283,
          0.004496423138576008,
          0.004449723629102595,
          0.004404106642990566,
          0.004359554339339442,
          0.004316047256966296,
          0.004273564355909782,
          0.0042320830633364144,
          0.004191579323779604,
          0.004152027653625797,
          0.004113401199745896,
          0.004075671802154001,
          0.004038810060559735,
          0.0040027854046645675,
          0.003967566168037297,
          0.003933119665388811,
          0.0038994122730518035,
          0.003866409512457048,
          0.0038340761363845044,
          0.003802376217754877,
          0.003771273240715237,
          0.0037407301937612955,
          0.0037107096646285765,
          0.003681173936675548,
          0.0036520850864734476,
          0.0036234050823103305,
          0.0035950958833106937,
          0.0035671195388671914,
          0.0035394382880770117,
          0.0035120146588730823,
          0.003484811566538839,
          0.0034577924112952864,
          0.003430921174650362,
          0.0034041625142030283,
          0.003377481856598415,
          0.0033508454883353486,
          0.0033242206441340175,
          0.0032975755925790367,
          0.003270879718762042,
          0.003244103603657857,
          0.0032172190999795536,
          0.0031901994042696784,
          0.003163019124998404,
          0.003135654346453501,
          0.003108082688222105,
          0.0030802833600802756,
          0.003052237212123095,
          0.003023926779985384,
          0.002995336325021208,
          0.0029664518693287645,
          0.002937261225526298,
          0.002907754021203793,
          0.0028779217179948397,
          0.0028477576252325548,
          0.0028172569081732,
          0.0027864165907906897,
          0.0027552355531646556,
          0.0027237145235039215,
          0.00269185606486615,
          0.002659664556652814,
          0.0026271461709766342,
          0.0025943088440158824,
          0.0025611622424866775,
          0.0025277177253802898,
          0.0024939883011275334,
          0.0024599885803665796,
          0.0024257347245037718,
          0.0023912443902693254,
          0.0023565366704810208,
          0.0023216320312392106,
          0.002286552245785509,
          0.0022513203252654567,
          0.002215960446642292,
          0.002180497878014594,
          0.0021449589015949816,
          0.0021093707346104495,
          0.0020737614483870466,
          0.0020381598858826336,
          0.0020025955779314746,
          0.0019670986584631274,
          0.0019316997789560805,
          0.0018964300223832055,
          0.0018613208169021983,
          0.001826403849538817,
          0.001791710980105149,
          0.0017572741555882,
          0.0017231253252367707,
          0.0016892963565665671,
          0.001655818952494626,
          0.001622724569805119,
          0.0015900443391387656,
          0.0015578089866881124,
          0.0015260487577704914,
          0.0014947933424398758,
          0.0014640718032879918,
          0.0014339125055741774,
          0.0014043430498123994,
          0.0013753902069330115,
          0.0013470798561258138,
          0.0013194369254603295,
          0.0012924853353686032,
          0.0012662479450654808,
          0.001240746501971341,
          0.0012160015941924786,
          0.0011920326061050114,
          0.0011688576770791995,
          0.0011464936633725383,
          0.0011249561032118372,
          0.0011042591850769308,
          0.0010844157191913933,
          0.0010654371122190028,
          0.0010473333451584373,
          0.0010301129544229624,
          0.0010137830160865927,
          0.00099834913327336,
          0.00098381542666199,
          0.0009701845280742921,
          0.0009574575771120524,
          0.0009456342208039904,
          0.0009347126162215418,
          0.0009246894360196911,
          0.000915559876856819,
          0.0009073176706455644,
          0.0008999550985848676,
          0.0008934630079217876,
          0.0008878308313901692,
          0.0008830466092718823,
          0.0008790970140250084,
          0.0008759673774220848,
          0.000873641720140191,
          0.0008721027837433409,
          0.000871332064996237,
          0.000871309852446912,
          0.0008720152652141951,
          0.0008734262939141331,
          0.0008755198436575712,
          0.0008782717790489924,
          0.0008816569711143972,
          0.0008856493460834952,
          0.0008902219359487876,
          0.0008953469307211949,
          0.0009009957322987708,
          0.0009071390098617479,
          0.000913746756703671,
          0.0009207883484047154,
          0.0009282326022495109,
          0.0009360478377878431,
          0.0009442019384326203,
          0.0009526624139853607,
          0.0009613964639753911,
          0.0009703710416947424,
          0.0009795529188067241,
          0.0009889087504020505,
          0.000998405140372536,
          0.001008008706968615,
          0.001017686148403348,
          0.0010274043083622925,
          0.0010371302412755298,
          0.0010468312772054559,
          0.0010564750862015434,
          0.0010660297419713505,
          0.0010754637847155061,
          0.0010847462829733725,
          0.0010938468943255354,
          0.0011027359247992965,
          0.0011113843868238655,
          0.0011197640555831664,
          0.001127847523615909,
          0.001135608253514994,
          0.001143020628581357,
          0.0011500600012910574,
          0.001156702739438772,
          0.0011629262698258376,
          0.0011687091193666739,
          0.001174030953493658,
          0.0011788726117474932,
          0.00118321614044759,
          0.0011870448223450965,
          0.0011903432031698813,
          0.0011930971149919137,
          0.0011952936963271943,
          0.0011969214089284541,
          0.001197970051211356,
          0.001198430768277811,
          0.0011982960585091647
         ],
         "yaxis": "y"
        }
       ],
       "layout": {
        "barmode": "overlay",
        "height": 620,
        "hovermode": "closest",
        "legend": {
         "traceorder": "reversed"
        },
        "template": {
         "data": {
          "bar": [
           {
            "error_x": {
             "color": "rgb(36,36,36)"
            },
            "error_y": {
             "color": "rgb(36,36,36)"
            },
            "marker": {
             "line": {
              "color": "white",
              "width": 0.5
             },
             "pattern": {
              "fillmode": "overlay",
              "size": 10,
              "solidity": 0.2
             }
            },
            "type": "bar"
           }
          ],
          "barpolar": [
           {
            "marker": {
             "line": {
              "color": "white",
              "width": 0.5
             },
             "pattern": {
              "fillmode": "overlay",
              "size": 10,
              "solidity": 0.2
             }
            },
            "type": "barpolar"
           }
          ],
          "carpet": [
           {
            "aaxis": {
             "endlinecolor": "rgb(36,36,36)",
             "gridcolor": "white",
             "linecolor": "white",
             "minorgridcolor": "white",
             "startlinecolor": "rgb(36,36,36)"
            },
            "baxis": {
             "endlinecolor": "rgb(36,36,36)",
             "gridcolor": "white",
             "linecolor": "white",
             "minorgridcolor": "white",
             "startlinecolor": "rgb(36,36,36)"
            },
            "type": "carpet"
           }
          ],
          "choropleth": [
           {
            "colorbar": {
             "outlinewidth": 1,
             "tickcolor": "rgb(36,36,36)",
             "ticks": "outside"
            },
            "type": "choropleth"
           }
          ],
          "contour": [
           {
            "colorbar": {
             "outlinewidth": 1,
             "tickcolor": "rgb(36,36,36)",
             "ticks": "outside"
            },
            "colorscale": [
             [
              0,
              "#440154"
             ],
             [
              0.1111111111111111,
              "#482878"
             ],
             [
              0.2222222222222222,
              "#3e4989"
             ],
             [
              0.3333333333333333,
              "#31688e"
             ],
             [
              0.4444444444444444,
              "#26828e"
             ],
             [
              0.5555555555555556,
              "#1f9e89"
             ],
             [
              0.6666666666666666,
              "#35b779"
             ],
             [
              0.7777777777777778,
              "#6ece58"
             ],
             [
              0.8888888888888888,
              "#b5de2b"
             ],
             [
              1,
              "#fde725"
             ]
            ],
            "type": "contour"
           }
          ],
          "contourcarpet": [
           {
            "colorbar": {
             "outlinewidth": 1,
             "tickcolor": "rgb(36,36,36)",
             "ticks": "outside"
            },
            "type": "contourcarpet"
           }
          ],
          "heatmap": [
           {
            "colorbar": {
             "outlinewidth": 1,
             "tickcolor": "rgb(36,36,36)",
             "ticks": "outside"
            },
            "colorscale": [
             [
              0,
              "#440154"
             ],
             [
              0.1111111111111111,
              "#482878"
             ],
             [
              0.2222222222222222,
              "#3e4989"
             ],
             [
              0.3333333333333333,
              "#31688e"
             ],
             [
              0.4444444444444444,
              "#26828e"
             ],
             [
              0.5555555555555556,
              "#1f9e89"
             ],
             [
              0.6666666666666666,
              "#35b779"
             ],
             [
              0.7777777777777778,
              "#6ece58"
             ],
             [
              0.8888888888888888,
              "#b5de2b"
             ],
             [
              1,
              "#fde725"
             ]
            ],
            "type": "heatmap"
           }
          ],
          "heatmapgl": [
           {
            "colorbar": {
             "outlinewidth": 1,
             "tickcolor": "rgb(36,36,36)",
             "ticks": "outside"
            },
            "colorscale": [
             [
              0,
              "#440154"
             ],
             [
              0.1111111111111111,
              "#482878"
             ],
             [
              0.2222222222222222,
              "#3e4989"
             ],
             [
              0.3333333333333333,
              "#31688e"
             ],
             [
              0.4444444444444444,
              "#26828e"
             ],
             [
              0.5555555555555556,
              "#1f9e89"
             ],
             [
              0.6666666666666666,
              "#35b779"
             ],
             [
              0.7777777777777778,
              "#6ece58"
             ],
             [
              0.8888888888888888,
              "#b5de2b"
             ],
             [
              1,
              "#fde725"
             ]
            ],
            "type": "heatmapgl"
           }
          ],
          "histogram": [
           {
            "marker": {
             "line": {
              "color": "white",
              "width": 0.6
             }
            },
            "type": "histogram"
           }
          ],
          "histogram2d": [
           {
            "colorbar": {
             "outlinewidth": 1,
             "tickcolor": "rgb(36,36,36)",
             "ticks": "outside"
            },
            "colorscale": [
             [
              0,
              "#440154"
             ],
             [
              0.1111111111111111,
              "#482878"
             ],
             [
              0.2222222222222222,
              "#3e4989"
             ],
             [
              0.3333333333333333,
              "#31688e"
             ],
             [
              0.4444444444444444,
              "#26828e"
             ],
             [
              0.5555555555555556,
              "#1f9e89"
             ],
             [
              0.6666666666666666,
              "#35b779"
             ],
             [
              0.7777777777777778,
              "#6ece58"
             ],
             [
              0.8888888888888888,
              "#b5de2b"
             ],
             [
              1,
              "#fde725"
             ]
            ],
            "type": "histogram2d"
           }
          ],
          "histogram2dcontour": [
           {
            "colorbar": {
             "outlinewidth": 1,
             "tickcolor": "rgb(36,36,36)",
             "ticks": "outside"
            },
            "colorscale": [
             [
              0,
              "#440154"
             ],
             [
              0.1111111111111111,
              "#482878"
             ],
             [
              0.2222222222222222,
              "#3e4989"
             ],
             [
              0.3333333333333333,
              "#31688e"
             ],
             [
              0.4444444444444444,
              "#26828e"
             ],
             [
              0.5555555555555556,
              "#1f9e89"
             ],
             [
              0.6666666666666666,
              "#35b779"
             ],
             [
              0.7777777777777778,
              "#6ece58"
             ],
             [
              0.8888888888888888,
              "#b5de2b"
             ],
             [
              1,
              "#fde725"
             ]
            ],
            "type": "histogram2dcontour"
           }
          ],
          "mesh3d": [
           {
            "colorbar": {
             "outlinewidth": 1,
             "tickcolor": "rgb(36,36,36)",
             "ticks": "outside"
            },
            "type": "mesh3d"
           }
          ],
          "parcoords": [
           {
            "line": {
             "colorbar": {
              "outlinewidth": 1,
              "tickcolor": "rgb(36,36,36)",
              "ticks": "outside"
             }
            },
            "type": "parcoords"
           }
          ],
          "pie": [
           {
            "automargin": true,
            "type": "pie"
           }
          ],
          "scatter": [
           {
            "fillpattern": {
             "fillmode": "overlay",
             "size": 10,
             "solidity": 0.2
            },
            "type": "scatter"
           }
          ],
          "scatter3d": [
           {
            "line": {
             "colorbar": {
              "outlinewidth": 1,
              "tickcolor": "rgb(36,36,36)",
              "ticks": "outside"
             }
            },
            "marker": {
             "colorbar": {
              "outlinewidth": 1,
              "tickcolor": "rgb(36,36,36)",
              "ticks": "outside"
             }
            },
            "type": "scatter3d"
           }
          ],
          "scattercarpet": [
           {
            "marker": {
             "colorbar": {
              "outlinewidth": 1,
              "tickcolor": "rgb(36,36,36)",
              "ticks": "outside"
             }
            },
            "type": "scattercarpet"
           }
          ],
          "scattergeo": [
           {
            "marker": {
             "colorbar": {
              "outlinewidth": 1,
              "tickcolor": "rgb(36,36,36)",
              "ticks": "outside"
             }
            },
            "type": "scattergeo"
           }
          ],
          "scattergl": [
           {
            "marker": {
             "colorbar": {
              "outlinewidth": 1,
              "tickcolor": "rgb(36,36,36)",
              "ticks": "outside"
             }
            },
            "type": "scattergl"
           }
          ],
          "scattermapbox": [
           {
            "marker": {
             "colorbar": {
              "outlinewidth": 1,
              "tickcolor": "rgb(36,36,36)",
              "ticks": "outside"
             }
            },
            "type": "scattermapbox"
           }
          ],
          "scatterpolar": [
           {
            "marker": {
             "colorbar": {
              "outlinewidth": 1,
              "tickcolor": "rgb(36,36,36)",
              "ticks": "outside"
             }
            },
            "type": "scatterpolar"
           }
          ],
          "scatterpolargl": [
           {
            "marker": {
             "colorbar": {
              "outlinewidth": 1,
              "tickcolor": "rgb(36,36,36)",
              "ticks": "outside"
             }
            },
            "type": "scatterpolargl"
           }
          ],
          "scatterternary": [
           {
            "marker": {
             "colorbar": {
              "outlinewidth": 1,
              "tickcolor": "rgb(36,36,36)",
              "ticks": "outside"
             }
            },
            "type": "scatterternary"
           }
          ],
          "surface": [
           {
            "colorbar": {
             "outlinewidth": 1,
             "tickcolor": "rgb(36,36,36)",
             "ticks": "outside"
            },
            "colorscale": [
             [
              0,
              "#440154"
             ],
             [
              0.1111111111111111,
              "#482878"
             ],
             [
              0.2222222222222222,
              "#3e4989"
             ],
             [
              0.3333333333333333,
              "#31688e"
             ],
             [
              0.4444444444444444,
              "#26828e"
             ],
             [
              0.5555555555555556,
              "#1f9e89"
             ],
             [
              0.6666666666666666,
              "#35b779"
             ],
             [
              0.7777777777777778,
              "#6ece58"
             ],
             [
              0.8888888888888888,
              "#b5de2b"
             ],
             [
              1,
              "#fde725"
             ]
            ],
            "type": "surface"
           }
          ],
          "table": [
           {
            "cells": {
             "fill": {
              "color": "rgb(237,237,237)"
             },
             "line": {
              "color": "white"
             }
            },
            "header": {
             "fill": {
              "color": "rgb(217,217,217)"
             },
             "line": {
              "color": "white"
             }
            },
            "type": "table"
           }
          ]
         },
         "layout": {
          "annotationdefaults": {
           "arrowhead": 0,
           "arrowwidth": 1
          },
          "autotypenumbers": "strict",
          "coloraxis": {
           "colorbar": {
            "outlinewidth": 1,
            "tickcolor": "rgb(36,36,36)",
            "ticks": "outside"
           }
          },
          "colorscale": {
           "diverging": [
            [
             0,
             "rgb(103,0,31)"
            ],
            [
             0.1,
             "rgb(178,24,43)"
            ],
            [
             0.2,
             "rgb(214,96,77)"
            ],
            [
             0.3,
             "rgb(244,165,130)"
            ],
            [
             0.4,
             "rgb(253,219,199)"
            ],
            [
             0.5,
             "rgb(247,247,247)"
            ],
            [
             0.6,
             "rgb(209,229,240)"
            ],
            [
             0.7,
             "rgb(146,197,222)"
            ],
            [
             0.8,
             "rgb(67,147,195)"
            ],
            [
             0.9,
             "rgb(33,102,172)"
            ],
            [
             1,
             "rgb(5,48,97)"
            ]
           ],
           "sequential": [
            [
             0,
             "#440154"
            ],
            [
             0.1111111111111111,
             "#482878"
            ],
            [
             0.2222222222222222,
             "#3e4989"
            ],
            [
             0.3333333333333333,
             "#31688e"
            ],
            [
             0.4444444444444444,
             "#26828e"
            ],
            [
             0.5555555555555556,
             "#1f9e89"
            ],
            [
             0.6666666666666666,
             "#35b779"
            ],
            [
             0.7777777777777778,
             "#6ece58"
            ],
            [
             0.8888888888888888,
             "#b5de2b"
            ],
            [
             1,
             "#fde725"
            ]
           ],
           "sequentialminus": [
            [
             0,
             "#440154"
            ],
            [
             0.1111111111111111,
             "#482878"
            ],
            [
             0.2222222222222222,
             "#3e4989"
            ],
            [
             0.3333333333333333,
             "#31688e"
            ],
            [
             0.4444444444444444,
             "#26828e"
            ],
            [
             0.5555555555555556,
             "#1f9e89"
            ],
            [
             0.6666666666666666,
             "#35b779"
            ],
            [
             0.7777777777777778,
             "#6ece58"
            ],
            [
             0.8888888888888888,
             "#b5de2b"
            ],
            [
             1,
             "#fde725"
            ]
           ]
          },
          "colorway": [
           "#1F77B4",
           "#FF7F0E",
           "#2CA02C",
           "#D62728",
           "#9467BD",
           "#8C564B",
           "#E377C2",
           "#7F7F7F",
           "#BCBD22",
           "#17BECF"
          ],
          "font": {
           "color": "rgb(36,36,36)"
          },
          "geo": {
           "bgcolor": "white",
           "lakecolor": "white",
           "landcolor": "white",
           "showlakes": true,
           "showland": true,
           "subunitcolor": "white"
          },
          "hoverlabel": {
           "align": "left"
          },
          "hovermode": "closest",
          "mapbox": {
           "style": "light"
          },
          "paper_bgcolor": "white",
          "plot_bgcolor": "white",
          "polar": {
           "angularaxis": {
            "gridcolor": "rgb(232,232,232)",
            "linecolor": "rgb(36,36,36)",
            "showgrid": false,
            "showline": true,
            "ticks": "outside"
           },
           "bgcolor": "white",
           "radialaxis": {
            "gridcolor": "rgb(232,232,232)",
            "linecolor": "rgb(36,36,36)",
            "showgrid": false,
            "showline": true,
            "ticks": "outside"
           }
          },
          "scene": {
           "xaxis": {
            "backgroundcolor": "white",
            "gridcolor": "rgb(232,232,232)",
            "gridwidth": 2,
            "linecolor": "rgb(36,36,36)",
            "showbackground": true,
            "showgrid": false,
            "showline": true,
            "ticks": "outside",
            "zeroline": false,
            "zerolinecolor": "rgb(36,36,36)"
           },
           "yaxis": {
            "backgroundcolor": "white",
            "gridcolor": "rgb(232,232,232)",
            "gridwidth": 2,
            "linecolor": "rgb(36,36,36)",
            "showbackground": true,
            "showgrid": false,
            "showline": true,
            "ticks": "outside",
            "zeroline": false,
            "zerolinecolor": "rgb(36,36,36)"
           },
           "zaxis": {
            "backgroundcolor": "white",
            "gridcolor": "rgb(232,232,232)",
            "gridwidth": 2,
            "linecolor": "rgb(36,36,36)",
            "showbackground": true,
            "showgrid": false,
            "showline": true,
            "ticks": "outside",
            "zeroline": false,
            "zerolinecolor": "rgb(36,36,36)"
           }
          },
          "shapedefaults": {
           "fillcolor": "black",
           "line": {
            "width": 0
           },
           "opacity": 0.3
          },
          "ternary": {
           "aaxis": {
            "gridcolor": "rgb(232,232,232)",
            "linecolor": "rgb(36,36,36)",
            "showgrid": false,
            "showline": true,
            "ticks": "outside"
           },
           "baxis": {
            "gridcolor": "rgb(232,232,232)",
            "linecolor": "rgb(36,36,36)",
            "showgrid": false,
            "showline": true,
            "ticks": "outside"
           },
           "bgcolor": "white",
           "caxis": {
            "gridcolor": "rgb(232,232,232)",
            "linecolor": "rgb(36,36,36)",
            "showgrid": false,
            "showline": true,
            "ticks": "outside"
           }
          },
          "title": {
           "x": 0.05
          },
          "xaxis": {
           "automargin": true,
           "gridcolor": "rgb(232,232,232)",
           "linecolor": "rgb(36,36,36)",
           "showgrid": false,
           "showline": true,
           "ticks": "outside",
           "title": {
            "standoff": 15
           },
           "zeroline": false,
           "zerolinecolor": "rgb(36,36,36)"
          },
          "yaxis": {
           "automargin": true,
           "gridcolor": "rgb(232,232,232)",
           "linecolor": "rgb(36,36,36)",
           "showgrid": false,
           "showline": true,
           "ticks": "outside",
           "title": {
            "standoff": 15
           },
           "zeroline": false,
           "zerolinecolor": "rgb(36,36,36)"
          }
         }
        },
        "title": {
         "text": "Histograma de Quantidade"
        },
        "width": 800,
        "xaxis": {
         "anchor": "y2",
         "domain": [
          0,
          1
         ],
         "zeroline": false
        },
        "yaxis": {
         "anchor": "free",
         "domain": [
          0,
          1
         ],
         "position": 0
        }
       }
      }
     },
     "metadata": {},
     "output_type": "display_data"
    }
   ],
   "source": [
    "# Plotando o histograma para a variável Quantidade\n",
    "histograma(dados, 'Quantidade', nbins=20)"
   ]
  },
  {
   "cell_type": "code",
   "execution_count": 188,
   "id": "a14b83f9",
   "metadata": {},
   "outputs": [
    {
     "data": {
      "application/vnd.plotly.v1+json": {
       "config": {
        "plotlyServerURL": "https://plot.ly"
       },
       "data": [
        {
         "autobinx": false,
         "histnorm": "probability density",
         "legendgroup": "Preço",
         "marker": {
          "color": "#040D8A"
         },
         "name": "Preço",
         "opacity": 0.7,
         "type": "histogram",
         "x": [
          1263.57,
          1938.78,
          444.64,
          440.26,
          1657.05,
          250.35,
          958.81,
          5412.77,
          565.63,
          316.68,
          2421.11,
          936.03,
          587.83,
          999.83,
          411.41,
          949.79,
          1209.48,
          4191.46,
          1798.47,
          696.2,
          1253.09,
          692.69,
          90.72,
          1069.32,
          641.13,
          550.65,
          356.68,
          168.26,
          569.99,
          466.25,
          387.06,
          119.45,
          4768.01,
          468.23,
          293.93,
          577.36,
          452.3,
          615.12,
          5275.22,
          1707.57,
          629.76,
          59.51,
          324.72,
          469.51,
          75.22,
          663.82,
          376.23,
          491.05,
          82.82,
          577.23,
          385.59,
          222.58,
          4732.64,
          656.71,
          1346.74,
          347.42,
          50.12,
          5473.04,
          60.61,
          785.35,
          463.81,
          585.94,
          165.84,
          2054.2,
          1036.01,
          506.78,
          595.06,
          419.31,
          527.82,
          238.51,
          378.08,
          505.58,
          5159.9,
          673.89,
          57.45,
          137.91,
          342.85,
          674.18,
          537.49
         ],
         "xaxis": "x",
         "xbins": {
          "end": 5473.04,
          "size": 271.146,
          "start": 50.12
         },
         "yaxis": "y"
        },
        {
         "legendgroup": "Preço",
         "marker": {
          "color": "#040D8A"
         },
         "mode": "lines",
         "name": "Preço",
         "showlegend": false,
         "type": "scatter",
         "x": [
          50.12,
          60.96584,
          71.81168,
          82.65752,
          93.50336,
          104.3492,
          115.19504,
          126.04088000000002,
          136.88672,
          147.73256,
          158.5784,
          169.42424,
          180.27008,
          191.11592000000002,
          201.96176000000003,
          212.8076,
          223.65344000000002,
          234.49928,
          245.34512,
          256.19095999999996,
          267.03679999999997,
          277.88264,
          288.72848,
          299.57432,
          310.42016,
          321.266,
          332.11184000000003,
          342.95768,
          353.80352000000005,
          364.64936,
          375.4952,
          386.34103999999996,
          397.18688000000003,
          408.03272000000004,
          418.87856,
          429.7244,
          440.57024,
          451.41608,
          462.26192,
          473.10776000000004,
          483.9536,
          494.79944,
          505.64528,
          516.49112,
          527.33696,
          538.1827999999999,
          549.02864,
          559.87448,
          570.72032,
          581.5661600000001,
          592.412,
          603.25784,
          614.10368,
          624.94952,
          635.79536,
          646.6411999999999,
          657.4870400000001,
          668.33288,
          679.17872,
          690.0245600000001,
          700.8704,
          711.71624,
          722.5620799999999,
          733.40792,
          744.25376,
          755.0996,
          765.9454400000001,
          776.79128,
          787.63712,
          798.4829599999999,
          809.3288,
          820.1746400000001,
          831.02048,
          841.8663200000001,
          852.71216,
          863.558,
          874.40384,
          885.24968,
          896.0955200000001,
          906.94136,
          917.7872,
          928.63304,
          939.47888,
          950.32472,
          961.17056,
          972.0164,
          982.86224,
          993.70808,
          1004.5539200000001,
          1015.39976,
          1026.2456,
          1037.09144,
          1047.9372799999999,
          1058.78312,
          1069.62896,
          1080.4748,
          1091.32064,
          1102.1664799999999,
          1113.01232,
          1123.8581599999998,
          1134.704,
          1145.54984,
          1156.3956799999999,
          1167.2415199999998,
          1178.08736,
          1188.9332,
          1199.77904,
          1210.62488,
          1221.4707199999998,
          1232.31656,
          1243.1623999999997,
          1254.00824,
          1264.85408,
          1275.6999199999998,
          1286.54576,
          1297.3916,
          1308.2374399999999,
          1319.0832799999998,
          1329.92912,
          1340.77496,
          1351.6208,
          1362.46664,
          1373.3124799999998,
          1384.15832,
          1395.0041599999997,
          1405.85,
          1416.6958399999999,
          1427.5416799999998,
          1438.38752,
          1449.23336,
          1460.0792,
          1470.9250399999999,
          1481.77088,
          1492.6167199999998,
          1503.46256,
          1514.3084,
          1525.1542399999998,
          1536.00008,
          1546.8459199999998,
          1557.69176,
          1568.5375999999999,
          1579.3834399999998,
          1590.22928,
          1601.07512,
          1611.92096,
          1622.7667999999999,
          1633.61264,
          1644.4584799999998,
          1655.30432,
          1666.15016,
          1676.9959999999999,
          1687.84184,
          1698.6876799999998,
          1709.53352,
          1720.37936,
          1731.2251999999999,
          1742.07104,
          1752.91688,
          1763.76272,
          1774.60856,
          1785.4543999999999,
          1796.3002399999998,
          1807.14608,
          1817.9919199999997,
          1828.83776,
          1839.6836,
          1850.5294399999998,
          1861.37528,
          1872.22112,
          1883.0669599999999,
          1893.9127999999998,
          1904.75864,
          1915.60448,
          1926.45032,
          1937.2961599999999,
          1948.1419999999998,
          1958.98784,
          1969.8336799999997,
          1980.67952,
          1991.52536,
          2002.3711999999998,
          2013.21704,
          2024.06288,
          2034.90872,
          2045.7545599999999,
          2056.6004000000003,
          2067.44624,
          2078.29208,
          2089.13792,
          2099.98376,
          2110.8296,
          2121.67544,
          2132.52128,
          2143.36712,
          2154.21296,
          2165.0588,
          2175.90464,
          2186.7504799999997,
          2197.5963199999997,
          2208.44216,
          2219.288,
          2230.13384,
          2240.97968,
          2251.82552,
          2262.67136,
          2273.5172000000002,
          2284.3630399999997,
          2295.2088799999997,
          2306.05472,
          2316.90056,
          2327.7464,
          2338.59224,
          2349.43808,
          2360.28392,
          2371.1297600000003,
          2381.9755999999998,
          2392.8214399999997,
          2403.66728,
          2414.51312,
          2425.35896,
          2436.2047999999995,
          2447.05064,
          2457.89648,
          2468.74232,
          2479.5881600000002,
          2490.4339999999997,
          2501.2798399999997,
          2512.12568,
          2522.97152,
          2533.8173599999996,
          2544.6632,
          2555.50904,
          2566.35488,
          2577.2007200000003,
          2588.0465599999998,
          2598.8923999999997,
          2609.73824,
          2620.58408,
          2631.42992,
          2642.27576,
          2653.1216,
          2663.96744,
          2674.8132800000003,
          2685.65912,
          2696.5049599999998,
          2707.3507999999997,
          2718.19664,
          2729.04248,
          2739.8883199999996,
          2750.73416,
          2761.58,
          2772.42584,
          2783.27168,
          2794.11752,
          2804.9633599999997,
          2815.8092,
          2826.65504,
          2837.5008799999996,
          2848.34672,
          2859.19256,
          2870.0384,
          2880.8842400000003,
          2891.73008,
          2902.5759199999998,
          2913.42176,
          2924.2676,
          2935.1134399999996,
          2945.95928,
          2956.80512,
          2967.65096,
          2978.4968,
          2989.34264,
          3000.18848,
          3011.0343199999998,
          3021.88016,
          3032.726,
          3043.5718399999996,
          3054.41768,
          3065.26352,
          3076.10936,
          3086.9552,
          3097.80104,
          3108.64688,
          3119.49272,
          3130.33856,
          3141.1843999999996,
          3152.03024,
          3162.87608,
          3173.72192,
          3184.56776,
          3195.4136,
          3206.25944,
          3217.10528,
          3227.95112,
          3238.7969599999997,
          3249.6427999999996,
          3260.48864,
          3271.33448,
          3282.18032,
          3293.02616,
          3303.872,
          3314.71784,
          3325.56368,
          3336.4095199999997,
          3347.2553599999997,
          3358.1012,
          3368.94704,
          3379.79288,
          3390.63872,
          3401.48456,
          3412.3304,
          3423.1762400000002,
          3434.02208,
          3444.8679199999997,
          3455.71376,
          3466.5596,
          3477.40544,
          3488.25128,
          3499.09712,
          3509.94296,
          3520.7888,
          3531.63464,
          3542.4804799999997,
          3553.3263199999997,
          3564.17216,
          3575.018,
          3585.8638399999995,
          3596.70968,
          3607.55552,
          3618.40136,
          3629.2472000000002,
          3640.0930399999997,
          3650.9388799999997,
          3661.78472,
          3672.63056,
          3683.4764,
          3694.32224,
          3705.16808,
          3716.01392,
          3726.8597600000003,
          3737.7056,
          3748.5514399999997,
          3759.39728,
          3770.24312,
          3781.08896,
          3791.9348,
          3802.78064,
          3813.62648,
          3824.47232,
          3835.3181600000003,
          3846.1639999999998,
          3857.0098399999997,
          3867.85568,
          3878.70152,
          3889.5473599999996,
          3900.3932,
          3911.23904,
          3922.08488,
          3932.9307200000003,
          3943.77656,
          3954.6223999999997,
          3965.46824,
          3976.31408,
          3987.1599199999996,
          3998.00576,
          4008.8516,
          4019.69744,
          4030.5432800000003,
          4041.38912,
          4052.23496,
          4063.0808,
          4073.92664,
          4084.77248,
          4095.6183199999996,
          4106.46416,
          4117.31,
          4128.15584,
          4139.00168,
          4149.84752,
          4160.69336,
          4171.5392,
          4182.38504,
          4193.23088,
          4204.07672,
          4214.92256,
          4225.7684,
          4236.61424,
          4247.46008,
          4258.30592,
          4269.15176,
          4279.9976,
          4290.843440000001,
          4301.6892800000005,
          4312.53512,
          4323.3809599999995,
          4334.2267999999995,
          4345.072639999999,
          4355.91848,
          4366.76432,
          4377.61016,
          4388.456,
          4399.30184,
          4410.14768,
          4420.99352,
          4431.83936,
          4442.6852,
          4453.53104,
          4464.37688,
          4475.22272,
          4486.068560000001,
          4496.914400000001,
          4507.7602400000005,
          4518.60608,
          4529.4519199999995,
          4540.2977599999995,
          4551.143599999999,
          4561.98944,
          4572.83528,
          4583.68112,
          4594.52696,
          4605.3728,
          4616.218639999999,
          4627.06448,
          4637.91032,
          4648.75616,
          4659.602,
          4670.44784,
          4681.29368,
          4692.139520000001,
          4702.985360000001,
          4713.8312,
          4724.67704,
          4735.5228799999995,
          4746.3687199999995,
          4757.21456,
          4768.0604,
          4778.90624,
          4789.75208,
          4800.59792,
          4811.44376,
          4822.289599999999,
          4833.13544,
          4843.98128,
          4854.82712,
          4865.67296,
          4876.5188,
          4887.36464,
          4898.210480000001,
          4909.056320000001,
          4919.90216,
          4930.748,
          4941.59384,
          4952.4396799999995,
          4963.28552,
          4974.13136,
          4984.9772,
          4995.82304,
          5006.66888,
          5017.514719999999,
          5028.36056,
          5039.2064,
          5050.05224,
          5060.89808,
          5071.74392,
          5082.58976,
          5093.4356,
          5104.281440000001,
          5115.12728,
          5125.97312,
          5136.81896,
          5147.6648,
          5158.5106399999995,
          5169.35648,
          5180.20232,
          5191.04816,
          5201.894,
          5212.73984,
          5223.585679999999,
          5234.43152,
          5245.27736,
          5256.1232,
          5266.96904,
          5277.81488,
          5288.66072,
          5299.506560000001,
          5310.352400000001,
          5321.19824,
          5332.04408,
          5342.88992,
          5353.73576,
          5364.5815999999995,
          5375.42744,
          5386.27328,
          5397.11912,
          5407.96496,
          5418.810799999999,
          5429.656639999999,
          5440.50248,
          5451.34832,
          5462.19416
         ],
         "xaxis": "x",
         "y": [
          0.00040912484970387337,
          0.000414076926601136,
          0.0004189609958157617,
          0.0004237734278434398,
          0.000428510625890881,
          0.0004331690307176677,
          0.0004377451254629174,
          0.00044223544044738356,
          0.00044663655794158343,
          0.0004509451168905289,
          0.0004551578175856595,
          0.0004592714262746205,
          0.00046328277969957793,
          0.00046718878955487433,
          0.0004709864468549227,
          0.0004746728262033837,
          0.0004782450899548351,
          0.00048170049226031573,
          0.0004850363829883482,
          0.0004882502115132674,
          0.0004913395303629354,
          0.0004943019987182054,
          0.0004971353857567819,
          0.0004998375738344514,
          0.0005024065614969859,
          0.0005048404663163811,
          0.0005071375275454561,
          0.0005092961085852402,
          0.00051131469925996,
          0.0005131919178948776,
          0.0005149265131926464,
          0.000516517365904299,
          0.0005179634902914409,
          0.0005192640353766804,
          0.0005204182859797981,
          0.000521425663537644,
          0.0005222857267062218,
          0.0005229981717439217,
          0.0005235628326753427,
          0.0005239796812356445,
          0.0005242488265958521,
          0.0005243705148700368,
          0.000524345128405772,
          0.0005241731848597556,
          0.0005238553360609592,
          0.0005233923666641333,
          0.0005227851925969654,
          0.0005220348593046319,
          0.000521142539795924,
          0.0005201095324955596,
          0.0005189372589077022,
          0.0005176272610961088,
          0.0005161811989867109,
          0.0005146008474988011,
          0.00051288809351134,
          0.0005110449326712344,
          0.0005090734660507505,
          0.0005069758966614987,
          0.0005047545258327211,
          0.0005024117494618338,
          0.0004999500541454239,
          0.0004973720131990833,
          0.0004946802825746586,
          0.0004918775966836365,
          0.0004889667641355281,
          0.00048595066340021597,
          0.0004828322384033147,
          0.0004796144940636604,
          0.0004763004917820696,
          0.000472893344890536,
          0.00046939621407100747,
          0.0004658123027528652,
          0.00046214485249815887,
          0.0004583971383835796,
          0.0004545724643880491,
          0.0004506741587946786,
          0.00044670556961571195,
          0.00044267006004889846,
          0.0004385710039735664,
          0.0004344117814944544,
          0.0004301957745411531,
          0.0004259263625307612,
          0.0004216069181011195,
          0.0004172408029217066,
          0.00041283136358901383,
          0.0004083819276129121,
          0.0004038957995002236,
          0.0003993762569413938,
          0.00039482654710583365,
          0.00039024988305116546,
          0.0003856494402512671,
          0.0003810283532476573,
          0.00037638971242841496,
          0.00037173656093846447,
          0.0003670718917246973,
          0.0003623986447190428,
          0.0003577197041622281,
          0.00035303789607061474,
          0.00034835598584812363,
          0.0003436766760449148,
          0.0003390026042641141,
          0.0003343363412175432,
          0.00032968038893104536,
          0.00032503717909966817,
          0.00032040907159262616,
          0.0003157983531076318,
          0.00031120723597387155,
          0.00030663785710259296,
          0.0003020922770839566,
          0.00029757247942853064,
          0.0002930803699515161,
          0.00028861777629752135,
          0.00028418644760345627,
          0.00027978805429686155,
          0.00027542418802676264,
          0.00027109636172391826,
          0.00026680600978712436,
          0.0002625544883920454,
          0.000258343075918864,
          0.00025417297349487753,
          0.0002500453056480136,
          0.0002459611210671068,
          0.00024192139346464986,
          0.000237927022537623,
          0.00023397883502191658,
          0.0002300775858357677,
          0.00022622395930757715,
          0.00022241857048340425,
          0.00021866196650940556,
          0.0002149546280844472,
          0.00021129697097810625,
          0.0002076893476092725,
          0.00020413204868056456,
          0.00020062530486379936,
          0.0001971692885317761,
          0.00019376411553168228,
          0.0001904098469954734,
          0.00018710649118264358,
          0.00018385400535086765,
          0.00018065229765007717,
          0.00017750122903561832,
          0.00017440061519623148,
          0.00017135022849269378,
          0.00016834979990307556,
          0.00016539902097067566,
          0.000162497545750815,
          0.000159644992752803,
          0.00015684094687351048,
          0.00015408496131912285,
          0.0001513765595117857,
          0.0001487152369779914,
          0.00014610046321570185,
          0.00014353168353735028,
          0.00014100832088600787,
          0.00013852977762215618,
          0.00013609543727864925,
          0.00013370466628161008,
          0.00013135681563514493,
          0.00012905122256792035,
          0.00012678721213978933,
          0.000124564098806809,
          0.00012238118794313343,
          0.00012023777731841571,
          0.00011813315852949516,
          0.00011606661838528622,
          0.00011403744024392859,
          0.00011204490530138874,
          0.00011008829383084134,
          0.00010816688637228547,
          0.00010627996487197861,
          0.00010442681377139419,
          0.00010260672104552626,
          0.00010081897919048074,
          0.00009906288616040358,
          0.00009733774625390183,
          0.00009564287095021732,
          0.00009397757969550796,
          0.00009234120063968878,
          0.0000907330713243689,
          0.0000891525393225089,
          0.0000875989628304997,
          0.00008607171121344047,
          0.000084570165504462,
          0.00008309371885900895,
          0.00008164177696505405,
          0.00008021375841027309,
          0.00007880909500726403,
          0.0000774272320779368,
          0.00007606762869824623,
          0.00007472975790447852,
          0.00007341310686233289,
          0.00007211717700007436,
          0.00007084148410705603,
          0.00006958555839893215,
          0.00006834894455090096,
          0.00006713120170033093,
          0.00006593190342013279,
          0.00006475063766424884,
          0.0000635870066866315,
          0.00006244062693508709,
          0.00006131112892135247,
          0.0000601981570687715,
          0.000059101369538924934,
          0.00005802043803855835,
          0.0000569550476081367,
          0.00005590489639333721,
          0.000054869695400775164,
          0.00005384916823923186,
          0.00005284305084763466,
          0.000051851091211010894,
          0.00005087304906561033,
          0.00004990869559436431,
          0.00004895781311381657,
          0.00004802019475363023,
          0.000047095644129743605,
          0.000046183975012211134,
          0.000045285010988732416,
          0.00004439858512483662,
          0.00004352453962165104,
          0.00004266272547214796,
          0.0000418130021167238,
          0.0000409752370989285,
          0.00004014930572212359,
          0.000039335090707808305,
          0.000038532481856316624,
          0.000037741375710547014,
          0.00003696167522334974,
          0.000036193289429158344,
          0.00003543613312041258,
          0.000034690126529284305,
          0.00003395519501517893,
          0.0000332312687584501,
          0.000032518282460727296,
          0.000031816175052222136,
          0.00003112488940634418,
          0.000030444372061921388,
          0.000029774572953290782,
          0.000029115445148488093,
          0.000028466944595737205,
          0.000027829029878408786,
          0.000027201661978586008,
          0.000026584804049350793,
          0.000025978421195871737,
          0.00002538248026535267,
          0.00002479694964587196,
          0.000024221799074121363,
          0.00002365699945202751,
          0.000023102522672218277,
          0.00002255834145227578,
          0.000022024429177696008,
          0.000021500759753458724,
          0.000020987307464091477,
          0.000020484046842096522,
          0.000019990952544593346,
          0.000019507999238015446,
          0.000019035161490686437,
          0.000018572413673089047,
          0.00001811972986562858,
          0.00001767708377368342,
          0.000017244448649725433,
          0.000016821797222284844,
          0.000016409101631528315,
          0.00001600633337121161,
          0.000015613463236763582,
          0.000015230461279254697,
          0.0000148572967649984,
          0.000014493938140532752,
          0.00001414035300272696,
          0.00001379650807375749,
          0.000013462369180697342,
          0.000013137901239463593,
          0.000012823068242869264,
          0.000012517833252527379,
          0.000012222158394358365,
          0.000011936004857454488,
          0.000011659332896059153,
          0.000011392101834423571,
          0.000011134270074307286,
          0.000010885795104895728,
          0.000010646633514912068,
          0.000010416741006708206,
          0.000010196072412125597,
          0.000009984581709923477,
          0.00000978222204457939,
          0.000009588945746274113,
          0.00000940470435188092,
          0.000009229448626786813,
          0.000009063128587381307,
          0.000008905693524056641,
          0.000008757092024571119,
          0.000008617271997636173,
          0.000008486180696595356,
          0.00000836376474307222,
          0.000008249970150472176,
          0.000008144742347231685,
          0.000008048026199716082,
          0.000007959766034675836,
          0.000007879905661178155,
          0.000007808388391939545,
          0.00000774515706399147,
          0.000007690154058619537,
          0.000007643321320522945,
          0.000007604600376148313,
          0.000007573932351158386,
          0.00000755125798700242,
          0.000007536517656561159,
          0.000007529651378844886,
          0.0000075305988327284555,
          0.000007539299369712281,
          0.000007555692025702818,
          0.000007579715531810572,
          0.000007611308324167373,
          0.000007650408552768637,
          0.00000769695408934901,
          0.000007750882534303268,
          0.000007812131222666294,
          0.000007880637229168345,
          0.000007956337372383602,
          0.000008039168217991071,
          0.000008129066081168404,
          0.00000822596702813936,
          0.000008329806876896513,
          0.000008440521197120346,
          0.000008558045309316063,
          0.000008682314283188356,
          0.000008813262935274009,
          0.000008950825825850723,
          0.000009094937255139474,
          0.000009245531258815665,
          0.000009402541602843329,
          0.000009565901777643666,
          0.000009735544991607896,
          0.000009911404163961803,
          0.000010093411916986587,
          0.000010281500567599088,
          0.000010475602118290862,
          0.000010675648247423743,
          0.000010881570298876537,
          0.00001109329927103508,
          0.000011310765805115407,
          0.000011533900172806888,
          0.000011762632263220519,
          0.000011996891569124384,
          0.000012236607172446868,
          0.000012481707729026111,
          0.000012732121452581749,
          0.00001298777609788446,
          0.000013248598943096389,
          0.000013514516771255297,
          0.000013785455850873851,
          0.000014061341915625009,
          0.000014342100143084764,
          0.00001462765513250239,
          0.000014917930881569884,
          0.000015212850762162761,
          0.000015512337495024708,
          0.000015816313123371015,
          0.000016124698985387176,
          0.00001643741568560092,
          0.00001675438306510918,
          0.000017075520170643895,
          0.000017400745222464202,
          0.000017729975581066245,
          0.000018063127712705947,
          0.000018400117153734783,
          0.000018740858473752592,
          0.000019085265237588323,
          0.0000194332499661234,
          0.000019784724095979112,
          0.000020139597938096326,
          0.000020497780635240488,
          0.00002085918011847362,
          0.000021223703062640875,
          0.00002159125484092682,
          0.00002196173947854429,
          0.00002233505960562571,
          0.000022711116409396174,
          0.000023089809585713195,
          0.000023471037290068294,
          0.000023854696088152975,
          0.000024240680906099155,
          0.00002462888498051388,
          0.000025019199808434665,
          0.00002541151509734166,
          0.0000258057187153695,
          0.000026201696641870047,
          0.000026599332918486247,
          0.000026998509600902595,
          0.000027399106711447275,
          0.000027801002192726866,
          0.00002820407186248163,
          0.000028608189369856142,
          0.000029013226153285462,
          0.00002941905140020351,
          0.000029825532008784963,
          0.000030232532551936382,
          0.00003063991524375795,
          0.00003104753990869897,
          0.000031455263953634845,
          0.00003186294234309485,
          0.00003227042757787237,
          0.00003267756967725011,
          0.00003308421616507309,
          0.000033490212059902874,
          0.000033895399869483845,
          0.00003429961958975253,
          0.00003470270870861652,
          0.00003510450221472744,
          0.00003550483261146782,
          0.00003590352993636631,
          0.000036300421786150224,
          0.00003669533334763782,
          0.00003708808743466452,
          0.00003747850453122875,
          0.000037866402841034774,
          0.000038251598343598826,
          0.00003863390485707323,
          0.00003901313410793277,
          0.00003938909580765387,
          0.00003976159773650345,
          0.00004013044583454,
          0.00004049544429991516,
          0.000040856395694546956,
          0.00004121310105721899,
          0.000041565360024144644,
          0.00004191297095701447,
          0.00004225573107852769,
          0.000042593436615390297,
          0.000042925882948740245,
          0.000043252864771941595,
          0.00004357417625566835,
          0.00004388961122017693,
          0.00004419896331464512,
          0.000044502026203433495,
          0.00004479859375910341,
          0.00004508846026200258,
          0.000045371420606208306,
          0.00004564727051159448,
          0.00004591580674176756,
          0.00004617682732759344,
          0.00004643013179601541,
          0.00004667552140384261,
          0.00004691279937616438,
          0.00004714177114902788,
          0.000047362244615993766,
          0.000047574030378165046,
          0.000047776941997265535,
          0.00004797079625132484,
          0.00004815541339250945,
          0.00004833061740662225,
          0.000048496236273776895,
          0.00004865210222973804,
          0.00004879805202740523,
          0.000048933927197904196,
          0.000049059574310739535,
          0.000049174845232450214,
          0.000049279597383202354,
          0.00004937369399074537,
          0.00004945700434115104,
          0.00004952940402575163,
          0.00004959077518368886,
          0.00004964100673948567,
          0.00004967999463505125,
          0.00004970764205553287,
          0.00004972385964843173,
          0.00004972856573540419,
          0.000049721686516178026,
          0.00004970315626402183,
          0.00004967291751221548,
          0.00004963092123098281,
          0.00004957712699436137,
          0.0000495115031364993,
          0.00004943402689688775,
          0.00004934468455405531,
          0.00004924347154727265,
          0.00004913039258583712,
          0.00004900546174553104,
          0.00004886870255187327,
          0.00004872014804980984,
          0.00004855984085951753,
          0.0000483878332180246,
          0.00004820418700638191,
          0.00004800897376215128,
          0.00004780227467700951,
          0.0000475841805793003,
          0.000047354791901401944,
          0.00004711421863181243,
          0.00004686258025189133,
          0.00004660000565723321,
          0.000046326633063684147,
          0.0000460426098980519,
          0.00004574809267359518,
          0.00004544324685041723,
          0.00004512824668092549,
          0.00004480327504055611,
          0.00004446852324400008,
          0.00004412419084720298,
          0.00004377048543544855,
          0.00004340762239786925,
          0.000043035824688763016
         ],
         "yaxis": "y"
        }
       ],
       "layout": {
        "barmode": "overlay",
        "height": 620,
        "hovermode": "closest",
        "legend": {
         "traceorder": "reversed"
        },
        "template": {
         "data": {
          "bar": [
           {
            "error_x": {
             "color": "rgb(36,36,36)"
            },
            "error_y": {
             "color": "rgb(36,36,36)"
            },
            "marker": {
             "line": {
              "color": "white",
              "width": 0.5
             },
             "pattern": {
              "fillmode": "overlay",
              "size": 10,
              "solidity": 0.2
             }
            },
            "type": "bar"
           }
          ],
          "barpolar": [
           {
            "marker": {
             "line": {
              "color": "white",
              "width": 0.5
             },
             "pattern": {
              "fillmode": "overlay",
              "size": 10,
              "solidity": 0.2
             }
            },
            "type": "barpolar"
           }
          ],
          "carpet": [
           {
            "aaxis": {
             "endlinecolor": "rgb(36,36,36)",
             "gridcolor": "white",
             "linecolor": "white",
             "minorgridcolor": "white",
             "startlinecolor": "rgb(36,36,36)"
            },
            "baxis": {
             "endlinecolor": "rgb(36,36,36)",
             "gridcolor": "white",
             "linecolor": "white",
             "minorgridcolor": "white",
             "startlinecolor": "rgb(36,36,36)"
            },
            "type": "carpet"
           }
          ],
          "choropleth": [
           {
            "colorbar": {
             "outlinewidth": 1,
             "tickcolor": "rgb(36,36,36)",
             "ticks": "outside"
            },
            "type": "choropleth"
           }
          ],
          "contour": [
           {
            "colorbar": {
             "outlinewidth": 1,
             "tickcolor": "rgb(36,36,36)",
             "ticks": "outside"
            },
            "colorscale": [
             [
              0,
              "#440154"
             ],
             [
              0.1111111111111111,
              "#482878"
             ],
             [
              0.2222222222222222,
              "#3e4989"
             ],
             [
              0.3333333333333333,
              "#31688e"
             ],
             [
              0.4444444444444444,
              "#26828e"
             ],
             [
              0.5555555555555556,
              "#1f9e89"
             ],
             [
              0.6666666666666666,
              "#35b779"
             ],
             [
              0.7777777777777778,
              "#6ece58"
             ],
             [
              0.8888888888888888,
              "#b5de2b"
             ],
             [
              1,
              "#fde725"
             ]
            ],
            "type": "contour"
           }
          ],
          "contourcarpet": [
           {
            "colorbar": {
             "outlinewidth": 1,
             "tickcolor": "rgb(36,36,36)",
             "ticks": "outside"
            },
            "type": "contourcarpet"
           }
          ],
          "heatmap": [
           {
            "colorbar": {
             "outlinewidth": 1,
             "tickcolor": "rgb(36,36,36)",
             "ticks": "outside"
            },
            "colorscale": [
             [
              0,
              "#440154"
             ],
             [
              0.1111111111111111,
              "#482878"
             ],
             [
              0.2222222222222222,
              "#3e4989"
             ],
             [
              0.3333333333333333,
              "#31688e"
             ],
             [
              0.4444444444444444,
              "#26828e"
             ],
             [
              0.5555555555555556,
              "#1f9e89"
             ],
             [
              0.6666666666666666,
              "#35b779"
             ],
             [
              0.7777777777777778,
              "#6ece58"
             ],
             [
              0.8888888888888888,
              "#b5de2b"
             ],
             [
              1,
              "#fde725"
             ]
            ],
            "type": "heatmap"
           }
          ],
          "heatmapgl": [
           {
            "colorbar": {
             "outlinewidth": 1,
             "tickcolor": "rgb(36,36,36)",
             "ticks": "outside"
            },
            "colorscale": [
             [
              0,
              "#440154"
             ],
             [
              0.1111111111111111,
              "#482878"
             ],
             [
              0.2222222222222222,
              "#3e4989"
             ],
             [
              0.3333333333333333,
              "#31688e"
             ],
             [
              0.4444444444444444,
              "#26828e"
             ],
             [
              0.5555555555555556,
              "#1f9e89"
             ],
             [
              0.6666666666666666,
              "#35b779"
             ],
             [
              0.7777777777777778,
              "#6ece58"
             ],
             [
              0.8888888888888888,
              "#b5de2b"
             ],
             [
              1,
              "#fde725"
             ]
            ],
            "type": "heatmapgl"
           }
          ],
          "histogram": [
           {
            "marker": {
             "line": {
              "color": "white",
              "width": 0.6
             }
            },
            "type": "histogram"
           }
          ],
          "histogram2d": [
           {
            "colorbar": {
             "outlinewidth": 1,
             "tickcolor": "rgb(36,36,36)",
             "ticks": "outside"
            },
            "colorscale": [
             [
              0,
              "#440154"
             ],
             [
              0.1111111111111111,
              "#482878"
             ],
             [
              0.2222222222222222,
              "#3e4989"
             ],
             [
              0.3333333333333333,
              "#31688e"
             ],
             [
              0.4444444444444444,
              "#26828e"
             ],
             [
              0.5555555555555556,
              "#1f9e89"
             ],
             [
              0.6666666666666666,
              "#35b779"
             ],
             [
              0.7777777777777778,
              "#6ece58"
             ],
             [
              0.8888888888888888,
              "#b5de2b"
             ],
             [
              1,
              "#fde725"
             ]
            ],
            "type": "histogram2d"
           }
          ],
          "histogram2dcontour": [
           {
            "colorbar": {
             "outlinewidth": 1,
             "tickcolor": "rgb(36,36,36)",
             "ticks": "outside"
            },
            "colorscale": [
             [
              0,
              "#440154"
             ],
             [
              0.1111111111111111,
              "#482878"
             ],
             [
              0.2222222222222222,
              "#3e4989"
             ],
             [
              0.3333333333333333,
              "#31688e"
             ],
             [
              0.4444444444444444,
              "#26828e"
             ],
             [
              0.5555555555555556,
              "#1f9e89"
             ],
             [
              0.6666666666666666,
              "#35b779"
             ],
             [
              0.7777777777777778,
              "#6ece58"
             ],
             [
              0.8888888888888888,
              "#b5de2b"
             ],
             [
              1,
              "#fde725"
             ]
            ],
            "type": "histogram2dcontour"
           }
          ],
          "mesh3d": [
           {
            "colorbar": {
             "outlinewidth": 1,
             "tickcolor": "rgb(36,36,36)",
             "ticks": "outside"
            },
            "type": "mesh3d"
           }
          ],
          "parcoords": [
           {
            "line": {
             "colorbar": {
              "outlinewidth": 1,
              "tickcolor": "rgb(36,36,36)",
              "ticks": "outside"
             }
            },
            "type": "parcoords"
           }
          ],
          "pie": [
           {
            "automargin": true,
            "type": "pie"
           }
          ],
          "scatter": [
           {
            "fillpattern": {
             "fillmode": "overlay",
             "size": 10,
             "solidity": 0.2
            },
            "type": "scatter"
           }
          ],
          "scatter3d": [
           {
            "line": {
             "colorbar": {
              "outlinewidth": 1,
              "tickcolor": "rgb(36,36,36)",
              "ticks": "outside"
             }
            },
            "marker": {
             "colorbar": {
              "outlinewidth": 1,
              "tickcolor": "rgb(36,36,36)",
              "ticks": "outside"
             }
            },
            "type": "scatter3d"
           }
          ],
          "scattercarpet": [
           {
            "marker": {
             "colorbar": {
              "outlinewidth": 1,
              "tickcolor": "rgb(36,36,36)",
              "ticks": "outside"
             }
            },
            "type": "scattercarpet"
           }
          ],
          "scattergeo": [
           {
            "marker": {
             "colorbar": {
              "outlinewidth": 1,
              "tickcolor": "rgb(36,36,36)",
              "ticks": "outside"
             }
            },
            "type": "scattergeo"
           }
          ],
          "scattergl": [
           {
            "marker": {
             "colorbar": {
              "outlinewidth": 1,
              "tickcolor": "rgb(36,36,36)",
              "ticks": "outside"
             }
            },
            "type": "scattergl"
           }
          ],
          "scattermapbox": [
           {
            "marker": {
             "colorbar": {
              "outlinewidth": 1,
              "tickcolor": "rgb(36,36,36)",
              "ticks": "outside"
             }
            },
            "type": "scattermapbox"
           }
          ],
          "scatterpolar": [
           {
            "marker": {
             "colorbar": {
              "outlinewidth": 1,
              "tickcolor": "rgb(36,36,36)",
              "ticks": "outside"
             }
            },
            "type": "scatterpolar"
           }
          ],
          "scatterpolargl": [
           {
            "marker": {
             "colorbar": {
              "outlinewidth": 1,
              "tickcolor": "rgb(36,36,36)",
              "ticks": "outside"
             }
            },
            "type": "scatterpolargl"
           }
          ],
          "scatterternary": [
           {
            "marker": {
             "colorbar": {
              "outlinewidth": 1,
              "tickcolor": "rgb(36,36,36)",
              "ticks": "outside"
             }
            },
            "type": "scatterternary"
           }
          ],
          "surface": [
           {
            "colorbar": {
             "outlinewidth": 1,
             "tickcolor": "rgb(36,36,36)",
             "ticks": "outside"
            },
            "colorscale": [
             [
              0,
              "#440154"
             ],
             [
              0.1111111111111111,
              "#482878"
             ],
             [
              0.2222222222222222,
              "#3e4989"
             ],
             [
              0.3333333333333333,
              "#31688e"
             ],
             [
              0.4444444444444444,
              "#26828e"
             ],
             [
              0.5555555555555556,
              "#1f9e89"
             ],
             [
              0.6666666666666666,
              "#35b779"
             ],
             [
              0.7777777777777778,
              "#6ece58"
             ],
             [
              0.8888888888888888,
              "#b5de2b"
             ],
             [
              1,
              "#fde725"
             ]
            ],
            "type": "surface"
           }
          ],
          "table": [
           {
            "cells": {
             "fill": {
              "color": "rgb(237,237,237)"
             },
             "line": {
              "color": "white"
             }
            },
            "header": {
             "fill": {
              "color": "rgb(217,217,217)"
             },
             "line": {
              "color": "white"
             }
            },
            "type": "table"
           }
          ]
         },
         "layout": {
          "annotationdefaults": {
           "arrowhead": 0,
           "arrowwidth": 1
          },
          "autotypenumbers": "strict",
          "coloraxis": {
           "colorbar": {
            "outlinewidth": 1,
            "tickcolor": "rgb(36,36,36)",
            "ticks": "outside"
           }
          },
          "colorscale": {
           "diverging": [
            [
             0,
             "rgb(103,0,31)"
            ],
            [
             0.1,
             "rgb(178,24,43)"
            ],
            [
             0.2,
             "rgb(214,96,77)"
            ],
            [
             0.3,
             "rgb(244,165,130)"
            ],
            [
             0.4,
             "rgb(253,219,199)"
            ],
            [
             0.5,
             "rgb(247,247,247)"
            ],
            [
             0.6,
             "rgb(209,229,240)"
            ],
            [
             0.7,
             "rgb(146,197,222)"
            ],
            [
             0.8,
             "rgb(67,147,195)"
            ],
            [
             0.9,
             "rgb(33,102,172)"
            ],
            [
             1,
             "rgb(5,48,97)"
            ]
           ],
           "sequential": [
            [
             0,
             "#440154"
            ],
            [
             0.1111111111111111,
             "#482878"
            ],
            [
             0.2222222222222222,
             "#3e4989"
            ],
            [
             0.3333333333333333,
             "#31688e"
            ],
            [
             0.4444444444444444,
             "#26828e"
            ],
            [
             0.5555555555555556,
             "#1f9e89"
            ],
            [
             0.6666666666666666,
             "#35b779"
            ],
            [
             0.7777777777777778,
             "#6ece58"
            ],
            [
             0.8888888888888888,
             "#b5de2b"
            ],
            [
             1,
             "#fde725"
            ]
           ],
           "sequentialminus": [
            [
             0,
             "#440154"
            ],
            [
             0.1111111111111111,
             "#482878"
            ],
            [
             0.2222222222222222,
             "#3e4989"
            ],
            [
             0.3333333333333333,
             "#31688e"
            ],
            [
             0.4444444444444444,
             "#26828e"
            ],
            [
             0.5555555555555556,
             "#1f9e89"
            ],
            [
             0.6666666666666666,
             "#35b779"
            ],
            [
             0.7777777777777778,
             "#6ece58"
            ],
            [
             0.8888888888888888,
             "#b5de2b"
            ],
            [
             1,
             "#fde725"
            ]
           ]
          },
          "colorway": [
           "#1F77B4",
           "#FF7F0E",
           "#2CA02C",
           "#D62728",
           "#9467BD",
           "#8C564B",
           "#E377C2",
           "#7F7F7F",
           "#BCBD22",
           "#17BECF"
          ],
          "font": {
           "color": "rgb(36,36,36)"
          },
          "geo": {
           "bgcolor": "white",
           "lakecolor": "white",
           "landcolor": "white",
           "showlakes": true,
           "showland": true,
           "subunitcolor": "white"
          },
          "hoverlabel": {
           "align": "left"
          },
          "hovermode": "closest",
          "mapbox": {
           "style": "light"
          },
          "paper_bgcolor": "white",
          "plot_bgcolor": "white",
          "polar": {
           "angularaxis": {
            "gridcolor": "rgb(232,232,232)",
            "linecolor": "rgb(36,36,36)",
            "showgrid": false,
            "showline": true,
            "ticks": "outside"
           },
           "bgcolor": "white",
           "radialaxis": {
            "gridcolor": "rgb(232,232,232)",
            "linecolor": "rgb(36,36,36)",
            "showgrid": false,
            "showline": true,
            "ticks": "outside"
           }
          },
          "scene": {
           "xaxis": {
            "backgroundcolor": "white",
            "gridcolor": "rgb(232,232,232)",
            "gridwidth": 2,
            "linecolor": "rgb(36,36,36)",
            "showbackground": true,
            "showgrid": false,
            "showline": true,
            "ticks": "outside",
            "zeroline": false,
            "zerolinecolor": "rgb(36,36,36)"
           },
           "yaxis": {
            "backgroundcolor": "white",
            "gridcolor": "rgb(232,232,232)",
            "gridwidth": 2,
            "linecolor": "rgb(36,36,36)",
            "showbackground": true,
            "showgrid": false,
            "showline": true,
            "ticks": "outside",
            "zeroline": false,
            "zerolinecolor": "rgb(36,36,36)"
           },
           "zaxis": {
            "backgroundcolor": "white",
            "gridcolor": "rgb(232,232,232)",
            "gridwidth": 2,
            "linecolor": "rgb(36,36,36)",
            "showbackground": true,
            "showgrid": false,
            "showline": true,
            "ticks": "outside",
            "zeroline": false,
            "zerolinecolor": "rgb(36,36,36)"
           }
          },
          "shapedefaults": {
           "fillcolor": "black",
           "line": {
            "width": 0
           },
           "opacity": 0.3
          },
          "ternary": {
           "aaxis": {
            "gridcolor": "rgb(232,232,232)",
            "linecolor": "rgb(36,36,36)",
            "showgrid": false,
            "showline": true,
            "ticks": "outside"
           },
           "baxis": {
            "gridcolor": "rgb(232,232,232)",
            "linecolor": "rgb(36,36,36)",
            "showgrid": false,
            "showline": true,
            "ticks": "outside"
           },
           "bgcolor": "white",
           "caxis": {
            "gridcolor": "rgb(232,232,232)",
            "linecolor": "rgb(36,36,36)",
            "showgrid": false,
            "showline": true,
            "ticks": "outside"
           }
          },
          "title": {
           "x": 0.05
          },
          "xaxis": {
           "automargin": true,
           "gridcolor": "rgb(232,232,232)",
           "linecolor": "rgb(36,36,36)",
           "showgrid": false,
           "showline": true,
           "ticks": "outside",
           "title": {
            "standoff": 15
           },
           "zeroline": false,
           "zerolinecolor": "rgb(36,36,36)"
          },
          "yaxis": {
           "automargin": true,
           "gridcolor": "rgb(232,232,232)",
           "linecolor": "rgb(36,36,36)",
           "showgrid": false,
           "showline": true,
           "ticks": "outside",
           "title": {
            "standoff": 15
           },
           "zeroline": false,
           "zerolinecolor": "rgb(36,36,36)"
          }
         }
        },
        "title": {
         "text": "Histograma de Preço"
        },
        "width": 800,
        "xaxis": {
         "anchor": "y2",
         "domain": [
          0,
          1
         ],
         "zeroline": false
        },
        "yaxis": {
         "anchor": "free",
         "domain": [
          0,
          1
         ],
         "position": 0
        }
       }
      }
     },
     "metadata": {},
     "output_type": "display_data"
    }
   ],
   "source": [
    "# Plotando o histograma para a variável Preço\n",
    "histograma(dados, 'Preço', nbins=20)"
   ]
  },
  {
   "cell_type": "code",
   "execution_count": 189,
   "id": "2c110017",
   "metadata": {},
   "outputs": [
    {
     "data": {
      "application/vnd.plotly.v1+json": {
       "config": {
        "plotlyServerURL": "https://plot.ly"
       },
       "data": [
        {
         "autobinx": false,
         "histnorm": "probability density",
         "legendgroup": "Total de Vendas",
         "marker": {
          "color": "#040D8A"
         },
         "name": "Total de Vendas",
         "opacity": 0.7,
         "type": "histogram",
         "x": [
          2527.14,
          1938.78,
          2223.2,
          880.52,
          4971.15,
          9763.65,
          11505.72,
          10825.54,
          29412.76,
          7283.64,
          2421.11,
          20592.66,
          2351.32,
          24995.75,
          6993.97,
          19945.59,
          6047.4,
          54488.98,
          5395.41,
          696.2,
          22555.62,
          4848.83,
          635.04,
          22455.72,
          641.13,
          1101.3,
          713.36,
          841.3,
          1709.97,
          3263.75,
          774.12,
          1075.05,
          33376.07,
          5618.76,
          1763.58,
          15011.36,
          11307.5,
          3075.6,
          26376.1,
          1707.57,
          1259.52,
          357.06,
          5844.960000000001,
          13615.79,
          376.1,
          4646.740000000001,
          3009.84,
          1473.15,
          662.56,
          1154.46,
          385.59,
          1558.0600000000002,
          28395.840000000004,
          656.71,
          9427.18,
          11117.44,
          250.6,
          65676.48,
          303.05,
          3141.4,
          1855.24,
          2929.7000000000003,
          1160.88,
          6162.599999999999,
          6216.06,
          18750.86,
          3570.36,
          2096.55,
          10028.580000000002,
          1669.57,
          6805.44,
          2022.32,
          61918.8,
          5391.12,
          459.6,
          827.46,
          9599.8,
          2022.54,
          537.49
         ],
         "xaxis": "x",
         "xbins": {
          "end": 65676.48,
          "size": 3271.294,
          "start": 250.6
         },
         "yaxis": "y"
        },
        {
         "legendgroup": "Total de Vendas",
         "marker": {
          "color": "#040D8A"
         },
         "mode": "lines",
         "name": "Total de Vendas",
         "showlegend": false,
         "type": "scatter",
         "x": [
          250.6,
          381.45176,
          512.3035199999999,
          643.15528,
          774.00704,
          904.8588,
          1035.71056,
          1166.56232,
          1297.4140799999998,
          1428.2658399999998,
          1559.1175999999998,
          1689.9693599999998,
          1820.8211199999998,
          1951.6728799999999,
          2082.52464,
          2213.3764,
          2344.2281599999997,
          2475.0799199999997,
          2605.9316799999997,
          2736.7834399999997,
          2867.6351999999997,
          2998.4869599999997,
          3129.3387199999997,
          3260.1904799999998,
          3391.0422399999998,
          3521.894,
          3652.74576,
          3783.59752,
          3914.44928,
          4045.30104,
          4176.1528,
          4307.00456,
          4437.85632,
          4568.70808,
          4699.55984,
          4830.4116,
          4961.26336,
          5092.11512,
          5222.96688,
          5353.81864,
          5484.6704,
          5615.52216,
          5746.37392,
          5877.2256800000005,
          6008.07744,
          6138.9292000000005,
          6269.78096,
          6400.6327200000005,
          6531.48448,
          6662.33624,
          6793.188,
          6924.039760000001,
          7054.89152,
          7185.74328,
          7316.59504,
          7447.446800000001,
          7578.29856,
          7709.15032,
          7840.00208,
          7970.85384,
          8101.7056,
          8232.557359999999,
          8363.40912,
          8494.26088,
          8625.11264,
          8755.9644,
          8886.81616,
          9017.66792,
          9148.51968,
          9279.371439999999,
          9410.2232,
          9541.07496,
          9671.92672,
          9802.77848,
          9933.63024,
          10064.482,
          10195.33376,
          10326.185519999999,
          10457.03728,
          10587.88904,
          10718.7408,
          10849.59256,
          10980.44432,
          11111.29608,
          11242.14784,
          11372.9996,
          11503.85136,
          11634.70312,
          11765.55488,
          11896.40664,
          12027.2584,
          12158.11016,
          12288.96192,
          12419.81368,
          12550.66544,
          12681.5172,
          12812.36896,
          12943.22072,
          13074.072479999999,
          13204.92424,
          13335.776,
          13466.62776,
          13597.47952,
          13728.33128,
          13859.18304,
          13990.0348,
          14120.886559999999,
          14251.73832,
          14382.59008,
          14513.44184,
          14644.2936,
          14775.14536,
          14905.99712,
          15036.84888,
          15167.70064,
          15298.552399999999,
          15429.40416,
          15560.25592,
          15691.10768,
          15821.95944,
          15952.8112,
          16083.66296,
          16214.51472,
          16345.366479999999,
          16476.21824,
          16607.07,
          16737.921759999997,
          16868.77352,
          16999.625279999997,
          17130.477039999998,
          17261.3288,
          17392.180559999997,
          17523.03232,
          17653.884079999996,
          17784.735839999998,
          17915.587599999995,
          18046.439359999997,
          18177.291119999998,
          18308.142879999996,
          18438.99464,
          18569.8464,
          18700.69816,
          18831.549919999998,
          18962.40168,
          19093.253439999997,
          19224.105199999998,
          19354.95696,
          19485.808719999997,
          19616.66048,
          19747.512239999996,
          19878.363999999998,
          20009.215759999995,
          20140.067519999997,
          20270.919279999995,
          20401.771039999996,
          20532.6228,
          20663.47456,
          20794.32632,
          20925.178079999998,
          21056.02984,
          21186.881599999997,
          21317.73336,
          21448.585119999996,
          21579.436879999997,
          21710.28864,
          21841.140399999997,
          21971.992159999998,
          22102.843919999996,
          22233.695679999997,
          22364.547439999995,
          22495.399199999996,
          22626.25096,
          22757.10272,
          22887.95448,
          23018.806239999998,
          23149.658,
          23280.509759999997,
          23411.36152,
          23542.213279999996,
          23673.065039999998,
          23803.9168,
          23934.768559999997,
          24065.620319999998,
          24196.472079999996,
          24327.323839999997,
          24458.175599999995,
          24589.027359999996,
          24719.879119999994,
          24850.73088,
          24981.58264,
          25112.4344,
          25243.28616,
          25374.137919999997,
          25504.98968,
          25635.841439999997,
          25766.693199999998,
          25897.544959999996,
          26028.396719999997,
          26159.24848,
          26290.100239999996,
          26420.951999999997,
          26551.803759999995,
          26682.655519999997,
          26813.507279999994,
          26944.35904,
          27075.2108,
          27206.06256,
          27336.91432,
          27467.766079999998,
          27598.61784,
          27729.469599999997,
          27860.321359999998,
          27991.173119999996,
          28122.024879999997,
          28252.87664,
          28383.728399999996,
          28514.580159999998,
          28645.431919999995,
          28776.283679999997,
          28907.135439999995,
          29037.9872,
          29168.838959999997,
          29299.69072,
          29430.54248,
          29561.394239999998,
          29692.246,
          29823.097759999997,
          29953.94952,
          30084.801279999996,
          30215.653039999997,
          30346.504799999995,
          30477.356559999997,
          30608.208319999998,
          30739.060079999996,
          30869.911839999997,
          31000.763599999995,
          31131.615359999996,
          31262.467119999998,
          31393.31888,
          31524.17064,
          31655.022399999998,
          31785.87416,
          31916.725919999997,
          32047.57768,
          32178.429439999996,
          32309.281199999998,
          32440.132959999995,
          32570.984719999997,
          32701.836479999998,
          32832.688239999996,
          32963.54,
          33094.39176,
          33225.243519999996,
          33356.095279999994,
          33486.94704,
          33617.7988,
          33748.650559999995,
          33879.50232,
          34010.35408,
          34141.205839999995,
          34272.0576,
          34402.90936,
          34533.761119999996,
          34664.61287999999,
          34795.46464,
          34926.316399999996,
          35057.168159999994,
          35188.01992,
          35318.87168,
          35449.723439999994,
          35580.57519999999,
          35711.42696,
          35842.278719999995,
          35973.13047999999,
          36103.98224,
          36234.833999999995,
          36365.68575999999,
          36496.53751999999,
          36627.38928,
          36758.24104,
          36889.0928,
          37019.944559999996,
          37150.79632,
          37281.64808,
          37412.49984,
          37543.3516,
          37674.20336,
          37805.05512,
          37935.906879999995,
          38066.75864,
          38197.6104,
          38328.462159999995,
          38459.31392,
          38590.16568,
          38721.017439999996,
          38851.869199999994,
          38982.72096,
          39113.57272,
          39244.424479999994,
          39375.27624,
          39506.128,
          39636.979759999995,
          39767.83151999999,
          39898.68328,
          40029.535039999995,
          40160.38679999999,
          40291.23855999999,
          40422.090319999996,
          40552.94207999999,
          40683.79383999999,
          40814.6456,
          40945.49736,
          41076.34912,
          41207.20088,
          41338.05264,
          41468.9044,
          41599.75616,
          41730.60792,
          41861.45968,
          41992.31144,
          42123.163199999995,
          42254.01496,
          42384.86672,
          42515.718479999996,
          42646.570239999994,
          42777.422,
          42908.27376,
          43039.125519999994,
          43169.97728,
          43300.82904,
          43431.680799999995,
          43562.53255999999,
          43693.38432,
          43824.236079999995,
          43955.08783999999,
          44085.9396,
          44216.791359999996,
          44347.64311999999,
          44478.49487999999,
          44609.346639999996,
          44740.198399999994,
          44871.05015999999,
          45001.901920000004,
          45132.75368,
          45263.60544,
          45394.4572,
          45525.30896,
          45656.16072,
          45787.01248,
          45917.864239999995,
          46048.716,
          46179.56776,
          46310.419519999996,
          46441.27128,
          46572.12304,
          46702.974799999996,
          46833.826559999994,
          46964.67832,
          47095.53008,
          47226.381839999995,
          47357.2336,
          47488.08536,
          47618.937119999995,
          47749.78887999999,
          47880.64064,
          48011.492399999996,
          48142.34415999999,
          48273.19592,
          48404.047679999996,
          48534.899439999994,
          48665.75119999999,
          48796.60296,
          48927.454719999994,
          49058.30647999999,
          49189.15823999999,
          49320.01,
          49450.86176,
          49581.71352,
          49712.56528,
          49843.41704,
          49974.2688,
          50105.120559999996,
          50235.97232,
          50366.82408,
          50497.675839999996,
          50628.5276,
          50759.37936,
          50890.23112,
          51021.082879999994,
          51151.93464,
          51282.7864,
          51413.638159999995,
          51544.48991999999,
          51675.34168,
          51806.193439999995,
          51937.04519999999,
          52067.89696,
          52198.748719999996,
          52329.600479999994,
          52460.45223999999,
          52591.304,
          52722.155759999994,
          52853.00751999999,
          52983.85928,
          53114.711039999995,
          53245.56279999999,
          53376.41455999999,
          53507.26632,
          53638.11808,
          53768.96984,
          53899.8216,
          54030.67336,
          54161.52512,
          54292.376879999996,
          54423.22864,
          54554.0804,
          54684.93216,
          54815.783919999994,
          54946.63568,
          55077.48744,
          55208.339199999995,
          55339.19096,
          55470.04272,
          55600.894479999995,
          55731.74623999999,
          55862.598,
          55993.449759999996,
          56124.30151999999,
          56255.15328,
          56386.00504,
          56516.856799999994,
          56647.70855999999,
          56778.56032,
          56909.412079999995,
          57040.26383999999,
          57171.11559999999,
          57301.967359999995,
          57432.81911999999,
          57563.67087999999,
          57694.522639999996,
          57825.3744,
          57956.22616,
          58087.077919999996,
          58217.92968,
          58348.78144,
          58479.6332,
          58610.48496,
          58741.33672,
          58872.18848,
          59003.040239999995,
          59133.892,
          59264.74376,
          59395.595519999995,
          59526.44728,
          59657.29904,
          59788.150799999996,
          59919.00255999999,
          60049.85432,
          60180.706079999996,
          60311.557839999994,
          60442.40959999999,
          60573.26136,
          60704.113119999995,
          60834.96487999999,
          60965.81664,
          61096.668399999995,
          61227.52015999999,
          61358.37191999999,
          61489.223679999996,
          61620.07543999999,
          61750.92719999999,
          61881.778959999996,
          62012.630719999994,
          62143.48248,
          62274.33424,
          62405.186,
          62536.03776,
          62666.88952,
          62797.74128,
          62928.59304,
          63059.4448,
          63190.296559999995,
          63321.14832,
          63452.00008,
          63582.851839999996,
          63713.70359999999,
          63844.55536,
          63975.407119999996,
          64106.258879999994,
          64237.11064,
          64367.9624,
          64498.814159999994,
          64629.66591999999,
          64760.51768,
          64891.369439999995,
          65022.22119999999,
          65153.07296,
          65283.924719999995,
          65414.77647999999,
          65545.62823999999
         ],
         "xaxis": "x",
         "y": [
          0.000046679828150470886,
          0.00004710410788841262,
          0.00004750989790503194,
          0.00004789674681220476,
          0.00004826423034639981,
          0.000048611952258711994,
          0.00004893954513203451,
          0.000049246671122822174,
          0.000049533022625186956,
          0.00004979832285536449,
          0.00005004232635489695,
          0.00005026481941119073,
          0.00005046562039442452,
          0.00005064458001010468,
          0.00005080158146688797,
          0.000050936540559614426,
          0.0000510494056678147,
          0.000051140157670274645,
          0.000051208809776554,
          0.0000512554072766634,
          0.0000512800272104039,
          0.00005128277795816423,
          0.00005126379875525155,
          0.00005122325913209941,
          0.000051161358282952873,
          0.00005107832436587171,
          0.000050974413737118726,
          0.000050849910123209944,
          0.00005070512373409697,
          0.00005054039032112532,
          0.0000503560701835704,
          0.000050152547127689105,
          0.00004993022738234335,
          0.00004968953847535003,
          0.00004943092807478949,
          0.000049154862799562465,
          0.00004886182700352477,
          0.0000485523215375447,
          0.00004822686249382813,
          0.00004788597993683491,
          0.000047530216625069906,
          0.00004716012672797379,
          0.00004677627454206385,
          0.00004637923321038053,
          0.00004596958344918844,
          0.00004554791228575516,
          0.00004511481181089349,
          0.000044670877949800714,
          0.000044216709254565545,
          0.00004375290572153778,
          0.0000432800676365717,
          0.00004279879445096096,
          0.00004230968369068147,
          0.000041813329901352534,
          0.000041310323631113894,
          0.000040801250453401004,
          0.000040286690031382585,
          0.00003976721522560441,
          0.000039243391246164,
          0.0000387157748505221,
          0.00003818491358783956,
          0.00003765134509051554,
          0.000037115596413392854,
          0.000036578183420892984,
          0.00003603961022214426,
          0.00003550036865397666,
          0.00003496093781147235,
          0.000034421783625586656,
          0.000033883358487188496,
          0.000033346100916712136,
          0.00003281043527846713,
          0.000032276771538517076,
          0.000031745505064913376,
          0.00003121701646895704,
          0.000030691671486058585,
          0.00003016982089467673,
          0.000029651800471736284,
          0.00002913793098285868,
          0.000028628518205682322,
          0.000028123852984504496,
          0.000027624211314443274,
          0.000027129854453294083,
          0.00002664102905924264,
          0.000026157967352594014,
          0.00002568088729968303,
          0.000025209992817147913,
          0.000024745473994773374,
          0.000024287507335141416,
          0.000023836256008368293,
          0.000023391870120253,
          0.000022954486992215204,
          0.00002252423145145959,
          0.000022101216129867195,
          0.00002168554177018175,
          0.00002127729753813174,
          0.000020876561339202424,
          0.000020483400138850002,
          0.000020097870285028827,
          0.00001972001783198302,
          0.000019349878864333804,
          0.000018987479820575975,
          0.000018632837815176377,
          0.000018285960958546967,
          0.000017946848674243403,
          0.00001761549201281558,
          0.000017291873961810915,
          0.00001697596975150202,
          0.000016667747155978585,
          0.00001636716678930832,
          0.000016074182396532762,
          0.000015788741139321665,
          0.000015510783876162777,
          0.000015240245437013698,
          0.00001497705489238732,
          0.000014721135816883382,
          0.000014472406547215444,
          0.000014230780434814583,
          0.000013996166093119111,
          0.000013768467639683393,
          0.000013547584933258469,
          0.00001333341380601247,
          0.000013125846291070653,
          0.00001292477084556282,
          0.000012730072569370055,
          0.00001254163341976406,
          0.0000123593324221301,
          0.000012183045876959568,
          0.000012012647563291012,
          0.000011848008938768102,
          0.000011688999336471118,
          0.00001153548615866486,
          0.000011387335067590017,
          0.0000112444101734087,
          0.00001110657421939654,
          0.000010973688764455675,
          0.000010845614363003257,
          0.000010722210742271214,
          0.000010603336977033078,
          0.00001048885166175475,
          0.000010378613080146903,
          0.000010272479372078634,
          0.000010170308697794322,
          0.000010071959399359091,
          0.000009977290159242764,
          0.000009886160155938197,
          0.00000979842921649657,
          0.00000971395796585114,
          0.000009632607972791118,
          0.000009554241892438682,
          0.000009478723605076111,
          0.000009405918351164591,
          0.000009335692862393516,
          0.000009267915488597282,
          0.000009202456320377095,
          0.000009139187307266948,
          0.00000907798237128678,
          0.0000090187175157305,
          0.000008961270929043626,
          0.000008905523083652838,
          0.000008851356829619543,
          0.000008798657482999654,
          0.000008747312908803944,
          0.000008697213598465622,
          0.000008648252741735817,
          0.000008600326292941497,
          0.000008553333031555947,
          0.00000850717461704707,
          0.000008461755637984826,
          0.000008416983655405378,
          0.000008372769240445802,
          0.000008329026006279583,
          0.000008285670634399424,
          0.000008242622895309775,
          0.000008199805663707475,
          0.000008157144928243863,
          0.000008114569795976687,
          0.000008072012491634195,
          0.000008029408351827085,
          0.000007986695814356824,
          0.000007943816402780435,
          0.000007900714706402864,
          0.000007857338355877734,
          0.000007813637994606502,
          0.000007769567246133469,
          0.00000772508267774134,
          0.000007680143760457329,
          0.000007634712825684708,
          0.0000075887550186780865,
          0.000007542238249083255,
          0.0000074951331387636554,
          0.000007447412967136147,
          0.000007399053614237731,
          0.000007350033501743672,
          0.000007300333532154399,
          0.000007249937026365546,
          0.000007198829659830876,
          0.0000071469993975229155,
          0.0000070944364278902015,
          0.000007041133096003672,
          0.0000069870838360776134,
          0.000006932285103542819,
          0.0000068767353068418945,
          0.000006820434739107733,
          0.000006763385509877683,
          0.000006705591476986744,
          0.00000664705817877374,
          0.000006587792766725249,
          0.000006527803938672248,
          0.000006467101872645245,
          0.000006405698161483917,
          0.000006343605748288122,
          0.0000062808388627877845,
          0.000006217412958700227,
          0.000006153344652134716,
          0.000006088651661095398,
          0.000006023352746125869,
          0.000005957467652130522,
          0.000005891017051400594,
          0.000005824022487865738,
          0.00000575650632258533,
          0.000005688491680487645,
          0.000005620002398359317,
          0.000005551062974082283,
          0.0000054816985171107834,
          0.000005411934700176539,
          0.000005341797712206713,
          0.0000052713142124358045,
          0.000005200511285689793,
          0.000005129416398818674,
          0.000005058057358251295,
          0.000004986462268645302,
          0.0000049146594926035344,
          0.00000484267761142788,
          0.000004770545386881078,
          0.000004698291723927011,
          0.0000046259456344206605,
          0.0000045535362017191674,
          0.000004481092546186807,
          0.000004408643791567687,
          0.000004336219032201403,
          0.000004263847301058739,
          0.000004191557538576089,
          0.000004119378562269427,
          0.000004047339037110646,
          0.000003975467446651365,
          0.000003903792064881527,
          0.0000038323409288124655,
          0.000003761141811776409,
          0.0000036902221974368697,
          0.000003619609254506559,
          0.0000035493298121718615,
          0.0000034794103362251345,
          0.0000034098769059082062,
          0.0000033407551914726,
          0.00000327207043246394,
          0.0000032038474167398195,
          0.0000031361104602321033,
          0.0000030688833874662865,
          0.0000030021895128518342,
          0.0000029360516227586245,
          0.000002870491958395769,
          0.0000028055321995099364,
          0.000002741193448920751,
          0.0000026774962179117237,
          0.0000026144604124949723,
          0.0000025521053205684768,
          0.000002490449599984129,
          0.0000024295112675447393,
          0.000002369307688947546,
          0.000002309855569690851,
          0.000002251170946959836,
          0.0000021932691825060074,
          0.0000021361649565337823,
          0.0000020798722626059404,
          0.0000020244044035781055,
          0.000001969773988570498,
          0.0000019159929309831612,
          0.0000018630724475587452,
          0.000001811023058494486,
          0.0000017598545886027303,
          0.0000017095761695165245,
          0.0000016601962429344477,
          0.00000161172256489573,
          0.0000015641622110741192,
          0.0000015175215830758166,
          0.0000014718064157240432,
          0.0000014270217853095639,
          0.0000013831721187836148,
          0.0000013402612038665893,
          0.0000012982922000428044,
          0.0000012572676504086915,
          0.0000012171894943387522,
          0.0000011780590809308312,
          0.0000011398771831893153,
          0.0000011026440129022462,
          0.00000106635923616569,
          0.0000010310219895062462,
          9.966308965502133e-7,
          9.63184085185788e-7,
          9.306792051626851e-7,
          8.991134460717131e-7,
          8.684835556452782e-7,
          8.387858583183866e-7,
          8.100162739885782e-7,
          7.821703369122715e-7,
          7.552432146743656e-7,
          7.292297271675596e-7,
          7.041243655176688e-7,
          6.7992131089141e-7,
          6.566144531235217e-7,
          6.341974091008349e-7,
          6.126635408418764e-7,
          5.920059732119048e-7,
          5.722176112148829e-7,
          5.532911568057201e-7,
          5.352191251683603e-7,
          5.179938604076432e-7,
          5.016075506056843e-7,
          4.860522421964524e-7,
          4.713198536154942e-7,
          4.574021881852506e-7,
          4.442909462001509e-7,
          4.3197773617960876e-7,
          4.204540852612035e-7,
          4.097114487106823e-7,
          3.9974121852991565e-7,
          3.905347311485996e-7,
          3.8208327419027347e-7,
          3.743780923081089e-7,
          3.6741039209089344e-7,
          3.6117134604461705e-7,
          3.556520956601461e-7,
          3.508437535824791e-7,
          3.467374049021116e-7,
          3.4332410759397063e-7,
          3.405948921342864e-7,
          3.3854076033048956e-7,
          3.3715268340387575e-7,
          3.364215993692158e-7,
          3.363384097597391e-7,
          3.368939757499617e-7,
          3.3807911373258967e-7,
          3.3988459040924796e-7,
          3.4230111745796024e-7,
          3.453193458431881e-7,
          3.489298598367487e-7,
          3.531231708200797e-7,
          3.5788971094007723e-7,
          3.632198266920764e-7,
          3.691037725044758e-7,
          3.7553170439997723e-7,
          3.824936738084736e-7,
          3.8997962160617463e-7,
          3.97979372454688e-7,
          4.064826295124216e-7,
          4.154789695888493e-7,
          4.249578388099076e-7,
          4.3490854886002484e-7,
          4.4532027386310487e-7,
          4.5618204796113513e-7,
          4.674827636450255e-7,
          4.792111708877752e-7,
          4.913558771252437e-7,
          5.039053481244898e-7,
          5.168479097741046e-7,
          5.301717508250394e-7,
          5.438649266042381e-7,
          5.579153637169319e-7,
          5.723108657468113e-7,
          5.870391199564408e-7,
          6.020877049832989e-7,
          6.174440995197454e-7,
          6.330956919580971e-7,
          6.490297909748406e-7,
          6.652336370209e-7,
          6.816944146778446e-7,
          6.983992658330095e-7,
          7.153353036198264e-7,
          7.324896270630461e-7,
          7.49849336362387e-7,
          7.674015487421803e-7,
          7.851334147889618e-7,
          8.030321351938369e-7,
          8.21084977811676e-7,
          8.39279294944934e-7,
          8.576025407561489e-7,
          8.760422887099498e-7,
          8.945862489428427e-7,
          9.132222854569418e-7,
          9.319384330325469e-7,
          9.507229137536291e-7,
          9.69564153040341e-7,
          9.884507950832043e-7,
          0.000001007371717575038,
          0.0000010263160456386301,
          0.0000010452731648509492,
          0.0000010642327332680361,
          0.0000010831846923588531,
          0.0000011021192767611184,
          0.0000011210270227775554,
          0.0000011398987755370218,
          0.0000011587256947516452,
          0.000001177499259008274,
          0.0000011962112685402932,
          0.0000012148538464340706,
          0.0000012334194382330022,
          0.0000012519008099111327,
          0.0000012702910441978212,
          0.0000012885835352445385,
          0.0000013067719816349211,
          0.000001324850377749229,
          0.0000013428130035046488,
          0.0000013606544125031509,
          0.000001378369418628867,
          0.0000013959530811471398,
          0.000001413400688367469,
          0.0000014307077399423923,
          0.0000014478699278838952,
          0.0000014648831163882072,
          0.0000014817433205686034,
          0.0000014984466842042695,
          0.0000015149894566210445,
          0.0000015313679688272172,
          0.0000015475786090341043,
          0.0000015636177976971662,
          0.000001579481962218613,
          0.0000015951675114569743,
          0.00000161067081019274,
          0.0000016259881537020479,
          0.00000164111574259238,
          0.000001656049658055342,
          0.0000016707858376917794,
          0.0000016853200520638314,
          0.000001699647882126869,
          0.0000017137646976917828,
          0.0000017276656370646106,
          0.0000017413455880062354,
          0.0000017547991701496202,
          0.0000017680207190060602,
          0.0000017810042716850056,
          0.0000017937435544444038,
          0.0000018062319721800488,
          0.0000018184625999533453,
          0.0000018304281766471025,
          0.0000018421211008286138,
          0.000001853533428888335,
          0.0000018646568755110938,
          0.0000018754828165248854,
          0.0000018860022941601852,
          0.00000189620602474017,
          0.0000019060844088095848,
          0.0000019156275436971572,
          0.0000019248252384935373,
          0.0000019336670314138406,
          0.000001942142209501055,
          0.00000195023983061389,
          0.0000019579487476301885,
          0.0000019652576347848594,
          0.0000019721550160495097,
          0.0000019786292954495632,
          0.0000019846687892038084,
          0.0000019902617595609905,
          0.0000019953964501983646,
          0.0000020000611230381248,
          0.0000020042440963292914,
          0.0000020079337838351094,
          0.000002011118734959306,
          0.000002013787675638636,
          0.000002015929549824181,
          0.0000020175335613697267,
          0.0000020185892161424153,
          0.0000020190863641685896,
          0.0000020190152416265136,
          0.000002018366512497285,
          0.000002017131309685928,
          0.000002015301275426206,
          0.0000020128686007852367,
          0.0000020098260640874167,
          0.0000020061670680815218,
          0.0000020018856756800523,
          0.0000019969766441059537,
          0.000001991435457288704,
          0.0000019852583563593893,
          0.000001978442368102739,
          0.0000019709853312330955,
          0.0000019628859203709666,
          0.0000019541436676069908,
          0.0000019447589815508867,
          0.0000019347331637741136,
          0.000001924068422566542,
          0.0000019127678839393343,
          0.000001900835599818349,
          0.0000018882765533848009,
          0.000001875096661532316,
          0.0000018613027744221603,
          0.0000018469026721309,
          0.0000018319050583973344,
          0.0000018163195514878401,
          0.0000018001566722115267,
          0.000001783427829128521
         ],
         "yaxis": "y"
        }
       ],
       "layout": {
        "barmode": "overlay",
        "height": 620,
        "hovermode": "closest",
        "legend": {
         "traceorder": "reversed"
        },
        "template": {
         "data": {
          "bar": [
           {
            "error_x": {
             "color": "rgb(36,36,36)"
            },
            "error_y": {
             "color": "rgb(36,36,36)"
            },
            "marker": {
             "line": {
              "color": "white",
              "width": 0.5
             },
             "pattern": {
              "fillmode": "overlay",
              "size": 10,
              "solidity": 0.2
             }
            },
            "type": "bar"
           }
          ],
          "barpolar": [
           {
            "marker": {
             "line": {
              "color": "white",
              "width": 0.5
             },
             "pattern": {
              "fillmode": "overlay",
              "size": 10,
              "solidity": 0.2
             }
            },
            "type": "barpolar"
           }
          ],
          "carpet": [
           {
            "aaxis": {
             "endlinecolor": "rgb(36,36,36)",
             "gridcolor": "white",
             "linecolor": "white",
             "minorgridcolor": "white",
             "startlinecolor": "rgb(36,36,36)"
            },
            "baxis": {
             "endlinecolor": "rgb(36,36,36)",
             "gridcolor": "white",
             "linecolor": "white",
             "minorgridcolor": "white",
             "startlinecolor": "rgb(36,36,36)"
            },
            "type": "carpet"
           }
          ],
          "choropleth": [
           {
            "colorbar": {
             "outlinewidth": 1,
             "tickcolor": "rgb(36,36,36)",
             "ticks": "outside"
            },
            "type": "choropleth"
           }
          ],
          "contour": [
           {
            "colorbar": {
             "outlinewidth": 1,
             "tickcolor": "rgb(36,36,36)",
             "ticks": "outside"
            },
            "colorscale": [
             [
              0,
              "#440154"
             ],
             [
              0.1111111111111111,
              "#482878"
             ],
             [
              0.2222222222222222,
              "#3e4989"
             ],
             [
              0.3333333333333333,
              "#31688e"
             ],
             [
              0.4444444444444444,
              "#26828e"
             ],
             [
              0.5555555555555556,
              "#1f9e89"
             ],
             [
              0.6666666666666666,
              "#35b779"
             ],
             [
              0.7777777777777778,
              "#6ece58"
             ],
             [
              0.8888888888888888,
              "#b5de2b"
             ],
             [
              1,
              "#fde725"
             ]
            ],
            "type": "contour"
           }
          ],
          "contourcarpet": [
           {
            "colorbar": {
             "outlinewidth": 1,
             "tickcolor": "rgb(36,36,36)",
             "ticks": "outside"
            },
            "type": "contourcarpet"
           }
          ],
          "heatmap": [
           {
            "colorbar": {
             "outlinewidth": 1,
             "tickcolor": "rgb(36,36,36)",
             "ticks": "outside"
            },
            "colorscale": [
             [
              0,
              "#440154"
             ],
             [
              0.1111111111111111,
              "#482878"
             ],
             [
              0.2222222222222222,
              "#3e4989"
             ],
             [
              0.3333333333333333,
              "#31688e"
             ],
             [
              0.4444444444444444,
              "#26828e"
             ],
             [
              0.5555555555555556,
              "#1f9e89"
             ],
             [
              0.6666666666666666,
              "#35b779"
             ],
             [
              0.7777777777777778,
              "#6ece58"
             ],
             [
              0.8888888888888888,
              "#b5de2b"
             ],
             [
              1,
              "#fde725"
             ]
            ],
            "type": "heatmap"
           }
          ],
          "heatmapgl": [
           {
            "colorbar": {
             "outlinewidth": 1,
             "tickcolor": "rgb(36,36,36)",
             "ticks": "outside"
            },
            "colorscale": [
             [
              0,
              "#440154"
             ],
             [
              0.1111111111111111,
              "#482878"
             ],
             [
              0.2222222222222222,
              "#3e4989"
             ],
             [
              0.3333333333333333,
              "#31688e"
             ],
             [
              0.4444444444444444,
              "#26828e"
             ],
             [
              0.5555555555555556,
              "#1f9e89"
             ],
             [
              0.6666666666666666,
              "#35b779"
             ],
             [
              0.7777777777777778,
              "#6ece58"
             ],
             [
              0.8888888888888888,
              "#b5de2b"
             ],
             [
              1,
              "#fde725"
             ]
            ],
            "type": "heatmapgl"
           }
          ],
          "histogram": [
           {
            "marker": {
             "line": {
              "color": "white",
              "width": 0.6
             }
            },
            "type": "histogram"
           }
          ],
          "histogram2d": [
           {
            "colorbar": {
             "outlinewidth": 1,
             "tickcolor": "rgb(36,36,36)",
             "ticks": "outside"
            },
            "colorscale": [
             [
              0,
              "#440154"
             ],
             [
              0.1111111111111111,
              "#482878"
             ],
             [
              0.2222222222222222,
              "#3e4989"
             ],
             [
              0.3333333333333333,
              "#31688e"
             ],
             [
              0.4444444444444444,
              "#26828e"
             ],
             [
              0.5555555555555556,
              "#1f9e89"
             ],
             [
              0.6666666666666666,
              "#35b779"
             ],
             [
              0.7777777777777778,
              "#6ece58"
             ],
             [
              0.8888888888888888,
              "#b5de2b"
             ],
             [
              1,
              "#fde725"
             ]
            ],
            "type": "histogram2d"
           }
          ],
          "histogram2dcontour": [
           {
            "colorbar": {
             "outlinewidth": 1,
             "tickcolor": "rgb(36,36,36)",
             "ticks": "outside"
            },
            "colorscale": [
             [
              0,
              "#440154"
             ],
             [
              0.1111111111111111,
              "#482878"
             ],
             [
              0.2222222222222222,
              "#3e4989"
             ],
             [
              0.3333333333333333,
              "#31688e"
             ],
             [
              0.4444444444444444,
              "#26828e"
             ],
             [
              0.5555555555555556,
              "#1f9e89"
             ],
             [
              0.6666666666666666,
              "#35b779"
             ],
             [
              0.7777777777777778,
              "#6ece58"
             ],
             [
              0.8888888888888888,
              "#b5de2b"
             ],
             [
              1,
              "#fde725"
             ]
            ],
            "type": "histogram2dcontour"
           }
          ],
          "mesh3d": [
           {
            "colorbar": {
             "outlinewidth": 1,
             "tickcolor": "rgb(36,36,36)",
             "ticks": "outside"
            },
            "type": "mesh3d"
           }
          ],
          "parcoords": [
           {
            "line": {
             "colorbar": {
              "outlinewidth": 1,
              "tickcolor": "rgb(36,36,36)",
              "ticks": "outside"
             }
            },
            "type": "parcoords"
           }
          ],
          "pie": [
           {
            "automargin": true,
            "type": "pie"
           }
          ],
          "scatter": [
           {
            "fillpattern": {
             "fillmode": "overlay",
             "size": 10,
             "solidity": 0.2
            },
            "type": "scatter"
           }
          ],
          "scatter3d": [
           {
            "line": {
             "colorbar": {
              "outlinewidth": 1,
              "tickcolor": "rgb(36,36,36)",
              "ticks": "outside"
             }
            },
            "marker": {
             "colorbar": {
              "outlinewidth": 1,
              "tickcolor": "rgb(36,36,36)",
              "ticks": "outside"
             }
            },
            "type": "scatter3d"
           }
          ],
          "scattercarpet": [
           {
            "marker": {
             "colorbar": {
              "outlinewidth": 1,
              "tickcolor": "rgb(36,36,36)",
              "ticks": "outside"
             }
            },
            "type": "scattercarpet"
           }
          ],
          "scattergeo": [
           {
            "marker": {
             "colorbar": {
              "outlinewidth": 1,
              "tickcolor": "rgb(36,36,36)",
              "ticks": "outside"
             }
            },
            "type": "scattergeo"
           }
          ],
          "scattergl": [
           {
            "marker": {
             "colorbar": {
              "outlinewidth": 1,
              "tickcolor": "rgb(36,36,36)",
              "ticks": "outside"
             }
            },
            "type": "scattergl"
           }
          ],
          "scattermapbox": [
           {
            "marker": {
             "colorbar": {
              "outlinewidth": 1,
              "tickcolor": "rgb(36,36,36)",
              "ticks": "outside"
             }
            },
            "type": "scattermapbox"
           }
          ],
          "scatterpolar": [
           {
            "marker": {
             "colorbar": {
              "outlinewidth": 1,
              "tickcolor": "rgb(36,36,36)",
              "ticks": "outside"
             }
            },
            "type": "scatterpolar"
           }
          ],
          "scatterpolargl": [
           {
            "marker": {
             "colorbar": {
              "outlinewidth": 1,
              "tickcolor": "rgb(36,36,36)",
              "ticks": "outside"
             }
            },
            "type": "scatterpolargl"
           }
          ],
          "scatterternary": [
           {
            "marker": {
             "colorbar": {
              "outlinewidth": 1,
              "tickcolor": "rgb(36,36,36)",
              "ticks": "outside"
             }
            },
            "type": "scatterternary"
           }
          ],
          "surface": [
           {
            "colorbar": {
             "outlinewidth": 1,
             "tickcolor": "rgb(36,36,36)",
             "ticks": "outside"
            },
            "colorscale": [
             [
              0,
              "#440154"
             ],
             [
              0.1111111111111111,
              "#482878"
             ],
             [
              0.2222222222222222,
              "#3e4989"
             ],
             [
              0.3333333333333333,
              "#31688e"
             ],
             [
              0.4444444444444444,
              "#26828e"
             ],
             [
              0.5555555555555556,
              "#1f9e89"
             ],
             [
              0.6666666666666666,
              "#35b779"
             ],
             [
              0.7777777777777778,
              "#6ece58"
             ],
             [
              0.8888888888888888,
              "#b5de2b"
             ],
             [
              1,
              "#fde725"
             ]
            ],
            "type": "surface"
           }
          ],
          "table": [
           {
            "cells": {
             "fill": {
              "color": "rgb(237,237,237)"
             },
             "line": {
              "color": "white"
             }
            },
            "header": {
             "fill": {
              "color": "rgb(217,217,217)"
             },
             "line": {
              "color": "white"
             }
            },
            "type": "table"
           }
          ]
         },
         "layout": {
          "annotationdefaults": {
           "arrowhead": 0,
           "arrowwidth": 1
          },
          "autotypenumbers": "strict",
          "coloraxis": {
           "colorbar": {
            "outlinewidth": 1,
            "tickcolor": "rgb(36,36,36)",
            "ticks": "outside"
           }
          },
          "colorscale": {
           "diverging": [
            [
             0,
             "rgb(103,0,31)"
            ],
            [
             0.1,
             "rgb(178,24,43)"
            ],
            [
             0.2,
             "rgb(214,96,77)"
            ],
            [
             0.3,
             "rgb(244,165,130)"
            ],
            [
             0.4,
             "rgb(253,219,199)"
            ],
            [
             0.5,
             "rgb(247,247,247)"
            ],
            [
             0.6,
             "rgb(209,229,240)"
            ],
            [
             0.7,
             "rgb(146,197,222)"
            ],
            [
             0.8,
             "rgb(67,147,195)"
            ],
            [
             0.9,
             "rgb(33,102,172)"
            ],
            [
             1,
             "rgb(5,48,97)"
            ]
           ],
           "sequential": [
            [
             0,
             "#440154"
            ],
            [
             0.1111111111111111,
             "#482878"
            ],
            [
             0.2222222222222222,
             "#3e4989"
            ],
            [
             0.3333333333333333,
             "#31688e"
            ],
            [
             0.4444444444444444,
             "#26828e"
            ],
            [
             0.5555555555555556,
             "#1f9e89"
            ],
            [
             0.6666666666666666,
             "#35b779"
            ],
            [
             0.7777777777777778,
             "#6ece58"
            ],
            [
             0.8888888888888888,
             "#b5de2b"
            ],
            [
             1,
             "#fde725"
            ]
           ],
           "sequentialminus": [
            [
             0,
             "#440154"
            ],
            [
             0.1111111111111111,
             "#482878"
            ],
            [
             0.2222222222222222,
             "#3e4989"
            ],
            [
             0.3333333333333333,
             "#31688e"
            ],
            [
             0.4444444444444444,
             "#26828e"
            ],
            [
             0.5555555555555556,
             "#1f9e89"
            ],
            [
             0.6666666666666666,
             "#35b779"
            ],
            [
             0.7777777777777778,
             "#6ece58"
            ],
            [
             0.8888888888888888,
             "#b5de2b"
            ],
            [
             1,
             "#fde725"
            ]
           ]
          },
          "colorway": [
           "#1F77B4",
           "#FF7F0E",
           "#2CA02C",
           "#D62728",
           "#9467BD",
           "#8C564B",
           "#E377C2",
           "#7F7F7F",
           "#BCBD22",
           "#17BECF"
          ],
          "font": {
           "color": "rgb(36,36,36)"
          },
          "geo": {
           "bgcolor": "white",
           "lakecolor": "white",
           "landcolor": "white",
           "showlakes": true,
           "showland": true,
           "subunitcolor": "white"
          },
          "hoverlabel": {
           "align": "left"
          },
          "hovermode": "closest",
          "mapbox": {
           "style": "light"
          },
          "paper_bgcolor": "white",
          "plot_bgcolor": "white",
          "polar": {
           "angularaxis": {
            "gridcolor": "rgb(232,232,232)",
            "linecolor": "rgb(36,36,36)",
            "showgrid": false,
            "showline": true,
            "ticks": "outside"
           },
           "bgcolor": "white",
           "radialaxis": {
            "gridcolor": "rgb(232,232,232)",
            "linecolor": "rgb(36,36,36)",
            "showgrid": false,
            "showline": true,
            "ticks": "outside"
           }
          },
          "scene": {
           "xaxis": {
            "backgroundcolor": "white",
            "gridcolor": "rgb(232,232,232)",
            "gridwidth": 2,
            "linecolor": "rgb(36,36,36)",
            "showbackground": true,
            "showgrid": false,
            "showline": true,
            "ticks": "outside",
            "zeroline": false,
            "zerolinecolor": "rgb(36,36,36)"
           },
           "yaxis": {
            "backgroundcolor": "white",
            "gridcolor": "rgb(232,232,232)",
            "gridwidth": 2,
            "linecolor": "rgb(36,36,36)",
            "showbackground": true,
            "showgrid": false,
            "showline": true,
            "ticks": "outside",
            "zeroline": false,
            "zerolinecolor": "rgb(36,36,36)"
           },
           "zaxis": {
            "backgroundcolor": "white",
            "gridcolor": "rgb(232,232,232)",
            "gridwidth": 2,
            "linecolor": "rgb(36,36,36)",
            "showbackground": true,
            "showgrid": false,
            "showline": true,
            "ticks": "outside",
            "zeroline": false,
            "zerolinecolor": "rgb(36,36,36)"
           }
          },
          "shapedefaults": {
           "fillcolor": "black",
           "line": {
            "width": 0
           },
           "opacity": 0.3
          },
          "ternary": {
           "aaxis": {
            "gridcolor": "rgb(232,232,232)",
            "linecolor": "rgb(36,36,36)",
            "showgrid": false,
            "showline": true,
            "ticks": "outside"
           },
           "baxis": {
            "gridcolor": "rgb(232,232,232)",
            "linecolor": "rgb(36,36,36)",
            "showgrid": false,
            "showline": true,
            "ticks": "outside"
           },
           "bgcolor": "white",
           "caxis": {
            "gridcolor": "rgb(232,232,232)",
            "linecolor": "rgb(36,36,36)",
            "showgrid": false,
            "showline": true,
            "ticks": "outside"
           }
          },
          "title": {
           "x": 0.05
          },
          "xaxis": {
           "automargin": true,
           "gridcolor": "rgb(232,232,232)",
           "linecolor": "rgb(36,36,36)",
           "showgrid": false,
           "showline": true,
           "ticks": "outside",
           "title": {
            "standoff": 15
           },
           "zeroline": false,
           "zerolinecolor": "rgb(36,36,36)"
          },
          "yaxis": {
           "automargin": true,
           "gridcolor": "rgb(232,232,232)",
           "linecolor": "rgb(36,36,36)",
           "showgrid": false,
           "showline": true,
           "ticks": "outside",
           "title": {
            "standoff": 15
           },
           "zeroline": false,
           "zerolinecolor": "rgb(36,36,36)"
          }
         }
        },
        "title": {
         "text": "Histograma de Total de Vendas"
        },
        "width": 800,
        "xaxis": {
         "anchor": "y2",
         "domain": [
          0,
          1
         ],
         "zeroline": false
        },
        "yaxis": {
         "anchor": "free",
         "domain": [
          0,
          1
         ],
         "position": 0
        }
       }
      }
     },
     "metadata": {},
     "output_type": "display_data"
    }
   ],
   "source": [
    "# Plotando o histograma para a variável Total de Vendas\n",
    "histograma(dados, 'Total de Vendas', nbins=20)"
   ]
  },
  {
   "cell_type": "markdown",
   "id": "4eb07735",
   "metadata": {},
   "source": [
    "### Normalidade"
   ]
  },
  {
   "cell_type": "markdown",
   "id": "e3b0aa01",
   "metadata": {},
   "source": [
    "$H_{0}$: Os dados seguem uma distribuição normal\n",
    "\n",
    "$H_{1}$: Os dados não seguem a distribuição normal"
   ]
  },
  {
   "cell_type": "code",
   "execution_count": 190,
   "id": "34359a7b",
   "metadata": {},
   "outputs": [],
   "source": [
    "from scipy import stats # Biblioteca para testes estatísticos "
   ]
  },
  {
   "cell_type": "code",
   "execution_count": 191,
   "id": "7a2bd664",
   "metadata": {},
   "outputs": [],
   "source": [
    "# Função de normalidade\n",
    "def normalidade(df, coluna):\n",
    "    # Define a função 'normalidade' para testar a normalidade de uma coluna numérica.\n",
    "\n",
    "    try:\n",
    "        # Realiza o teste de Shapiro-Wilk para verificar a normalidade.\n",
    "        stat, p = stats.shapiro(df[coluna].dropna())\n",
    "        print(f\"Estatística de Shapiro-Wilk: {stat}, p-valor: {p}\")\n",
    "\n",
    "        # Interpreta o p-valor.\n",
    "        alpha = 0.05\n",
    "        if p > alpha:\n",
    "            print(\"A amostra parece ser normalmente distribuída (não rejeita H0)\")\n",
    "        else:\n",
    "            print(\"A amostra não parece ser normalmente distribuída (rejeita H0)\")\n",
    "\n",
    "    except Exception as e:\n",
    "        print(f\"Erro ao testar normalidade: {e}\")"
   ]
  },
  {
   "cell_type": "code",
   "execution_count": 192,
   "id": "b9f5d911",
   "metadata": {},
   "outputs": [
    {
     "name": "stdout",
     "output_type": "stream",
     "text": [
      "\n",
      "Teste de normalidade para a coluna: Preço\n",
      "Estatística de Shapiro-Wilk: 0.6177600944405379, p-valor: 4.980972984625701e-13\n",
      "A amostra não parece ser normalmente distribuída (rejeita H0)\n",
      "\n",
      "Teste de normalidade para a coluna: Quantidade\n",
      "Estatística de Shapiro-Wilk: 0.7744304715077358, p-valor: 1.1418757897687474e-09\n",
      "A amostra não parece ser normalmente distribuída (rejeita H0)\n",
      "\n",
      "Teste de normalidade para a coluna: Total de Vendas\n",
      "Estatística de Shapiro-Wilk: 0.6370711686247477, p-valor: 1.1291906877602309e-12\n",
      "A amostra não parece ser normalmente distribuída (rejeita H0)\n"
     ]
    }
   ],
   "source": [
    "for coluna in ['Preço', 'Quantidade', 'Total de Vendas']:\n",
    "    print(f\"\\nTeste de normalidade para a coluna: {coluna}\")\n",
    "    normalidade(dados, coluna)"
   ]
  },
  {
   "cell_type": "markdown",
   "id": "d97094c4",
   "metadata": {},
   "source": [
    "Podemos concluir que não há evidências estatísticas indicando que nossas colunas seguem uma distribuição normal."
   ]
  },
  {
   "cell_type": "markdown",
   "id": "0d84ca70",
   "metadata": {},
   "source": [
    "## Gráficos de linhas"
   ]
  },
  {
   "cell_type": "code",
   "execution_count": 193,
   "id": "c26891f1",
   "metadata": {},
   "outputs": [],
   "source": [
    "def grafico_de_linhas(df, valor:str):\n",
    "    # Gera um gráfico de linha temporal para a coluna 'valor'.\n",
    "\n",
    "    try:\n",
    "        df = df.sort_values(by='Data')  # Garante que os dados estejam ordenados pela coluna 'Data'.\n",
    "        # Cria o gráfico de linha: \n",
    "        fig = px.line(df, x='Data', y=valor, title=f'Gráfico de Linha: {valor} ao longo do tempo', markers=True)\n",
    "\n",
    "        fig.update_layout(width=900, height=600, template=\"simple_white\") # Define dimensões e tema do gráfico.\n",
    "        fig.show() # Exibe o gráfico interativo.\n",
    "\n",
    "    except Exception as e:\n",
    "        print(f\"Erro ao criar o gráfico de linhas: {e}\") # Reporta o erro (ex: coluna 'Data' ou 'valor' não existe)."
   ]
  },
  {
   "cell_type": "code",
   "execution_count": 194,
   "id": "5dfe1f0c",
   "metadata": {},
   "outputs": [
    {
     "data": {
      "application/vnd.plotly.v1+json": {
       "config": {
        "plotlyServerURL": "https://plot.ly"
       },
       "data": [
        {
         "hovertemplate": "Data=%{x}<br>Preço=%{y}<extra></extra>",
         "legendgroup": "",
         "line": {
          "color": "#636efa",
          "dash": "solid"
         },
         "marker": {
          "symbol": "circle"
         },
         "mode": "lines+markers",
         "name": "",
         "orientation": "v",
         "showlegend": false,
         "type": "scatter",
         "x": [
          "2023-01-01",
          "2023-01-06",
          "2023-01-15",
          "2023-01-16",
          "2023-01-18",
          "2023-01-19",
          "2023-01-20",
          "2023-01-25",
          "2023-01-26",
          "2023-01-28",
          "2023-02-05",
          "2023-02-07",
          "2023-02-12",
          "2023-02-24",
          "2023-02-28",
          "2023-03-03",
          "2023-03-13",
          "2023-03-19",
          "2023-03-22",
          "2023-03-25",
          "2023-04-01",
          "2023-04-07",
          "2023-04-08",
          "2023-04-16",
          "2023-04-19",
          "2023-04-22",
          "2023-04-23",
          "2023-04-28",
          "2023-04-29",
          "2023-05-01",
          "2023-05-02",
          "2023-05-11",
          "2023-05-13",
          "2023-05-26",
          "2023-05-28",
          "2023-06-05",
          "2023-06-12",
          "2023-06-13",
          "2023-06-18",
          "2023-06-19",
          "2023-06-23",
          "2023-06-26",
          "2023-06-28",
          "2023-06-30",
          "2023-07-03",
          "2023-07-07",
          "2023-07-07",
          "2023-07-08",
          "2023-07-08",
          "2023-07-10",
          "2023-07-11",
          "2023-07-13",
          "2023-08-05",
          "2023-08-05",
          "2023-08-21",
          "2023-08-24",
          "2023-08-26",
          "2023-09-02",
          "2023-09-11",
          "2023-09-26",
          "2023-10-02",
          "2023-10-04",
          "2023-10-07",
          "2023-10-07",
          "2023-10-17",
          "2023-10-21",
          "2023-10-22",
          "2023-10-22",
          "2023-10-24",
          "2023-10-30",
          "2023-10-30",
          "2023-11-13",
          "2023-11-21",
          "2023-11-27",
          "2023-11-29",
          "2023-12-15",
          "2023-12-25",
          "2023-12-27",
          "2023-12-29"
         ],
         "xaxis": "x",
         "y": [
          250.35,
          785.35,
          378.08,
          4732.64,
          137.91,
          527.82,
          165.84,
          444.64,
          1069.32,
          2421.11,
          958.81,
          324.72,
          577.23,
          59.51,
          468.23,
          1036.01,
          696.2,
          587.83,
          1938.78,
          376.23,
          57.45,
          419.31,
          1707.57,
          4191.46,
          1657.05,
          585.94,
          469.51,
          615.12,
          673.89,
          385.59,
          466.25,
          5473.04,
          656.71,
          387.06,
          75.22,
          4768.01,
          629.76,
          550.65,
          411.41,
          119.45,
          565.63,
          674.18,
          1798.47,
          506.78,
          569.99,
          1346.74,
          999.83,
          663.82,
          347.42,
          577.36,
          50.12,
          949.79,
          595.06,
          168.26,
          452.3,
          5275.22,
          641.13,
          5159.9,
          1253.09,
          356.68,
          5412.77,
          293.93,
          537.49,
          463.81,
          440.26,
          316.68,
          2054.2,
          82.82,
          60.61,
          238.51,
          342.85,
          692.69,
          505.58,
          1263.57,
          1209.48,
          222.58,
          90.72,
          491.05,
          936.03
         ],
         "yaxis": "y"
        }
       ],
       "layout": {
        "height": 600,
        "legend": {
         "tracegroupgap": 0
        },
        "template": {
         "data": {
          "bar": [
           {
            "error_x": {
             "color": "rgb(36,36,36)"
            },
            "error_y": {
             "color": "rgb(36,36,36)"
            },
            "marker": {
             "line": {
              "color": "white",
              "width": 0.5
             },
             "pattern": {
              "fillmode": "overlay",
              "size": 10,
              "solidity": 0.2
             }
            },
            "type": "bar"
           }
          ],
          "barpolar": [
           {
            "marker": {
             "line": {
              "color": "white",
              "width": 0.5
             },
             "pattern": {
              "fillmode": "overlay",
              "size": 10,
              "solidity": 0.2
             }
            },
            "type": "barpolar"
           }
          ],
          "carpet": [
           {
            "aaxis": {
             "endlinecolor": "rgb(36,36,36)",
             "gridcolor": "white",
             "linecolor": "white",
             "minorgridcolor": "white",
             "startlinecolor": "rgb(36,36,36)"
            },
            "baxis": {
             "endlinecolor": "rgb(36,36,36)",
             "gridcolor": "white",
             "linecolor": "white",
             "minorgridcolor": "white",
             "startlinecolor": "rgb(36,36,36)"
            },
            "type": "carpet"
           }
          ],
          "choropleth": [
           {
            "colorbar": {
             "outlinewidth": 1,
             "tickcolor": "rgb(36,36,36)",
             "ticks": "outside"
            },
            "type": "choropleth"
           }
          ],
          "contour": [
           {
            "colorbar": {
             "outlinewidth": 1,
             "tickcolor": "rgb(36,36,36)",
             "ticks": "outside"
            },
            "colorscale": [
             [
              0,
              "#440154"
             ],
             [
              0.1111111111111111,
              "#482878"
             ],
             [
              0.2222222222222222,
              "#3e4989"
             ],
             [
              0.3333333333333333,
              "#31688e"
             ],
             [
              0.4444444444444444,
              "#26828e"
             ],
             [
              0.5555555555555556,
              "#1f9e89"
             ],
             [
              0.6666666666666666,
              "#35b779"
             ],
             [
              0.7777777777777778,
              "#6ece58"
             ],
             [
              0.8888888888888888,
              "#b5de2b"
             ],
             [
              1,
              "#fde725"
             ]
            ],
            "type": "contour"
           }
          ],
          "contourcarpet": [
           {
            "colorbar": {
             "outlinewidth": 1,
             "tickcolor": "rgb(36,36,36)",
             "ticks": "outside"
            },
            "type": "contourcarpet"
           }
          ],
          "heatmap": [
           {
            "colorbar": {
             "outlinewidth": 1,
             "tickcolor": "rgb(36,36,36)",
             "ticks": "outside"
            },
            "colorscale": [
             [
              0,
              "#440154"
             ],
             [
              0.1111111111111111,
              "#482878"
             ],
             [
              0.2222222222222222,
              "#3e4989"
             ],
             [
              0.3333333333333333,
              "#31688e"
             ],
             [
              0.4444444444444444,
              "#26828e"
             ],
             [
              0.5555555555555556,
              "#1f9e89"
             ],
             [
              0.6666666666666666,
              "#35b779"
             ],
             [
              0.7777777777777778,
              "#6ece58"
             ],
             [
              0.8888888888888888,
              "#b5de2b"
             ],
             [
              1,
              "#fde725"
             ]
            ],
            "type": "heatmap"
           }
          ],
          "heatmapgl": [
           {
            "colorbar": {
             "outlinewidth": 1,
             "tickcolor": "rgb(36,36,36)",
             "ticks": "outside"
            },
            "colorscale": [
             [
              0,
              "#440154"
             ],
             [
              0.1111111111111111,
              "#482878"
             ],
             [
              0.2222222222222222,
              "#3e4989"
             ],
             [
              0.3333333333333333,
              "#31688e"
             ],
             [
              0.4444444444444444,
              "#26828e"
             ],
             [
              0.5555555555555556,
              "#1f9e89"
             ],
             [
              0.6666666666666666,
              "#35b779"
             ],
             [
              0.7777777777777778,
              "#6ece58"
             ],
             [
              0.8888888888888888,
              "#b5de2b"
             ],
             [
              1,
              "#fde725"
             ]
            ],
            "type": "heatmapgl"
           }
          ],
          "histogram": [
           {
            "marker": {
             "line": {
              "color": "white",
              "width": 0.6
             }
            },
            "type": "histogram"
           }
          ],
          "histogram2d": [
           {
            "colorbar": {
             "outlinewidth": 1,
             "tickcolor": "rgb(36,36,36)",
             "ticks": "outside"
            },
            "colorscale": [
             [
              0,
              "#440154"
             ],
             [
              0.1111111111111111,
              "#482878"
             ],
             [
              0.2222222222222222,
              "#3e4989"
             ],
             [
              0.3333333333333333,
              "#31688e"
             ],
             [
              0.4444444444444444,
              "#26828e"
             ],
             [
              0.5555555555555556,
              "#1f9e89"
             ],
             [
              0.6666666666666666,
              "#35b779"
             ],
             [
              0.7777777777777778,
              "#6ece58"
             ],
             [
              0.8888888888888888,
              "#b5de2b"
             ],
             [
              1,
              "#fde725"
             ]
            ],
            "type": "histogram2d"
           }
          ],
          "histogram2dcontour": [
           {
            "colorbar": {
             "outlinewidth": 1,
             "tickcolor": "rgb(36,36,36)",
             "ticks": "outside"
            },
            "colorscale": [
             [
              0,
              "#440154"
             ],
             [
              0.1111111111111111,
              "#482878"
             ],
             [
              0.2222222222222222,
              "#3e4989"
             ],
             [
              0.3333333333333333,
              "#31688e"
             ],
             [
              0.4444444444444444,
              "#26828e"
             ],
             [
              0.5555555555555556,
              "#1f9e89"
             ],
             [
              0.6666666666666666,
              "#35b779"
             ],
             [
              0.7777777777777778,
              "#6ece58"
             ],
             [
              0.8888888888888888,
              "#b5de2b"
             ],
             [
              1,
              "#fde725"
             ]
            ],
            "type": "histogram2dcontour"
           }
          ],
          "mesh3d": [
           {
            "colorbar": {
             "outlinewidth": 1,
             "tickcolor": "rgb(36,36,36)",
             "ticks": "outside"
            },
            "type": "mesh3d"
           }
          ],
          "parcoords": [
           {
            "line": {
             "colorbar": {
              "outlinewidth": 1,
              "tickcolor": "rgb(36,36,36)",
              "ticks": "outside"
             }
            },
            "type": "parcoords"
           }
          ],
          "pie": [
           {
            "automargin": true,
            "type": "pie"
           }
          ],
          "scatter": [
           {
            "fillpattern": {
             "fillmode": "overlay",
             "size": 10,
             "solidity": 0.2
            },
            "type": "scatter"
           }
          ],
          "scatter3d": [
           {
            "line": {
             "colorbar": {
              "outlinewidth": 1,
              "tickcolor": "rgb(36,36,36)",
              "ticks": "outside"
             }
            },
            "marker": {
             "colorbar": {
              "outlinewidth": 1,
              "tickcolor": "rgb(36,36,36)",
              "ticks": "outside"
             }
            },
            "type": "scatter3d"
           }
          ],
          "scattercarpet": [
           {
            "marker": {
             "colorbar": {
              "outlinewidth": 1,
              "tickcolor": "rgb(36,36,36)",
              "ticks": "outside"
             }
            },
            "type": "scattercarpet"
           }
          ],
          "scattergeo": [
           {
            "marker": {
             "colorbar": {
              "outlinewidth": 1,
              "tickcolor": "rgb(36,36,36)",
              "ticks": "outside"
             }
            },
            "type": "scattergeo"
           }
          ],
          "scattergl": [
           {
            "marker": {
             "colorbar": {
              "outlinewidth": 1,
              "tickcolor": "rgb(36,36,36)",
              "ticks": "outside"
             }
            },
            "type": "scattergl"
           }
          ],
          "scattermapbox": [
           {
            "marker": {
             "colorbar": {
              "outlinewidth": 1,
              "tickcolor": "rgb(36,36,36)",
              "ticks": "outside"
             }
            },
            "type": "scattermapbox"
           }
          ],
          "scatterpolar": [
           {
            "marker": {
             "colorbar": {
              "outlinewidth": 1,
              "tickcolor": "rgb(36,36,36)",
              "ticks": "outside"
             }
            },
            "type": "scatterpolar"
           }
          ],
          "scatterpolargl": [
           {
            "marker": {
             "colorbar": {
              "outlinewidth": 1,
              "tickcolor": "rgb(36,36,36)",
              "ticks": "outside"
             }
            },
            "type": "scatterpolargl"
           }
          ],
          "scatterternary": [
           {
            "marker": {
             "colorbar": {
              "outlinewidth": 1,
              "tickcolor": "rgb(36,36,36)",
              "ticks": "outside"
             }
            },
            "type": "scatterternary"
           }
          ],
          "surface": [
           {
            "colorbar": {
             "outlinewidth": 1,
             "tickcolor": "rgb(36,36,36)",
             "ticks": "outside"
            },
            "colorscale": [
             [
              0,
              "#440154"
             ],
             [
              0.1111111111111111,
              "#482878"
             ],
             [
              0.2222222222222222,
              "#3e4989"
             ],
             [
              0.3333333333333333,
              "#31688e"
             ],
             [
              0.4444444444444444,
              "#26828e"
             ],
             [
              0.5555555555555556,
              "#1f9e89"
             ],
             [
              0.6666666666666666,
              "#35b779"
             ],
             [
              0.7777777777777778,
              "#6ece58"
             ],
             [
              0.8888888888888888,
              "#b5de2b"
             ],
             [
              1,
              "#fde725"
             ]
            ],
            "type": "surface"
           }
          ],
          "table": [
           {
            "cells": {
             "fill": {
              "color": "rgb(237,237,237)"
             },
             "line": {
              "color": "white"
             }
            },
            "header": {
             "fill": {
              "color": "rgb(217,217,217)"
             },
             "line": {
              "color": "white"
             }
            },
            "type": "table"
           }
          ]
         },
         "layout": {
          "annotationdefaults": {
           "arrowhead": 0,
           "arrowwidth": 1
          },
          "autotypenumbers": "strict",
          "coloraxis": {
           "colorbar": {
            "outlinewidth": 1,
            "tickcolor": "rgb(36,36,36)",
            "ticks": "outside"
           }
          },
          "colorscale": {
           "diverging": [
            [
             0,
             "rgb(103,0,31)"
            ],
            [
             0.1,
             "rgb(178,24,43)"
            ],
            [
             0.2,
             "rgb(214,96,77)"
            ],
            [
             0.3,
             "rgb(244,165,130)"
            ],
            [
             0.4,
             "rgb(253,219,199)"
            ],
            [
             0.5,
             "rgb(247,247,247)"
            ],
            [
             0.6,
             "rgb(209,229,240)"
            ],
            [
             0.7,
             "rgb(146,197,222)"
            ],
            [
             0.8,
             "rgb(67,147,195)"
            ],
            [
             0.9,
             "rgb(33,102,172)"
            ],
            [
             1,
             "rgb(5,48,97)"
            ]
           ],
           "sequential": [
            [
             0,
             "#440154"
            ],
            [
             0.1111111111111111,
             "#482878"
            ],
            [
             0.2222222222222222,
             "#3e4989"
            ],
            [
             0.3333333333333333,
             "#31688e"
            ],
            [
             0.4444444444444444,
             "#26828e"
            ],
            [
             0.5555555555555556,
             "#1f9e89"
            ],
            [
             0.6666666666666666,
             "#35b779"
            ],
            [
             0.7777777777777778,
             "#6ece58"
            ],
            [
             0.8888888888888888,
             "#b5de2b"
            ],
            [
             1,
             "#fde725"
            ]
           ],
           "sequentialminus": [
            [
             0,
             "#440154"
            ],
            [
             0.1111111111111111,
             "#482878"
            ],
            [
             0.2222222222222222,
             "#3e4989"
            ],
            [
             0.3333333333333333,
             "#31688e"
            ],
            [
             0.4444444444444444,
             "#26828e"
            ],
            [
             0.5555555555555556,
             "#1f9e89"
            ],
            [
             0.6666666666666666,
             "#35b779"
            ],
            [
             0.7777777777777778,
             "#6ece58"
            ],
            [
             0.8888888888888888,
             "#b5de2b"
            ],
            [
             1,
             "#fde725"
            ]
           ]
          },
          "colorway": [
           "#1F77B4",
           "#FF7F0E",
           "#2CA02C",
           "#D62728",
           "#9467BD",
           "#8C564B",
           "#E377C2",
           "#7F7F7F",
           "#BCBD22",
           "#17BECF"
          ],
          "font": {
           "color": "rgb(36,36,36)"
          },
          "geo": {
           "bgcolor": "white",
           "lakecolor": "white",
           "landcolor": "white",
           "showlakes": true,
           "showland": true,
           "subunitcolor": "white"
          },
          "hoverlabel": {
           "align": "left"
          },
          "hovermode": "closest",
          "mapbox": {
           "style": "light"
          },
          "paper_bgcolor": "white",
          "plot_bgcolor": "white",
          "polar": {
           "angularaxis": {
            "gridcolor": "rgb(232,232,232)",
            "linecolor": "rgb(36,36,36)",
            "showgrid": false,
            "showline": true,
            "ticks": "outside"
           },
           "bgcolor": "white",
           "radialaxis": {
            "gridcolor": "rgb(232,232,232)",
            "linecolor": "rgb(36,36,36)",
            "showgrid": false,
            "showline": true,
            "ticks": "outside"
           }
          },
          "scene": {
           "xaxis": {
            "backgroundcolor": "white",
            "gridcolor": "rgb(232,232,232)",
            "gridwidth": 2,
            "linecolor": "rgb(36,36,36)",
            "showbackground": true,
            "showgrid": false,
            "showline": true,
            "ticks": "outside",
            "zeroline": false,
            "zerolinecolor": "rgb(36,36,36)"
           },
           "yaxis": {
            "backgroundcolor": "white",
            "gridcolor": "rgb(232,232,232)",
            "gridwidth": 2,
            "linecolor": "rgb(36,36,36)",
            "showbackground": true,
            "showgrid": false,
            "showline": true,
            "ticks": "outside",
            "zeroline": false,
            "zerolinecolor": "rgb(36,36,36)"
           },
           "zaxis": {
            "backgroundcolor": "white",
            "gridcolor": "rgb(232,232,232)",
            "gridwidth": 2,
            "linecolor": "rgb(36,36,36)",
            "showbackground": true,
            "showgrid": false,
            "showline": true,
            "ticks": "outside",
            "zeroline": false,
            "zerolinecolor": "rgb(36,36,36)"
           }
          },
          "shapedefaults": {
           "fillcolor": "black",
           "line": {
            "width": 0
           },
           "opacity": 0.3
          },
          "ternary": {
           "aaxis": {
            "gridcolor": "rgb(232,232,232)",
            "linecolor": "rgb(36,36,36)",
            "showgrid": false,
            "showline": true,
            "ticks": "outside"
           },
           "baxis": {
            "gridcolor": "rgb(232,232,232)",
            "linecolor": "rgb(36,36,36)",
            "showgrid": false,
            "showline": true,
            "ticks": "outside"
           },
           "bgcolor": "white",
           "caxis": {
            "gridcolor": "rgb(232,232,232)",
            "linecolor": "rgb(36,36,36)",
            "showgrid": false,
            "showline": true,
            "ticks": "outside"
           }
          },
          "title": {
           "x": 0.05
          },
          "xaxis": {
           "automargin": true,
           "gridcolor": "rgb(232,232,232)",
           "linecolor": "rgb(36,36,36)",
           "showgrid": false,
           "showline": true,
           "ticks": "outside",
           "title": {
            "standoff": 15
           },
           "zeroline": false,
           "zerolinecolor": "rgb(36,36,36)"
          },
          "yaxis": {
           "automargin": true,
           "gridcolor": "rgb(232,232,232)",
           "linecolor": "rgb(36,36,36)",
           "showgrid": false,
           "showline": true,
           "ticks": "outside",
           "title": {
            "standoff": 15
           },
           "zeroline": false,
           "zerolinecolor": "rgb(36,36,36)"
          }
         }
        },
        "title": {
         "text": "Gráfico de Linha: Preço ao longo do tempo"
        },
        "width": 900,
        "xaxis": {
         "anchor": "y",
         "domain": [
          0,
          1
         ],
         "title": {
          "text": "Data"
         }
        },
        "yaxis": {
         "anchor": "x",
         "domain": [
          0,
          1
         ],
         "title": {
          "text": "Preço"
         }
        }
       }
      }
     },
     "metadata": {},
     "output_type": "display_data"
    }
   ],
   "source": [
    "# Gráfico de linhas para a variável Preço ao longo do tempo\n",
    "grafico_de_linhas(dados,'Preço')"
   ]
  },
  {
   "cell_type": "markdown",
   "id": "7274b3ff",
   "metadata": {},
   "source": [
    "O preço médio por transação também é extremamente volátil. Os picos de preço mais altos, superando 5000, ocorreram em maio, setembro e novembro de 2023."
   ]
  },
  {
   "cell_type": "code",
   "execution_count": 195,
   "id": "ddafa520",
   "metadata": {},
   "outputs": [
    {
     "data": {
      "application/vnd.plotly.v1+json": {
       "config": {
        "plotlyServerURL": "https://plot.ly"
       },
       "data": [
        {
         "hovertemplate": "Data=%{x}<br>Quantidade=%{y}<extra></extra>",
         "legendgroup": "",
         "line": {
          "color": "#636efa",
          "dash": "solid"
         },
         "marker": {
          "symbol": "circle"
         },
         "mode": "lines+markers",
         "name": "",
         "orientation": "v",
         "showlegend": false,
         "type": "scatter",
         "x": [
          "2023-01-01",
          "2023-01-06",
          "2023-01-15",
          "2023-01-16",
          "2023-01-18",
          "2023-01-19",
          "2023-01-20",
          "2023-01-25",
          "2023-01-26",
          "2023-01-28",
          "2023-02-05",
          "2023-02-07",
          "2023-02-12",
          "2023-02-24",
          "2023-02-28",
          "2023-03-03",
          "2023-03-13",
          "2023-03-19",
          "2023-03-22",
          "2023-03-25",
          "2023-04-01",
          "2023-04-07",
          "2023-04-08",
          "2023-04-16",
          "2023-04-19",
          "2023-04-22",
          "2023-04-23",
          "2023-04-28",
          "2023-04-29",
          "2023-05-01",
          "2023-05-02",
          "2023-05-11",
          "2023-05-13",
          "2023-05-26",
          "2023-05-28",
          "2023-06-05",
          "2023-06-12",
          "2023-06-13",
          "2023-06-18",
          "2023-06-19",
          "2023-06-23",
          "2023-06-26",
          "2023-06-28",
          "2023-06-30",
          "2023-07-03",
          "2023-07-07",
          "2023-07-07",
          "2023-07-08",
          "2023-07-08",
          "2023-07-10",
          "2023-07-11",
          "2023-07-13",
          "2023-08-05",
          "2023-08-05",
          "2023-08-21",
          "2023-08-24",
          "2023-08-26",
          "2023-09-02",
          "2023-09-11",
          "2023-09-26",
          "2023-10-02",
          "2023-10-04",
          "2023-10-07",
          "2023-10-07",
          "2023-10-17",
          "2023-10-21",
          "2023-10-22",
          "2023-10-22",
          "2023-10-24",
          "2023-10-30",
          "2023-10-30",
          "2023-11-13",
          "2023-11-21",
          "2023-11-27",
          "2023-11-29",
          "2023-12-15",
          "2023-12-25",
          "2023-12-27",
          "2023-12-29"
         ],
         "xaxis": "x",
         "y": [
          39,
          4,
          18,
          6,
          6,
          19,
          7,
          5,
          21,
          1,
          12,
          18,
          2,
          6,
          12,
          6,
          1,
          4,
          1,
          8,
          8,
          5,
          1,
          13,
          3,
          5,
          29,
          5,
          8,
          1,
          7,
          12,
          1,
          2,
          5,
          7,
          2,
          2,
          17,
          9,
          52,
          3,
          3,
          37,
          3,
          7,
          25,
          7,
          32,
          26,
          5,
          21,
          6,
          5,
          25,
          5,
          1,
          12,
          18,
          2,
          2,
          6,
          1,
          4,
          2,
          23,
          3,
          8,
          5,
          7,
          28,
          7,
          4,
          2,
          5,
          7,
          7,
          3,
          22
         ],
         "yaxis": "y"
        }
       ],
       "layout": {
        "height": 600,
        "legend": {
         "tracegroupgap": 0
        },
        "template": {
         "data": {
          "bar": [
           {
            "error_x": {
             "color": "rgb(36,36,36)"
            },
            "error_y": {
             "color": "rgb(36,36,36)"
            },
            "marker": {
             "line": {
              "color": "white",
              "width": 0.5
             },
             "pattern": {
              "fillmode": "overlay",
              "size": 10,
              "solidity": 0.2
             }
            },
            "type": "bar"
           }
          ],
          "barpolar": [
           {
            "marker": {
             "line": {
              "color": "white",
              "width": 0.5
             },
             "pattern": {
              "fillmode": "overlay",
              "size": 10,
              "solidity": 0.2
             }
            },
            "type": "barpolar"
           }
          ],
          "carpet": [
           {
            "aaxis": {
             "endlinecolor": "rgb(36,36,36)",
             "gridcolor": "white",
             "linecolor": "white",
             "minorgridcolor": "white",
             "startlinecolor": "rgb(36,36,36)"
            },
            "baxis": {
             "endlinecolor": "rgb(36,36,36)",
             "gridcolor": "white",
             "linecolor": "white",
             "minorgridcolor": "white",
             "startlinecolor": "rgb(36,36,36)"
            },
            "type": "carpet"
           }
          ],
          "choropleth": [
           {
            "colorbar": {
             "outlinewidth": 1,
             "tickcolor": "rgb(36,36,36)",
             "ticks": "outside"
            },
            "type": "choropleth"
           }
          ],
          "contour": [
           {
            "colorbar": {
             "outlinewidth": 1,
             "tickcolor": "rgb(36,36,36)",
             "ticks": "outside"
            },
            "colorscale": [
             [
              0,
              "#440154"
             ],
             [
              0.1111111111111111,
              "#482878"
             ],
             [
              0.2222222222222222,
              "#3e4989"
             ],
             [
              0.3333333333333333,
              "#31688e"
             ],
             [
              0.4444444444444444,
              "#26828e"
             ],
             [
              0.5555555555555556,
              "#1f9e89"
             ],
             [
              0.6666666666666666,
              "#35b779"
             ],
             [
              0.7777777777777778,
              "#6ece58"
             ],
             [
              0.8888888888888888,
              "#b5de2b"
             ],
             [
              1,
              "#fde725"
             ]
            ],
            "type": "contour"
           }
          ],
          "contourcarpet": [
           {
            "colorbar": {
             "outlinewidth": 1,
             "tickcolor": "rgb(36,36,36)",
             "ticks": "outside"
            },
            "type": "contourcarpet"
           }
          ],
          "heatmap": [
           {
            "colorbar": {
             "outlinewidth": 1,
             "tickcolor": "rgb(36,36,36)",
             "ticks": "outside"
            },
            "colorscale": [
             [
              0,
              "#440154"
             ],
             [
              0.1111111111111111,
              "#482878"
             ],
             [
              0.2222222222222222,
              "#3e4989"
             ],
             [
              0.3333333333333333,
              "#31688e"
             ],
             [
              0.4444444444444444,
              "#26828e"
             ],
             [
              0.5555555555555556,
              "#1f9e89"
             ],
             [
              0.6666666666666666,
              "#35b779"
             ],
             [
              0.7777777777777778,
              "#6ece58"
             ],
             [
              0.8888888888888888,
              "#b5de2b"
             ],
             [
              1,
              "#fde725"
             ]
            ],
            "type": "heatmap"
           }
          ],
          "heatmapgl": [
           {
            "colorbar": {
             "outlinewidth": 1,
             "tickcolor": "rgb(36,36,36)",
             "ticks": "outside"
            },
            "colorscale": [
             [
              0,
              "#440154"
             ],
             [
              0.1111111111111111,
              "#482878"
             ],
             [
              0.2222222222222222,
              "#3e4989"
             ],
             [
              0.3333333333333333,
              "#31688e"
             ],
             [
              0.4444444444444444,
              "#26828e"
             ],
             [
              0.5555555555555556,
              "#1f9e89"
             ],
             [
              0.6666666666666666,
              "#35b779"
             ],
             [
              0.7777777777777778,
              "#6ece58"
             ],
             [
              0.8888888888888888,
              "#b5de2b"
             ],
             [
              1,
              "#fde725"
             ]
            ],
            "type": "heatmapgl"
           }
          ],
          "histogram": [
           {
            "marker": {
             "line": {
              "color": "white",
              "width": 0.6
             }
            },
            "type": "histogram"
           }
          ],
          "histogram2d": [
           {
            "colorbar": {
             "outlinewidth": 1,
             "tickcolor": "rgb(36,36,36)",
             "ticks": "outside"
            },
            "colorscale": [
             [
              0,
              "#440154"
             ],
             [
              0.1111111111111111,
              "#482878"
             ],
             [
              0.2222222222222222,
              "#3e4989"
             ],
             [
              0.3333333333333333,
              "#31688e"
             ],
             [
              0.4444444444444444,
              "#26828e"
             ],
             [
              0.5555555555555556,
              "#1f9e89"
             ],
             [
              0.6666666666666666,
              "#35b779"
             ],
             [
              0.7777777777777778,
              "#6ece58"
             ],
             [
              0.8888888888888888,
              "#b5de2b"
             ],
             [
              1,
              "#fde725"
             ]
            ],
            "type": "histogram2d"
           }
          ],
          "histogram2dcontour": [
           {
            "colorbar": {
             "outlinewidth": 1,
             "tickcolor": "rgb(36,36,36)",
             "ticks": "outside"
            },
            "colorscale": [
             [
              0,
              "#440154"
             ],
             [
              0.1111111111111111,
              "#482878"
             ],
             [
              0.2222222222222222,
              "#3e4989"
             ],
             [
              0.3333333333333333,
              "#31688e"
             ],
             [
              0.4444444444444444,
              "#26828e"
             ],
             [
              0.5555555555555556,
              "#1f9e89"
             ],
             [
              0.6666666666666666,
              "#35b779"
             ],
             [
              0.7777777777777778,
              "#6ece58"
             ],
             [
              0.8888888888888888,
              "#b5de2b"
             ],
             [
              1,
              "#fde725"
             ]
            ],
            "type": "histogram2dcontour"
           }
          ],
          "mesh3d": [
           {
            "colorbar": {
             "outlinewidth": 1,
             "tickcolor": "rgb(36,36,36)",
             "ticks": "outside"
            },
            "type": "mesh3d"
           }
          ],
          "parcoords": [
           {
            "line": {
             "colorbar": {
              "outlinewidth": 1,
              "tickcolor": "rgb(36,36,36)",
              "ticks": "outside"
             }
            },
            "type": "parcoords"
           }
          ],
          "pie": [
           {
            "automargin": true,
            "type": "pie"
           }
          ],
          "scatter": [
           {
            "fillpattern": {
             "fillmode": "overlay",
             "size": 10,
             "solidity": 0.2
            },
            "type": "scatter"
           }
          ],
          "scatter3d": [
           {
            "line": {
             "colorbar": {
              "outlinewidth": 1,
              "tickcolor": "rgb(36,36,36)",
              "ticks": "outside"
             }
            },
            "marker": {
             "colorbar": {
              "outlinewidth": 1,
              "tickcolor": "rgb(36,36,36)",
              "ticks": "outside"
             }
            },
            "type": "scatter3d"
           }
          ],
          "scattercarpet": [
           {
            "marker": {
             "colorbar": {
              "outlinewidth": 1,
              "tickcolor": "rgb(36,36,36)",
              "ticks": "outside"
             }
            },
            "type": "scattercarpet"
           }
          ],
          "scattergeo": [
           {
            "marker": {
             "colorbar": {
              "outlinewidth": 1,
              "tickcolor": "rgb(36,36,36)",
              "ticks": "outside"
             }
            },
            "type": "scattergeo"
           }
          ],
          "scattergl": [
           {
            "marker": {
             "colorbar": {
              "outlinewidth": 1,
              "tickcolor": "rgb(36,36,36)",
              "ticks": "outside"
             }
            },
            "type": "scattergl"
           }
          ],
          "scattermapbox": [
           {
            "marker": {
             "colorbar": {
              "outlinewidth": 1,
              "tickcolor": "rgb(36,36,36)",
              "ticks": "outside"
             }
            },
            "type": "scattermapbox"
           }
          ],
          "scatterpolar": [
           {
            "marker": {
             "colorbar": {
              "outlinewidth": 1,
              "tickcolor": "rgb(36,36,36)",
              "ticks": "outside"
             }
            },
            "type": "scatterpolar"
           }
          ],
          "scatterpolargl": [
           {
            "marker": {
             "colorbar": {
              "outlinewidth": 1,
              "tickcolor": "rgb(36,36,36)",
              "ticks": "outside"
             }
            },
            "type": "scatterpolargl"
           }
          ],
          "scatterternary": [
           {
            "marker": {
             "colorbar": {
              "outlinewidth": 1,
              "tickcolor": "rgb(36,36,36)",
              "ticks": "outside"
             }
            },
            "type": "scatterternary"
           }
          ],
          "surface": [
           {
            "colorbar": {
             "outlinewidth": 1,
             "tickcolor": "rgb(36,36,36)",
             "ticks": "outside"
            },
            "colorscale": [
             [
              0,
              "#440154"
             ],
             [
              0.1111111111111111,
              "#482878"
             ],
             [
              0.2222222222222222,
              "#3e4989"
             ],
             [
              0.3333333333333333,
              "#31688e"
             ],
             [
              0.4444444444444444,
              "#26828e"
             ],
             [
              0.5555555555555556,
              "#1f9e89"
             ],
             [
              0.6666666666666666,
              "#35b779"
             ],
             [
              0.7777777777777778,
              "#6ece58"
             ],
             [
              0.8888888888888888,
              "#b5de2b"
             ],
             [
              1,
              "#fde725"
             ]
            ],
            "type": "surface"
           }
          ],
          "table": [
           {
            "cells": {
             "fill": {
              "color": "rgb(237,237,237)"
             },
             "line": {
              "color": "white"
             }
            },
            "header": {
             "fill": {
              "color": "rgb(217,217,217)"
             },
             "line": {
              "color": "white"
             }
            },
            "type": "table"
           }
          ]
         },
         "layout": {
          "annotationdefaults": {
           "arrowhead": 0,
           "arrowwidth": 1
          },
          "autotypenumbers": "strict",
          "coloraxis": {
           "colorbar": {
            "outlinewidth": 1,
            "tickcolor": "rgb(36,36,36)",
            "ticks": "outside"
           }
          },
          "colorscale": {
           "diverging": [
            [
             0,
             "rgb(103,0,31)"
            ],
            [
             0.1,
             "rgb(178,24,43)"
            ],
            [
             0.2,
             "rgb(214,96,77)"
            ],
            [
             0.3,
             "rgb(244,165,130)"
            ],
            [
             0.4,
             "rgb(253,219,199)"
            ],
            [
             0.5,
             "rgb(247,247,247)"
            ],
            [
             0.6,
             "rgb(209,229,240)"
            ],
            [
             0.7,
             "rgb(146,197,222)"
            ],
            [
             0.8,
             "rgb(67,147,195)"
            ],
            [
             0.9,
             "rgb(33,102,172)"
            ],
            [
             1,
             "rgb(5,48,97)"
            ]
           ],
           "sequential": [
            [
             0,
             "#440154"
            ],
            [
             0.1111111111111111,
             "#482878"
            ],
            [
             0.2222222222222222,
             "#3e4989"
            ],
            [
             0.3333333333333333,
             "#31688e"
            ],
            [
             0.4444444444444444,
             "#26828e"
            ],
            [
             0.5555555555555556,
             "#1f9e89"
            ],
            [
             0.6666666666666666,
             "#35b779"
            ],
            [
             0.7777777777777778,
             "#6ece58"
            ],
            [
             0.8888888888888888,
             "#b5de2b"
            ],
            [
             1,
             "#fde725"
            ]
           ],
           "sequentialminus": [
            [
             0,
             "#440154"
            ],
            [
             0.1111111111111111,
             "#482878"
            ],
            [
             0.2222222222222222,
             "#3e4989"
            ],
            [
             0.3333333333333333,
             "#31688e"
            ],
            [
             0.4444444444444444,
             "#26828e"
            ],
            [
             0.5555555555555556,
             "#1f9e89"
            ],
            [
             0.6666666666666666,
             "#35b779"
            ],
            [
             0.7777777777777778,
             "#6ece58"
            ],
            [
             0.8888888888888888,
             "#b5de2b"
            ],
            [
             1,
             "#fde725"
            ]
           ]
          },
          "colorway": [
           "#1F77B4",
           "#FF7F0E",
           "#2CA02C",
           "#D62728",
           "#9467BD",
           "#8C564B",
           "#E377C2",
           "#7F7F7F",
           "#BCBD22",
           "#17BECF"
          ],
          "font": {
           "color": "rgb(36,36,36)"
          },
          "geo": {
           "bgcolor": "white",
           "lakecolor": "white",
           "landcolor": "white",
           "showlakes": true,
           "showland": true,
           "subunitcolor": "white"
          },
          "hoverlabel": {
           "align": "left"
          },
          "hovermode": "closest",
          "mapbox": {
           "style": "light"
          },
          "paper_bgcolor": "white",
          "plot_bgcolor": "white",
          "polar": {
           "angularaxis": {
            "gridcolor": "rgb(232,232,232)",
            "linecolor": "rgb(36,36,36)",
            "showgrid": false,
            "showline": true,
            "ticks": "outside"
           },
           "bgcolor": "white",
           "radialaxis": {
            "gridcolor": "rgb(232,232,232)",
            "linecolor": "rgb(36,36,36)",
            "showgrid": false,
            "showline": true,
            "ticks": "outside"
           }
          },
          "scene": {
           "xaxis": {
            "backgroundcolor": "white",
            "gridcolor": "rgb(232,232,232)",
            "gridwidth": 2,
            "linecolor": "rgb(36,36,36)",
            "showbackground": true,
            "showgrid": false,
            "showline": true,
            "ticks": "outside",
            "zeroline": false,
            "zerolinecolor": "rgb(36,36,36)"
           },
           "yaxis": {
            "backgroundcolor": "white",
            "gridcolor": "rgb(232,232,232)",
            "gridwidth": 2,
            "linecolor": "rgb(36,36,36)",
            "showbackground": true,
            "showgrid": false,
            "showline": true,
            "ticks": "outside",
            "zeroline": false,
            "zerolinecolor": "rgb(36,36,36)"
           },
           "zaxis": {
            "backgroundcolor": "white",
            "gridcolor": "rgb(232,232,232)",
            "gridwidth": 2,
            "linecolor": "rgb(36,36,36)",
            "showbackground": true,
            "showgrid": false,
            "showline": true,
            "ticks": "outside",
            "zeroline": false,
            "zerolinecolor": "rgb(36,36,36)"
           }
          },
          "shapedefaults": {
           "fillcolor": "black",
           "line": {
            "width": 0
           },
           "opacity": 0.3
          },
          "ternary": {
           "aaxis": {
            "gridcolor": "rgb(232,232,232)",
            "linecolor": "rgb(36,36,36)",
            "showgrid": false,
            "showline": true,
            "ticks": "outside"
           },
           "baxis": {
            "gridcolor": "rgb(232,232,232)",
            "linecolor": "rgb(36,36,36)",
            "showgrid": false,
            "showline": true,
            "ticks": "outside"
           },
           "bgcolor": "white",
           "caxis": {
            "gridcolor": "rgb(232,232,232)",
            "linecolor": "rgb(36,36,36)",
            "showgrid": false,
            "showline": true,
            "ticks": "outside"
           }
          },
          "title": {
           "x": 0.05
          },
          "xaxis": {
           "automargin": true,
           "gridcolor": "rgb(232,232,232)",
           "linecolor": "rgb(36,36,36)",
           "showgrid": false,
           "showline": true,
           "ticks": "outside",
           "title": {
            "standoff": 15
           },
           "zeroline": false,
           "zerolinecolor": "rgb(36,36,36)"
          },
          "yaxis": {
           "automargin": true,
           "gridcolor": "rgb(232,232,232)",
           "linecolor": "rgb(36,36,36)",
           "showgrid": false,
           "showline": true,
           "ticks": "outside",
           "title": {
            "standoff": 15
           },
           "zeroline": false,
           "zerolinecolor": "rgb(36,36,36)"
          }
         }
        },
        "title": {
         "text": "Gráfico de Linha: Quantidade ao longo do tempo"
        },
        "width": 900,
        "xaxis": {
         "anchor": "y",
         "domain": [
          0,
          1
         ],
         "title": {
          "text": "Data"
         }
        },
        "yaxis": {
         "anchor": "x",
         "domain": [
          0,
          1
         ],
         "title": {
          "text": "Quantidade"
         }
        }
       }
      }
     },
     "metadata": {},
     "output_type": "display_data"
    }
   ],
   "source": [
    "# Gráfico de linhas para a variável Quantidade ao longo do tempo\n",
    "grafico_de_linhas(dados,'Quantidade')"
   ]
  },
  {
   "cell_type": "markdown",
   "id": "cb65764c",
   "metadata": {},
   "source": [
    "A quantidade de itens vendidos mostra uma alta volatilidade, com picos muito acentuados e curtos. O pico mais significativo ocorreu em julho de 2023, superando 50 unidades. Outros picos notáveis aconteceram em janeiro e maio de 2023. Essa irregularidade sugere que as vendas são impulsionadas por eventos específicos"
   ]
  },
  {
   "cell_type": "code",
   "execution_count": 196,
   "id": "d105ece6",
   "metadata": {},
   "outputs": [
    {
     "data": {
      "application/vnd.plotly.v1+json": {
       "config": {
        "plotlyServerURL": "https://plot.ly"
       },
       "data": [
        {
         "hovertemplate": "Data=%{x}<br>Total de Vendas=%{y}<extra></extra>",
         "legendgroup": "",
         "line": {
          "color": "#636efa",
          "dash": "solid"
         },
         "marker": {
          "symbol": "circle"
         },
         "mode": "lines+markers",
         "name": "",
         "orientation": "v",
         "showlegend": false,
         "type": "scatter",
         "x": [
          "2023-01-01",
          "2023-01-06",
          "2023-01-15",
          "2023-01-16",
          "2023-01-18",
          "2023-01-19",
          "2023-01-20",
          "2023-01-25",
          "2023-01-26",
          "2023-01-28",
          "2023-02-05",
          "2023-02-07",
          "2023-02-12",
          "2023-02-24",
          "2023-02-28",
          "2023-03-03",
          "2023-03-13",
          "2023-03-19",
          "2023-03-22",
          "2023-03-25",
          "2023-04-01",
          "2023-04-07",
          "2023-04-08",
          "2023-04-16",
          "2023-04-19",
          "2023-04-22",
          "2023-04-23",
          "2023-04-28",
          "2023-04-29",
          "2023-05-01",
          "2023-05-02",
          "2023-05-11",
          "2023-05-13",
          "2023-05-26",
          "2023-05-28",
          "2023-06-05",
          "2023-06-12",
          "2023-06-13",
          "2023-06-18",
          "2023-06-19",
          "2023-06-23",
          "2023-06-26",
          "2023-06-28",
          "2023-06-30",
          "2023-07-03",
          "2023-07-07",
          "2023-07-07",
          "2023-07-08",
          "2023-07-08",
          "2023-07-10",
          "2023-07-11",
          "2023-07-13",
          "2023-08-05",
          "2023-08-05",
          "2023-08-21",
          "2023-08-24",
          "2023-08-26",
          "2023-09-02",
          "2023-09-11",
          "2023-09-26",
          "2023-10-02",
          "2023-10-04",
          "2023-10-07",
          "2023-10-07",
          "2023-10-17",
          "2023-10-21",
          "2023-10-22",
          "2023-10-22",
          "2023-10-24",
          "2023-10-30",
          "2023-10-30",
          "2023-11-13",
          "2023-11-21",
          "2023-11-27",
          "2023-11-29",
          "2023-12-15",
          "2023-12-25",
          "2023-12-27",
          "2023-12-29"
         ],
         "xaxis": "x",
         "y": [
          9763.65,
          3141.4,
          6805.44,
          28395.840000000004,
          827.46,
          10028.580000000002,
          1160.88,
          2223.2,
          22455.72,
          2421.11,
          11505.72,
          5844.960000000001,
          1154.46,
          357.06,
          5618.76,
          6216.06,
          696.2,
          2351.32,
          1938.78,
          3009.84,
          459.6,
          2096.55,
          1707.57,
          54488.98,
          4971.15,
          2929.7000000000003,
          13615.79,
          3075.6,
          5391.12,
          385.59,
          3263.75,
          65676.48,
          656.71,
          774.12,
          376.1,
          33376.07,
          1259.52,
          1101.3,
          6993.97,
          1075.05,
          29412.76,
          2022.54,
          5395.41,
          18750.86,
          1709.97,
          9427.18,
          24995.75,
          4646.740000000001,
          11117.44,
          15011.36,
          250.6,
          19945.59,
          3570.36,
          841.3,
          11307.5,
          26376.1,
          641.13,
          61918.8,
          22555.62,
          713.36,
          10825.54,
          1763.58,
          537.49,
          1855.24,
          880.52,
          7283.64,
          6162.599999999999,
          662.56,
          303.05,
          1669.57,
          9599.8,
          4848.83,
          2022.32,
          2527.14,
          6047.4,
          1558.0600000000002,
          635.04,
          1473.15,
          20592.66
         ],
         "yaxis": "y"
        }
       ],
       "layout": {
        "height": 600,
        "legend": {
         "tracegroupgap": 0
        },
        "template": {
         "data": {
          "bar": [
           {
            "error_x": {
             "color": "rgb(36,36,36)"
            },
            "error_y": {
             "color": "rgb(36,36,36)"
            },
            "marker": {
             "line": {
              "color": "white",
              "width": 0.5
             },
             "pattern": {
              "fillmode": "overlay",
              "size": 10,
              "solidity": 0.2
             }
            },
            "type": "bar"
           }
          ],
          "barpolar": [
           {
            "marker": {
             "line": {
              "color": "white",
              "width": 0.5
             },
             "pattern": {
              "fillmode": "overlay",
              "size": 10,
              "solidity": 0.2
             }
            },
            "type": "barpolar"
           }
          ],
          "carpet": [
           {
            "aaxis": {
             "endlinecolor": "rgb(36,36,36)",
             "gridcolor": "white",
             "linecolor": "white",
             "minorgridcolor": "white",
             "startlinecolor": "rgb(36,36,36)"
            },
            "baxis": {
             "endlinecolor": "rgb(36,36,36)",
             "gridcolor": "white",
             "linecolor": "white",
             "minorgridcolor": "white",
             "startlinecolor": "rgb(36,36,36)"
            },
            "type": "carpet"
           }
          ],
          "choropleth": [
           {
            "colorbar": {
             "outlinewidth": 1,
             "tickcolor": "rgb(36,36,36)",
             "ticks": "outside"
            },
            "type": "choropleth"
           }
          ],
          "contour": [
           {
            "colorbar": {
             "outlinewidth": 1,
             "tickcolor": "rgb(36,36,36)",
             "ticks": "outside"
            },
            "colorscale": [
             [
              0,
              "#440154"
             ],
             [
              0.1111111111111111,
              "#482878"
             ],
             [
              0.2222222222222222,
              "#3e4989"
             ],
             [
              0.3333333333333333,
              "#31688e"
             ],
             [
              0.4444444444444444,
              "#26828e"
             ],
             [
              0.5555555555555556,
              "#1f9e89"
             ],
             [
              0.6666666666666666,
              "#35b779"
             ],
             [
              0.7777777777777778,
              "#6ece58"
             ],
             [
              0.8888888888888888,
              "#b5de2b"
             ],
             [
              1,
              "#fde725"
             ]
            ],
            "type": "contour"
           }
          ],
          "contourcarpet": [
           {
            "colorbar": {
             "outlinewidth": 1,
             "tickcolor": "rgb(36,36,36)",
             "ticks": "outside"
            },
            "type": "contourcarpet"
           }
          ],
          "heatmap": [
           {
            "colorbar": {
             "outlinewidth": 1,
             "tickcolor": "rgb(36,36,36)",
             "ticks": "outside"
            },
            "colorscale": [
             [
              0,
              "#440154"
             ],
             [
              0.1111111111111111,
              "#482878"
             ],
             [
              0.2222222222222222,
              "#3e4989"
             ],
             [
              0.3333333333333333,
              "#31688e"
             ],
             [
              0.4444444444444444,
              "#26828e"
             ],
             [
              0.5555555555555556,
              "#1f9e89"
             ],
             [
              0.6666666666666666,
              "#35b779"
             ],
             [
              0.7777777777777778,
              "#6ece58"
             ],
             [
              0.8888888888888888,
              "#b5de2b"
             ],
             [
              1,
              "#fde725"
             ]
            ],
            "type": "heatmap"
           }
          ],
          "heatmapgl": [
           {
            "colorbar": {
             "outlinewidth": 1,
             "tickcolor": "rgb(36,36,36)",
             "ticks": "outside"
            },
            "colorscale": [
             [
              0,
              "#440154"
             ],
             [
              0.1111111111111111,
              "#482878"
             ],
             [
              0.2222222222222222,
              "#3e4989"
             ],
             [
              0.3333333333333333,
              "#31688e"
             ],
             [
              0.4444444444444444,
              "#26828e"
             ],
             [
              0.5555555555555556,
              "#1f9e89"
             ],
             [
              0.6666666666666666,
              "#35b779"
             ],
             [
              0.7777777777777778,
              "#6ece58"
             ],
             [
              0.8888888888888888,
              "#b5de2b"
             ],
             [
              1,
              "#fde725"
             ]
            ],
            "type": "heatmapgl"
           }
          ],
          "histogram": [
           {
            "marker": {
             "line": {
              "color": "white",
              "width": 0.6
             }
            },
            "type": "histogram"
           }
          ],
          "histogram2d": [
           {
            "colorbar": {
             "outlinewidth": 1,
             "tickcolor": "rgb(36,36,36)",
             "ticks": "outside"
            },
            "colorscale": [
             [
              0,
              "#440154"
             ],
             [
              0.1111111111111111,
              "#482878"
             ],
             [
              0.2222222222222222,
              "#3e4989"
             ],
             [
              0.3333333333333333,
              "#31688e"
             ],
             [
              0.4444444444444444,
              "#26828e"
             ],
             [
              0.5555555555555556,
              "#1f9e89"
             ],
             [
              0.6666666666666666,
              "#35b779"
             ],
             [
              0.7777777777777778,
              "#6ece58"
             ],
             [
              0.8888888888888888,
              "#b5de2b"
             ],
             [
              1,
              "#fde725"
             ]
            ],
            "type": "histogram2d"
           }
          ],
          "histogram2dcontour": [
           {
            "colorbar": {
             "outlinewidth": 1,
             "tickcolor": "rgb(36,36,36)",
             "ticks": "outside"
            },
            "colorscale": [
             [
              0,
              "#440154"
             ],
             [
              0.1111111111111111,
              "#482878"
             ],
             [
              0.2222222222222222,
              "#3e4989"
             ],
             [
              0.3333333333333333,
              "#31688e"
             ],
             [
              0.4444444444444444,
              "#26828e"
             ],
             [
              0.5555555555555556,
              "#1f9e89"
             ],
             [
              0.6666666666666666,
              "#35b779"
             ],
             [
              0.7777777777777778,
              "#6ece58"
             ],
             [
              0.8888888888888888,
              "#b5de2b"
             ],
             [
              1,
              "#fde725"
             ]
            ],
            "type": "histogram2dcontour"
           }
          ],
          "mesh3d": [
           {
            "colorbar": {
             "outlinewidth": 1,
             "tickcolor": "rgb(36,36,36)",
             "ticks": "outside"
            },
            "type": "mesh3d"
           }
          ],
          "parcoords": [
           {
            "line": {
             "colorbar": {
              "outlinewidth": 1,
              "tickcolor": "rgb(36,36,36)",
              "ticks": "outside"
             }
            },
            "type": "parcoords"
           }
          ],
          "pie": [
           {
            "automargin": true,
            "type": "pie"
           }
          ],
          "scatter": [
           {
            "fillpattern": {
             "fillmode": "overlay",
             "size": 10,
             "solidity": 0.2
            },
            "type": "scatter"
           }
          ],
          "scatter3d": [
           {
            "line": {
             "colorbar": {
              "outlinewidth": 1,
              "tickcolor": "rgb(36,36,36)",
              "ticks": "outside"
             }
            },
            "marker": {
             "colorbar": {
              "outlinewidth": 1,
              "tickcolor": "rgb(36,36,36)",
              "ticks": "outside"
             }
            },
            "type": "scatter3d"
           }
          ],
          "scattercarpet": [
           {
            "marker": {
             "colorbar": {
              "outlinewidth": 1,
              "tickcolor": "rgb(36,36,36)",
              "ticks": "outside"
             }
            },
            "type": "scattercarpet"
           }
          ],
          "scattergeo": [
           {
            "marker": {
             "colorbar": {
              "outlinewidth": 1,
              "tickcolor": "rgb(36,36,36)",
              "ticks": "outside"
             }
            },
            "type": "scattergeo"
           }
          ],
          "scattergl": [
           {
            "marker": {
             "colorbar": {
              "outlinewidth": 1,
              "tickcolor": "rgb(36,36,36)",
              "ticks": "outside"
             }
            },
            "type": "scattergl"
           }
          ],
          "scattermapbox": [
           {
            "marker": {
             "colorbar": {
              "outlinewidth": 1,
              "tickcolor": "rgb(36,36,36)",
              "ticks": "outside"
             }
            },
            "type": "scattermapbox"
           }
          ],
          "scatterpolar": [
           {
            "marker": {
             "colorbar": {
              "outlinewidth": 1,
              "tickcolor": "rgb(36,36,36)",
              "ticks": "outside"
             }
            },
            "type": "scatterpolar"
           }
          ],
          "scatterpolargl": [
           {
            "marker": {
             "colorbar": {
              "outlinewidth": 1,
              "tickcolor": "rgb(36,36,36)",
              "ticks": "outside"
             }
            },
            "type": "scatterpolargl"
           }
          ],
          "scatterternary": [
           {
            "marker": {
             "colorbar": {
              "outlinewidth": 1,
              "tickcolor": "rgb(36,36,36)",
              "ticks": "outside"
             }
            },
            "type": "scatterternary"
           }
          ],
          "surface": [
           {
            "colorbar": {
             "outlinewidth": 1,
             "tickcolor": "rgb(36,36,36)",
             "ticks": "outside"
            },
            "colorscale": [
             [
              0,
              "#440154"
             ],
             [
              0.1111111111111111,
              "#482878"
             ],
             [
              0.2222222222222222,
              "#3e4989"
             ],
             [
              0.3333333333333333,
              "#31688e"
             ],
             [
              0.4444444444444444,
              "#26828e"
             ],
             [
              0.5555555555555556,
              "#1f9e89"
             ],
             [
              0.6666666666666666,
              "#35b779"
             ],
             [
              0.7777777777777778,
              "#6ece58"
             ],
             [
              0.8888888888888888,
              "#b5de2b"
             ],
             [
              1,
              "#fde725"
             ]
            ],
            "type": "surface"
           }
          ],
          "table": [
           {
            "cells": {
             "fill": {
              "color": "rgb(237,237,237)"
             },
             "line": {
              "color": "white"
             }
            },
            "header": {
             "fill": {
              "color": "rgb(217,217,217)"
             },
             "line": {
              "color": "white"
             }
            },
            "type": "table"
           }
          ]
         },
         "layout": {
          "annotationdefaults": {
           "arrowhead": 0,
           "arrowwidth": 1
          },
          "autotypenumbers": "strict",
          "coloraxis": {
           "colorbar": {
            "outlinewidth": 1,
            "tickcolor": "rgb(36,36,36)",
            "ticks": "outside"
           }
          },
          "colorscale": {
           "diverging": [
            [
             0,
             "rgb(103,0,31)"
            ],
            [
             0.1,
             "rgb(178,24,43)"
            ],
            [
             0.2,
             "rgb(214,96,77)"
            ],
            [
             0.3,
             "rgb(244,165,130)"
            ],
            [
             0.4,
             "rgb(253,219,199)"
            ],
            [
             0.5,
             "rgb(247,247,247)"
            ],
            [
             0.6,
             "rgb(209,229,240)"
            ],
            [
             0.7,
             "rgb(146,197,222)"
            ],
            [
             0.8,
             "rgb(67,147,195)"
            ],
            [
             0.9,
             "rgb(33,102,172)"
            ],
            [
             1,
             "rgb(5,48,97)"
            ]
           ],
           "sequential": [
            [
             0,
             "#440154"
            ],
            [
             0.1111111111111111,
             "#482878"
            ],
            [
             0.2222222222222222,
             "#3e4989"
            ],
            [
             0.3333333333333333,
             "#31688e"
            ],
            [
             0.4444444444444444,
             "#26828e"
            ],
            [
             0.5555555555555556,
             "#1f9e89"
            ],
            [
             0.6666666666666666,
             "#35b779"
            ],
            [
             0.7777777777777778,
             "#6ece58"
            ],
            [
             0.8888888888888888,
             "#b5de2b"
            ],
            [
             1,
             "#fde725"
            ]
           ],
           "sequentialminus": [
            [
             0,
             "#440154"
            ],
            [
             0.1111111111111111,
             "#482878"
            ],
            [
             0.2222222222222222,
             "#3e4989"
            ],
            [
             0.3333333333333333,
             "#31688e"
            ],
            [
             0.4444444444444444,
             "#26828e"
            ],
            [
             0.5555555555555556,
             "#1f9e89"
            ],
            [
             0.6666666666666666,
             "#35b779"
            ],
            [
             0.7777777777777778,
             "#6ece58"
            ],
            [
             0.8888888888888888,
             "#b5de2b"
            ],
            [
             1,
             "#fde725"
            ]
           ]
          },
          "colorway": [
           "#1F77B4",
           "#FF7F0E",
           "#2CA02C",
           "#D62728",
           "#9467BD",
           "#8C564B",
           "#E377C2",
           "#7F7F7F",
           "#BCBD22",
           "#17BECF"
          ],
          "font": {
           "color": "rgb(36,36,36)"
          },
          "geo": {
           "bgcolor": "white",
           "lakecolor": "white",
           "landcolor": "white",
           "showlakes": true,
           "showland": true,
           "subunitcolor": "white"
          },
          "hoverlabel": {
           "align": "left"
          },
          "hovermode": "closest",
          "mapbox": {
           "style": "light"
          },
          "paper_bgcolor": "white",
          "plot_bgcolor": "white",
          "polar": {
           "angularaxis": {
            "gridcolor": "rgb(232,232,232)",
            "linecolor": "rgb(36,36,36)",
            "showgrid": false,
            "showline": true,
            "ticks": "outside"
           },
           "bgcolor": "white",
           "radialaxis": {
            "gridcolor": "rgb(232,232,232)",
            "linecolor": "rgb(36,36,36)",
            "showgrid": false,
            "showline": true,
            "ticks": "outside"
           }
          },
          "scene": {
           "xaxis": {
            "backgroundcolor": "white",
            "gridcolor": "rgb(232,232,232)",
            "gridwidth": 2,
            "linecolor": "rgb(36,36,36)",
            "showbackground": true,
            "showgrid": false,
            "showline": true,
            "ticks": "outside",
            "zeroline": false,
            "zerolinecolor": "rgb(36,36,36)"
           },
           "yaxis": {
            "backgroundcolor": "white",
            "gridcolor": "rgb(232,232,232)",
            "gridwidth": 2,
            "linecolor": "rgb(36,36,36)",
            "showbackground": true,
            "showgrid": false,
            "showline": true,
            "ticks": "outside",
            "zeroline": false,
            "zerolinecolor": "rgb(36,36,36)"
           },
           "zaxis": {
            "backgroundcolor": "white",
            "gridcolor": "rgb(232,232,232)",
            "gridwidth": 2,
            "linecolor": "rgb(36,36,36)",
            "showbackground": true,
            "showgrid": false,
            "showline": true,
            "ticks": "outside",
            "zeroline": false,
            "zerolinecolor": "rgb(36,36,36)"
           }
          },
          "shapedefaults": {
           "fillcolor": "black",
           "line": {
            "width": 0
           },
           "opacity": 0.3
          },
          "ternary": {
           "aaxis": {
            "gridcolor": "rgb(232,232,232)",
            "linecolor": "rgb(36,36,36)",
            "showgrid": false,
            "showline": true,
            "ticks": "outside"
           },
           "baxis": {
            "gridcolor": "rgb(232,232,232)",
            "linecolor": "rgb(36,36,36)",
            "showgrid": false,
            "showline": true,
            "ticks": "outside"
           },
           "bgcolor": "white",
           "caxis": {
            "gridcolor": "rgb(232,232,232)",
            "linecolor": "rgb(36,36,36)",
            "showgrid": false,
            "showline": true,
            "ticks": "outside"
           }
          },
          "title": {
           "x": 0.05
          },
          "xaxis": {
           "automargin": true,
           "gridcolor": "rgb(232,232,232)",
           "linecolor": "rgb(36,36,36)",
           "showgrid": false,
           "showline": true,
           "ticks": "outside",
           "title": {
            "standoff": 15
           },
           "zeroline": false,
           "zerolinecolor": "rgb(36,36,36)"
          },
          "yaxis": {
           "automargin": true,
           "gridcolor": "rgb(232,232,232)",
           "linecolor": "rgb(36,36,36)",
           "showgrid": false,
           "showline": true,
           "ticks": "outside",
           "title": {
            "standoff": 15
           },
           "zeroline": false,
           "zerolinecolor": "rgb(36,36,36)"
          }
         }
        },
        "title": {
         "text": "Gráfico de Linha: Total de Vendas ao longo do tempo"
        },
        "width": 900,
        "xaxis": {
         "anchor": "y",
         "domain": [
          0,
          1
         ],
         "title": {
          "text": "Data"
         }
        },
        "yaxis": {
         "anchor": "x",
         "domain": [
          0,
          1
         ],
         "title": {
          "text": "Total de Vendas"
         }
        }
       }
      }
     },
     "metadata": {},
     "output_type": "display_data"
    }
   ],
   "source": [
    "# Gráfico de linhas para a variável Total de Vendas ao longo do tempo\n",
    "grafico_de_linhas(dados,'Total de Vendas')"
   ]
  },
  {
   "cell_type": "markdown",
   "id": "b5ac55bf",
   "metadata": {},
   "source": [
    "O faturamento (Total de Vendas) segue um padrão de picos muito semelhante ao gráfico de Quantidade. Os maiores picos de receita ocorreram em maio e setembro de 2023, ultrapassando 60k."
   ]
  },
  {
   "cell_type": "markdown",
   "id": "b643a68a",
   "metadata": {},
   "source": [
    "## Correlações"
   ]
  },
  {
   "cell_type": "markdown",
   "id": "3daef58b",
   "metadata": {},
   "source": [
    "Durante o teste de normalidade, observou-se que nenhuma das variáveis segue distribuição normal.  \n",
    "Portanto, será utilizado o **teste de correlação de Spearman** para avaliar a relação entre as variáveis."
   ]
  },
  {
   "cell_type": "code",
   "execution_count": 197,
   "id": "69f524f6",
   "metadata": {},
   "outputs": [
    {
     "data": {
      "text/html": [
       "<div>\n",
       "<style scoped>\n",
       "    .dataframe tbody tr th:only-of-type {\n",
       "        vertical-align: middle;\n",
       "    }\n",
       "\n",
       "    .dataframe tbody tr th {\n",
       "        vertical-align: top;\n",
       "    }\n",
       "\n",
       "    .dataframe thead th {\n",
       "        text-align: right;\n",
       "    }\n",
       "</style>\n",
       "<table border=\"1\" class=\"dataframe\">\n",
       "  <thead>\n",
       "    <tr style=\"text-align: right;\">\n",
       "      <th></th>\n",
       "      <th>Preço</th>\n",
       "      <th>Quantidade</th>\n",
       "      <th>Total de Vendas</th>\n",
       "    </tr>\n",
       "  </thead>\n",
       "  <tbody>\n",
       "    <tr>\n",
       "      <th>Preço</th>\n",
       "      <td>1.000000</td>\n",
       "      <td>-0.185943</td>\n",
       "      <td>0.580867</td>\n",
       "    </tr>\n",
       "    <tr>\n",
       "      <th>Quantidade</th>\n",
       "      <td>-0.185943</td>\n",
       "      <td>1.000000</td>\n",
       "      <td>0.633586</td>\n",
       "    </tr>\n",
       "    <tr>\n",
       "      <th>Total de Vendas</th>\n",
       "      <td>0.580867</td>\n",
       "      <td>0.633586</td>\n",
       "      <td>1.000000</td>\n",
       "    </tr>\n",
       "  </tbody>\n",
       "</table>\n",
       "</div>"
      ],
      "text/plain": [
       "                    Preço  Quantidade  Total de Vendas\n",
       "Preço            1.000000   -0.185943         0.580867\n",
       "Quantidade      -0.185943    1.000000         0.633586\n",
       "Total de Vendas  0.580867    0.633586         1.000000"
      ]
     },
     "execution_count": 197,
     "metadata": {},
     "output_type": "execute_result"
    }
   ],
   "source": [
    "dados[['Preço','Quantidade','Total de Vendas']].corr(method='spearman') # Matriz de correlação usando o método de Spearman"
   ]
  },
  {
   "cell_type": "code",
   "execution_count": 198,
   "id": "72ae17f5",
   "metadata": {},
   "outputs": [],
   "source": [
    "def scatter_matrix(dados, colunas):\n",
    "    # Cria uma matriz de dispersão para visualizar relações pareadas entre múltiplas colunas.\n",
    "    try:\n",
    "        fig = px.scatter_matrix(dados, dimensions=colunas)\n",
    "        # Define título e aplica um tema visual.\n",
    "        fig.update_layout(title='Scatter Matrix', template=\"ggplot2\")\n",
    "        fig.show() # Exibe o gráfico interativo.\n",
    "    except Exception as e:\n",
    "        print(f\"Erro ao criar o scatter matrix: {e}\") # Trata erros (ex: colunas inexistentes ou incompatíveis).\n"
   ]
  },
  {
   "cell_type": "code",
   "execution_count": 199,
   "id": "baedd1eb",
   "metadata": {},
   "outputs": [
    {
     "data": {
      "application/vnd.plotly.v1+json": {
       "config": {
        "plotlyServerURL": "https://plot.ly"
       },
       "data": [
        {
         "dimensions": [
          {
           "axis": {
            "matches": true
           },
           "label": "Preço",
           "values": [
            1263.57,
            1938.78,
            444.64,
            440.26,
            1657.05,
            250.35,
            958.81,
            5412.77,
            565.63,
            316.68,
            2421.11,
            936.03,
            587.83,
            999.83,
            411.41,
            949.79,
            1209.48,
            4191.46,
            1798.47,
            696.2,
            1253.09,
            692.69,
            90.72,
            1069.32,
            641.13,
            550.65,
            356.68,
            168.26,
            569.99,
            466.25,
            387.06,
            119.45,
            4768.01,
            468.23,
            293.93,
            577.36,
            452.3,
            615.12,
            5275.22,
            1707.57,
            629.76,
            59.51,
            324.72,
            469.51,
            75.22,
            663.82,
            376.23,
            491.05,
            82.82,
            577.23,
            385.59,
            222.58,
            4732.64,
            656.71,
            1346.74,
            347.42,
            50.12,
            5473.04,
            60.61,
            785.35,
            463.81,
            585.94,
            165.84,
            2054.2,
            1036.01,
            506.78,
            595.06,
            419.31,
            527.82,
            238.51,
            378.08,
            505.58,
            5159.9,
            673.89,
            57.45,
            137.91,
            342.85,
            674.18,
            537.49
           ]
          },
          {
           "axis": {
            "matches": true
           },
           "label": "Quantidade",
           "values": [
            2,
            1,
            5,
            2,
            3,
            39,
            12,
            2,
            52,
            23,
            1,
            22,
            4,
            25,
            17,
            21,
            5,
            13,
            3,
            1,
            18,
            7,
            7,
            21,
            1,
            2,
            2,
            5,
            3,
            7,
            2,
            9,
            7,
            12,
            6,
            26,
            25,
            5,
            5,
            1,
            2,
            6,
            18,
            29,
            5,
            7,
            8,
            3,
            8,
            2,
            1,
            7,
            6,
            1,
            7,
            32,
            5,
            12,
            5,
            4,
            4,
            5,
            7,
            3,
            6,
            37,
            6,
            5,
            19,
            7,
            18,
            4,
            12,
            8,
            8,
            6,
            28,
            3,
            1
           ]
          },
          {
           "axis": {
            "matches": true
           },
           "label": "Total de Vendas",
           "values": [
            2527.14,
            1938.78,
            2223.2,
            880.52,
            4971.15,
            9763.65,
            11505.72,
            10825.54,
            29412.76,
            7283.64,
            2421.11,
            20592.66,
            2351.32,
            24995.75,
            6993.97,
            19945.59,
            6047.4,
            54488.98,
            5395.41,
            696.2,
            22555.62,
            4848.83,
            635.04,
            22455.72,
            641.13,
            1101.3,
            713.36,
            841.3,
            1709.97,
            3263.75,
            774.12,
            1075.05,
            33376.07,
            5618.76,
            1763.58,
            15011.36,
            11307.5,
            3075.6,
            26376.1,
            1707.57,
            1259.52,
            357.06,
            5844.960000000001,
            13615.79,
            376.1,
            4646.740000000001,
            3009.84,
            1473.15,
            662.56,
            1154.46,
            385.59,
            1558.0600000000002,
            28395.840000000004,
            656.71,
            9427.18,
            11117.44,
            250.6,
            65676.48,
            303.05,
            3141.4,
            1855.24,
            2929.7000000000003,
            1160.88,
            6162.599999999999,
            6216.06,
            18750.86,
            3570.36,
            2096.55,
            10028.580000000002,
            1669.57,
            6805.44,
            2022.32,
            61918.8,
            5391.12,
            459.6,
            827.46,
            9599.8,
            2022.54,
            537.49
           ]
          }
         ],
         "hovertemplate": "%{xaxis.title.text}=%{x}<br>%{yaxis.title.text}=%{y}<extra></extra>",
         "legendgroup": "",
         "marker": {
          "color": "#636efa",
          "symbol": "circle"
         },
         "name": "",
         "showlegend": false,
         "type": "splom"
        }
       ],
       "layout": {
        "dragmode": "select",
        "legend": {
         "tracegroupgap": 0
        },
        "margin": {
         "t": 60
        },
        "template": {
         "data": {
          "bar": [
           {
            "error_x": {
             "color": "rgb(51,51,51)"
            },
            "error_y": {
             "color": "rgb(51,51,51)"
            },
            "marker": {
             "line": {
              "color": "rgb(237,237,237)",
              "width": 0.5
             },
             "pattern": {
              "fillmode": "overlay",
              "size": 10,
              "solidity": 0.2
             }
            },
            "type": "bar"
           }
          ],
          "barpolar": [
           {
            "marker": {
             "line": {
              "color": "rgb(237,237,237)",
              "width": 0.5
             },
             "pattern": {
              "fillmode": "overlay",
              "size": 10,
              "solidity": 0.2
             }
            },
            "type": "barpolar"
           }
          ],
          "carpet": [
           {
            "aaxis": {
             "endlinecolor": "rgb(51,51,51)",
             "gridcolor": "white",
             "linecolor": "white",
             "minorgridcolor": "white",
             "startlinecolor": "rgb(51,51,51)"
            },
            "baxis": {
             "endlinecolor": "rgb(51,51,51)",
             "gridcolor": "white",
             "linecolor": "white",
             "minorgridcolor": "white",
             "startlinecolor": "rgb(51,51,51)"
            },
            "type": "carpet"
           }
          ],
          "choropleth": [
           {
            "colorbar": {
             "outlinewidth": 0,
             "tickcolor": "rgb(237,237,237)",
             "ticklen": 6,
             "ticks": "inside"
            },
            "type": "choropleth"
           }
          ],
          "contour": [
           {
            "colorbar": {
             "outlinewidth": 0,
             "tickcolor": "rgb(237,237,237)",
             "ticklen": 6,
             "ticks": "inside"
            },
            "colorscale": [
             [
              0,
              "rgb(20,44,66)"
             ],
             [
              1,
              "rgb(90,179,244)"
             ]
            ],
            "type": "contour"
           }
          ],
          "contourcarpet": [
           {
            "colorbar": {
             "outlinewidth": 0,
             "tickcolor": "rgb(237,237,237)",
             "ticklen": 6,
             "ticks": "inside"
            },
            "type": "contourcarpet"
           }
          ],
          "heatmap": [
           {
            "colorbar": {
             "outlinewidth": 0,
             "tickcolor": "rgb(237,237,237)",
             "ticklen": 6,
             "ticks": "inside"
            },
            "colorscale": [
             [
              0,
              "rgb(20,44,66)"
             ],
             [
              1,
              "rgb(90,179,244)"
             ]
            ],
            "type": "heatmap"
           }
          ],
          "heatmapgl": [
           {
            "colorbar": {
             "outlinewidth": 0,
             "tickcolor": "rgb(237,237,237)",
             "ticklen": 6,
             "ticks": "inside"
            },
            "colorscale": [
             [
              0,
              "rgb(20,44,66)"
             ],
             [
              1,
              "rgb(90,179,244)"
             ]
            ],
            "type": "heatmapgl"
           }
          ],
          "histogram": [
           {
            "marker": {
             "pattern": {
              "fillmode": "overlay",
              "size": 10,
              "solidity": 0.2
             }
            },
            "type": "histogram"
           }
          ],
          "histogram2d": [
           {
            "colorbar": {
             "outlinewidth": 0,
             "tickcolor": "rgb(237,237,237)",
             "ticklen": 6,
             "ticks": "inside"
            },
            "colorscale": [
             [
              0,
              "rgb(20,44,66)"
             ],
             [
              1,
              "rgb(90,179,244)"
             ]
            ],
            "type": "histogram2d"
           }
          ],
          "histogram2dcontour": [
           {
            "colorbar": {
             "outlinewidth": 0,
             "tickcolor": "rgb(237,237,237)",
             "ticklen": 6,
             "ticks": "inside"
            },
            "colorscale": [
             [
              0,
              "rgb(20,44,66)"
             ],
             [
              1,
              "rgb(90,179,244)"
             ]
            ],
            "type": "histogram2dcontour"
           }
          ],
          "mesh3d": [
           {
            "colorbar": {
             "outlinewidth": 0,
             "tickcolor": "rgb(237,237,237)",
             "ticklen": 6,
             "ticks": "inside"
            },
            "type": "mesh3d"
           }
          ],
          "parcoords": [
           {
            "line": {
             "colorbar": {
              "outlinewidth": 0,
              "tickcolor": "rgb(237,237,237)",
              "ticklen": 6,
              "ticks": "inside"
             }
            },
            "type": "parcoords"
           }
          ],
          "pie": [
           {
            "automargin": true,
            "type": "pie"
           }
          ],
          "scatter": [
           {
            "fillpattern": {
             "fillmode": "overlay",
             "size": 10,
             "solidity": 0.2
            },
            "type": "scatter"
           }
          ],
          "scatter3d": [
           {
            "line": {
             "colorbar": {
              "outlinewidth": 0,
              "tickcolor": "rgb(237,237,237)",
              "ticklen": 6,
              "ticks": "inside"
             }
            },
            "marker": {
             "colorbar": {
              "outlinewidth": 0,
              "tickcolor": "rgb(237,237,237)",
              "ticklen": 6,
              "ticks": "inside"
             }
            },
            "type": "scatter3d"
           }
          ],
          "scattercarpet": [
           {
            "marker": {
             "colorbar": {
              "outlinewidth": 0,
              "tickcolor": "rgb(237,237,237)",
              "ticklen": 6,
              "ticks": "inside"
             }
            },
            "type": "scattercarpet"
           }
          ],
          "scattergeo": [
           {
            "marker": {
             "colorbar": {
              "outlinewidth": 0,
              "tickcolor": "rgb(237,237,237)",
              "ticklen": 6,
              "ticks": "inside"
             }
            },
            "type": "scattergeo"
           }
          ],
          "scattergl": [
           {
            "marker": {
             "colorbar": {
              "outlinewidth": 0,
              "tickcolor": "rgb(237,237,237)",
              "ticklen": 6,
              "ticks": "inside"
             }
            },
            "type": "scattergl"
           }
          ],
          "scattermapbox": [
           {
            "marker": {
             "colorbar": {
              "outlinewidth": 0,
              "tickcolor": "rgb(237,237,237)",
              "ticklen": 6,
              "ticks": "inside"
             }
            },
            "type": "scattermapbox"
           }
          ],
          "scatterpolar": [
           {
            "marker": {
             "colorbar": {
              "outlinewidth": 0,
              "tickcolor": "rgb(237,237,237)",
              "ticklen": 6,
              "ticks": "inside"
             }
            },
            "type": "scatterpolar"
           }
          ],
          "scatterpolargl": [
           {
            "marker": {
             "colorbar": {
              "outlinewidth": 0,
              "tickcolor": "rgb(237,237,237)",
              "ticklen": 6,
              "ticks": "inside"
             }
            },
            "type": "scatterpolargl"
           }
          ],
          "scatterternary": [
           {
            "marker": {
             "colorbar": {
              "outlinewidth": 0,
              "tickcolor": "rgb(237,237,237)",
              "ticklen": 6,
              "ticks": "inside"
             }
            },
            "type": "scatterternary"
           }
          ],
          "surface": [
           {
            "colorbar": {
             "outlinewidth": 0,
             "tickcolor": "rgb(237,237,237)",
             "ticklen": 6,
             "ticks": "inside"
            },
            "colorscale": [
             [
              0,
              "rgb(20,44,66)"
             ],
             [
              1,
              "rgb(90,179,244)"
             ]
            ],
            "type": "surface"
           }
          ],
          "table": [
           {
            "cells": {
             "fill": {
              "color": "rgb(237,237,237)"
             },
             "line": {
              "color": "white"
             }
            },
            "header": {
             "fill": {
              "color": "rgb(217,217,217)"
             },
             "line": {
              "color": "white"
             }
            },
            "type": "table"
           }
          ]
         },
         "layout": {
          "annotationdefaults": {
           "arrowhead": 0,
           "arrowwidth": 1
          },
          "autotypenumbers": "strict",
          "coloraxis": {
           "colorbar": {
            "outlinewidth": 0,
            "tickcolor": "rgb(237,237,237)",
            "ticklen": 6,
            "ticks": "inside"
           }
          },
          "colorscale": {
           "sequential": [
            [
             0,
             "rgb(20,44,66)"
            ],
            [
             1,
             "rgb(90,179,244)"
            ]
           ],
           "sequentialminus": [
            [
             0,
             "rgb(20,44,66)"
            ],
            [
             1,
             "rgb(90,179,244)"
            ]
           ]
          },
          "colorway": [
           "#F8766D",
           "#A3A500",
           "#00BF7D",
           "#00B0F6",
           "#E76BF3"
          ],
          "font": {
           "color": "rgb(51,51,51)"
          },
          "geo": {
           "bgcolor": "white",
           "lakecolor": "white",
           "landcolor": "rgb(237,237,237)",
           "showlakes": true,
           "showland": true,
           "subunitcolor": "white"
          },
          "hoverlabel": {
           "align": "left"
          },
          "hovermode": "closest",
          "paper_bgcolor": "white",
          "plot_bgcolor": "rgb(237,237,237)",
          "polar": {
           "angularaxis": {
            "gridcolor": "white",
            "linecolor": "white",
            "showgrid": true,
            "tickcolor": "rgb(51,51,51)",
            "ticks": "outside"
           },
           "bgcolor": "rgb(237,237,237)",
           "radialaxis": {
            "gridcolor": "white",
            "linecolor": "white",
            "showgrid": true,
            "tickcolor": "rgb(51,51,51)",
            "ticks": "outside"
           }
          },
          "scene": {
           "xaxis": {
            "backgroundcolor": "rgb(237,237,237)",
            "gridcolor": "white",
            "gridwidth": 2,
            "linecolor": "white",
            "showbackground": true,
            "showgrid": true,
            "tickcolor": "rgb(51,51,51)",
            "ticks": "outside",
            "zerolinecolor": "white"
           },
           "yaxis": {
            "backgroundcolor": "rgb(237,237,237)",
            "gridcolor": "white",
            "gridwidth": 2,
            "linecolor": "white",
            "showbackground": true,
            "showgrid": true,
            "tickcolor": "rgb(51,51,51)",
            "ticks": "outside",
            "zerolinecolor": "white"
           },
           "zaxis": {
            "backgroundcolor": "rgb(237,237,237)",
            "gridcolor": "white",
            "gridwidth": 2,
            "linecolor": "white",
            "showbackground": true,
            "showgrid": true,
            "tickcolor": "rgb(51,51,51)",
            "ticks": "outside",
            "zerolinecolor": "white"
           }
          },
          "shapedefaults": {
           "fillcolor": "black",
           "line": {
            "width": 0
           },
           "opacity": 0.3
          },
          "ternary": {
           "aaxis": {
            "gridcolor": "white",
            "linecolor": "white",
            "showgrid": true,
            "tickcolor": "rgb(51,51,51)",
            "ticks": "outside"
           },
           "baxis": {
            "gridcolor": "white",
            "linecolor": "white",
            "showgrid": true,
            "tickcolor": "rgb(51,51,51)",
            "ticks": "outside"
           },
           "bgcolor": "rgb(237,237,237)",
           "caxis": {
            "gridcolor": "white",
            "linecolor": "white",
            "showgrid": true,
            "tickcolor": "rgb(51,51,51)",
            "ticks": "outside"
           }
          },
          "xaxis": {
           "automargin": true,
           "gridcolor": "white",
           "linecolor": "white",
           "showgrid": true,
           "tickcolor": "rgb(51,51,51)",
           "ticks": "outside",
           "title": {
            "standoff": 15
           },
           "zerolinecolor": "white"
          },
          "yaxis": {
           "automargin": true,
           "gridcolor": "white",
           "linecolor": "white",
           "showgrid": true,
           "tickcolor": "rgb(51,51,51)",
           "ticks": "outside",
           "title": {
            "standoff": 15
           },
           "zerolinecolor": "white"
          }
         }
        },
        "title": {
         "text": "Scatter Matrix"
        }
       }
      }
     },
     "metadata": {},
     "output_type": "display_data"
    }
   ],
   "source": [
    "# Scatter matrix para as variáveis Preço, Quantidade e Total de Vendas\n",
    "scatter_matrix(dados,['Preço','Quantidade','Total de Vendas'])"
   ]
  },
  {
   "cell_type": "markdown",
   "id": "5120caae",
   "metadata": {},
   "source": [
    "Observando os resultados dos **coeficientes de Pearson** e da **matriz de correlação**, nota-se que:  \n",
    "\n",
    "- As variáveis **Quantidade** e **Total de Vendas** apresentam **correlação moderada**.  \n",
    "- Da mesma forma, **Preço** e **Total de Vendas** possuem **correlação moderada**.  \n",
    "- Existe uma **correlação negativa** entre **Preço** e **Quantidade**.\n"
   ]
  }
 ],
 "metadata": {
  "kernelspec": {
   "display_name": "base",
   "language": "python",
   "name": "python3"
  },
  "language_info": {
   "codemirror_mode": {
    "name": "ipython",
    "version": 3
   },
   "file_extension": ".py",
   "mimetype": "text/x-python",
   "name": "python",
   "nbconvert_exporter": "python",
   "pygments_lexer": "ipython3",
   "version": "3.13.5"
  }
 },
 "nbformat": 4,
 "nbformat_minor": 5
}
