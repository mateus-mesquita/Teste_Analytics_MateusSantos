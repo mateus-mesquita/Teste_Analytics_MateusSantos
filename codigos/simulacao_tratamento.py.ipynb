{
 "cells": [
  {
   "cell_type": "markdown",
   "id": "44c96dc9",
   "metadata": {},
   "source": [
    "# Case Quod"
   ]
  },
  {
   "cell_type": "markdown",
   "id": "0ca57336",
   "metadata": {},
   "source": [
    "## Geração de dados"
   ]
  },
  {
   "cell_type": "code",
   "execution_count": 1,
   "id": "6361cb33",
   "metadata": {},
   "outputs": [],
   "source": [
    "import pandas as pd # Importa a biblioteca 'pandas', essencial para análise e manipulação de dados estruturados (DataFrames). É convencionalmente apelidada de 'pd'.\n",
    "from datetime import datetime, timedelta # Importa as classes 'datetime' e 'timedelta' do módulo 'datetime'.\n",
    "                                        # 'datetime' é usada para manipular datas e horas específicas.\n",
    "                                        # 'timedelta' é usada para representar durações ou diferenças entre momentos.\n",
    "import random as rd # Importa a biblioteca 'random', utilizada para gerar números e seleções pseudoaleatórias. É convencionalmente apelidada de 'rd'."
   ]
  },
  {
   "cell_type": "markdown",
   "id": "39b82b95",
   "metadata": {},
   "source": [
    "informações sobre a simulação de dados\n",
    "- dataset de vendas\n",
    "- mínimo de 50 registros\n",
    "- colunas: ID, Data, Produto, Categoria, Quantidade,\n",
    "Preço.\n"
   ]
  },
  {
   "cell_type": "code",
   "execution_count": 2,
   "id": "9eceb0cd",
   "metadata": {},
   "outputs": [],
   "source": [
    "def data_aleatoria(inicio, fim): # Define a função 'data_aleatoria' que aceita dois parâmetros de data/hora: 'inicio' e 'fim'.\n",
    "    # O objetivo da função é retornar uma data aleatória dentro do intervalo [inicio, fim].\n",
    "    try: # Inicia um bloco 'try' para lidar com possíveis erros durante a execução, como datas inválidas ou ordem incorreta (fim < inicio).\n",
    "        delta = fim - inicio # Variável 'delta': Calcula a diferença entre a data final e a data inicial. O resultado é um objeto 'timedelta'.\n",
    "\n",
    "        # Variável 'dias_aleatorios': Gera um número inteiro aleatório ('randint')\n",
    "        # entre 0 (início) e o número total de dias no 'delta' (intervalo).\n",
    "        dias_aleatorios = rd.randint(0, delta.days) \n",
    "\n",
    "        # Retorna a data inicial ('inicio') adicionada ao número de dias aleatórios.\n",
    "        # Usa 'timedelta' para garantir que a soma seja uma nova data válida.\n",
    "        return inicio + timedelta(days=dias_aleatorios) \n",
    "\n",
    "    except Exception as e: # Captura qualquer exceção ('Exception') que possa ocorrer no bloco 'try'.\n",
    "        # Bloco de tratamento de erro: Imprime a mensagem de erro original (e) seguida de uma mensagem de contexto.\n",
    "        # Nota: Idealmente, em código de produção, você pode levantar a exceção ('raise e') ou logar o erro em vez de apenas imprimir.\n",
    "        print(e, \"Erro ao gerar data aleatória.\", sep='/')"
   ]
  },
  {
   "cell_type": "code",
   "execution_count": 3,
   "id": "6d61010d",
   "metadata": {},
   "outputs": [],
   "source": [
    "selecionar = lambda x: rd.choice([x, None]) # Função lambda 'selecionar': Recebe um argumento 'x' e retorna um valor aleatório de uma lista que contém 'x' e 'None'."
   ]
  },
  {
   "cell_type": "code",
   "execution_count": 4,
   "id": "a251be4a",
   "metadata": {},
   "outputs": [],
   "source": [
    "def gerar_dados(data_inicial: datetime, data_final: datetime, produtos: list, tamanho: int, semente:int) -> pd.DataFrame:\n",
    "    # Define a função 'gerar_dados'.\n",
    "    # Recebe: datas de início/fim (datetime), uma lista de 'produtos', o 'tamanho' do DataFrame (int)\n",
    "    # e uma 'semente' para o gerador aleatório (int).\n",
    "    # O '-> pd.DataFrame' indica que a função retornará um objeto pandas DataFrame (type hinting).\n",
    "\n",
    "    lista = [] # Inicializa a lista vazia que irá armazenar os dicionários (futuras linhas do DataFrame).\n",
    "\n",
    "    # Variável 'seed': Configura a semente ('semente') do gerador de números pseudoaleatórios.\n",
    "    # Isto garante que a mesma sequência de dados aleatórios seja gerada a cada execução com a mesma 'semente'.\n",
    "    rd.seed(semente)\n",
    "\n",
    "    # Loop principal: Itera 'tamanho' vezes (para gerar o número desejado de linhas).\n",
    "    for _ in range(tamanho):\n",
    "        try: # Inicia um bloco 'try' para capturar erros durante a geração de cada linha.\n",
    "\n",
    "            # Variável 'valor': Seleciona aleatoriamente um elemento da lista 'produtos'.\n",
    "            # Assume-se que cada elemento em 'produtos' é uma tupla ou lista com múltiplos itens.\n",
    "            valor = rd.choice(produtos)\n",
    "\n",
    "            # Bloco de criação do registro (linha):\n",
    "            lista.append({\n",
    "                \"id\": selecionar(valor[0]), # Pega o primeiro elemento do 'valor' como 'id'.\n",
    "                # Chama a função externa 'data_aleatoria' para gerar uma data entre 'data_inicial' e 'data_final'.\n",
    "                \"Data\": selecionar(data_aleatoria(data_inicial, data_final)),\n",
    "                \"Produto\": selecionar(valor[1]), # Pega o segundo elemento como 'Produto'.\n",
    "                \"Categoria\": selecionar(valor[2]), # Pega o terceiro elemento como 'Categoria'.\n",
    "                # Gera um inteiro aleatório para a 'Quantidade' entre 10 e 120.\n",
    "                \"Quantidade\": selecionar(rd.randint(valor[3][0], valor[3][1])),\n",
    "                # Gera um número de ponto flutuante ('float') para o 'Preço' entre 500 e 2000, arredondando para 2 casas decimais.\n",
    "                \"Preço\": selecionar(round(rd.uniform(valor[4][0], valor[4][1]), 2))\n",
    "            })\n",
    "\n",
    "        except Exception as e: # Captura qualquer exceção genérica.\n",
    "            # Imprime o erro e uma mensagem de contexto, separando-os por '/'.\n",
    "            # A execução do loop continua se um erro for tratado aqui.\n",
    "            print(e, \"Erro ao gerar linha do dataframe.\", sep='/')\n",
    "\n",
    "    # Após o loop, converte a 'lista' de dicionários em um DataFrame do pandas e o retorna.\n",
    "    return pd.DataFrame(lista)"
   ]
  },
  {
   "cell_type": "markdown",
   "id": "d4bd8473",
   "metadata": {},
   "source": [
    "A função ```gerar_dados``` cria um dataframe selecionando valores aleatórios usando a biblioteca random\n",
    "a ideia princinpal é deixar que os métodos de aleatóriedade selecionem as linhas do dataframe.\n",
    "\n",
    "Para gerar os dados deve-se passar o intervalo de datas, para que sejam criadas datas aleatórias. Continuando, deve-se passar uma lista de listas com id, \n",
    "o produto e sua categoria. Por fim, deve-se concluir com o tamanho do dataframe e uma semente geradora, para fixar sempre a mesma tabela.\n",
    "\n"
   ]
  },
  {
   "cell_type": "code",
   "execution_count": 5,
   "id": "1239edfe",
   "metadata": {},
   "outputs": [],
   "source": [
    "produtos_pc = [\n",
    "    [1,\"Processador Intel Core i7 13ª Geração\", \"Processador\",(1,3),(1500.00, 2500.00)],\n",
    "    [2,\"Placa-mãe ASUS Prime B660M\", \"Placa-mãe\",(1,25),(800.00, 1400.00)],\n",
    "    [3,\"Memória RAM DDR5 16GB 5200MHz\", \"Memória RAM\",(2,60),(300.00, 600.00)],\n",
    "    [4,\"SSD NVMe 1TB\", \"Armazenamento\",(5,8),(350.00, 700.00)],\n",
    "    [5,\"Placa de vídeo NVIDIA RTX 4070 Ti\", \"Placa de vídeo\",(1,15),(4000.00, 5500.00)],\n",
    "    [6,\"Fonte modular 750W 80 Plus Gold\", \"Fonte\",(3,5),(400.00, 800.00)],\n",
    "    [7,\"Gabinete ATX com lateral em vidro\", \"Gabinete\",(2,40),(250.00, 600.00)],\n",
    "    [8,\"Cooler a ar para CPU\", \"Cooler a ar\",(5,7),(120.00, 300.00)],\n",
    "    [9,\"Water cooler 240mm\", \"Water cooler\",(1,2),(350.00, 700.00)],\n",
    "    [10,\"Ventoinha RGB 120mm\", \"Ventoinha\",(5,10),(50.00, 120.00)],\n",
    "]"
   ]
  },
  {
   "cell_type": "code",
   "execution_count": 6,
   "id": "e2b6f36d",
   "metadata": {},
   "outputs": [
    {
     "data": {
      "text/html": [
       "<div>\n",
       "<style scoped>\n",
       "    .dataframe tbody tr th:only-of-type {\n",
       "        vertical-align: middle;\n",
       "    }\n",
       "\n",
       "    .dataframe tbody tr th {\n",
       "        vertical-align: top;\n",
       "    }\n",
       "\n",
       "    .dataframe thead th {\n",
       "        text-align: right;\n",
       "    }\n",
       "</style>\n",
       "<table border=\"1\" class=\"dataframe\">\n",
       "  <thead>\n",
       "    <tr style=\"text-align: right;\">\n",
       "      <th></th>\n",
       "      <th>id</th>\n",
       "      <th>Data</th>\n",
       "      <th>Produto</th>\n",
       "      <th>Categoria</th>\n",
       "      <th>Quantidade</th>\n",
       "      <th>Preço</th>\n",
       "    </tr>\n",
       "  </thead>\n",
       "  <tbody>\n",
       "    <tr>\n",
       "      <th>0</th>\n",
       "      <td>2.0</td>\n",
       "      <td>NaT</td>\n",
       "      <td>Placa-mãe ASUS Prime B660M</td>\n",
       "      <td>Placa-mãe</td>\n",
       "      <td>NaN</td>\n",
       "      <td>1372.60</td>\n",
       "    </tr>\n",
       "    <tr>\n",
       "      <th>1</th>\n",
       "      <td>2.0</td>\n",
       "      <td>2023-10-28</td>\n",
       "      <td>None</td>\n",
       "      <td>None</td>\n",
       "      <td>13.0</td>\n",
       "      <td>NaN</td>\n",
       "    </tr>\n",
       "    <tr>\n",
       "      <th>2</th>\n",
       "      <td>NaN</td>\n",
       "      <td>2023-12-22</td>\n",
       "      <td>None</td>\n",
       "      <td>None</td>\n",
       "      <td>7.0</td>\n",
       "      <td>NaN</td>\n",
       "    </tr>\n",
       "    <tr>\n",
       "      <th>3</th>\n",
       "      <td>4.0</td>\n",
       "      <td>2023-07-12</td>\n",
       "      <td>None</td>\n",
       "      <td>None</td>\n",
       "      <td>NaN</td>\n",
       "      <td>673.41</td>\n",
       "    </tr>\n",
       "    <tr>\n",
       "      <th>4</th>\n",
       "      <td>5.0</td>\n",
       "      <td>2023-05-16</td>\n",
       "      <td>Placa de vídeo NVIDIA RTX 4070 Ti</td>\n",
       "      <td>None</td>\n",
       "      <td>NaN</td>\n",
       "      <td>4169.27</td>\n",
       "    </tr>\n",
       "    <tr>\n",
       "      <th>...</th>\n",
       "      <td>...</td>\n",
       "      <td>...</td>\n",
       "      <td>...</td>\n",
       "      <td>...</td>\n",
       "      <td>...</td>\n",
       "      <td>...</td>\n",
       "    </tr>\n",
       "    <tr>\n",
       "      <th>4995</th>\n",
       "      <td>NaN</td>\n",
       "      <td>2023-09-05</td>\n",
       "      <td>Placa-mãe ASUS Prime B660M</td>\n",
       "      <td>Placa-mãe</td>\n",
       "      <td>NaN</td>\n",
       "      <td>1246.99</td>\n",
       "    </tr>\n",
       "    <tr>\n",
       "      <th>4996</th>\n",
       "      <td>NaN</td>\n",
       "      <td>NaT</td>\n",
       "      <td>None</td>\n",
       "      <td>Fonte</td>\n",
       "      <td>5.0</td>\n",
       "      <td>471.13</td>\n",
       "    </tr>\n",
       "    <tr>\n",
       "      <th>4997</th>\n",
       "      <td>NaN</td>\n",
       "      <td>2023-02-15</td>\n",
       "      <td>None</td>\n",
       "      <td>None</td>\n",
       "      <td>2.0</td>\n",
       "      <td>NaN</td>\n",
       "    </tr>\n",
       "    <tr>\n",
       "      <th>4998</th>\n",
       "      <td>NaN</td>\n",
       "      <td>NaT</td>\n",
       "      <td>None</td>\n",
       "      <td>Memória RAM</td>\n",
       "      <td>35.0</td>\n",
       "      <td>NaN</td>\n",
       "    </tr>\n",
       "    <tr>\n",
       "      <th>4999</th>\n",
       "      <td>5.0</td>\n",
       "      <td>2023-07-14</td>\n",
       "      <td>None</td>\n",
       "      <td>Placa de vídeo</td>\n",
       "      <td>15.0</td>\n",
       "      <td>4098.98</td>\n",
       "    </tr>\n",
       "  </tbody>\n",
       "</table>\n",
       "<p>5000 rows × 6 columns</p>\n",
       "</div>"
      ],
      "text/plain": [
       "       id       Data                            Produto       Categoria  \\\n",
       "0     2.0        NaT         Placa-mãe ASUS Prime B660M       Placa-mãe   \n",
       "1     2.0 2023-10-28                               None            None   \n",
       "2     NaN 2023-12-22                               None            None   \n",
       "3     4.0 2023-07-12                               None            None   \n",
       "4     5.0 2023-05-16  Placa de vídeo NVIDIA RTX 4070 Ti            None   \n",
       "...   ...        ...                                ...             ...   \n",
       "4995  NaN 2023-09-05         Placa-mãe ASUS Prime B660M       Placa-mãe   \n",
       "4996  NaN        NaT                               None           Fonte   \n",
       "4997  NaN 2023-02-15                               None            None   \n",
       "4998  NaN        NaT                               None     Memória RAM   \n",
       "4999  5.0 2023-07-14                               None  Placa de vídeo   \n",
       "\n",
       "      Quantidade    Preço  \n",
       "0            NaN  1372.60  \n",
       "1           13.0      NaN  \n",
       "2            7.0      NaN  \n",
       "3            NaN   673.41  \n",
       "4            NaN  4169.27  \n",
       "...          ...      ...  \n",
       "4995         NaN  1246.99  \n",
       "4996         5.0   471.13  \n",
       "4997         2.0      NaN  \n",
       "4998        35.0      NaN  \n",
       "4999        15.0  4098.98  \n",
       "\n",
       "[5000 rows x 6 columns]"
      ]
     },
     "execution_count": 6,
     "metadata": {},
     "output_type": "execute_result"
    }
   ],
   "source": [
    "inicio = datetime(2023,1,1)\n",
    "fim = datetime(2023,12,31)\n",
    "\n",
    "dados = gerar_dados(inicio, fim, produtos_pc, 5000, 190)\n",
    "dados"
   ]
  },
  {
   "cell_type": "markdown",
   "id": "ef29d86a",
   "metadata": {},
   "source": [
    "## Tratamento de dados"
   ]
  },
  {
   "cell_type": "markdown",
   "id": "ae97365e",
   "metadata": {},
   "source": [
    "Tratamento de dados, ou limpeza de dados, pode ser entendido como o ato de corrigir erros em dados. \n",
    "Por exemplo: remover duplicatas"
   ]
  },
  {
   "cell_type": "markdown",
   "id": "d3a7bbfd",
   "metadata": {},
   "source": [
    "- Verificação da Tipagem dos dados"
   ]
  },
  {
   "cell_type": "code",
   "execution_count": 7,
   "id": "15caca60",
   "metadata": {},
   "outputs": [],
   "source": [
    "def tabela_tipagem(dados: pd.DataFrame) -> pd.DataFrame:\n",
    "    # A função 'tabela_tipagem' recebe um DataFrame do pandas como entrada e retorna outro DataFrame.\n",
    "    # O objetivo é criar uma tabela que mostra a tipagem (tipo de dados) de cada coluna no DataFrame original.\n",
    "\n",
    "    # Cria um novo DataFrame com duas colunas: 'Coluna' e 'Tipo de Dado'.\n",
    "    # 'Coluna' contém os nomes das colunas do DataFrame original.\n",
    "    # 'Tipo de Dado' contém o tipo de dado (dtype) correspondente a cada coluna.\n",
    "    tabela = pd.DataFrame({\n",
    "        \"Coluna\": dados.columns, # Obtém os nomes das colunas do DataFrame original.\n",
    "        \"Tipo de Dado\": [dados[coluna].dtype for coluna in dados.columns] # Lista compreensiva que obtém o tipo de dado para cada coluna.\n",
    "    })\n",
    "\n",
    "    return tabela # Retorna o DataFrame resultante que mostra a tipagem das colunas."
   ]
  },
  {
   "cell_type": "code",
   "execution_count": 8,
   "id": "93a08d30",
   "metadata": {},
   "outputs": [
    {
     "data": {
      "text/html": [
       "<div>\n",
       "<style scoped>\n",
       "    .dataframe tbody tr th:only-of-type {\n",
       "        vertical-align: middle;\n",
       "    }\n",
       "\n",
       "    .dataframe tbody tr th {\n",
       "        vertical-align: top;\n",
       "    }\n",
       "\n",
       "    .dataframe thead th {\n",
       "        text-align: right;\n",
       "    }\n",
       "</style>\n",
       "<table border=\"1\" class=\"dataframe\">\n",
       "  <thead>\n",
       "    <tr style=\"text-align: right;\">\n",
       "      <th></th>\n",
       "      <th>Coluna</th>\n",
       "      <th>Tipo de Dado</th>\n",
       "    </tr>\n",
       "  </thead>\n",
       "  <tbody>\n",
       "    <tr>\n",
       "      <th>0</th>\n",
       "      <td>id</td>\n",
       "      <td>float64</td>\n",
       "    </tr>\n",
       "    <tr>\n",
       "      <th>1</th>\n",
       "      <td>Data</td>\n",
       "      <td>datetime64[ns]</td>\n",
       "    </tr>\n",
       "    <tr>\n",
       "      <th>2</th>\n",
       "      <td>Produto</td>\n",
       "      <td>object</td>\n",
       "    </tr>\n",
       "    <tr>\n",
       "      <th>3</th>\n",
       "      <td>Categoria</td>\n",
       "      <td>object</td>\n",
       "    </tr>\n",
       "    <tr>\n",
       "      <th>4</th>\n",
       "      <td>Quantidade</td>\n",
       "      <td>float64</td>\n",
       "    </tr>\n",
       "    <tr>\n",
       "      <th>5</th>\n",
       "      <td>Preço</td>\n",
       "      <td>float64</td>\n",
       "    </tr>\n",
       "  </tbody>\n",
       "</table>\n",
       "</div>"
      ],
      "text/plain": [
       "       Coluna    Tipo de Dado\n",
       "0          id         float64\n",
       "1        Data  datetime64[ns]\n",
       "2     Produto          object\n",
       "3   Categoria          object\n",
       "4  Quantidade         float64\n",
       "5       Preço         float64"
      ]
     },
     "execution_count": 8,
     "metadata": {},
     "output_type": "execute_result"
    }
   ],
   "source": [
    "tabela_tipagem(dados)"
   ]
  },
  {
   "cell_type": "markdown",
   "id": "9e878063",
   "metadata": {},
   "source": [
    "Observamos que há duas colunas com tipagem erradas sendo elas id e quantidade. Ambas deveriam pertencer a classe de números inteiros."
   ]
  },
  {
   "cell_type": "code",
   "execution_count": 9,
   "id": "05c79b0a",
   "metadata": {},
   "outputs": [],
   "source": [
    "# Realizando o método de mudança de tipagem\n",
    "dados[\"id\"] = pd.to_numeric(dados[\"id\"], errors='coerce').astype('Int64') # Converte a coluna 'id' para numérico, tratando erros e convertendo para Int64.\n",
    "dados[\"Quantidade\"] = pd.to_numeric(dados[\"Quantidade\"], errors='coerce').astype('Int64') # Converte a coluna 'Quantidade' para numérico, tratando erros e convertendo para Int64."
   ]
  },
  {
   "cell_type": "markdown",
   "id": "9da889a0",
   "metadata": {},
   "source": [
    "Verificando alteração"
   ]
  },
  {
   "cell_type": "code",
   "execution_count": 10,
   "id": "d7413e7f",
   "metadata": {},
   "outputs": [
    {
     "data": {
      "text/html": [
       "<div>\n",
       "<style scoped>\n",
       "    .dataframe tbody tr th:only-of-type {\n",
       "        vertical-align: middle;\n",
       "    }\n",
       "\n",
       "    .dataframe tbody tr th {\n",
       "        vertical-align: top;\n",
       "    }\n",
       "\n",
       "    .dataframe thead th {\n",
       "        text-align: right;\n",
       "    }\n",
       "</style>\n",
       "<table border=\"1\" class=\"dataframe\">\n",
       "  <thead>\n",
       "    <tr style=\"text-align: right;\">\n",
       "      <th></th>\n",
       "      <th>Coluna</th>\n",
       "      <th>Tipo de Dado</th>\n",
       "    </tr>\n",
       "  </thead>\n",
       "  <tbody>\n",
       "    <tr>\n",
       "      <th>0</th>\n",
       "      <td>id</td>\n",
       "      <td>Int64</td>\n",
       "    </tr>\n",
       "    <tr>\n",
       "      <th>1</th>\n",
       "      <td>Data</td>\n",
       "      <td>datetime64[ns]</td>\n",
       "    </tr>\n",
       "    <tr>\n",
       "      <th>2</th>\n",
       "      <td>Produto</td>\n",
       "      <td>object</td>\n",
       "    </tr>\n",
       "    <tr>\n",
       "      <th>3</th>\n",
       "      <td>Categoria</td>\n",
       "      <td>object</td>\n",
       "    </tr>\n",
       "    <tr>\n",
       "      <th>4</th>\n",
       "      <td>Quantidade</td>\n",
       "      <td>Int64</td>\n",
       "    </tr>\n",
       "    <tr>\n",
       "      <th>5</th>\n",
       "      <td>Preço</td>\n",
       "      <td>float64</td>\n",
       "    </tr>\n",
       "  </tbody>\n",
       "</table>\n",
       "</div>"
      ],
      "text/plain": [
       "       Coluna    Tipo de Dado\n",
       "0          id           Int64\n",
       "1        Data  datetime64[ns]\n",
       "2     Produto          object\n",
       "3   Categoria          object\n",
       "4  Quantidade           Int64\n",
       "5       Preço         float64"
      ]
     },
     "execution_count": 10,
     "metadata": {},
     "output_type": "execute_result"
    }
   ],
   "source": [
    "tabela_tipagem(dados)"
   ]
  },
  {
   "cell_type": "markdown",
   "id": "b6a3f74f",
   "metadata": {},
   "source": [
    "- Verificação de duplicatas e valores nulos"
   ]
  },
  {
   "cell_type": "markdown",
   "id": "2522c9f0",
   "metadata": {},
   "source": [
    "verificando se os dados gerados contém valores duplicados, ou seja linhas iguais."
   ]
  },
  {
   "cell_type": "code",
   "execution_count": 11,
   "id": "47cc3695",
   "metadata": {},
   "outputs": [
    {
     "data": {
      "text/plain": [
       "np.int64(846)"
      ]
     },
     "execution_count": 11,
     "metadata": {},
     "output_type": "execute_result"
    }
   ],
   "source": [
    "dados.duplicated().sum()"
   ]
  },
  {
   "cell_type": "markdown",
   "id": "43e8dda0",
   "metadata": {},
   "source": [
    "Observamos que os possuem um total de 1488 de linhas duplicadas."
   ]
  },
  {
   "cell_type": "code",
   "execution_count": 12,
   "id": "ad9029bd",
   "metadata": {},
   "outputs": [],
   "source": [
    "# Removendo os dados duplicados\n",
    "dados = dados.drop_duplicates().reset_index(drop=True)"
   ]
  },
  {
   "cell_type": "code",
   "execution_count": 13,
   "id": "4b20a906",
   "metadata": {},
   "outputs": [
    {
     "data": {
      "text/plain": [
       "np.int64(0)"
      ]
     },
     "execution_count": 13,
     "metadata": {},
     "output_type": "execute_result"
    }
   ],
   "source": [
    "dados.duplicated().sum()"
   ]
  },
  {
   "cell_type": "markdown",
   "id": "1da5c306",
   "metadata": {},
   "source": [
    "Atráves do método drop_duplicated observamos que as linhas duplicadas foram excluídas com sucesso."
   ]
  },
  {
   "cell_type": "code",
   "execution_count": 14,
   "id": "9523a36a",
   "metadata": {},
   "outputs": [],
   "source": [
    "# Criando função para verificar valores nulos\n",
    "def verificar_nulos(dados: pd.DataFrame) -> pd.DataFrame:\n",
    "    # A função 'verificar_nulos' recebe um DataFrame do pandas como entrada e retorna outro DataFrame.\n",
    "    # O objetivo é criar uma tabela que mostra a quantidade de valores nulos em cada coluna do DataFrame original.\n",
    "\n",
    "    # Cria um novo DataFrame com duas colunas: 'Coluna' e 'Valores Nulos'.\n",
    "    # 'Coluna' contém os nomes das colunas do DataFrame original.\n",
    "    # 'Valores Nulos' contém a contagem de valores nulos (NaN) para cada coluna.\n",
    "    tabela_nulos = pd.DataFrame({\n",
    "        \"Coluna\": dados.columns, # Obtém os nomes das colunas do DataFrame original.\n",
    "        \"Quantidade de Valores Nulos\": [dados[coluna].isnull().sum() for coluna in dados.columns], # Lista compreensiva que conta os valores nulos para cada coluna.\n",
    "        \"Percentual de Valores Nulos\": [round(dados[coluna].isnull().sum()/len(dados[coluna]) * 100,2) for coluna in dados.columns] # Lista compreensiva que calcula o percentual de valores nulos para cada coluna.\n",
    "\n",
    "    })\n",
    "\n",
    "    return tabela_nulos # Retorna o DataFrame resultante que mostra a contagem de valores nulos nas colunas."
   ]
  },
  {
   "cell_type": "code",
   "execution_count": 15,
   "id": "ae9232d3",
   "metadata": {},
   "outputs": [
    {
     "data": {
      "text/html": [
       "<div>\n",
       "<style scoped>\n",
       "    .dataframe tbody tr th:only-of-type {\n",
       "        vertical-align: middle;\n",
       "    }\n",
       "\n",
       "    .dataframe tbody tr th {\n",
       "        vertical-align: top;\n",
       "    }\n",
       "\n",
       "    .dataframe thead th {\n",
       "        text-align: right;\n",
       "    }\n",
       "</style>\n",
       "<table border=\"1\" class=\"dataframe\">\n",
       "  <thead>\n",
       "    <tr style=\"text-align: right;\">\n",
       "      <th></th>\n",
       "      <th>Coluna</th>\n",
       "      <th>Quantidade de Valores Nulos</th>\n",
       "      <th>Percentual de Valores Nulos</th>\n",
       "    </tr>\n",
       "  </thead>\n",
       "  <tbody>\n",
       "    <tr>\n",
       "      <th>0</th>\n",
       "      <td>id</td>\n",
       "      <td>2068</td>\n",
       "      <td>49.78</td>\n",
       "    </tr>\n",
       "    <tr>\n",
       "      <th>1</th>\n",
       "      <td>Data</td>\n",
       "      <td>1689</td>\n",
       "      <td>40.66</td>\n",
       "    </tr>\n",
       "    <tr>\n",
       "      <th>2</th>\n",
       "      <td>Produto</td>\n",
       "      <td>2055</td>\n",
       "      <td>49.47</td>\n",
       "    </tr>\n",
       "    <tr>\n",
       "      <th>3</th>\n",
       "      <td>Categoria</td>\n",
       "      <td>2075</td>\n",
       "      <td>49.95</td>\n",
       "    </tr>\n",
       "    <tr>\n",
       "      <th>4</th>\n",
       "      <td>Quantidade</td>\n",
       "      <td>1972</td>\n",
       "      <td>47.47</td>\n",
       "    </tr>\n",
       "    <tr>\n",
       "      <th>5</th>\n",
       "      <td>Preço</td>\n",
       "      <td>1614</td>\n",
       "      <td>38.85</td>\n",
       "    </tr>\n",
       "  </tbody>\n",
       "</table>\n",
       "</div>"
      ],
      "text/plain": [
       "       Coluna  Quantidade de Valores Nulos  Percentual de Valores Nulos\n",
       "0          id                         2068                        49.78\n",
       "1        Data                         1689                        40.66\n",
       "2     Produto                         2055                        49.47\n",
       "3   Categoria                         2075                        49.95\n",
       "4  Quantidade                         1972                        47.47\n",
       "5       Preço                         1614                        38.85"
      ]
     },
     "execution_count": 15,
     "metadata": {},
     "output_type": "execute_result"
    }
   ],
   "source": [
    "verificar_nulos(dados)"
   ]
  },
  {
   "cell_type": "markdown",
   "id": "e8069cad",
   "metadata": {},
   "source": [
    "Observamos que os dados possuem uma extrema instência na falta de informações. Embora seja possível realizar tratamentos com imputações de dados\n",
    "a grande quantidade de valores ausentes não torna isso o ideial no momento. Por isso, serão excluídos."
   ]
  },
  {
   "cell_type": "code",
   "execution_count": 16,
   "id": "4ffaaded",
   "metadata": {},
   "outputs": [],
   "source": [
    "dados.dropna(inplace=True) # Remove linhas com valores nulos do DataFrame 'dados' diretamente (inplace=True)."
   ]
  },
  {
   "cell_type": "code",
   "execution_count": 17,
   "id": "e3591ae1",
   "metadata": {},
   "outputs": [
    {
     "data": {
      "text/plain": [
       "(79, 6)"
      ]
     },
     "execution_count": 17,
     "metadata": {},
     "output_type": "execute_result"
    }
   ],
   "source": [
    "dados.shape"
   ]
  },
  {
   "cell_type": "markdown",
   "id": "9b25a38b",
   "metadata": {},
   "source": [
    "Por fim, ficaremos apenas com os dados sem nenhuma inconsoistência"
   ]
  },
  {
   "cell_type": "code",
   "execution_count": 18,
   "id": "644bb1b6",
   "metadata": {},
   "outputs": [],
   "source": [
    "dados.to_csv(\"dados_vendas.csv\", index=False) # Salva o DataFrame 'dados' em um arquivo CSV chamado \"dados_vendas.csv\" sem incluir o índice das linhas (index=False)."
   ]
  },
  {
   "cell_type": "markdown",
   "id": "f2142a45",
   "metadata": {},
   "source": [
    "Calculando o Total de vendas:\n",
    "\n",
    "(quantidade * preço)"
   ]
  },
  {
   "cell_type": "code",
   "execution_count": 19,
   "id": "6fa324ec",
   "metadata": {},
   "outputs": [
    {
     "data": {
      "text/html": [
       "<div>\n",
       "<style scoped>\n",
       "    .dataframe tbody tr th:only-of-type {\n",
       "        vertical-align: middle;\n",
       "    }\n",
       "\n",
       "    .dataframe tbody tr th {\n",
       "        vertical-align: top;\n",
       "    }\n",
       "\n",
       "    .dataframe thead th {\n",
       "        text-align: right;\n",
       "    }\n",
       "</style>\n",
       "<table border=\"1\" class=\"dataframe\">\n",
       "  <thead>\n",
       "    <tr style=\"text-align: right;\">\n",
       "      <th></th>\n",
       "      <th>id</th>\n",
       "      <th>Data</th>\n",
       "      <th>Produto</th>\n",
       "      <th>Categoria</th>\n",
       "      <th>Quantidade</th>\n",
       "      <th>Preço</th>\n",
       "      <th>Total de Vendas</th>\n",
       "    </tr>\n",
       "  </thead>\n",
       "  <tbody>\n",
       "    <tr>\n",
       "      <th>104</th>\n",
       "      <td>2</td>\n",
       "      <td>2023-11-27</td>\n",
       "      <td>Placa-mãe ASUS Prime B660M</td>\n",
       "      <td>Placa-mãe</td>\n",
       "      <td>2</td>\n",
       "      <td>1263.57</td>\n",
       "      <td>2527.14</td>\n",
       "    </tr>\n",
       "    <tr>\n",
       "      <th>125</th>\n",
       "      <td>1</td>\n",
       "      <td>2023-03-22</td>\n",
       "      <td>Processador Intel Core i7 13ª Geração</td>\n",
       "      <td>Processador</td>\n",
       "      <td>1</td>\n",
       "      <td>1938.78</td>\n",
       "      <td>1938.78</td>\n",
       "    </tr>\n",
       "    <tr>\n",
       "      <th>202</th>\n",
       "      <td>4</td>\n",
       "      <td>2023-01-25</td>\n",
       "      <td>SSD NVMe 1TB</td>\n",
       "      <td>Armazenamento</td>\n",
       "      <td>5</td>\n",
       "      <td>444.64</td>\n",
       "      <td>2223.2</td>\n",
       "    </tr>\n",
       "    <tr>\n",
       "      <th>273</th>\n",
       "      <td>9</td>\n",
       "      <td>2023-10-17</td>\n",
       "      <td>Water cooler 240mm</td>\n",
       "      <td>Water cooler</td>\n",
       "      <td>2</td>\n",
       "      <td>440.26</td>\n",
       "      <td>880.52</td>\n",
       "    </tr>\n",
       "    <tr>\n",
       "      <th>347</th>\n",
       "      <td>1</td>\n",
       "      <td>2023-04-19</td>\n",
       "      <td>Processador Intel Core i7 13ª Geração</td>\n",
       "      <td>Processador</td>\n",
       "      <td>3</td>\n",
       "      <td>1657.05</td>\n",
       "      <td>4971.15</td>\n",
       "    </tr>\n",
       "  </tbody>\n",
       "</table>\n",
       "</div>"
      ],
      "text/plain": [
       "     id       Data                                Produto      Categoria  \\\n",
       "104   2 2023-11-27             Placa-mãe ASUS Prime B660M      Placa-mãe   \n",
       "125   1 2023-03-22  Processador Intel Core i7 13ª Geração    Processador   \n",
       "202   4 2023-01-25                           SSD NVMe 1TB  Armazenamento   \n",
       "273   9 2023-10-17                     Water cooler 240mm   Water cooler   \n",
       "347   1 2023-04-19  Processador Intel Core i7 13ª Geração    Processador   \n",
       "\n",
       "     Quantidade    Preço  Total de Vendas  \n",
       "104           2  1263.57          2527.14  \n",
       "125           1  1938.78          1938.78  \n",
       "202           5   444.64           2223.2  \n",
       "273           2   440.26           880.52  \n",
       "347           3  1657.05          4971.15  "
      ]
     },
     "execution_count": 19,
     "metadata": {},
     "output_type": "execute_result"
    }
   ],
   "source": [
    "dados['Total de Vendas'] = dados['Quantidade'] * dados['Preço'] # Cria uma nova coluna 'Total de Vendas' no DataFrame 'dados', calculando o produto das colunas 'Quantidade' e 'Preço'. \n",
    "dados.head()"
   ]
  },
  {
   "cell_type": "code",
   "execution_count": 20,
   "id": "14eef8ce",
   "metadata": {},
   "outputs": [
    {
     "data": {
      "text/html": [
       "<div>\n",
       "<style scoped>\n",
       "    .dataframe tbody tr th:only-of-type {\n",
       "        vertical-align: middle;\n",
       "    }\n",
       "\n",
       "    .dataframe tbody tr th {\n",
       "        vertical-align: top;\n",
       "    }\n",
       "\n",
       "    .dataframe thead th {\n",
       "        text-align: right;\n",
       "    }\n",
       "</style>\n",
       "<table border=\"1\" class=\"dataframe\">\n",
       "  <thead>\n",
       "    <tr style=\"text-align: right;\">\n",
       "      <th></th>\n",
       "      <th>id</th>\n",
       "      <th>Data</th>\n",
       "      <th>Produto</th>\n",
       "      <th>Categoria</th>\n",
       "      <th>Quantidade</th>\n",
       "      <th>Preço</th>\n",
       "      <th>Total de Vendas</th>\n",
       "    </tr>\n",
       "  </thead>\n",
       "  <tbody>\n",
       "    <tr>\n",
       "      <th>3149</th>\n",
       "      <td>5</td>\n",
       "      <td>2023-05-11</td>\n",
       "      <td>Placa de vídeo NVIDIA RTX 4070 Ti</td>\n",
       "      <td>Placa de vídeo</td>\n",
       "      <td>12</td>\n",
       "      <td>5473.04</td>\n",
       "      <td>65676.48</td>\n",
       "    </tr>\n",
       "  </tbody>\n",
       "</table>\n",
       "</div>"
      ],
      "text/plain": [
       "      id       Data                            Produto       Categoria  \\\n",
       "3149   5 2023-05-11  Placa de vídeo NVIDIA RTX 4070 Ti  Placa de vídeo   \n",
       "\n",
       "      Quantidade    Preço  Total de Vendas  \n",
       "3149          12  5473.04         65676.48  "
      ]
     },
     "execution_count": 20,
     "metadata": {},
     "output_type": "execute_result"
    }
   ],
   "source": [
    "dados[dados['Total de Vendas'] == dados['Total de Vendas'].max()]"
   ]
  },
  {
   "cell_type": "code",
   "execution_count": 21,
   "id": "7046343b",
   "metadata": {},
   "outputs": [
    {
     "data": {
      "text/plain": [
       "79"
      ]
     },
     "execution_count": 21,
     "metadata": {},
     "output_type": "execute_result"
    }
   ],
   "source": [
    "import sqlite3\n",
    "\n",
    "conexao = sqlite3.connect('dados_clean.db') # Cria uma conexão com o banco de dados SQLite chamado 'dados_vendas.db'. Se o arquivo não existir, ele será criado.\n",
    "dados.to_sql('vendas', conexao, if_exists='replace', index=False) # Salva o DataFrame 'dados' em uma tabela SQL chamada 'vendas' no banco de dados conectado."
   ]
  }
 ],
 "metadata": {
  "kernelspec": {
   "display_name": "base",
   "language": "python",
   "name": "python3"
  },
  "language_info": {
   "codemirror_mode": {
    "name": "ipython",
    "version": 3
   },
   "file_extension": ".py",
   "mimetype": "text/x-python",
   "name": "python",
   "nbconvert_exporter": "python",
   "pygments_lexer": "ipython3",
   "version": "3.13.5"
  }
 },
 "nbformat": 4,
 "nbformat_minor": 5
}
